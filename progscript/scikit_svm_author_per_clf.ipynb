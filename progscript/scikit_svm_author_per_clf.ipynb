{
 "cells": [
  {
   "cell_type": "code",
   "execution_count": 1,
   "metadata": {},
   "outputs": [
    {
     "name": "stdout",
     "output_type": "stream",
     "text": [
      "['vivek gupta0.txt', 'ana castro1.txt', 'amit patel.txt', 'jun chen2.txt', 'carmen torres0.txt', 'robert j young.txt', 'mikael svensson0.txt', 'marco ferrari1.txt', 'wei wang1.txt', 'peng zhang0.txt', 'martin wagner.txt', 'lei wang3.txt', 'michael wagner.txt', 'david g lloyd.txt', 'marco ferrari0.txt', 'carmen moreno.txt', 'jong hee chang.txt', 'chung-may yang1.txt', 'jacob john0.txt', 'jong hee chang0.txt', 'hao song.txt', 'wei lu0.txt', 'qin li0.txt', 'yongsheng liu.txt', 'kevin m. ryan.txt', 'jeremy m brown1.txt', 'alfredo martinez1.txt', 'yu-jun zhao.txt', 'yongsheng liu1.txt', 'jin young kim1.txt', 'yong wang1.txt', 'david g lloyd0.txt', 'jeremy m brown0.txt', 'vineet gupta1.txt', 'xin li.txt', 'vivek kumar1.txt', 'alfredo martinez.txt', 'wei lu.txt', 'yong liu0.txt', 'anna ferrari.txt', 'wei lu1.txt', 'feng liu1.txt', 'wei wang.txt', 'yu zhang1.txt', 'jeong hwan kim.txt', 'hong yang0.txt', 'david g lloyd1.txt', 'kyung su kim0.txt', 'jacob john.txt', 'fang liu.txt', 'jie zhang0.txt', 'qian wang1.txt', 'yong wang.txt', 'cheng luo.txt', 'lei wang2.txt', 'vineet gupta0.txt', 'wei wang3.txt', 'ana castro0.txt', 'yang wang.txt', 'fang liu0.txt', 'jeong hwan kim1.txt', 'qiang wang.txt', 'francisco j blanco.txt', 'wei xu0.txt', 'yu zhang.txt', 'bin liu1.txt', 'yang zhao.txt', 'cheng luo0.txt', 'bin liu0.txt', 'yu-jun zhao1.txt', 'ana castro.txt', 'wei wang4.txt', 'carmen moreno1.txt', 'bin liu.txt', 'yang zhao1.txt', 'vivek gupta.txt', 'ying liu1.txt', 'chung-may yang0.txt', 'marta crespo1.txt', 'jun zhang1.txt', 'wei xu.txt', 'wei xu1.txt', 'richard w morris.txt', 'yongsheng liu0.txt', 'peng zhang2.txt', 'lin yang1.txt', 'carmen moreno0.txt', 'michael wagner0.txt', 'sebastian wolf1.txt', 'chao liu.txt', 'feng xu1.txt', 'giovanni volpe.txt', 'francisco esteves.txt', 'qian wang0.txt', 'vineet gupta.txt', 'feng xu0.txt', 'hong yang1.txt', 'jin young kim.txt', 'jun chen1.txt', 'feng liu.txt', 'francisco j blanco0.txt', 'vivek kumar.txt', 'giovanni volpe0.txt', 'vivek kumar0.txt', 'fang liu1.txt', 'feng liu0.txt', 'sebastian wolf.txt', 'jin young kim0.txt', 'yang wang0.txt', 'yang zhao0.txt', 'john f marshall1.txt', 'jie zhang1.txt', 'pei-ming yang1.txt', 'vivek gupta1.txt', 'jong hee chang1.txt', 'anna ferrari1.txt', 'marta crespo0.txt', 'hao song1.txt', 'pei-ming yang.txt', 'jacob john1.txt', 'qian wang.txt', 'feng xu.txt', 'john f marshall.txt', 'kyung su kim1.txt', 'ying liu.txt', 'hao song0.txt', 'qin li.txt', 'mikael svensson1.txt', 'jun chen.txt', 'chao liu1.txt', 'alfredo martinez0.txt', 'kevin m. ryan0.txt', 'francisco j blanco1.txt', 'robert j young1.txt', 'ying zhang1.txt', 'anna ferrari0.txt', 'yang wang1.txt', 'yu zhang0.txt', 'peng zhang3.txt', 'yong liu.txt', 'jie zhang.txt', 'lu\\udcc3\\udcads alves0.txt', 'ying zhang.txt', 'peng zhang.txt', 'martin wagner0.txt', 'pei-ming yang0.txt', 'sebastian wolf0.txt', 'lin yang.txt', 'jun zhang.txt', 'lu\\udcc3\\udcads alves.txt', 'jun zhang0.txt', 'qiang wang0.txt', 'wei wang0.txt', 'xin li1.txt', 'michael wagner1.txt', 'lei wang0.txt', 'robert j young0.txt', 'john f marshall0.txt', 'yong liu1.txt', 'marta crespo.txt', 'amit patel0.txt', 'richard w morris1.txt', 'cheng luo1.txt', 'chao liu0.txt', 'ying liu2.txt', 'jeong hwan kim0.txt', 'francisco esteves0.txt', 'peng zhang1.txt', 'lin yang0.txt', 'carmen torres.txt', 'lu\\udcc3\\udcads alves1.txt', 'marco ferrari.txt', 'mikael svensson.txt', 'amit patel1.txt', 'martin wagner1.txt', 'michael wagner2.txt', 'yong wang0.txt', 'richard w morris0.txt', 'yu-jun zhao0.txt', 'lei wang.txt', 'xin li0.txt', 'hong yang.txt', 'ana castro2.txt', 'jun chen0.txt', 'wei wang2.txt', 'qin li1.txt', 'carmen torres1.txt', 'qiang wang1.txt', 'giovanni volpe1.txt', 'chung-may yang.txt', 'francisco esteves1.txt', 'lei wang1.txt', 'kevin m. ryan1.txt', 'jeremy m brown.txt', 'kyung su kim.txt', 'ying liu0.txt', 'ying zhang0.txt']\n",
      "['amit patel.txt', 'robert j young.txt', 'martin wagner.txt', 'michael wagner.txt', 'david g lloyd.txt', 'carmen moreno.txt', 'jong hee chang.txt', 'hao song.txt', 'yongsheng liu.txt', 'kevin m. ryan.txt', 'yu-jun zhao.txt', 'xin li.txt', 'alfredo martinez.txt', 'wei lu.txt', 'anna ferrari.txt', 'wei wang.txt', 'jeong hwan kim.txt', 'jacob john.txt', 'fang liu.txt', 'yong wang.txt', 'cheng luo.txt', 'yang wang.txt', 'qiang wang.txt', 'francisco j blanco.txt', 'yu zhang.txt', 'yang zhao.txt', 'ana castro.txt', 'bin liu.txt', 'vivek gupta.txt', 'wei xu.txt', 'richard w morris.txt', 'chao liu.txt', 'giovanni volpe.txt', 'francisco esteves.txt', 'vineet gupta.txt', 'jin young kim.txt', 'feng liu.txt', 'vivek kumar.txt', 'sebastian wolf.txt', 'pei-ming yang.txt', 'qian wang.txt', 'feng xu.txt', 'john f marshall.txt', 'ying liu.txt', 'qin li.txt', 'jun chen.txt', 'yong liu.txt', 'jie zhang.txt', 'ying zhang.txt', 'peng zhang.txt', 'lin yang.txt', 'jun zhang.txt', 'lu\\udcc3\\udcads alves.txt', 'marta crespo.txt', 'carmen torres.txt', 'marco ferrari.txt', 'mikael svensson.txt', 'lei wang.txt', 'hong yang.txt', 'chung-may yang.txt', 'jeremy m brown.txt', 'kyung su kim.txt']\n",
      "['11913376', '0.08125255', '-0.26923013', '0.12350058', '0.21943399', '0.59610617', '0.51254380', '0.22898267', '-0.10301466', '0.30326331', '0.10392465', '-0.53814095', '-0.71505260', '-0.35337681', '-0.32735440', '-0.33889845', '-0.08476824', '-0.00764674', '0.20305537', '-0.09811013', '0.11384773', '0.58976084', '0.55195481', '-0.11707792', '-0.30737293', '0.28930593', '-0.15793842', '0.07968465', '-0.64490777', '0.25303221', '0.13795526', '-0.59605944', '0.10993322', '0.22809988', '0.17154071', '-0.03190814', '0.78956383', '0.16617961', '0.13625665', '0.16641627', '-0.32460654', '0.54845387', '0.15805532', '0.42268327', '-0.47591615', '-0.90558976', '0.21361342', '0.68220812', '-0.50420576', '0.35892728', '-0.48103425', '-0.74120349', '0.26760584', '-0.45437792', '-0.74219644', '0.30243984', '0.64835525', '-0.79712594', '0.24432506', '0.04585288', '-0.47277302', '-0.29017797', '0.05076585', '0.53202695', '0.51363552', '0.47843507', '-0.37980878', '0.01940083', '-0.05815806', '0.22213708', '0.78560197', '-0.44785681', '0.46890551', '-0.20570593', '-0.43913123', '-0.59659898', '0.14616053', '-0.38186955', '-0.88546544', '-0.17453755', '0.01986482', '0.11819258', '-0.04635331', '0.10084460', '0.39913180', '-0.11412212', '-0.02457011', '-0.43758717', '-0.73223943', '-0.61845535', '-0.00799971', '0.74079585', '0.71827167', '-0.16311568', '0.21587248', '0.22008814', '-0.52290118', '0.26979542', '-0.06429942', '0.50549769', '0.67057085']\n",
      "['9495027', '0.46734467', '-0.49478102', '-0.02177235', '-0.00295819', '0.24680787', '0.11355068', '0.77916175', '-0.67775387', '0.16638432', '0.18014170', '-0.08343285', '-0.11152032', '0.61438423', '0.35218149', '-0.22572017', '-0.10624601', '-0.71314585', '0.08520909', '-0.00188732', '0.46030775', '0.33655217', '-0.08700058', '0.52785951', '0.65182328', '-0.17191702', '0.16373043', '0.04264121', '-0.25908113', '0.09841985', '-0.28036603', '0.09219169', '0.33913612', '0.40951988', '-0.02538707', '0.04970863', '0.42290160', '0.72114497', '0.27276611', '-0.27719772', '-0.05005030', '-0.05722509', '0.09947801', '0.45348775', '0.10606055', '-0.70664281', '0.30583522', '0.23149765', '-0.18131909', '-0.03416862', '0.22648448', '0.02437292', '0.03382649', '-0.03163935', '-0.24046949', '-0.68594646', '-0.12041662', '-0.33918905', '-0.16127361', '0.27705750', '0.25891975', '-0.00088351', '-0.39151862', '-0.02331083', '-0.22132848', '0.40771112', '0.00409657', '0.64820319', '0.35636470', '-0.26906487', '-0.11914618', '-0.47875264', '-0.21651788', '-0.28902164', '0.17677231', '-0.48388788', '0.23675539', '0.24094556', '0.26374418', '-0.24995805', '0.11080347', '-0.05691404', '-0.12485087', '0.09261262', '0.37103492', '-0.39172539', '-0.19109701', '-0.70991713', '-0.20962450', '-0.07259109', '0.20274536', '-0.03063696', '0.21069485', '-0.00284787', '0.07928653', '0.13188533', '-0.61890888', '0.14022115', '-0.14196190', '-0.12602659', '-0.10111793']\n"
     ]
    }
   ],
   "source": [
    "import os\n",
    "import re\n",
    "import numpy as np\n",
    "from sklearn import svm\n",
    "from sklearn.model_selection import KFold\n",
    "from sklearn import metrics\n",
    "from sklearn.metrics import accuracy_score\n",
    "from sklearn.metrics import f1_score\n",
    "\n",
    "# collect data\n",
    "# ../Data/DataForClassification/p2v/\n",
    "fileDir = \"../Data/DataForClassification/d2v/\"\n",
    "fileList = os.listdir(fileDir)\n",
    "print(fileList)\n",
    "\n",
    "# loop through files in directory \n",
    "# add name to name list\n",
    "name_list = []\n",
    "for file in fileList:\n",
    "    if not file.startswith('.'):\n",
    "        if not re.match(r'\\D*\\d+.txt$', file):\n",
    "            name_list.append(file)\n",
    "print(name_list)\n",
    "\n",
    "# for name in namelist:\n",
    "#     int counter = 0;\n",
    "#     for file in fileList:\n",
    "#         if not file.startswith('.'):\n",
    "            \n",
    "# hard code to read the file one by one\n",
    "# author as positive sample, other as all samples\n",
    "author_features = []\n",
    "other_features = []\n",
    "with open(fileDir+\"michael wagner0.txt\", 'r', encoding = 'utf8') as f:\n",
    "    for line in f:\n",
    "        author_features.append(line.strip().split(\" \"))\n",
    "\n",
    "with open(fileDir+\"michael wagner.txt\", 'r', encoding = 'utf8') as f:\n",
    "    for line in f:\n",
    "        other_features.append(line.strip().split(\" \"))\n",
    "        \n",
    "print(author_features[0])\n",
    "print(other_features[0])"
   ]
  },
  {
   "cell_type": "code",
   "execution_count": null,
   "metadata": {
    "collapsed": true
   },
   "outputs": [],
   "source": []
  },
  {
   "cell_type": "code",
   "execution_count": 2,
   "metadata": {},
   "outputs": [
    {
     "name": "stdout",
     "output_type": "stream",
     "text": [
      "16\n",
      "255\n"
     ]
    }
   ],
   "source": [
    "# size of each class\n",
    "print(len(author_features))\n",
    "print(len(other_features))"
   ]
  },
  {
   "cell_type": "code",
   "execution_count": 3,
   "metadata": {},
   "outputs": [
    {
     "name": "stdout",
     "output_type": "stream",
     "text": [
      "101\n",
      "101\n"
     ]
    }
   ],
   "source": [
    "# dimension of each class\n",
    "print(len(author_features[0]))\n",
    "print(len(other_features[0]))"
   ]
  },
  {
   "cell_type": "code",
   "execution_count": 4,
   "metadata": {},
   "outputs": [
    {
     "name": "stdout",
     "output_type": "stream",
     "text": [
      "Negative sample size: 239\n",
      "          0            1            2            3            4           5  \\\n",
      "0  11913376   0.08125255  -0.26923013   0.12350058   0.21943399  0.59610617   \n",
      "1  12973727  -0.12425368  -0.61719823  -0.14773583   0.29436713  0.85312623   \n",
      "2  15857247   0.39831164  -0.19049157   0.66954857   1.00282347  1.09913301   \n",
      "3  17081057  -0.65990341  -0.43371347  -0.04118128  -0.02935118  0.15726706   \n",
      "4  18333798  -0.07879562  -0.08480105   0.02117494   0.10787108  0.07532892   \n",
      "\n",
      "             6            7            8           9  ...            92  \\\n",
      "0   0.51254380   0.22898267  -0.10301466  0.30326331  ...    0.71827167   \n",
      "1  -0.61940527   0.45467871   0.21129733  0.66855842  ...    0.79690182   \n",
      "2  -0.13993333  -0.47397777   0.27701509  0.53899837  ...   -0.08898772   \n",
      "3  -0.41299382   0.11691877  -0.04782787  0.46951130  ...    0.32706594   \n",
      "4  -0.08695129   0.08676738  -0.04744303  0.11769948  ...    0.07910561   \n",
      "\n",
      "            93          94          95           96           97           98  \\\n",
      "0  -0.16311568  0.21587248  0.22008814  -0.52290118   0.26979542  -0.06429942   \n",
      "1   0.29094929  0.49219787  0.63869846   0.37419441  -0.09449704  -0.10859369   \n",
      "2   0.40275553  0.52501118  0.06193342   0.03583403   0.40444168  -0.10832498   \n",
      "3   0.26128602  0.87767690  0.42375797   0.17030278   0.09205000   0.12618423   \n",
      "4  -0.06221189  0.11161185  0.03752463  -0.00726667   0.02712237  -0.04490315   \n",
      "\n",
      "            99         100 label  \n",
      "0   0.50549769  0.67057085     0  \n",
      "1   0.21429290  0.56901336     0  \n",
      "2   0.36142290  0.39524740     0  \n",
      "3  -0.05405710  0.37429082     0  \n",
      "4   0.09112431  0.04374575     0  \n",
      "\n",
      "[5 rows x 102 columns]\n",
      "          0            1            2            3           4            5  \\\n",
      "0  26921674   0.05585526  -0.97248983  -0.04392405  0.67226040   0.16188915   \n",
      "1  21546306  -0.06504705  -0.12055077   0.05196844  0.43604615  -0.01156803   \n",
      "2  15632447  -0.28321263  -0.57074463  -0.02944518  0.58251143  -0.16410480   \n",
      "3  21787302  -0.14465332  -0.15866654   0.57298177  1.27661133   1.03167176   \n",
      "4  16872410  -0.04977068  -0.25041869   0.37148300  0.26183793   0.45407793   \n",
      "\n",
      "             6            7            8           9  ...            92  \\\n",
      "0  -0.06074660  -0.13638888  -0.21242382  0.43600142  ...   -0.00748203   \n",
      "1   0.00939985   0.21567065  -0.63395452  0.27833509  ...    0.10073362   \n",
      "2  -0.15531482   0.02657143  -0.77017611  0.17695531  ...   -0.03497310   \n",
      "3   0.35466319  -0.16790181  -0.16323005  0.34691557  ...   -0.35527223   \n",
      "4  -0.46868491   0.22931094  -1.22775614  0.29698139  ...    0.09529300   \n",
      "\n",
      "            93          94           95           96           97  \\\n",
      "0   0.03724948  0.54756647  -0.15713468   0.46984506   0.11222737   \n",
      "1  -0.07779401  0.10192204  -0.08069392  -0.19091374  -0.30695450   \n",
      "2  -0.24164394  0.53895414   0.10982801  -0.46430320  -0.11559630   \n",
      "3   0.82920098  0.25273031   0.42378470  -0.00696326   0.10710710   \n",
      "4  -0.14782690  0.18470450  -0.33937085  -0.18597987  -0.40862331   \n",
      "\n",
      "            98           99          100 label  \n",
      "0   0.35020852  -0.08090507   0.20800859     1  \n",
      "1  -0.27817491  -0.05278816   0.12604131     1  \n",
      "2  -0.54457808   0.10003651   0.33495826     1  \n",
      "3   0.59087652   0.11081164   0.30794311     0  \n",
      "4  -0.73139060  -0.12778245  -0.19971152     1  \n",
      "\n",
      "[5 rows x 102 columns]\n",
      "Total sample size and shape:  (32, 100)\n"
     ]
    }
   ],
   "source": [
    "import pandas as pd\n",
    "import random\n",
    "\n",
    "# remove author(positive sample) from other(negative sample)\n",
    "allPaperVectors = [x for x in other_features if x not in author_features]\n",
    "print(\"Negative sample size:\", len(allPaperVectors))\n",
    "\n",
    "# random take sample from all the papers and treat it as class 2\n",
    "# random sample will have same size with author's size\n",
    "if len(author_features)>len(allPaperVectors):\n",
    "    randomSample = allPaperVectors\n",
    "else:\n",
    "    randomSample = random.sample(allPaperVectors, len(author_features))\n",
    "\n",
    "classOne = pd.DataFrame(author_features)\n",
    "classOne[\"label\"] = 0\n",
    "#print(classOne[:2:])\n",
    "\n",
    "classTwo = pd.DataFrame(randomSample)\n",
    "classTwo[\"label\"] = 1\n",
    "#print(classTwo[:2:])\n",
    "\n",
    "# combine data from different class get all data\n",
    "combinedData = pd.concat([classOne, classTwo])\n",
    "print(combinedData[:5])\n",
    "combinedData = combinedData.sample(frac=1).reset_index(drop=True)\n",
    "print(combinedData[:5])\n",
    "# take the paper id out\n",
    "paperID = combinedData[0]\n",
    "# split data and label\n",
    "data = combinedData.drop([0,'label'], axis=1)\n",
    "label = combinedData['label']\n",
    "print(\"Total sample size and shape: \",data.shape)\n"
   ]
  },
  {
   "cell_type": "code",
   "execution_count": 5,
   "metadata": {},
   "outputs": [
    {
     "data": {
      "image/png": "[encoded data removed]",
      "text/plain": [
       "<matplotlib.figure.Figure at 0x7fde495bc4a8>"
      ]
     },
     "metadata": {},
     "output_type": "display_data"
    }
   ],
   "source": [
    "# Principal Component Analysis (PCA) applied to this data identifies the combination of attributes\n",
    "# (principal components, or directions in the feature space) that account for the most variance in the data.\n",
    "from sklearn.decomposition import PCA\n",
    "import matplotlib.pyplot as plt\n",
    "pca = PCA(n_components=2)\n",
    "pca_transformed = pd.DataFrame(pca.fit_transform(X=data, y=label))\n",
    "pca_transformed[\"label\"] = label\n",
    "#print(pca_transformed)\n",
    "plt.scatter(pca_transformed[label==0][0], pca_transformed[label==0][1], label='Positive sample', c='red')\n",
    "plt.scatter(pca_transformed[label==1][0], pca_transformed[label==1][1], label='Other', c='blue')\n",
    "plt.legend()\n",
    "plt.show()"
   ]
  },
  {
   "cell_type": "code",
   "execution_count": 6,
   "metadata": {},
   "outputs": [
    {
     "name": "stderr",
     "output_type": "stream",
     "text": [
      "/home/gao137/intel/intelpython3/lib/python3.6/site-packages/sklearn/discriminant_analysis.py:388: UserWarning: Variables are collinear.\n",
      "  warnings.warn(\"Variables are collinear.\")\n"
     ]
    }
   ],
   "source": [
    "# Linear Discriminant Analysis (LDA) tries to identify attributes that account for the most variance between classes.\n",
    "# In particular, LDA, in contrast to PCA, is a supervised method, using known class labels.\n",
    "from sklearn.discriminant_analysis import LinearDiscriminantAnalysis\n",
    "lda = LinearDiscriminantAnalysis(n_components=2) #2-dimensional LDA\n",
    "lda_transformed = pd.DataFrame(lda.fit(data, label).transform(data))\n",
    "#print(lda_transformed)\n",
    "# plt.scatter(lda_transformed[label==0][0], lda_transformed[label==0][1], label='Class 1', c='red')\n",
    "# plt.scatter(lda_transformed[label==1][0], lda_transformed[label==1][1], label='Class 2', c='blue')\n",
    "# plt.legend()\n",
    "# plt.show()"
   ]
  },
  {
   "cell_type": "code",
   "execution_count": 13,
   "metadata": {},
   "outputs": [
    {
     "name": "stdout",
     "output_type": "stream",
     "text": [
      "              0            1  label\n",
      "0  -1235.446045   361.705780      1\n",
      "1    597.428589  -466.834808      1\n",
      "2    948.410889  -788.553894      1\n",
      "3   2330.454102  2066.631104      0\n",
      "4    189.577927  -749.159546      1\n",
      "5    -61.791752   842.576965      0\n",
      "6  -1092.095337  1037.177979      0\n",
      "7    275.081360   575.682068      1\n",
      "8    226.479767  -281.133148      1\n",
      "9   -123.146088   338.782684      0\n",
      "10   297.486115   146.487076      0\n",
      "11  -189.570190  -549.430420      1\n",
      "12  -912.685547  -138.541443      0\n",
      "13   691.650208    14.423253      0\n",
      "14  1040.896362   908.262756      1\n",
      "15 -1781.895630  -580.532104      0\n",
      "16 -1108.685913  -698.671326      0\n",
      "17  -485.050262  1089.960327      0\n",
      "18  -535.439453   118.137543      1\n",
      "19    50.849743  1319.978516      1\n",
      "20  -836.736084   474.986389      0\n",
      "21 -1381.180420   -97.401192      1\n",
      "22  -453.278595   625.655762      0\n",
      "23  -187.959778 -1151.591431      0\n",
      "24  1170.498413   299.815979      0\n",
      "25   497.207794  1031.871582      0\n",
      "26  -534.999939  -337.040924      1\n",
      "27   709.908203   493.296875      1\n",
      "28  -602.862671  -835.620544      1\n",
      "29   468.886322 -1122.555908      0\n",
      "30  -136.011810   -83.818832      1\n",
      "31  1107.217407  -239.946014      1\n"
     ]
    },
    {
     "data": {
      "image/png": "[encoded data removed]",
      "text/plain": [
       "<matplotlib.figure.Figure at 0x7fddc660b1d0>"
      ]
     },
     "metadata": {},
     "output_type": "display_data"
    }
   ],
   "source": [
    "# TSNE\n",
    "from sklearn.manifold import TSNE\n",
    "from sklearn.preprocessing import Normalizer\n",
    "tsne_transformed = TSNE(n_components=2, init = \"pca\").fit_transform(data)\n",
    "tsne_transformed_normalized = Normalizer(norm='l2').fit_transform(tsne_transformed)\n",
    "tsne_transformed_normalized = pd.DataFrame(tsne_transformed)\n",
    "tsne_transformed_normalized[\"label\"] = label\n",
    "print(tsne_transformed_normalized)\n",
    "plt.scatter(tsne_transformed_normalized[label==0][0], tsne_transformed_normalized[label==0][1], label='Positive sample', c='red')\n",
    "plt.scatter(tsne_transformed_normalized[label==1][0], tsne_transformed_normalized[label==1][1], label='Other', c='blue')\n",
    "plt.legend()\n",
    "plt.show()"
   ]
  },
  {
   "cell_type": "code",
   "execution_count": 10,
   "metadata": {
    "collapsed": true
   },
   "outputs": [],
   "source": [
    "# cross validation\n",
    "def k_fold_cv(data, label, classifier, clfname):\n",
    "    kf = KFold(n_splits=10, shuffle=False)\n",
    "    roundf1 = []\n",
    "    for train_index, test_index in kf.split(data):\n",
    "        # print(\"TRAIN:\", train_index, \" \\n TEST:\", test_index)\n",
    "        # split train and test\n",
    "        data_train, data_test = data.iloc[train_index], data.iloc[test_index]\n",
    "        label_train, test_true_label = label.iloc[train_index], label.iloc[test_index]\n",
    "        # fit data to svm\n",
    "        classifier.fit(data_train, label_train)\n",
    "        # get predicted label\n",
    "        label_pred = classifier.predict(data_test)\n",
    "        # find out which sample cause the issue\n",
    "        print(\"Pred: \",label_pred)\n",
    "        print(\"True: \", test_true_label.values.tolist())\n",
    "        print(\"Mislabeled sample: \",end='')\n",
    "        for i in range(len(test_true_label)):\n",
    "            if(label_pred[i]!=test_true_label[test_index[i]]):\n",
    "                print(paperID[test_index[i]]+\",\",end='')\n",
    "        print()\n",
    "        # find round confusion matrix\n",
    "        metrics.confusion_matrix(test_true_label, label_pred).ravel()\n",
    "        roundf1.append(f1_score(test_true_label, label_pred,average='micro'))\n",
    "        # print(\"True positive: {tp}, False positive: {fp}, False negative: {fn}, True negative: {tn}\"\n",
    "        # .format(tp=round_tp, fp=round_fp, fn=round_fn, tn=round_tn))\n",
    "\n",
    "    print(\"Classifier: {name}\".format(name=clfname))\n",
    "    f1 = np.average(roundf1)\n",
    "    print(\"F1: \", f1)\n",
    "    # return ppv, npv, specificity, sensitivity, accuracy, f1"
   ]
  },
  {
   "cell_type": "code",
   "execution_count": 11,
   "metadata": {},
   "outputs": [
    {
     "name": "stdout",
     "output_type": "stream",
     "text": [
      "SVC(C=1.0, cache_size=200, class_weight='balanced', coef0=0.0,\n",
      "  decision_function_shape='ovr', degree=3, gamma='auto', kernel='linear',\n",
      "  max_iter=-1, probability=True, random_state=None, shrinking=True,\n",
      "  tol=0.001, verbose=False)\n",
      "Pred:  [1 0 0 0]\n",
      "True:  [0, 0, 0, 0]\n",
      "Mislabeled sample: 18333798,\n",
      "Pred:  [1 1 0 1]\n",
      "True:  [1, 1, 0, 1]\n",
      "Mislabeled sample: \n",
      "Pred:  [1 0 1]\n",
      "True:  [1, 0, 1]\n",
      "Mislabeled sample: \n",
      "Pred:  [1 1 0]\n",
      "True:  [1, 1, 0]\n",
      "Mislabeled sample: \n",
      "Pred:  [1 1 1]\n",
      "True:  [0, 1, 1]\n",
      "Mislabeled sample: 26330430,\n",
      "Pred:  [0 1 0]\n",
      "True:  [0, 1, 0]\n",
      "Mislabeled sample: \n",
      "Pred:  [1 0 1]\n",
      "True:  [1, 0, 1]\n",
      "Mislabeled sample: \n",
      "Pred:  [1 1 0]\n",
      "True:  [1, 1, 0]\n",
      "Mislabeled sample: \n",
      "Pred:  [1 0 1]\n",
      "True:  [1, 0, 0]\n",
      "Mislabeled sample: 24450576,\n",
      "Pred:  [0 1 0]\n",
      "True:  [0, 1, 0]\n",
      "Mislabeled sample: \n",
      "Classifier: SVM linear\n",
      "F1:  0.9083333333333332\n",
      "SVC(C=100, cache_size=200, class_weight=None, coef0=0.0,\n",
      "  decision_function_shape='ovr', degree=3, gamma='auto', kernel='rbf',\n",
      "  max_iter=-1, probability=False, random_state=None, shrinking=True,\n",
      "  tol=0.001, verbose=False)\n",
      "Pred:  [1 0 0 0]\n",
      "True:  [0, 0, 0, 0]\n",
      "Mislabeled sample: 18333798,\n",
      "Pred:  [1 1 0 1]\n",
      "True:  [1, 1, 0, 1]\n",
      "Mislabeled sample: \n",
      "Pred:  [1 0 1]\n",
      "True:  [1, 0, 1]\n",
      "Mislabeled sample: \n",
      "Pred:  [1 1 0]\n",
      "True:  [1, 1, 0]\n",
      "Mislabeled sample: \n",
      "Pred:  [1 1 1]\n",
      "True:  [0, 1, 1]\n",
      "Mislabeled sample: 26330430,\n",
      "Pred:  [0 1 0]\n",
      "True:  [0, 1, 0]\n",
      "Mislabeled sample: \n",
      "Pred:  [1 0 1]\n",
      "True:  [1, 0, 1]\n",
      "Mislabeled sample: \n",
      "Pred:  [1 1 0]\n",
      "True:  [1, 1, 0]\n",
      "Mislabeled sample: \n",
      "Pred:  [1 0 1]\n",
      "True:  [1, 0, 0]\n",
      "Mislabeled sample: 24450576,\n",
      "Pred:  [0 1 0]\n",
      "True:  [0, 1, 0]\n",
      "Mislabeled sample: \n",
      "Classifier: SVM rbf\n",
      "F1:  0.9083333333333332\n"
     ]
    }
   ],
   "source": [
    "\n",
    "# create linear SVM model\n",
    "linear_svc = svm.SVC(kernel='linear', class_weight='balanced', probability=True)\n",
    "print(linear_svc)\n",
    "\n",
    "# fit model and do 10-fold cv\n",
    "k_fold_cv(data, label, linear_svc, \"SVM linear\")\n",
    "\n",
    "\n",
    "'''\n",
    "# compute the distance to decision boundry (Not same as confidence measure)\n",
    "Distance = linear_svc.decision_function(allDatas)\n",
    "\n",
    "# computer the confidence measure (Platt scaling: transforming the outputs of a \n",
    "# classification model into a probability distribution over classes)\n",
    "# P(class/input) = 1 / (1 + exp(A * f(input) + B))\n",
    "# P(class/input) is the probability that “input” belongs to “class” \n",
    "# and f(input) is the signed distance of the input datapoint from the boundary,\n",
    "# which is basically the output of “decision_function”. \n",
    "\n",
    "proba = linear_svc.predict_proba(allDatas)\n",
    "\n",
    "'''\n",
    "\n",
    "# create rbf SVM model with C=10 where (C*Error) is added into minimize function\n",
    "# C big means error matter more\n",
    "rbf_svc = svm.SVC(kernel='rbf', C=100)\n",
    "print(rbf_svc)\n",
    "\n",
    "# fit model and do 10-fold cv\n",
    "k_fold_cv(data, label, rbf_svc, \"SVM rbf\")\n",
    "\n",
    "# # apply the linear svc for all the data in environment\n",
    "# label_pred = rbf_svc.predict(allDatas)\n",
    "# uniqueItems, counts = np.unique(label_pred, return_counts=True)\n",
    "# print(dict(zip(uniqueItems, counts)))\n"
   ]
  },
  {
   "cell_type": "code",
   "execution_count": null,
   "metadata": {
    "collapsed": true
   },
   "outputs": [],
   "source": []
  }
 ],
 "metadata": {
  "kernelspec": {
   "display_name": "Python 3",
   "language": "python",
   "name": "python3"
  },
  "language_info": {
   "codemirror_mode": {
    "name": "ipython",
    "version": 3
   },
   "file_extension": ".py",
   "mimetype": "text/x-python",
   "name": "python",
   "nbconvert_exporter": "python",
   "pygments_lexer": "ipython3",
   "version": "3.6.3"
  }
 },
 "nbformat": 4,
 "nbformat_minor": 2
}
