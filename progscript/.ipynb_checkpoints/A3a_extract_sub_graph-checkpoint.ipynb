{
 "cells": [
  {
   "cell_type": "code",
   "execution_count": null,
   "metadata": {
    "collapsed": true
   },
   "outputs": [],
   "source": [
    "sort iplist.txt | uniq -c | gawk '$1==4{print $2}' "
   ]
  },
  {
   "cell_type": "code",
   "execution_count": 4,
   "metadata": {
    "ExecuteTime": {
     "end_time": "2019-01-18T02:01:21.014147Z",
     "start_time": "2019-01-18T02:01:19.716415Z"
    },
    "collapsed": true
   },
   "outputs": [],
   "source": [
    "# ---------------- number of citation for labeled data ------------------ #\n",
    "import os\n",
    "fileDir = \"../Data/pubmed/canopies_labeled/\"\n",
    "listfiles = os.listdir(fileDir)\n",
    "LabeledRecords_pid = []\n",
    "\n",
    "for file in listfiles:\n",
    "    if not file.startswith('.'):\n",
    "        with open(fileDir+file, 'r', encoding = 'utf8') as f:\n",
    "            for line in f:\n",
    "                read_data = line.split(\"\\t\")\n",
    "                if(len(read_data)==13 or len(read_data)==12):\n",
    "                    LabeledRecords_pid.append(read_data[0])\n",
    "                else:\n",
    "                    print(len(read_data))\n",
    "        f.close()\n",
    "print(LabeledRecords_pid[:5])"
   ]
  },
  {
   "cell_type": "code",
   "execution_count": 7,
   "metadata": {
    "ExecuteTime": {
     "end_time": "2019-01-18T02:01:53.028933Z",
     "start_time": "2019-01-18T02:01:51.164077Z"
    },
    "collapsed": true
   },
   "outputs": [],
   "source": [
    "# ------------------ number of citations for all data -------------- #\n",
    "Dataset = \"pubmed\"\n",
    "paperIDs = []\n",
    "# read in paper ID\n",
    "with open(\"../Data/\"+Dataset+\"/pids.txt\", 'r', encoding = 'utf8') as infile:\n",
    "    for line in infile:\n",
    "        paperIDs.append(line.strip('\\n'))\n",
    "print(paperIDs[:5])"
   ]
  },
  {
   "cell_type": "code",
   "execution_count": null,
   "metadata": {
    "ExecuteTime": {
     "start_time": "2019-01-18T02:03:34.737Z"
    },
    "collapsed": true
   },
   "outputs": [],
   "source": [
    "citations = []\n",
    "with open(\"../Data/\"+Dataset+\"/16May-citation.txt\", 'r', encoding = 'utf8') as infile:\n",
    "    for line in infile:\n",
    "        citations.append(line)\n",
    "print(\"Done load all citations\")"
   ]
  },
  {
   "cell_type": "code",
   "execution_count": 9,
   "metadata": {
    "ExecuteTime": {
     "end_time": "2019-01-08T17:48:40.939502Z",
     "start_time": "2019-01-08T17:48:24.366041Z"
    }
   },
   "outputs": [
    {
     "name": "stdout",
     "output_type": "stream",
     "text": [
      "Done\n"
     ]
    }
   ],
   "source": [
    "Dataset = \"pubmed\"\n",
    "allpaperIDs = set()\n",
    "# read in all paper ID\n",
    "with open(\"../Data/\"+Dataset+\"/allTextual/16May-IDs.txt\", 'r', encoding = 'utf8') as infile:\n",
    "    for line in infile:\n",
    "        allpaperIDs.add(line.strip('\\n'))\n",
    "print(\"Done\")"
   ]
  },
  {
   "cell_type": "code",
   "execution_count": 3,
   "metadata": {
    "ExecuteTime": {
     "end_time": "2019-01-08T16:58:10.889001Z",
     "start_time": "2019-01-08T16:58:10.880028Z"
    }
   },
   "outputs": [
    {
     "name": "stdout",
     "output_type": "stream",
     "text": [
      "3151504\n",
      "502248898\n"
     ]
    }
   ],
   "source": [
    "print(len(paperIDs))\n",
    "print(len(citations))"
   ]
  },
  {
   "cell_type": "code",
   "execution_count": 10,
   "metadata": {
    "ExecuteTime": {
     "end_time": "2019-01-08T18:11:50.433192Z",
     "start_time": "2019-01-08T17:55:57.252238Z"
    }
   },
   "outputs": [
    {
     "name": "stdout",
     "output_type": "stream",
     "text": [
      "69136460\n"
     ]
    }
   ],
   "source": [
    "# check number of papers in all citation\n",
    "paperSet = set()\n",
    "for line in citations:\n",
    "    id_list = line.split(\"\\t\")\n",
    "    if(len(id_list)==2):\n",
    "        paperSet.add(id_list[0])\n",
    "        paperSet.add(id_list[1])\n",
    "print(len(paperSet))\n"
   ]
  },
  {
   "cell_type": "code",
   "execution_count": 15,
   "metadata": {
    "ExecuteTime": {
     "end_time": "2019-01-08T18:20:10.470225Z",
     "start_time": "2019-01-08T18:18:53.272161Z"
    }
   },
   "outputs": [
    {
     "name": "stdout",
     "output_type": "stream",
     "text": [
      "Done concatenation, length:  96200474\n",
      "11368345\n"
     ]
    }
   ],
   "source": [
    "from collections import Counter\n",
    "# concate all paperid with all paper in citation as one long string\n",
    "concated_all_paper = list(allpaperIDs) + list(paperSet)\n",
    "print(\"Done concatenation, length: \", len(concated_all_paper))\n",
    "cnt = Counter(concated_all_paper)\n",
    "total_paper_citations = [key for key, count in cnt.items() if count > 1]\n",
    "print(len(total_paper_citations))"
   ]
  },
  {
   "cell_type": "code",
   "execution_count": null,
   "metadata": {
    "ExecuteTime": {
     "start_time": "2018-11-21T11:04:14.268Z"
    }
   },
   "outputs": [
    {
     "name": "stdout",
     "output_type": "stream",
     "text": [
      "['8587804\\t10.1017/s1742758400012674\\n', '10.1017/s0041977x1100084x\\t10.1364/josa.46.000628\\n', '10.1353/wp.2001.0006\\t7674027\\n', '10.1017/s0041977x1100084x\\t10.1515/zava.1898.13.1.111\\n', '8587804\\t10.1017/s0007485300049415\\n', '10.1017/s1365100505040204\\t10.1093/oxfordjournals.oep.a041948\\n', '10.1017/s0140525x00031769\\t10.1037/0096-1523.7.2.356\\n', '8587804\\t10.1177/0040571x7207500312\\n', '10.1017/s0140525x00031769\\t10.3758/bf03335168\\n', '10.1353/wp.2001.0006\\t10.1111/j.1747-7093.1992.tb00545.x\\n']\n"
     ]
    }
   ],
   "source": [
    "print(citations[-10:])"
   ]
  },
  {
   "cell_type": "code",
   "execution_count": null,
   "metadata": {
    "ExecuteTime": {
     "start_time": "2019-01-18T02:05:21.306Z"
    }
   },
   "outputs": [
    {
     "name": "stdout",
     "output_type": "stream",
     "text": [
      "135796\n",
      "check\n",
      "After: 0:00:00.000462\n",
      "check\n",
      "After: 0:02:23.467367\n",
      "check\n",
      "After: 0:07:15.371448\n",
      "['10.1186/1471-2342-13-31\\n']\n",
      "check\n",
      "After: 0:09:40.376032\n",
      "['10.1007/s11240-011-9919-5\\n']\n",
      "['289/23/3152\\n']\n",
      "['1096645\\n']\n",
      "['ct0203sattler\\n']\n",
      "['jphysiol.2003.044875\\n']\n",
      "['s1535610804002077\\n']\n",
      "['ajas-25-7-913-2[pii]\\n']\n",
      "['2235925100\\n']\n",
      "['0904113106\\n']\n",
      "['348/26/2599\\n']\n",
      "['2003-07-2459\\n']\n",
      "['s0006-291x(08)02191-8\\n']\n",
      "check\n",
      "After: 0:12:05.749806\n",
      "Done, subgraph size:  3319946\n"
     ]
    }
   ],
   "source": [
    "import os\n",
    "from datetime import datetime\n",
    "\n",
    "subgraph = []\n",
    "counter = 0\n",
    "paperIDs = set(paperIDs)\n",
    "print(len(paperIDs))\n",
    "\n",
    "t1 = datetime.now()\n",
    "for line in citations:\n",
    "    if counter %100000000 ==0:\n",
    "        print(\"check\")\n",
    "        t2 = datetime.now()\n",
    "        print('After: ' + str(t2 - t1))\n",
    "    id_list = line.split(\"\\t\")\n",
    "    counter+=1\n",
    "    if(len(id_list)==2):\n",
    "        if (id_list[0] in paperIDs) or (id_list[1] in paperIDs):\n",
    "            subgraph.append(line)\n",
    "            if id_list[1] in paperIDs:\n",
    "                print(id_list[1])\n",
    "    else:\n",
    "        print(id_list)\n",
    "print(\"Done, subgraph size: \", len(subgraph))\n",
    "newf = open(\"../Data/\"+Dataset+\"/subgraph.txt\",\"w\",encoding='utf8')\n",
    "for line in subgraph:\n",
    "    newf.write(line)\n",
    "newf.close()"
   ]
  },
  {
   "cell_type": "code",
   "execution_count": null,
   "metadata": {
    "ExecuteTime": {
     "start_time": "2019-01-18T02:13:42.145Z"
    },
    "collapsed": true
   },
   "outputs": [],
   "source": [
    "print(len(subgraph))"
   ]
  },
  {
   "cell_type": "code",
   "execution_count": null,
   "metadata": {
    "collapsed": true
   },
   "outputs": [],
   "source": [
    "import os\n",
    "from datetime import datetime\n",
    "subgraph = []\n",
    "counter = 0\n",
    "\n",
    "def binary_search(numbers, target, first, last):\n",
    "    mid = (first + last) // 2\n",
    "    if first > last:\n",
    "        index = -1\n",
    "    elif target == numbers[mid]:\n",
    "        index =  mid\n",
    "    elif target < numbers[mid]:\n",
    "        index = binary_search(numbers, target, first, mid-1)\n",
    "    else:\n",
    "        index = binary_search(numbers, target, mid+1, last)\n",
    "    return index\n",
    "t1 = datetime.now()\n",
    "for line in citations:\n",
    "    if counter %10000 ==0:\n",
    "        print(\"check\")\n",
    "        t2 = datetime.now()\n",
    "        print('After: ' + str(t2 - t1))\n",
    "    id_list = line.split(\"\\t\")\n",
    "    counter+=1\n",
    "    if (binary_search(paperIDs, id_list[0],0,len(paperIDs)-1)!=-1) or (binary_search(paperIDs,id_list[1],0,len(paperIDs)-1)!=-1):\n",
    "        subgraph.append(line)\n",
    "        if id_list[1] in paperIDs:\n",
    "            print(id_list[1])\n",
    "\n",
    "newf = open(\"../Data/\"+Dataset+\"/subgraph.txt\",w,encoding='utf8')\n",
    "for line in subgraph:\n",
    "    newf.write(line)\n",
    "newf.close()"
   ]
  },
  {
   "cell_type": "code",
   "execution_count": null,
   "metadata": {
    "collapsed": true
   },
   "outputs": [],
   "source": []
  }
 ],
 "metadata": {
  "kernelspec": {
   "display_name": "Python 3",
   "language": "python",
   "name": "python3"
  },
  "language_info": {
   "codemirror_mode": {
    "name": "ipython",
    "version": 3
   },
   "file_extension": ".py",
   "mimetype": "text/x-python",
   "name": "python",
   "nbconvert_exporter": "python",
   "pygments_lexer": "ipython3",
   "version": "3.6.3"
  }
 },
 "nbformat": 4,
 "nbformat_minor": 2
}
