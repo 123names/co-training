{
 "cells": [
  {
   "cell_type": "code",
   "execution_count": 1,
   "metadata": {},
   "outputs": [
    {
     "name": "stdout",
     "output_type": "stream",
     "text": [
      "Total labeled records: 4163770 records\n"
     ]
    }
   ],
   "source": [
    "# load the paper metadata\n",
    "import sys\n",
    "import io\n",
    "import os\n",
    "\n",
    "PATH = '../Data/'\n",
    "fileDir = \"../Data/canopies/\"\n",
    "listfiles = os.listdir(fileDir)\n",
    "\n",
    "LabeledRecords_original = []\n",
    "\n",
    "for file in listfiles:\n",
    "    if not file.startswith('.'):\n",
    "        with open(fileDir+file, 'r', encoding = 'utf8') as f:\n",
    "            for line in f:\n",
    "                read_data = line.split(\"\\t\")\n",
    "                # get ride of bad formated lines\n",
    "                if(len(read_data)==13):\n",
    "                    paper_detail = {\"paperID\": read_data[0], \"authorID\":read_data[1],\n",
    "                                    \"author_position\":read_data[2], \"total_author\": read_data[3],\n",
    "                                    \"author_name\": read_data[4], \"co_authors\": read_data[5], \n",
    "                                    \"department\": read_data[6], \"vendor\": read_data[7], \n",
    "                                    \"mesh\": read_data[8], \"keywords\": read_data[9], \n",
    "                                    \"publish_year\": read_data[10], \"citation graph\": read_data[11]}\n",
    "                    LabeledRecords_original.append(paper_detail)\n",
    "        f.close()\n",
    "print(\"Total labeled records:\",len(LabeledRecords_original), \"records\")"
   ]
  },
  {
   "cell_type": "code",
   "execution_count": 14,
   "metadata": {},
   "outputs": [
    {
     "name": "stdout",
     "output_type": "stream",
     "text": [
      "[('wei wang', 9014), ('y wang', 7355), ('m takahashi', 6323), ('y zhang', 6180), ('k yamamoto', 5728), ('h suzuki', 5419), ('k sato', 5375), ('yan wang', 5356), ('yan zhang', 5325), ('j zhang', 5317)]\n"
     ]
    }
   ],
   "source": [
    "from collections import Counter\n",
    "# count number of publication based on only name\n",
    "Record_NameCounter = Counter([records[\"author_name\"] for records in LabeledRecords_original])\n",
    "# print top 10 most common names that published papers in current dataset\n",
    "print(Record_NameCounter.most_common(10))\n"
   ]
  },
  {
   "cell_type": "code",
   "execution_count": 16,
   "metadata": {},
   "outputs": [
    {
     "name": "stdout",
     "output_type": "stream",
     "text": [
      "336916\n",
      "['jonathan m read', 'j m read', 'jonathan read', 'jenny read', 'jenny c a read']\n"
     ]
    }
   ],
   "source": [
    "# group same name records together\n",
    "# first extract all names\n",
    "authorNames = Record_NameCounter.keys()\n",
    "print(len(authorNames))\n",
    "print(list(authorNames)[:5])\n"
   ]
  },
  {
   "cell_type": "code",
   "execution_count": null,
   "metadata": {
    "collapsed": true
   },
   "outputs": [],
   "source": [
    "#\n"
   ]
  }
 ],
 "metadata": {
  "kernelspec": {
   "display_name": "Python 3",
   "language": "python",
   "name": "python3"
  },
  "language_info": {
   "codemirror_mode": {
    "name": "ipython",
    "version": 3
   },
   "file_extension": ".py",
   "mimetype": "text/x-python",
   "name": "python",
   "nbconvert_exporter": "python",
   "pygments_lexer": "ipython3",
   "version": "3.6.3"
  }
 },
 "nbformat": 4,
 "nbformat_minor": 2
}
