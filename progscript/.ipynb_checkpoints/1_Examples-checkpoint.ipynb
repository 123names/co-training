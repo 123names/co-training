{
 "cells": [
  {
   "cell_type": "code",
   "execution_count": 8,
   "metadata": {
    "ExecuteTime": {
     "end_time": "2019-01-30T16:45:13.752273Z",
     "start_time": "2019-01-30T16:45:12.763713Z"
    }
   },
   "outputs": [
    {
     "name": "stdout",
     "output_type": "stream",
     "text": [
      "training score : 0.974 (ovr)\n"
     ]
    },
    {
     "data": {
      "image/png": "[encoded data removed]",
      "text/plain": [
       "<matplotlib.figure.Figure at 0x7f8135c2c908>"
      ]
     },
     "metadata": {},
     "output_type": "display_data"
    }
   ],
   "source": [
    "import numpy as np\n",
    "import matplotlib.pyplot as plt\n",
    "from sklearn.datasets import make_blobs\n",
    "from sklearn.linear_model import LogisticRegression\n",
    "\n",
    "# make 3-class dataset for classification\n",
    "centers = [[-5, 0], [0, 1.5], [5, -1]]\n",
    "X, y = make_blobs(n_samples=1000, centers=centers, random_state=40)\n",
    "\n",
    "for multi_class in (['ovr']):\n",
    "    clf = LogisticRegression(solver='liblinear', max_iter=100, random_state=42,\n",
    "                             multi_class=multi_class).fit(X, y)\n",
    "\n",
    "    # print the training scores\n",
    "    print(\"training score : %.3f (%s)\" % (clf.score(X, y), multi_class))\n",
    "\n",
    "    # create a mesh to plot in\n",
    "    h = .02  # step size in the mesh\n",
    "    x_min, x_max = X[:, 0].min() - 1, X[:, 0].max() + 1\n",
    "    y_min, y_max = X[:, 1].min() - 1, X[:, 1].max() + 1\n",
    "    xx, yy = np.meshgrid(np.arange(x_min, x_max, h), np.arange(y_min, y_max, h))\n",
    "    print(xx, yy)\n",
    "\n",
    "    # Plot the decision boundary. For that, we will assign a color to each\n",
    "    # point in the mesh [x_min, x_max]x[y_min, y_max].\n",
    "    Z = clf.predict(np.c_[xx.ravel(), yy.ravel()])\n",
    "    # Put the result into a color plot\n",
    "    Z = Z.reshape(xx.shape)\n",
    "    plt.figure()\n",
    "    plt.contourf(xx, yy, Z, cmap=plt.cm.Paired)\n",
    "    plt.title(\"Decision surface of LogisticRegression (%s)\" % multi_class)\n",
    "    plt.axis('tight')\n",
    "\n",
    "    # Plot also the training points\n",
    "    colors = \"bry\"\n",
    "    for i, color in zip(clf.classes_, colors):\n",
    "        idx = np.where(y == i)\n",
    "        plt.scatter(X[idx, 0], X[idx, 1], c=color, cmap=plt.cm.Paired,\n",
    "                    edgecolor='black', s=20)\n",
    "\n",
    "    # Plot the three one-against-all classifiers\n",
    "    xmin, xmax = plt.xlim()\n",
    "    ymin, ymax = plt.ylim()\n",
    "    coef = clf.coef_\n",
    "    intercept = clf.intercept_\n",
    "\n",
    "    def plot_hyperplane(c, color):\n",
    "        def line(x0):\n",
    "            return (-(x0 * coef[c, 0]) - intercept[c]) / coef[c, 1]\n",
    "        plt.plot([xmin, xmax], [line(xmin), line(xmax)],\n",
    "                 ls=\"--\", color=color)\n",
    "\n",
    "    for i, color in zip(clf.classes_, colors):\n",
    "        plot_hyperplane(i, color)\n",
    "\n",
    "plt.show()"
   ]
  },
  {
   "cell_type": "code",
   "execution_count": 3,
   "metadata": {
    "ExecuteTime": {
     "end_time": "2019-01-21T19:28:27.176944Z",
     "start_time": "2019-01-21T19:28:27.128576Z"
    }
   },
   "outputs": [
    {
     "name": "stdout",
     "output_type": "stream",
     "text": [
      "Number of nodes:  100\n",
      "Number of edges:  2531\n",
      "[0, 1, 2, 3, 4]\n",
      "[(0, 4), (0, 8), (0, 11), (0, 12), (0, 14)]\n",
      "[4, 8, 11, 12, 14, 15, 17, 18, 20, 21, 24, 30, 34, 35, 36, 38, 40, 44, 45, 46, 48, 49, 50, 51, 52, 53, 55, 59, 60, 62, 64, 66, 67, 68, 69, 70, 71, 74, 75, 76, 77, 78, 79, 80, 81, 83, 86, 87, 88, 94, 95, 96, 98, 99]\n"
     ]
    }
   ],
   "source": [
    "import networkx as nx\n",
    "# Create a graph\n",
    "G = nx.fast_gnp_random_graph(n=100, p=0.5)\n",
    "print(\"Number of nodes: \", G.number_of_nodes())\n",
    "print(\"Number of edges: \", G.number_of_edges())\n",
    "print(G.nodes()[:5])\n",
    "print(G.edges()[:5])\n",
    "print(G.neighbors(0))"
   ]
  },
  {
   "cell_type": "code",
   "execution_count": 3,
   "metadata": {
    "ExecuteTime": {
     "end_time": "2019-01-20T22:13:09.440920Z",
     "start_time": "2019-01-20T22:13:09.357649Z"
    }
   },
   "outputs": [
    {
     "ename": "TypeError",
     "evalue": "unsupported operand type(s) for -: 'list' and 'list'",
     "output_type": "error",
     "traceback": [
      "\u001b[0;31m---------------------------------------------------------------------------\u001b[0m",
      "\u001b[0;31mTypeError\u001b[0m                                 Traceback (most recent call last)",
      "\u001b[0;32m<ipython-input-3-2148e0c3008b>\u001b[0m in \u001b[0;36m<module>\u001b[0;34m()\u001b[0m\n\u001b[1;32m      2\u001b[0m \u001b[0mthe_list\u001b[0m \u001b[0;34m=\u001b[0m \u001b[0;34m[\u001b[0m\u001b[0;36m1\u001b[0m\u001b[0;34m,\u001b[0m\u001b[0;36m2\u001b[0m\u001b[0;34m,\u001b[0m\u001b[0;36m3\u001b[0m\u001b[0;34m,\u001b[0m\u001b[0;36m4\u001b[0m\u001b[0;34m,\u001b[0m\u001b[0;36m5\u001b[0m\u001b[0;34m,\u001b[0m\u001b[0;36m6\u001b[0m\u001b[0;34m,\u001b[0m\u001b[0;36m7\u001b[0m\u001b[0;34m,\u001b[0m\u001b[0;36m8\u001b[0m\u001b[0;34m,\u001b[0m\u001b[0;36m9\u001b[0m\u001b[0;34m,\u001b[0m\u001b[0;36m10\u001b[0m\u001b[0;34m,\u001b[0m\u001b[0;36m11\u001b[0m\u001b[0;34m,\u001b[0m\u001b[0;36m12\u001b[0m\u001b[0;34m,\u001b[0m\u001b[0;36m15\u001b[0m\u001b[0;34m]\u001b[0m\u001b[0;34m\u001b[0m\u001b[0m\n\u001b[1;32m      3\u001b[0m \u001b[0mtest\u001b[0m \u001b[0;34m=\u001b[0m \u001b[0mrandom\u001b[0m\u001b[0;34m.\u001b[0m\u001b[0msample\u001b[0m\u001b[0;34m(\u001b[0m\u001b[0mthe_list\u001b[0m\u001b[0;34m,\u001b[0m \u001b[0;36m5\u001b[0m\u001b[0;34m)\u001b[0m\u001b[0;34m\u001b[0m\u001b[0m\n\u001b[0;32m----> 4\u001b[0;31m \u001b[0mremain\u001b[0m \u001b[0;34m=\u001b[0m \u001b[0mthe_list\u001b[0m\u001b[0;34m-\u001b[0m\u001b[0mtest\u001b[0m\u001b[0;34m\u001b[0m\u001b[0m\n\u001b[0m\u001b[1;32m      5\u001b[0m \u001b[0mprint\u001b[0m\u001b[0;34m(\u001b[0m\u001b[0mtest\u001b[0m\u001b[0;34m)\u001b[0m\u001b[0;34m\u001b[0m\u001b[0m\n\u001b[1;32m      6\u001b[0m \u001b[0mprint\u001b[0m\u001b[0;34m(\u001b[0m\u001b[0mthe_list\u001b[0m\u001b[0;34m)\u001b[0m\u001b[0;34m\u001b[0m\u001b[0m\n",
      "\u001b[0;31mTypeError\u001b[0m: unsupported operand type(s) for -: 'list' and 'list'"
     ]
    }
   ],
   "source": [
    "import random\n",
    "the_list = [1,2,3,4,5,6,7,8,9,10,11,12,15]\n",
    "test = random.sample(the_list, 5)\n",
    "remain = the_list-test\n",
    "print(test)\n",
    "print(the_list)\n",
    "print(remain)\n"
   ]
  },
  {
   "cell_type": "code",
   "execution_count": null,
   "metadata": {
    "ExecuteTime": {
     "end_time": "2018-12-21T01:09:20.240959Z",
     "start_time": "2018-12-21T01:09:20.227344Z"
    },
    "collapsed": true
   },
   "outputs": [],
   "source": [
    "import pickle\n",
    "import os\n",
    "def dummy(doc):\n",
    "    return doc\n",
    "Dataset = \"pubmed\""
   ]
  },
  {
   "cell_type": "code",
   "execution_count": null,
   "metadata": {
    "ExecuteTime": {
     "end_time": "2018-12-21T01:09:21.645751Z",
     "start_time": "2018-12-21T01:09:20.976019Z"
    },
    "collapsed": true
   },
   "outputs": [],
   "source": [
    "modelSaveDir = \"../Data/\"+Dataset+\"/models/tf/textual_sample=140k/\"\n",
    "with open(modelSaveDir+'tf_features.pickle', \"rb\") as input_file:\n",
    "    vec = pickle.load(input_file)\n",
    "with open(modelSaveDir+'feature_pid.pickle', \"rb\") as input_file:\n",
    "    allPaperid = pickle.load(input_file)\n",
    "print(vec.shape)\n",
    "print(len(allPaperid))"
   ]
  },
  {
   "cell_type": "code",
   "execution_count": null,
   "metadata": {
    "ExecuteTime": {
     "end_time": "2018-12-21T01:35:17.524061Z",
     "start_time": "2018-12-21T01:35:17.511740Z"
    },
    "collapsed": true
   },
   "outputs": [],
   "source": [
    "print(vec[0].nonzero())"
   ]
  },
  {
   "cell_type": "code",
   "execution_count": null,
   "metadata": {
    "ExecuteTime": {
     "end_time": "2018-12-20T04:13:57.893207Z",
     "start_time": "2018-12-20T04:13:57.884952Z"
    },
    "collapsed": true
   },
   "outputs": [],
   "source": [
    "print(dir(vec))"
   ]
  },
  {
   "cell_type": "code",
   "execution_count": null,
   "metadata": {
    "ExecuteTime": {
     "end_time": "2018-12-20T03:49:14.380549Z",
     "start_time": "2018-12-20T03:49:14.280584Z"
    },
    "collapsed": true
   },
   "outputs": [],
   "source": [
    "import numpy as np\n",
    "allPaperid = np.asarray(allPaperid)\n",
    "result = textual_emb = np.column_stack([allPaperid, vec])\n",
    "print(result.shape)"
   ]
  },
  {
   "cell_type": "code",
   "execution_count": null,
   "metadata": {
    "ExecuteTime": {
     "end_time": "2018-12-20T03:41:30.220476Z",
     "start_time": "2018-12-20T03:41:30.210988Z"
    },
    "collapsed": true
   },
   "outputs": [],
   "source": [
    "print(result[0])"
   ]
  },
  {
   "cell_type": "code",
   "execution_count": null,
   "metadata": {
    "ExecuteTime": {
     "end_time": "2018-12-21T01:30:18.477600Z",
     "start_time": "2018-12-21T01:30:17.030451Z"
    },
    "collapsed": true
   },
   "outputs": [],
   "source": [
    "import com_func\n",
    "# examples\n",
    "collection = []\n",
    "sentences = ['this is a the First sentence for first    .',\" \",\"51152123asdfasd\",\n",
    "             'and the final sentencesssssssssssssssddddddddddddddddddddddddsssssssssssssssssssssssss!'\n",
    "            , \"cross-protection$$hemagglutination \"]\n",
    "counter = 5\n",
    "for line in sentences:\n",
    "    newPaper = {\"cleaned_content\":com_func.clean_line_of_raw(line, stopword = False, word_min_length=2)}\n",
    "    collection.append(newPaper)\n",
    "    counter+=1\n",
    "print(collection)\n",
    "allContent = [paper[\"cleaned_content\"]for paper in collection]\n",
    "\n",
    "# test = model.transform(allContent)\n",
    "# print(test.shape)"
   ]
  },
  {
   "cell_type": "code",
   "execution_count": null,
   "metadata": {
    "ExecuteTime": {
     "end_time": "2018-12-21T01:30:50.822714Z",
     "start_time": "2018-12-21T01:30:50.757371Z"
    },
    "collapsed": true
   },
   "outputs": [],
   "source": [
    "# calculate tf-idf\n",
    "from sklearn.feature_extraction.text import TfidfVectorizer\n",
    "# tf = sublinear tf, 1+log(tf) if tf >0, or 0. idf = (log(1+N)/df(t,d,C)) + 1\n",
    "# df(d,t,C) means number of document d contain term t in collection C\n",
    "# Each row is normalized to have unit Euclidean norm \n",
    "# reference to http://scikit-learn.org/stable/modules/feature_extraction.html#text-feature-extraction\n",
    "tfidf_vectorizer = TfidfVectorizer(use_idf=False, smooth_idf=False, sublinear_tf=True, norm=\"l2\", min_df=0,\n",
    "                                   analyzer='word', tokenizer=dummy,preprocessor=dummy, stop_words = None)\n",
    "allContent = [paper[\"cleaned_content\"]for paper in collection]\n",
    "print(allContent)\n",
    "tfidf_matrix = tfidf_vectorizer.fit_transform(allContent)\n",
    "testpid = [3,1,4,2]\n",
    "print(testpid)\n",
    "print(len(tfidf_vectorizer.vocabulary_))\n",
    "print(tfidf_vectorizer.get_feature_names())\n",
    "print(tfidf_matrix.shape)\n",
    "print(tfidf_matrix)\n",
    "print(tfidf_matrix.toarray())"
   ]
  },
  {
   "cell_type": "code",
   "execution_count": null,
   "metadata": {
    "ExecuteTime": {
     "end_time": "2018-12-19T21:01:36.810097Z",
     "start_time": "2018-12-19T21:01:36.802079Z"
    },
    "collapsed": true
   },
   "outputs": [],
   "source": [
    "print(dir(tfidfresult))"
   ]
  },
  {
   "cell_type": "code",
   "execution_count": null,
   "metadata": {
    "ExecuteTime": {
     "end_time": "2018-12-19T14:53:31.077580Z",
     "start_time": "2018-12-19T14:53:30.086025Z"
    },
    "collapsed": true
   },
   "outputs": [],
   "source": [
    "from sklearn.decomposition import TruncatedSVD\n",
    "svd = TruncatedSVD(n_components=100)\n",
    "final_lsa_Matrix = svd.fit_transform(test)\n",
    "print(test.shape)"
   ]
  },
  {
   "cell_type": "code",
   "execution_count": null,
   "metadata": {
    "ExecuteTime": {
     "end_time": "2018-12-19T14:53:31.822430Z",
     "start_time": "2018-12-19T14:53:31.811067Z"
    },
    "collapsed": true
   },
   "outputs": [],
   "source": [
    "print(final_lsa_Matrix)\n",
    "print(svd.explained_variance_ratio_.sum())"
   ]
  },
  {
   "cell_type": "code",
   "execution_count": null,
   "metadata": {
    "ExecuteTime": {
     "end_time": "2018-12-17T23:21:25.486914Z",
     "start_time": "2018-12-17T23:21:25.471011Z"
    },
    "code_folding": [],
    "collapsed": true
   },
   "outputs": [],
   "source": [
    "import numpy as np\n",
    "def remove_zero_feature(Xtr, min_tfidf=0.04):\n",
    "    D = Xtr.toarray() # convert to dense if you want\n",
    "    tfidf_means = np.mean(D, axis=0) # find features that are 0 in all documents\n",
    "    D = np.delete(D, np.where(tfidf_means == 0)[0], axis=1) # delete them from the matrix\n",
    "    return D"
   ]
  },
  {
   "cell_type": "code",
   "execution_count": null,
   "metadata": {
    "ExecuteTime": {
     "end_time": "2018-12-17T23:21:26.190960Z",
     "start_time": "2018-12-17T23:21:26.162422Z"
    },
    "collapsed": true
   },
   "outputs": [],
   "source": [
    "test2 = remove_zero_feature(test)\n",
    "print(test2.shape)"
   ]
  },
  {
   "cell_type": "code",
   "execution_count": null,
   "metadata": {
    "ExecuteTime": {
     "end_time": "2018-11-20T20:34:39.314709Z",
     "start_time": "2018-11-20T20:34:39.283264Z"
    },
    "collapsed": true
   },
   "outputs": [],
   "source": [
    "import com_func\n",
    "# examples\n",
    "collection = []\n",
    "sentences = ['this is a the First sentence for first    .',\" \",\"51152123asdfasd\",\n",
    "             'and the final sentencesssssssssssssssddddddddddddddddddddddddsssssssssssssssssssssssss!']\n",
    "collection, rowSize = com_func.clean_batch_of_raw(sentences, stopword = False, word_min_length=2)\n",
    "print(collection)\n",
    "print(rowSize)"
   ]
  },
  {
   "cell_type": "code",
   "execution_count": null,
   "metadata": {
    "ExecuteTime": {
     "end_time": "2018-12-19T20:34:03.785676Z",
     "start_time": "2018-12-19T20:34:03.661349Z"
    },
    "collapsed": true
   },
   "outputs": [],
   "source": [
    "from gensim import corpora\n",
    "import pickle\n",
    "modelSaveDir = \"../Data/\"+Dataset+\"/models/count/textual_sample=140k/\"\n",
    "embedding = corpora.MmCorpus(os.path.join(modelSaveDir, 'tf_vector.mm'))\n",
    "with open(modelSaveDir+'emb_pid.pickle', \"rb\") as input_file:\n",
    "    index = pickle.load(input_file)\n",
    "\n",
    "print(len(index))\n",
    "print(len(embedding))"
   ]
  },
  {
   "cell_type": "code",
   "execution_count": null,
   "metadata": {
    "ExecuteTime": {
     "end_time": "2018-12-17T21:26:20.422147Z",
     "start_time": "2018-12-17T21:26:19.671049Z"
    },
    "collapsed": true
   },
   "outputs": [],
   "source": [
    "import com_func\n",
    "# examples\n",
    "collection = []\n",
    "sentences = ['this is a the First sentence for first    .',\" \",\"51152123asdfasd\",\n",
    "             'and the final sentencesssssssssssssssddddddddddddddddddddddddsssssssssssssssssssssssss!'\n",
    "            , \"cross-protection$$hemagglutination \"]\n",
    "counter = 5\n",
    "for line in sentences:\n",
    "    newPaper = {\"cleaned_content\":com_func.clean_line_of_raw(line, stopword = False, word_min_length=2)}\n",
    "    collection.append(newPaper)\n",
    "    counter+=1\n",
    "print(collection)"
   ]
  },
  {
   "cell_type": "code",
   "execution_count": null,
   "metadata": {
    "ExecuteTime": {
     "end_time": "2018-12-17T21:26:20.946213Z",
     "start_time": "2018-12-17T21:26:20.915583Z"
    },
    "collapsed": true
   },
   "outputs": [],
   "source": [
    "collection[0].items()"
   ]
  },
  {
   "cell_type": "code",
   "execution_count": null,
   "metadata": {
    "ExecuteTime": {
     "end_time": "2018-12-19T21:42:03.062521Z",
     "start_time": "2018-12-19T21:42:03.019669Z"
    },
    "collapsed": true
   },
   "outputs": [],
   "source": [
    "# convert raw text to numerical feature vectors\n",
    "# unigram are used\n",
    "import gensim\n",
    "from gensim import corpora\n",
    "dictionary = corpora.Dictionary(allContent)\n",
    "corpus = [dictionary.doc2bow(text) for text in allContent]\n",
    "print(corpus)\n",
    "doc_emb = gensim.matutils.corpus2csc(corpus)\n",
    "print(doc_emb.T.toarray())\n",
    "tf = gensim.models.TfidfModel(corpus, smartirs=\"lnn\")\n",
    "tfidfresult = tf[corpus]\n",
    "tfidf_emb = gensim.matutils.corpus2csc(tfidfresult)\n",
    "print(tfidf_emb.T.toarray())"
   ]
  },
  {
   "cell_type": "code",
   "execution_count": null,
   "metadata": {
    "ExecuteTime": {
     "end_time": "2018-12-17T21:27:46.071677Z",
     "start_time": "2018-12-17T21:27:46.016132Z"
    },
    "collapsed": true
   },
   "outputs": [],
   "source": [
    "# convert raw text to numerical feature vectors\n",
    "# bow(Bags of words) are used\n",
    "import numpy as np\n",
    "from sklearn.feature_extraction.text import CountVectorizer\n",
    "count_vect = CountVectorizer(min_df = 0,analyzer='word', tokenizer=dummy,preprocessor=dummy, stop_words = None)\n",
    "# train a dictionary to build a frquence counter\n",
    "allContent = [paper[\"cleaned_content\"]for paper in collection]\n",
    "print(allContent)\n",
    "count_matrix = count_vect.fit_transform(allContent)\n",
    "print(len(count_vect.vocabulary_))\n",
    "print(count_vect.get_feature_names())\n",
    "print(count_matrix.toarray())\n",
    "print(count_matrix.shape)\n",
    "test = count_vect.fit_transform(allContent).todense()\n",
    "print(test)"
   ]
  },
  {
   "cell_type": "code",
   "execution_count": null,
   "metadata": {
    "ExecuteTime": {
     "end_time": "2018-11-30T23:34:51.384399Z",
     "start_time": "2018-11-30T23:34:51.373605Z"
    },
    "collapsed": true
   },
   "outputs": [],
   "source": [
    "from sklearn.preprocessing import StandardScaler\n",
    "scaler = StandardScaler()\n",
    "result = scaler.fit_transform(count_matrix.toarray())\n",
    "print(scaler.mean_)\n",
    "print(scaler.var_ )\n",
    "print(result)"
   ]
  },
  {
   "cell_type": "code",
   "execution_count": null,
   "metadata": {
    "ExecuteTime": {
     "end_time": "2018-11-20T03:56:52.859612Z",
     "start_time": "2018-11-20T03:56:52.848019Z"
    },
    "collapsed": true
   },
   "outputs": [],
   "source": [
    "# test save model\n",
    "import pickle\n",
    "\n",
    "pickle.dump(count_vect, open(\"../tests/CountVectorizer.pickle\", \"wb\"))\n",
    "pickle.dump(count_matrix, open(\"../tests/trained_features.pickle\", \"wb\"))"
   ]
  },
  {
   "cell_type": "code",
   "execution_count": null,
   "metadata": {
    "ExecuteTime": {
     "end_time": "2018-12-09T22:09:28.225665Z",
     "start_time": "2018-12-09T22:09:28.196542Z"
    },
    "collapsed": true
   },
   "outputs": [],
   "source": [
    "# calculate tf-idf\n",
    "from sklearn.feature_extraction.text import TfidfVectorizer\n",
    "# tf = sublinear tf, 1+log(tf) if tf >0, or 0. idf = (log(1+N)/df(t,d,C)) + 1\n",
    "# df(d,t,C) means number of document d contain term t in collection C\n",
    "# Each row is normalized to have unit Euclidean norm \n",
    "# reference to http://scikit-learn.org/stable/modules/feature_extraction.html#text-feature-extraction\n",
    "tfidf_vectorizer = TfidfVectorizer(use_idf=True, smooth_idf=True, sublinear_tf=True, norm=None, min_df=0,\n",
    "                                   analyzer='word', tokenizer=dummy,preprocessor=dummy, stop_words = None)\n",
    "allContent = [paper[\"cleaned_content\"]for paper in collection]\n",
    "print(allContent)\n",
    "tfidf_matrix = tfidf_vectorizer.fit_transform(allContent)\n",
    "testpid = [3,1,4,2]\n",
    "print(testpid)\n",
    "print(len(tfidf_vectorizer.vocabulary_))\n",
    "print(tfidf_vectorizer.get_feature_names())\n",
    "print(tfidf_matrix.shape)\n",
    "print(tfidf_matrix)\n",
    "print(tfidf_matrix.toarray())"
   ]
  },
  {
   "cell_type": "code",
   "execution_count": null,
   "metadata": {
    "ExecuteTime": {
     "end_time": "2018-11-20T04:18:52.904228Z",
     "start_time": "2018-11-20T04:18:52.897752Z"
    },
    "collapsed": true
   },
   "outputs": [],
   "source": [
    "# test save model\n",
    "\n",
    "pickle.dump(tfidf_vectorizer, open(\"../tests/tfidf.pickle\", \"wb\"))\n",
    "pickle.dump(tfidf_matrix, open(\"../tests/trained_features.pickle\", \"wb\"))\n",
    "pickle.dump(testpid, open(\"../tests/index.pickle\", \"wb\"))"
   ]
  },
  {
   "cell_type": "code",
   "execution_count": null,
   "metadata": {
    "ExecuteTime": {
     "end_time": "2018-11-28T04:31:20.682659Z",
     "start_time": "2018-11-28T04:31:20.446987Z"
    },
    "collapsed": true
   },
   "outputs": [],
   "source": [
    "from sklearn.feature_extraction.text import TfidfVectorizer\n",
    "from sklearn.decomposition import TruncatedSVD\n",
    "# using tf-idf + SVD as LSA\n",
    "tfidf_vectorizer = TfidfVectorizer(use_idf=True, smooth_idf=True, sublinear_tf=True, norm=None, min_df=0,\n",
    "                                   analyzer='word', tokenizer=dummy,preprocessor=dummy, stop_words = None)\n",
    "allContent = [paper[\"cleaned_content\"]for paper in collection]\n",
    "print(allContent)\n",
    "tfidf_matrix = tfidf_vectorizer.fit_transform(allContent)\n",
    "testpid = [3,1,4,2]\n",
    "print(testpid)\n",
    "print(len(tfidf_vectorizer.vocabulary_))\n",
    "print(tfidf_vectorizer.get_feature_names())\n",
    "print(tfidf_matrix.shape)\n",
    "print(tfidf_matrix.toarray())\n",
    "# For LSA, a dim of 100 is recommended.\n",
    "svd = TruncatedSVD(n_components=5, random_state=42)\n",
    "lsa_d5_emb = svd.fit_transform(tfidf_matrix)\n",
    "print(lsa_d5_emb)\n",
    "print(svd.explained_variance_ratio_)\n",
    "print(svd.explained_variance_ratio_.sum())\n",
    "print(svd.singular_values_)"
   ]
  },
  {
   "cell_type": "code",
   "execution_count": null,
   "metadata": {
    "ExecuteTime": {
     "end_time": "2018-11-28T04:17:25.096288Z",
     "start_time": "2018-11-28T04:17:25.016141Z"
    },
    "collapsed": true
   },
   "outputs": [],
   "source": [
    "from sklearn.datasets import make_multilabel_classification\n",
    "X, _ = make_multilabel_classification(random_state=0)\n",
    "print(X)\n",
    "print(X.shape)"
   ]
  },
  {
   "cell_type": "code",
   "execution_count": null,
   "metadata": {
    "ExecuteTime": {
     "end_time": "2018-11-28T04:00:37.830413Z",
     "start_time": "2018-11-28T04:00:37.752220Z"
    },
    "collapsed": true
   },
   "outputs": [],
   "source": [
    "# train LDA\n",
    "from sklearn.decomposition import LatentDirichletAllocation\n",
    "import numpy as np\n",
    "from sklearn.feature_extraction.text import CountVectorizer\n",
    "count_vect = CountVectorizer(min_df = 0,analyzer='word', tokenizer=dummy,preprocessor=dummy, stop_words = None)\n",
    "# train a dictionary to build a frquence counter\n",
    "allContent = [paper[\"cleaned_content\"]for paper in collection]\n",
    "print(allContent)\n",
    "count_matrix = count_vect.fit_transform(allContent)\n",
    "print(len(count_vect.vocabulary_))\n",
    "print(count_vect.get_feature_names())\n",
    "print(count_matrix.toarray())\n",
    "print(count_matrix.shape)\n",
    "lda = LatentDirichletAllocation(n_components=5, random_state=0)\n",
    "lda_d5_emb = lda.fit_transform(count_matrix.toarray())\n",
    "print(lda_d5_emb)"
   ]
  },
  {
   "cell_type": "code",
   "execution_count": null,
   "metadata": {
    "ExecuteTime": {
     "end_time": "2018-12-17T01:40:18.819959Z",
     "start_time": "2018-12-17T01:40:18.804124Z"
    },
    "collapsed": true
   },
   "outputs": [],
   "source": [
    "# test load model\n",
    "loadDir = \"../Data/\"+Dataset+\"/models/LSA/textual/\"\n",
    "with open(loadDir+'lsa_d100_emb.pickle', \"rb\") as input_file:\n",
    "    emb = pickle.load(input_file)\n",
    "with open(loadDir+'feature_pid.pickle', \"rb\") as input_file:\n",
    "    pid = pickle.load(input_file)\n",
    "print(emb.shape)\n",
    "print(len(pid))"
   ]
  },
  {
   "cell_type": "code",
   "execution_count": null,
   "metadata": {
    "ExecuteTime": {
     "end_time": "2018-12-17T01:40:35.415325Z",
     "start_time": "2018-12-17T01:40:35.381324Z"
    },
    "collapsed": true
   },
   "outputs": [],
   "source": [
    "# test load model\n",
    "loadDir = '../tests/'\n",
    "with open(loadDir+'tfidf.pickle', \"rb\") as input_file:\n",
    "    test = pickle.load(input_file)\n",
    "with open(loadDir+'train_comment_features.pickle', \"rb\") as input_file:\n",
    "    vec = pickle.load(input_file)\n",
    "print(len(test.vocabulary_))\n",
    "print(test.get_feature_names())\n",
    "print(vec.toarray())\n",
    "print(vec.shape)"
   ]
  },
  {
   "cell_type": "code",
   "execution_count": null,
   "metadata": {
    "ExecuteTime": {
     "end_time": "2018-12-17T01:54:03.990661Z",
     "start_time": "2018-12-17T01:54:03.968456Z"
    },
    "collapsed": true
   },
   "outputs": [],
   "source": [
    "# test load model\n",
    "loadDir = '../tests/'\n",
    "with open(loadDir+'tfidf.pickle', \"rb\") as input_file:\n",
    "    test = pickle.load(input_file)\n",
    "with open(loadDir+'trained_features.pickle', \"rb\") as input_file:\n",
    "    vec = pickle.load(input_file)\n",
    "with open(loadDir+'index.pickle', \"rb\") as input_file:\n",
    "    index = pickle.load(input_file)\n",
    "print(index)\n",
    "print(len(test.vocabulary_))\n",
    "print(test.get_feature_names())\n",
    "print(vec.toarray())\n",
    "print(vec.shape)"
   ]
  },
  {
   "cell_type": "code",
   "execution_count": null,
   "metadata": {
    "ExecuteTime": {
     "end_time": "2018-12-18T04:34:19.252056Z",
     "start_time": "2018-12-18T04:34:19.201604Z"
    },
    "collapsed": true
   },
   "outputs": [],
   "source": [
    "import gensim\n",
    "from gensim.models.doc2vec import TaggedDocument\n",
    "# examples\n",
    "documents = []\n",
    "sentences = [['this', 'is', 'the', 'first', 'sentence', 'for', 'doc2vec'],\n",
    "             ['this', 'is', 'the', 'second', 'sentence'],\n",
    "             ['yet', 'another', 'sentence'],\n",
    "             ['one', 'more', 'sentence'],\n",
    "             ['one', 'more', 'sentence'],\n",
    "             ['one', 'more', 'sentence'],\n",
    "             ['one', 'more', 'sentence'],\n",
    "             ['one', 'more', 'sentence'],\n",
    "             ['and', 'the', 'final', 'sentence']]\n",
    "counter = 0;\n",
    "for line in sentences:\n",
    "    documents.append(TaggedDocument(line, [str(counter)]))\n",
    "    counter+=1;\n",
    "print(documents)"
   ]
  },
  {
   "cell_type": "code",
   "execution_count": null,
   "metadata": {
    "ExecuteTime": {
     "end_time": "2018-12-18T04:40:16.635707Z",
     "start_time": "2018-12-18T04:40:16.320539Z"
    },
    "collapsed": true
   },
   "outputs": [],
   "source": [
    "import multiprocessing\n",
    "# numpy\n",
    "import numpy as np\n",
    "import os\n",
    "\n",
    "# save the model\n",
    "def train_and_save_d2v_model(document):\n",
    "    cores = multiprocessing.cpu_count()\n",
    "    newfileDir = '../tests/'\n",
    "    if not os.path.exists(newfileDir):\n",
    "        os.makedirs(newfileDir)\n",
    "    # train model\n",
    "    # size is dimension of vector return, dm defines training algorithm, when dm = 1 is distributed memory (PV-DM),\n",
    "    # pv-dm is better than pv-dbow\n",
    "    # when dm = 0 is distributed bag of words (PV-DBOW), \n",
    "    # sample is threshold for configuring which higher-frequency words are randomly downsampled, \n",
    "    # min_count is ignore threshold (Ignores all words with total frequency lower than min_count)\n",
    "    model = gensim.models.Doc2Vec(dm=1,vector_size=100,negative=5, window=5, min_count=5, sample=1e-3, workers=cores)\n",
    "    model.build_vocab(documents)\n",
    "    #print(dir(model))\n",
    "    modelname = model.__str__()\n",
    "    print(modelname)\n",
    "    print(model.wv.vocab)\n",
    "    # shuffle doc\n",
    "    np.random.shuffle(documents)\n",
    "    print(documents)\n",
    "    for epoch in range(50):\n",
    "        print('Epoch %d' % epoch)\n",
    "        model.train(documents)\n",
    "    print(dir(model))\n",
    "    # save model\n",
    "#     print(\"Saving model\")\n",
    "#     model.save(newfileDir+\"/model\")\n",
    "#     print(\"Done\")\n",
    "#     model.delete_temporary_training_data(keep_doctags_vectors=True, keep_inference=True)\n",
    "    \n",
    "train_and_save_d2v_model(documents)"
   ]
  },
  {
   "cell_type": "code",
   "execution_count": null,
   "metadata": {
    "ExecuteTime": {
     "end_time": "2018-12-08T03:19:16.891921Z",
     "start_time": "2018-12-08T03:19:16.876743Z"
    },
    "collapsed": true
   },
   "outputs": [],
   "source": [
    "import com_func\n",
    "# examples\n",
    "collection = []\n",
    "sentences = [\"schizophrenia and childhood adversity\", \"schizophrenia, drug companies and the internet\"]\n",
    "counter = 5\n",
    "for line in sentences:\n",
    "    newPaper = {\"cleaned_content\":com_func.clean_line_of_raw(line, stopword = False, word_min_length=2)}\n",
    "    collection.append(newPaper)\n",
    "    counter+=1\n",
    "print(collection)"
   ]
  },
  {
   "cell_type": "code",
   "execution_count": null,
   "metadata": {
    "ExecuteTime": {
     "end_time": "2018-12-08T03:27:24.323125Z",
     "start_time": "2018-12-08T03:27:24.282419Z"
    },
    "collapsed": true
   },
   "outputs": [],
   "source": [
    "from sklearn.feature_extraction.text import TfidfVectorizer\n",
    "tfidf_vectorizer = TfidfVectorizer(use_idf=True, sublinear_tf=True, norm=None, min_df=0,\n",
    "                                   analyzer='word', tokenizer=dummy,preprocessor=dummy, stop_words = None)\n",
    "allContent = [paper[\"cleaned_content\"]for paper in collection]\n",
    "print(allContent)\n",
    "tfidf_matrix = tfidf_vectorizer.fit_transform(allContent)\n",
    "print(len(tfidf_vectorizer.vocabulary_))\n",
    "print(tfidf_vectorizer.get_feature_names())\n",
    "print(tfidf_matrix.shape)\n",
    "print(tfidf_matrix)\n",
    "print(tfidf_matrix.toarray())"
   ]
  },
  {
   "cell_type": "code",
   "execution_count": null,
   "metadata": {
    "collapsed": true
   },
   "outputs": [],
   "source": [
    "import matplotlib.pyplot as plt\n",
    "from yellowbrick.text import FreqDistVisualizer\n",
    "from sklearn.feature_extraction.text import CountVectorizer\n",
    "axes = plt.gca()\n",
    "def dummy(doc):\n",
    "    return doc\n",
    "import numpy as np\n",
    "vectorizer = CountVectorizer(min_df = 0, analyzer='word', tokenizer=dummy,preprocessor=dummy)\n",
    "allContent = [paper[\"cleaned_content\"] for paper in documents]\n",
    "count_matrix = vectorizer.fit_transform(allContent)\n",
    "features = vectorizer.get_feature_names()\n",
    "visualizer = FreqDistVisualizer(features=features, n=30, orient=\"v\")\n",
    "visualizer.fit(count_matrix)\n",
    "visualizer.set_title(\"Frequency distribution before data preprocessing\")\n",
    "visualizer.poof(outpath=\"token_freq_dist_before_preprocess.png\", dpi=300)"
   ]
  },
  {
   "cell_type": "code",
   "execution_count": 27,
   "metadata": {
    "ExecuteTime": {
     "end_time": "2019-01-10T16:23:41.057262Z",
     "start_time": "2019-01-10T16:23:34.619834Z"
    }
   },
   "outputs": [
    {
     "name": "stdout",
     "output_type": "stream",
     "text": [
      "WARNING: already exists! Do you want to overwrite <y/n>? \n",
      " 6\n",
      "6\n"
     ]
    }
   ],
   "source": [
    "from multiprocessing.pool import ThreadPool, TimeoutError\n",
    "\n",
    "def process_input(prompt,answer):\n",
    "    s = input(prompt)\n",
    "    return s\n",
    "\n",
    "threadp = ThreadPool(processes=1)\n",
    "answer = \"test\"\n",
    "prompt = \"WARNING: already exists! Do you want to overwrite <y/n>? \\n \"\n",
    "try:\n",
    "    answer = threadp.apply_async(process_input, args=(prompt, answer)).get(timeout=10)\n",
    "except TimeoutError: \n",
    "    print(\"no input found\")\n",
    "print(answer)\n",
    "    "
   ]
  },
  {
   "cell_type": "code",
   "execution_count": 3,
   "metadata": {
    "ExecuteTime": {
     "end_time": "2019-01-17T04:21:36.349026Z",
     "start_time": "2019-01-17T04:21:36.294758Z"
    }
   },
   "outputs": [
    {
     "name": "stdout",
     "output_type": "stream",
     "text": [
      "[[0.878 0.122 0.   ]\n",
      " [0.797 0.203 0.   ]\n",
      " [0.852 0.148 0.   ]]\n",
      "[[0.    0.146 0.853]\n",
      " [0.001 0.293 0.706]\n",
      " [0.    0.33  0.669]]\n",
      "[[0.    0.009 0.   ]\n",
      " [0.    0.03  0.   ]\n",
      " [0.    0.024 0.   ]]\n"
     ]
    },
    {
     "name": "stderr",
     "output_type": "stream",
     "text": [
      "/home/gao137/intel/intelpython3/lib/python3.6/site-packages/sklearn/linear_model/logistic.py:433: FutureWarning: Default solver will be changed to 'lbfgs' in 0.22. Specify a solver to silence this warning.\n",
      "  FutureWarning)\n"
     ]
    }
   ],
   "source": [
    "import numpy as np\n",
    "from sklearn.datasets import load_iris\n",
    "from sklearn.linear_model import LogisticRegression\n",
    "X, y = load_iris(return_X_y=True)\n",
    "clf = LogisticRegression(random_state=0,multi_class='ovr').fit(X, y)\n",
    "test1 = clf.predict_proba(X[0:3]) \n",
    "test2 = clf.predict_proba(X[100:103])\n",
    "\n",
    "np.set_printoptions(precision=3, suppress=True)\n",
    "print(test1)\n",
    "print(test2)\n",
    "\n",
    "print(test1*test2/2)"
   ]
  },
  {
   "cell_type": "code",
   "execution_count": null,
   "metadata": {
    "collapsed": true
   },
   "outputs": [],
   "source": []
  }
 ],
 "metadata": {
  "kernelspec": {
   "display_name": "Python 3",
   "language": "python",
   "name": "python3"
  },
  "language_info": {
   "codemirror_mode": {
    "name": "ipython",
    "version": 3
   },
   "file_extension": ".py",
   "mimetype": "text/x-python",
   "name": "python",
   "nbconvert_exporter": "python",
   "pygments_lexer": "ipython3",
   "version": "3.6.3"
  }
 },
 "nbformat": 4,
 "nbformat_minor": 2
}
