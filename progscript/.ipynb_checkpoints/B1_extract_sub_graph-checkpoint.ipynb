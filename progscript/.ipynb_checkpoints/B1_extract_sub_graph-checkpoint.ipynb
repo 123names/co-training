{
 "cells": [
  {
   "cell_type": "markdown",
   "metadata": {},
   "source": [
    "# Extract sub graph of citation\n",
    "\n",
    "Orginal citation graph is too large can't load into memory\n",
    "1. Extract only useful data (3m papers) (Still too large) \n",
    "2. Extract only labeled data (140k papers)"
   ]
  },
  {
   "cell_type": "code",
   "execution_count": 3,
   "metadata": {
    "ExecuteTime": {
     "end_time": "2019-04-08T02:54:05.916182Z",
     "start_time": "2019-04-08T02:54:03.108704Z"
    }
   },
   "outputs": [
    {
     "name": "stdout",
     "output_type": "stream",
     "text": [
      "140266\n",
      "['27406695', '26876744', '26978780', '26794258', '26628514']\n"
     ]
    }
   ],
   "source": [
    "# ---------------- number of record for labeled data ------------------ #\n",
    "import os\n",
    "\n",
    "Dataset = \"pubmed\"\n",
    "\n",
    "fileDir = \"Data/pubmed/canopies_labeled/\"\n",
    "listfiles = os.listdir(fileDir)\n",
    "LabeledRecords_pid = []\n",
    "\n",
    "for file in listfiles:\n",
    "    if not file.startswith('.'):\n",
    "        with open(fileDir+file, 'r', encoding = 'utf8') as f:\n",
    "            for line in f:\n",
    "                read_data = line.split(\"\\t\")\n",
    "                if(len(read_data)==13 or len(read_data)==12):\n",
    "                    LabeledRecords_pid.append(read_data[0])\n",
    "                else:\n",
    "                    print(len(read_data))\n",
    "        f.close()\n",
    "print(len(LabeledRecords_pid))\n",
    "print(LabeledRecords_pid[:5])"
   ]
  },
  {
   "cell_type": "code",
   "execution_count": 2,
   "metadata": {
    "ExecuteTime": {
     "end_time": "2019-04-08T01:31:23.926230Z",
     "start_time": "2019-04-08T01:31:18.270276Z"
    }
   },
   "outputs": [
    {
     "name": "stdout",
     "output_type": "stream",
     "text": [
      "3151504\n",
      "['27406695', '26876744', '26978780', '26794258', '26628514']\n"
     ]
    }
   ],
   "source": [
    "# ------------------ number of record for all data -------------- #\n",
    "paperIDs = []\n",
    "# read in paper ID\n",
    "with open(\"Data/\"+Dataset+\"/pids.txt\", 'r', encoding = 'utf8') as infile:\n",
    "    for line in infile:\n",
    "        paperIDs.append(line.strip('\\n'))\n",
    "print(len(paperIDs))\n",
    "print(paperIDs[:5])"
   ]
  },
  {
   "cell_type": "code",
   "execution_count": 4,
   "metadata": {
    "ExecuteTime": {
     "end_time": "2019-04-08T03:09:02.762473Z",
     "start_time": "2019-04-08T02:54:10.240612Z"
    }
   },
   "outputs": [
    {
     "name": "stdout",
     "output_type": "stream",
     "text": [
      "Done load all citations\n"
     ]
    }
   ],
   "source": [
    "citations = []\n",
    "with open(\"Data/\"+Dataset+\"/allAdditional/16May-citation.txt\", 'r', encoding = 'utf8') as infile:\n",
    "    for line in infile:\n",
    "        citations.append(line)\n",
    "print(\"Done load all citations\")"
   ]
  },
  {
   "cell_type": "code",
   "execution_count": 5,
   "metadata": {
    "ExecuteTime": {
     "end_time": "2019-04-08T02:09:57.996993Z",
     "start_time": "2019-04-08T01:53:41.007695Z"
    },
    "collapsed": true
   },
   "outputs": [],
   "source": [
    "# check number of unique papers in all citation links\n",
    "paperSet = set()\n",
    "for line in citations:\n",
    "    id_list = line.split(\"\\t\")\n",
    "    if(len(id_list)==2):\n",
    "        paperSet.add(id_list[0])\n",
    "        paperSet.add(id_list[1])"
   ]
  },
  {
   "cell_type": "code",
   "execution_count": 6,
   "metadata": {
    "ExecuteTime": {
     "end_time": "2019-04-08T02:09:58.007472Z",
     "start_time": "2019-04-08T02:09:57.999840Z"
    }
   },
   "outputs": [
    {
     "name": "stdout",
     "output_type": "stream",
     "text": [
      "Total citation links:  502248898\n",
      "Total papers in citation links:  69136460\n",
      "['8587804\\t10.1017/s1742758400012674\\n', '10.1017/s0041977x1100084x\\t10.1364/josa.46.000628\\n', '10.1353/wp.2001.0006\\t7674027\\n', '10.1017/s0041977x1100084x\\t10.1515/zava.1898.13.1.111\\n', '8587804\\t10.1017/s0007485300049415\\n', '10.1017/s1365100505040204\\t10.1093/oxfordjournals.oep.a041948\\n', '10.1017/s0140525x00031769\\t10.1037/0096-1523.7.2.356\\n', '8587804\\t10.1177/0040571x7207500312\\n', '10.1017/s0140525x00031769\\t10.3758/bf03335168\\n', '10.1353/wp.2001.0006\\t10.1111/j.1747-7093.1992.tb00545.x\\n']\n"
     ]
    }
   ],
   "source": [
    "print(\"Total citation links: \",len(citations))\n",
    "print(\"Total papers in citation links: \", len(paperSet))\n",
    "print(citations[-10:])"
   ]
  },
  {
   "cell_type": "markdown",
   "metadata": {},
   "source": [
    "# Here we extract subgraph for all papers in canopy"
   ]
  },
  {
   "cell_type": "code",
   "execution_count": 7,
   "metadata": {
    "ExecuteTime": {
     "end_time": "2019-04-08T02:24:40.390607Z",
     "start_time": "2019-04-08T02:09:58.010010Z"
    }
   },
   "outputs": [
    {
     "name": "stdout",
     "output_type": "stream",
     "text": [
      "3151504\n",
      "check\n",
      "After: 0:00:00.000654\n",
      "check\n",
      "After: 0:02:53.104271\n",
      "check\n",
      "After: 0:05:44.794192\n",
      "check\n",
      "After: 0:08:40.021323\n",
      "['10.1186/1471-2342-13-31\\n']\n",
      "check\n",
      "After: 0:11:38.958440\n",
      "['10.1007/s11240-011-9919-5\\n']\n",
      "['289/23/3152\\n']\n",
      "['1096645\\n']\n",
      "['ct0203sattler\\n']\n",
      "['jphysiol.2003.044875\\n']\n",
      "['s1535610804002077\\n']\n",
      "['ajas-25-7-913-2[pii]\\n']\n",
      "['2235925100\\n']\n",
      "['0904113106\\n']\n",
      "['348/26/2599\\n']\n",
      "['2003-07-2459\\n']\n",
      "['s0006-291x(08)02191-8\\n']\n",
      "check\n",
      "After: 0:14:37.013444\n"
     ]
    }
   ],
   "source": [
    "import os\n",
    "from datetime import datetime\n",
    "\n",
    "subgraph = []\n",
    "counter = 0\n",
    "paperIDs = set(paperIDs)\n",
    "print(len(paperIDs))\n",
    "\n",
    "t1 = datetime.now()\n",
    "for line in citations:\n",
    "    if counter %100000000 ==0:\n",
    "        print(\"check\")\n",
    "        t2 = datetime.now()\n",
    "        print('After: ' + str(t2 - t1))\n",
    "    id_list = line.split(\"\\t\")\n",
    "    counter+=1\n",
    "    if(len(id_list)==2):\n",
    "        if (id_list[0] in paperIDs) or (id_list[1] in paperIDs):\n",
    "            subgraph.append(line)\n",
    "            if id_list[1] in paperIDs:\n",
    "                print(line)\n",
    "                print(id_list[1])\n",
    "    else:\n",
    "        print(\"Format wrong: \", id_list)"
   ]
  },
  {
   "cell_type": "code",
   "execution_count": 8,
   "metadata": {
    "ExecuteTime": {
     "end_time": "2019-04-08T02:24:40.398620Z",
     "start_time": "2019-04-08T02:24:40.393511Z"
    }
   },
   "outputs": [
    {
     "name": "stdout",
     "output_type": "stream",
     "text": [
      "Done, subgraph size:  46455331\n"
     ]
    }
   ],
   "source": [
    "print(\"Done, subgraph size: \", len(subgraph))"
   ]
  },
  {
   "cell_type": "code",
   "execution_count": null,
   "metadata": {
    "collapsed": true
   },
   "outputs": [],
   "source": [
    "newf = open(\"Data/\"+Dataset+\"/subgraph.txt\",\"w\",encoding='utf8')\n",
    "for line in subgraph:\n",
    "    newf.write(line)\n",
    "newf.close()"
   ]
  },
  {
   "cell_type": "code",
   "execution_count": null,
   "metadata": {
    "collapsed": true
   },
   "outputs": [],
   "source": []
  },
  {
   "cell_type": "markdown",
   "metadata": {},
   "source": [
    "# Here we extract subgraph for only labeled papers in canopy"
   ]
  },
  {
   "cell_type": "code",
   "execution_count": 11,
   "metadata": {
    "ExecuteTime": {
     "end_time": "2019-04-08T02:44:59.995832Z",
     "start_time": "2019-04-08T02:31:46.525486Z"
    }
   },
   "outputs": [
    {
     "name": "stdout",
     "output_type": "stream",
     "text": [
      "135796\n",
      "check\n",
      "After: 0:00:00.000675\n",
      "check\n",
      "After: 0:02:37.448417\n",
      "check\n",
      "After: 0:05:20.737279\n",
      "check\n",
      "After: 0:08:00.546861\n",
      "Format wrong:  ['10.1186/1471-2342-13-31\\n']\n",
      "check\n",
      "After: 0:10:34.157782\n",
      "Format wrong:  ['10.1007/s11240-011-9919-5\\n']\n",
      "Format wrong:  ['289/23/3152\\n']\n",
      "Format wrong:  ['1096645\\n']\n",
      "Format wrong:  ['ct0203sattler\\n']\n",
      "Format wrong:  ['jphysiol.2003.044875\\n']\n",
      "Format wrong:  ['s1535610804002077\\n']\n",
      "Format wrong:  ['ajas-25-7-913-2[pii]\\n']\n",
      "Format wrong:  ['2235925100\\n']\n",
      "Format wrong:  ['0904113106\\n']\n",
      "Format wrong:  ['348/26/2599\\n']\n",
      "Format wrong:  ['2003-07-2459\\n']\n",
      "Format wrong:  ['s0006-291x(08)02191-8\\n']\n",
      "check\n",
      "After: 0:13:09.978039\n"
     ]
    }
   ],
   "source": [
    "import os\n",
    "from datetime import datetime\n",
    "\n",
    "labeled_subgraph = []\n",
    "counter = 0\n",
    "labeled_paperIDs = set(LabeledRecords_pid)\n",
    "print(len(labeled_paperIDs))\n",
    "\n",
    "t1 = datetime.now()\n",
    "for line in citations:\n",
    "    if counter %100000000 ==0:\n",
    "        print(\"check\")\n",
    "        t2 = datetime.now()\n",
    "        print('After: ' + str(t2 - t1))\n",
    "    id_list = line.split(\"\\t\")\n",
    "    counter+=1\n",
    "    if(len(id_list)==2):\n",
    "        if (id_list[0] in labeled_paperIDs) or (id_list[1] in labeled_paperIDs):\n",
    "            labeled_subgraph.append(line)\n",
    "            if id_list[1] in labeled_paperIDs:\n",
    "                print(line)\n",
    "                print(id_list[1])\n",
    "    else:\n",
    "        print(\"Format wrong: \", id_list)"
   ]
  },
  {
   "cell_type": "code",
   "execution_count": 12,
   "metadata": {
    "ExecuteTime": {
     "end_time": "2019-04-08T02:51:48.003079Z",
     "start_time": "2019-04-08T02:51:47.996121Z"
    }
   },
   "outputs": [
    {
     "name": "stdout",
     "output_type": "stream",
     "text": [
      "Done, labeled subgraph size:  3319946\n"
     ]
    }
   ],
   "source": [
    "print(\"Done, labeled subgraph size: \", len(labeled_subgraph))"
   ]
  },
  {
   "cell_type": "code",
   "execution_count": null,
   "metadata": {
    "collapsed": true
   },
   "outputs": [],
   "source": [
    "newf = open(\"Data/\"+Dataset+\"/labeled_subgraph.txt\",\"w\",encoding='utf8')\n",
    "for line in labeled_subgraph:\n",
    "    newf.write(line)\n",
    "newf.close()"
   ]
  },
  {
   "cell_type": "code",
   "execution_count": null,
   "metadata": {
    "collapsed": true
   },
   "outputs": [],
   "source": [
    "# import os\n",
    "# from datetime import datetime\n",
    "# subgraph = []\n",
    "# counter = 0\n",
    "\n",
    "# def binary_search(numbers, target, first, last):\n",
    "#     mid = (first + last) // 2\n",
    "#     if first > last:\n",
    "#         index = -1\n",
    "#     elif target == numbers[mid]:\n",
    "#         index =  mid\n",
    "#     elif target < numbers[mid]:\n",
    "#         index = binary_search(numbers, target, first, mid-1)\n",
    "#     else:\n",
    "#         index = binary_search(numbers, target, mid+1, last)\n",
    "#     return index\n",
    "# t1 = datetime.now()\n",
    "# for line in citations:\n",
    "#     if counter %10000 ==0:\n",
    "#         print(\"check\")\n",
    "#         t2 = datetime.now()\n",
    "#         print('After: ' + str(t2 - t1))\n",
    "#     id_list = line.split(\"\\t\")\n",
    "#     counter+=1\n",
    "#     if (binary_search(paperIDs, id_list[0],0,len(paperIDs)-1)!=-1) or (binary_search(paperIDs,id_list[1],0,len(paperIDs)-1)!=-1):\n",
    "#         subgraph.append(line)\n",
    "#         if id_list[1] in paperIDs:\n",
    "#             print(id_list[1])\n",
    "\n",
    "# newf = open(\"Data/\"+Dataset+\"/subgraph.txt\",w,encoding='utf8')\n",
    "# for line in subgraph:\n",
    "#     newf.write(line)\n",
    "# newf.close()"
   ]
  }
 ],
 "metadata": {
  "kernelspec": {
   "display_name": "Python 3",
   "language": "python",
   "name": "python3"
  },
  "language_info": {
   "codemirror_mode": {
    "name": "ipython",
    "version": 3
   },
   "file_extension": ".py",
   "mimetype": "text/x-python",
   "name": "python",
   "nbconvert_exporter": "python",
   "pygments_lexer": "ipython3",
   "version": "3.6.3"
  }
 },
 "nbformat": 4,
 "nbformat_minor": 2
}
