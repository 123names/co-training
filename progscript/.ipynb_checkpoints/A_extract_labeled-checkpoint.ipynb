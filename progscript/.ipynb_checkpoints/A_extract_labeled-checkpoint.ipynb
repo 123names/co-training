{
 "cells": [
  {
   "cell_type": "code",
   "execution_count": null,
   "metadata": {
    "collapsed": true
   },
   "outputs": [],
   "source": [
    "# load the file and write labeled file to other folder\n",
    "import sys\n",
    "import io\n",
    "import os\n",
    "\n",
    "fileDir = \"../Data/canopies/\"\n",
    "newfileDir = \"../Data/canopies_labeled/\"\n",
    "if not os.path.exists(newfileDir):\n",
    "    os.makedirs(newfileDir)\n",
    "listfiles = os.listdir(fileDir)\n",
    "counter = 0\n",
    "\n",
    "for file in listfiles:\n",
    "    if not file.startswith('.'):\n",
    "        newf = open(newfileDir+file, \"w\",encoding='utf8')\n",
    "        with open(fileDir+file, 'r', encoding = 'utf8') as f:\n",
    "            for line in f:\n",
    "                read_data = line.split(\"\\t\")\n",
    "                # filter out unlabeled data\n",
    "                # if (read_data[0]==\"-1\"):\n",
    "                # get ride of bad formated lines\n",
    "                if(len(read_data)==13 and read_data[1]!=\"-1\"):\n",
    "                    newf.write(read_data[0]+\"\\t\"+read_data[1]+\"\\t\"+read_data[2]+\"\\t\"+read_data[3]+\"\\t\"+read_data[4]+\"\\t\"+\n",
    "                               read_data[5]+\"\\t\"+read_data[6]+\"\\t\"+read_data[7]+\"\\t\"+read_data[8]+\"\\t\"+read_data[9]+\"\\t\"+\n",
    "                               read_data[10]+\"\\t\"+read_data[11]+\"\\t\"+read_data[12])\n",
    "                    counter+=1\n",
    "        f.close()\n",
    "        newf.close()\n",
    "print(\"Total labeled record: \",counter)"
   ]
  }
 ],
 "metadata": {
  "kernelspec": {
   "display_name": "Python 3",
   "language": "python",
   "name": "python3"
  },
  "language_info": {
   "codemirror_mode": {
    "name": "ipython",
    "version": 3
   },
   "file_extension": ".py",
   "mimetype": "text/x-python",
   "name": "python",
   "nbconvert_exporter": "python",
   "pygments_lexer": "ipython3",
   "version": "3.6.3"
  }
 },
 "nbformat": 4,
 "nbformat_minor": 2
}
