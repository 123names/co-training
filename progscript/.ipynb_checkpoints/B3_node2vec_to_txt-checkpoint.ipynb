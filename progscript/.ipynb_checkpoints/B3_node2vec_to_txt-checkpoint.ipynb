{
 "cells": [
  {
   "cell_type": "code",
   "execution_count": 8,
   "metadata": {
    "ExecuteTime": {
     "end_time": "2019-05-10T00:05:29.439847Z",
     "start_time": "2019-05-10T00:05:10.533748Z"
    }
   },
   "outputs": [
    {
     "name": "stdout",
     "output_type": "stream",
     "text": [
      "Loading model ........\n",
      "models/pubmed/node2vec/Word2Vec(vocab=2011361, size=100, alpha=0.025)(node2vec)\n",
      "Done\n"
     ]
    }
   ],
   "source": [
    "import gensim\n",
    "import logging\n",
    "import os\n",
    "import numpy as np\n",
    "from matplotlib import pyplot\n",
    "\n",
    "Dataset = \"pubmed\"\n",
    "\n",
    "# pv_dm, pv_dbow\n",
    "select_model = \"node2vec\"\n",
    "\n",
    "# load existing model\n",
    "print(\"Loading model ........\")\n",
    "model_path = \"\"\n",
    "# 140k, 3m\n",
    "training_size = \"140k\"\n",
    "\n",
    "model_path = \"models/\"+Dataset+\"/\"+select_model+\"/Word2Vec(vocab=2011361, size=100, alpha=0.025)(node2vec)\"\n",
    "print(model_path)\n",
    "model = gensim.models.Word2Vec.load(model_path)\n",
    "print(\"Done\")"
   ]
  },
  {
   "cell_type": "code",
   "execution_count": 31,
   "metadata": {
    "ExecuteTime": {
     "end_time": "2019-05-10T00:27:14.713955Z",
     "start_time": "2019-05-10T00:27:14.689484Z"
    }
   },
   "outputs": [
    {
     "name": "stdout",
     "output_type": "stream",
     "text": [
      "2011361\n",
      "Node: \" 7935409 \" Details:  Vocab(count:164, index:1881515, sample_int:4294967296)\n",
      "Embedding:  [ 5.42491138e-01  1.49280369e-01 -4.71636653e-02 -1.88504815e-01\n",
      " -2.26844326e-01  2.72515863e-01  9.68996361e-02  3.00995022e-01\n",
      " -3.42451215e-01  4.98719573e-01  1.46816503e-02  2.19323963e-01\n",
      "  6.25827193e-01  3.65555495e-01 -4.81675453e-02  5.72860762e-02\n",
      " -2.30597466e-01 -7.64302909e-02  1.46462202e-01 -3.32734585e-01\n",
      "  3.13422650e-01  4.03535098e-01  5.50240465e-02  2.44046887e-03\n",
      "  2.99726844e-01 -4.14759107e-02  5.04667342e-01 -5.22309661e-01\n",
      " -3.09387326e-01  5.08713573e-02  9.93090048e-02  5.26126437e-02\n",
      " -9.06347781e-02 -4.32743371e-01  1.89630166e-01 -1.41847685e-01\n",
      "  1.98408291e-01 -4.81591135e-01 -1.41561598e-01 -3.06946695e-01\n",
      "  2.90658921e-01 -1.20298222e-01 -2.55830497e-01 -3.99080068e-01\n",
      "  2.27979317e-01 -1.17449656e-01  7.58215087e-03  2.86225498e-01\n",
      " -5.81321027e-03 -3.31144810e-01 -9.89185497e-02  6.27218708e-02\n",
      " -1.92303717e-01  3.05215605e-02 -4.21264827e-01 -9.35391635e-02\n",
      " -1.10321894e-01  2.87463982e-02 -2.07831576e-01  4.01507467e-01\n",
      " -2.50095725e-01 -2.36126725e-02 -2.55602628e-01  1.40296340e-01\n",
      "  4.11184907e-01  5.65674365e-01  1.16371252e-01  4.11463948e-03\n",
      " -8.58867615e-02 -3.13038319e-01  6.36439681e-01  1.70658901e-01\n",
      "  3.36572498e-01 -2.31154144e-01  1.13313749e-01 -3.88487056e-02\n",
      "  3.01162452e-01  1.81832686e-01  2.45417207e-02 -5.33484101e-01\n",
      "  4.29772772e-04 -1.43093094e-01 -2.00755283e-01 -3.79365683e-01\n",
      "  3.45697731e-01 -6.18023455e-01 -7.50518739e-01 -3.43761683e-01\n",
      " -7.42269456e-02  1.82379931e-01  6.19905472e-01 -6.35333061e-01\n",
      "  1.51671633e-01  3.44098151e-01  1.68853682e-02 -3.23035717e-02\n",
      "  8.94536555e-01 -1.51547760e-01 -1.77552626e-01 -5.63888066e-02]\n"
     ]
    },
    {
     "name": "stderr",
     "output_type": "stream",
     "text": [
      "/home/gao137/intel/intelpython3/lib/python3.6/site-packages/ipykernel_launcher.py:5: DeprecationWarning: Call to deprecated `__getitem__` (Method will be removed in 4.0.0, use self.wv.__getitem__() instead).\n",
      "  \"\"\"\n"
     ]
    }
   ],
   "source": [
    "print(len(model.wv.vocab))\n",
    "# example of one node2vec vectors\n",
    "for k,v in model.wv.vocab.items():\n",
    "    print(\"Node: \\\"\", k,\"\\\" Details: \",v)\n",
    "    print(\"Embedding: \",model[k])\n",
    "    break"
   ]
  },
  {
   "cell_type": "code",
   "execution_count": 37,
   "metadata": {
    "ExecuteTime": {
     "end_time": "2019-05-10T00:36:34.203048Z",
     "start_time": "2019-05-10T00:36:33.810974Z"
    }
   },
   "outputs": [
    {
     "name": "stdout",
     "output_type": "stream",
     "text": [
      "['7935409', 0.5424911379814148, 0.1492803692817688, -0.04716366529464722, -0.18850481510162354, -0.22684432566165924, 0.2725158631801605, 0.09689963608980179, 0.30099502205848694, -0.34245121479034424, 0.49871957302093506, 0.014681650325655937, 0.21932396292686462, 0.6258271932601929, 0.3655554950237274, -0.04816754534840584, 0.05728607624769211, -0.23059746623039246, -0.0764302909374237, 0.14646220207214355, -0.3327345848083496, 0.31342265009880066, 0.4035350978374481, 0.05502404645085335, 0.0024404688738286495, 0.29972684383392334, -0.04147591069340706, 0.504667341709137, -0.5223096609115601, -0.30938732624053955, 0.0508713573217392, 0.09930900484323502, 0.05261264368891716, -0.0906347781419754, -0.4327433705329895, 0.1896301656961441, -0.14184768497943878, 0.19840829074382782, -0.481591135263443, -0.1415615975856781, -0.30694669485092163, 0.2906589210033417, -0.12029822170734406, -0.2558304965496063, -0.3990800678730011, 0.22797931730747223, -0.11744965612888336, 0.007582150865346193, 0.28622549772262573, -0.005813210271298885, -0.3311448097229004, -0.09891854971647263, 0.0627218708395958, -0.19230371713638306, 0.030521560460329056, -0.4212648272514343, -0.09353916347026825, -0.11032189428806305, 0.02874639816582203, -0.20783157646656036, 0.4015074670314789, -0.2500957250595093, -0.023612672463059425, -0.25560262799263, 0.1402963399887085, 0.4111849069595337, 0.565674364566803, 0.11637125164270401, 0.004114639479666948, -0.08588676154613495, -0.31303831934928894, 0.6364396810531616, 0.1706589013338089, 0.3365724980831146, -0.23115414381027222, 0.11331374943256378, -0.03884870558977127, 0.301162451505661, 0.1818326860666275, 0.024541720747947693, -0.5334841012954712, 0.0004297727718949318, -0.14309309422969818, -0.2007552832365036, -0.3793656826019287, 0.3456977307796478, -0.6180234551429749, -0.7505187392234802, -0.343761682510376, -0.07422694563865662, 0.18237993121147156, 0.6199054718017578, -0.6353330612182617, 0.1516716331243515, 0.34409815073013306, 0.016885368153452873, -0.032303571701049805, 0.894536554813385, -0.15154775977134705, -0.17755262553691864, -0.05638880655169487]\n"
     ]
    },
    {
     "name": "stderr",
     "output_type": "stream",
     "text": [
      "/home/gao137/intel/intelpython3/lib/python3.6/site-packages/ipykernel_launcher.py:4: DeprecationWarning: Call to deprecated `__getitem__` (Method will be removed in 4.0.0, use self.wv.__getitem__() instead).\n",
      "  after removing the cwd from sys.path.\n"
     ]
    }
   ],
   "source": [
    "text_emb = []\n",
    "allPaperIds = list(model.wv.vocab.keys())\n",
    "for pid in allPaperIds:\n",
    "    vectorRepresentation = model[pid]\n",
    "    vectorRepresentation = [float(i) for i in vectorRepresentation]\n",
    "    text_emb.append([pid]+vectorRepresentation)\n",
    "print(text_emb[0])"
   ]
  },
  {
   "cell_type": "code",
   "execution_count": 40,
   "metadata": {
    "ExecuteTime": {
     "end_time": "2019-05-10T00:57:50.014681Z",
     "start_time": "2019-05-10T00:52:56.611602Z"
    }
   },
   "outputs": [
    {
     "name": "stderr",
     "output_type": "stream",
     "text": [
      "/home/gao137/intel/intelpython3/lib/python3.6/site-packages/ipykernel_launcher.py:11: DeprecationWarning: Call to deprecated `__getitem__` (Method will be removed in 4.0.0, use self.wv.__getitem__() instead).\n",
      "  # This is added back by InteractiveShellApp.init_path()\n"
     ]
    }
   ],
   "source": [
    "# export the node vector representation to txt file\n",
    "newfileDir = \"vectors/\"+Dataset+\"/\"+select_model+\"/\"\n",
    "out_file_name = model.__str__()+\"(node2vec)\"\n",
    "if not os.path.exists(newfileDir):\n",
    "    os.makedirs(newfileDir)\n",
    "\n",
    "allPaperIds = list(model.wv.vocab.keys())\n",
    "newf = open(newfileDir+out_file_name+\".txt\", \"w\",encoding='utf8')\n",
    "\n",
    "for paper in allPaperIds:\n",
    "    vectorRepresentation = model[paper]\n",
    "    vectorRepresentation = [format(i, '.8f') for i in vectorRepresentation]\n",
    "    vectorRepresentation = ' '.join(vectorRepresentation)\n",
    "    newf.write(paper+\"\\t\"+vectorRepresentation+ \"\\n\")\n",
    "newf.close()"
   ]
  },
  {
   "cell_type": "code",
   "execution_count": null,
   "metadata": {
    "collapsed": true
   },
   "outputs": [],
   "source": []
  }
 ],
 "metadata": {
  "kernelspec": {
   "display_name": "Python 3",
   "language": "python",
   "name": "python3"
  },
  "language_info": {
   "codemirror_mode": {
    "name": "ipython",
    "version": 3
   },
   "file_extension": ".py",
   "mimetype": "text/x-python",
   "name": "python",
   "nbconvert_exporter": "python",
   "pygments_lexer": "ipython3",
   "version": "3.6.3"
  }
 },
 "nbformat": 4,
 "nbformat_minor": 2
}
