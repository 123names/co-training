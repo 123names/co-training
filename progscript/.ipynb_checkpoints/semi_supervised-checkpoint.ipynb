{
 "cells": [
  {
   "cell_type": "code",
   "execution_count": null,
   "metadata": {
    "collapsed": true
   },
   "outputs": [],
   "source": [
    "import os\n",
    "import re\n",
    "import numpy as np\n",
    "import matplotlib.pyplot as plt\n",
    "from sklearn import svm\n",
    "from sklearn.model_selection import KFold\n",
    "from sklearn import metrics\n",
    "from sklearn.metrics import accuracy_score\n",
    "from sklearn.metrics import f1_score\n",
    "\n",
    "# collect data\n",
    "# ../Data/DataForClassification/d2v/\n",
    "fileDir = \"../Data/DataForClassification/p2v/\"\n",
    "fileList = os.listdir(fileDir)\n",
    "print(fileList)\n",
    "\n",
    "# loop through files in directory \n",
    "# add name to name list\n",
    "name_list = []\n",
    "for file in fileList:\n",
    "    if not file.startswith('.'):\n",
    "        if not re.match(r'\\D*\\d+.txt$', file):\n",
    "            name_list.append(file)\n",
    "print(name_list)\n",
    "\n",
    "#for name in namelist:\n",
    "#    for file in fileList:\n",
    "#        if not file.startswith('.'):\n",
    "\n",
    "            \n",
    "# hard code to read the file one by one\n",
    "# author as positive sample, other as all samples\n",
    "author_features = []\n",
    "other_features = []\n",
    "with open(fileDir+\"michael wagner2.txt\", 'r', encoding = 'utf8') as f:\n",
    "    for line in f:\n",
    "        author_features.append(line.strip().split(\" \"))\n",
    "\n",
    "with open(fileDir+\"michael wagner.txt\", 'r', encoding = 'utf8') as f:\n",
    "    for line in f:\n",
    "        other_features.append(line.strip().split(\" \"))\n",
    "        \n",
    "print(author_features[0])\n",
    "print(other_features[0])"
   ]
  },
  {
   "cell_type": "code",
   "execution_count": 1,
   "metadata": {},
   "outputs": [
    {
     "name": "stdout",
     "output_type": "stream",
     "text": [
      "Automatically created module for IPython interactive environment\n"
     ]
    }
   ],
   "source": [
    "# Label Propagation: assigns labels to previously unlabeled data points\n",
    "from sklearn.semi_supervised import label_propagation\n",
    "\n",
    "# generate ring with inner box\n",
    "n_samples = 200\n",
    "X, y = make_circles(n_samples=n_samples, shuffle=False)\n",
    "outer, inner = 0, 1\n",
    "labels = -np.ones(n_samples)\n",
    "labels[0] = outer\n",
    "labels[-1] = inner\n"
   ]
  },
  {
   "cell_type": "code",
   "execution_count": null,
   "metadata": {
    "collapsed": true
   },
   "outputs": [],
   "source": [
    "# Learn with LabelSpreading\n",
    "label_spread = label_propagation.LabelSpreading(kernel='knn', alpha=0.8)\n",
    "label_spread.fit(X, labels)"
   ]
  },
  {
   "cell_type": "code",
   "execution_count": null,
   "metadata": {
    "collapsed": true
   },
   "outputs": [],
   "source": [
    "# Plot output labels\n",
    "output_labels = label_spread.transduction_\n",
    "plt.figure(figsize=(8.5, 4))\n",
    "plt.subplot(1, 2, 1)\n",
    "plt.scatter(X[labels == outer, 0], X[labels == outer, 1], color='navy',\n",
    "            marker='s', lw=0, label=\"outer labeled\", s=10)\n",
    "plt.scatter(X[labels == inner, 0], X[labels == inner, 1], color='c',\n",
    "            marker='s', lw=0, label='inner labeled', s=10)\n",
    "plt.scatter(X[labels == -1, 0], X[labels == -1, 1], color='darkorange',\n",
    "            marker='.', label='unlabeled')\n",
    "plt.legend(scatterpoints=1, shadow=False, loc='upper right')\n",
    "plt.title(\"Raw data (2 classes=outer and inner)\")\n",
    "\n",
    "plt.subplot(1, 2, 2)\n",
    "output_label_array = np.asarray(output_labels)\n",
    "outer_numbers = np.where(output_label_array == outer)[0]\n",
    "inner_numbers = np.where(output_label_array == inner)[0]\n",
    "plt.scatter(X[outer_numbers, 0], X[outer_numbers, 1], color='navy',\n",
    "            marker='s', lw=0, s=10, label=\"outer learned\")\n",
    "plt.scatter(X[inner_numbers, 0], X[inner_numbers, 1], color='c',\n",
    "            marker='s', lw=0, s=10, label=\"inner learned\")\n",
    "plt.legend(scatterpoints=1, shadow=False, loc='upper right')\n",
    "plt.title(\"Labels learned with Label Spreading (KNN)\")\n",
    "\n",
    "plt.subplots_adjust(left=0.07, bottom=0.07, right=0.93, top=0.92)\n",
    "plt.show()"
   ]
  }
 ],
 "metadata": {
  "kernelspec": {
   "display_name": "Python 3",
   "language": "python",
   "name": "python3"
  },
  "language_info": {
   "codemirror_mode": {
    "name": "ipython",
    "version": 3
   },
   "file_extension": ".py",
   "mimetype": "text/x-python",
   "name": "python",
   "nbconvert_exporter": "python",
   "pygments_lexer": "ipython3",
   "version": "3.6.3"
  }
 },
 "nbformat": 4,
 "nbformat_minor": 2
}
