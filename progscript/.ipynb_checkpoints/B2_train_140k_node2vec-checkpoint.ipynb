{
 "cells": [
  {
   "cell_type": "markdown",
   "metadata": {},
   "source": [
    "# Train node2vec"
   ]
  },
  {
   "cell_type": "code",
   "execution_count": 2,
   "metadata": {
    "ExecuteTime": {
     "end_time": "2020-05-22T20:51:02.578692Z",
     "start_time": "2020-05-22T20:51:00.298117Z"
    },
    "collapsed": true
   },
   "outputs": [],
   "source": [
    "%matplotlib inline\n",
    "\n",
    "import warnings\n",
    "warnings.filterwarnings('ignore')\n",
    "import os\n",
    "import collections\n",
    "import pandas as pd\n",
    "from sklearn.manifold import TSNE\n",
    "import numpy as np\n",
    "import matplotlib.pyplot as plt\n",
    "import matplotlib.patches as mpatches\n",
    "import seaborn as sns\n",
    "from node2vec import Node2Vec"
   ]
  },
  {
   "cell_type": "code",
   "execution_count": 5,
   "metadata": {
    "ExecuteTime": {
     "end_time": "2020-05-22T20:52:09.607654Z",
     "start_time": "2020-05-22T20:51:58.518871Z"
    }
   },
   "outputs": [
    {
     "name": "stdout",
     "output_type": "stream",
     "text": [
      "3319946\n",
      "[]\n",
      "3309530\n",
      "[('18474589', '16829228'), ('25946105', '19258313'), ('21540366', '10.1006/jesp.1996.1318'), ('23147393', '21683756'), ('25348356', '11499453'), ('21366717', '16728156'), ('24741610', '8366922'), ('23251660', '15995707'), ('25110880', '7529365'), ('26780420', '24571091'), ('22385782', '3857016'), ('15716151', '10456101'), ('21626185', '7484596'), ('26261867', '17660825'), ('24662017', '18625687'), ('16161571', '10.1039/b304896a'), ('26296990', '22932219'), ('21569568', '10.1002/jmv.21445'), ('26399585', '21663954'), ('25182062', '18619499')]\n"
     ]
    }
   ],
   "source": [
    "# ------------------ number of citations for labeled data -------------- #\n",
    "Dataset = \"pubmed\"\n",
    "citation_edges = []\n",
    "citation_path = \"Data/\"+Dataset+\"/labeled_subgraph.txt\"\n",
    "# read in paper ID\n",
    "with open(citation_path, 'r', encoding = 'utf8') as infile:\n",
    "    for line in infile:\n",
    "        citation_edges.append((line.strip(\"\\n\").split(\"\\t\")[0], line.strip(\"\\n\").split(\"\\t\")[1]))\n",
    "print(len(citation_edges))\n",
    "Unique_citation_edges = list(set(citation_edges))\n",
    "print(len(Unique_citation_edges))\n",
    "print(Unique_citation_edges[:20])"
   ]
  },
  {
   "cell_type": "code",
   "execution_count": 3,
   "metadata": {
    "ExecuteTime": {
     "end_time": "2019-05-07T22:28:44.864397Z",
     "start_time": "2019-05-07T22:28:44.853820Z"
    }
   },
   "outputs": [
    {
     "name": "stdout",
     "output_type": "stream",
     "text": [
      "<class 'tuple'>\n",
      "('19072180', '16541065')\n",
      "19072180\n",
      "16541065\n"
     ]
    }
   ],
   "source": [
    "print(type(Unique_citation_edges[0]))\n",
    "print(Unique_citation_edges[0])\n",
    "for item in Unique_citation_edges:\n",
    "    print(item[0])\n",
    "    print(item[1])\n",
    "    break"
   ]
  },
  {
   "cell_type": "code",
   "execution_count": 10,
   "metadata": {
    "ExecuteTime": {
     "end_time": "2019-05-08T01:05:17.336923Z",
     "start_time": "2019-05-08T01:05:06.488261Z"
    }
   },
   "outputs": [
    {
     "name": "stdout",
     "output_type": "stream",
     "text": [
      "Total record:  140266\n",
      "Total paper:  135796\n",
      "[('19072180', '16541065'), ('15700297', '9665690'), ('21802375', '17938237'), ('27514453', '11498582'), ('16242163', '9517450'), ('17052299', '12690092'), ('23941581', '19320160'), ('26395192', '25303559'), ('18334252', '10.1155/2007/234768'), ('23286790', '22089642')]\n",
      "3309530\n",
      "[('15700297', '9665690'), ('26395192', '25303559'), ('26069318', '18462767'), ('17710541', '15016595'), ('26973508', '21520351'), ('25697830', '22823871'), ('18460048', '12105369'), ('24780111', '19027483'), ('23933525', '22896687'), ('19328219', '18191318')]\n",
      "181532\n",
      "2011361\n"
     ]
    }
   ],
   "source": [
    "# ---------------- number of labeled paper in source/target pid ---------------- #\n",
    "fileDir = \"Data/pubmed/canopies_labeled/\"\n",
    "listfiles = os.listdir(fileDir)\n",
    "LabeledRecords_pid = []\n",
    "\n",
    "for file in listfiles:\n",
    "    if not file.startswith('.'):\n",
    "        with open(fileDir+file, 'r', encoding = 'utf8') as f:\n",
    "            for line in f:\n",
    "                read_data = line.split(\"\\t\")\n",
    "                if(len(read_data)==13 or len(read_data)==12):\n",
    "                    LabeledRecords_pid.append(read_data[0])\n",
    "                else:\n",
    "                    print(len(read_data))\n",
    "        f.close()\n",
    "print(\"Total record: \", len(LabeledRecords_pid))\n",
    "labeled_unique_paperIDs = set(LabeledRecords_pid)\n",
    "print(\"Total paper: \", len(labeled_unique_paperIDs))\n",
    "\n",
    "source_list = [item for item in Unique_citation_edges if item[0] in labeled_unique_paperIDs]\n",
    "target_list = [item for item in Unique_citation_edges if item[1] in labeled_unique_paperIDs]\n",
    "\n",
    "print(source_list[:10])\n",
    "print(len(source_list))\n",
    "print(target_list[:10])\n",
    "print(len(target_list))\n",
    "unique_nodes = set([node for edge in Unique_citation_edges for node in edge])\n",
    "print(len(unique_nodes))\n"
   ]
  },
  {
   "cell_type": "code",
   "execution_count": 21,
   "metadata": {
    "ExecuteTime": {
     "end_time": "2019-05-08T03:18:20.772192Z",
     "start_time": "2019-05-08T03:16:39.529786Z"
    }
   },
   "outputs": [
    {
     "name": "stdout",
     "output_type": "stream",
     "text": [
      "3309530\n",
      "[('26450731', '26450730'), ('26543879', '26253204'), ('18083576', '18339401'), ('12225449', '12225448'), ('22064531', '20525378'), ('23517659', '23517658'), ('26429028', '26429029'), ('24058884', '24039896'), ('25318652', '24809667'), ('21473745', '21473746')]\n",
      "382\n"
     ]
    }
   ],
   "source": [
    "# --------- construct graph ------------- #\n",
    "import networkx as nx\n",
    "print(len(Unique_citation_edges))\n",
    "citation_G=nx.Graph()\n",
    "\n",
    "repreated_edge = []\n",
    "\n",
    "for edge in Unique_citation_edges:\n",
    "    if citation_G.has_edge(*edge):\n",
    "        repreated_edge.append(edge)\n",
    "    citation_G.add_edge(*edge)\n",
    "print(repreated_edge[:10])\n",
    "print(len(repreated_edge))"
   ]
  },
  {
   "cell_type": "code",
   "execution_count": 22,
   "metadata": {
    "ExecuteTime": {
     "end_time": "2019-05-08T03:20:58.135651Z",
     "start_time": "2019-05-08T03:20:25.170661Z"
    }
   },
   "outputs": [
    {
     "name": "stdout",
     "output_type": "stream",
     "text": [
      "Is directed graph:  False\n",
      "Name: \n",
      "Type: Graph\n",
      "Number of nodes: 2011361\n",
      "Number of edges: 3309148\n",
      "Average degree:   3.2905\n",
      "<class 'dict'>\n",
      "6618296\n",
      "3.2904565615023857\n",
      "2052\n",
      "['26799652']\n"
     ]
    }
   ],
   "source": [
    "# ---------- collect graph statistic ----- #\n",
    "print(\"Is directed graph: \",nx.is_directed(citation_G))\n",
    "print(nx.info(citation_G))\n",
    "node_count = citation_G.number_of_nodes()\n",
    "edge_count = citation_G.number_of_edges()\n",
    "# return sum of degree (Sum of indegree and outdegree)\n",
    "citation_degrees = citation_G.degree()\n",
    "sum_of_edges = sum(citation_degrees.values())\n",
    "average_degrees = sum_of_edges/len(citation_G)\n",
    "print(type(citation_degrees))\n",
    "print(sum_of_edges)\n",
    "print(average_degrees)\n",
    "# find max degree paper\n",
    "max_degree = max(citation_degrees.values())\n",
    "max_degree_item = [node for node in citation_degrees if citation_degrees[node]==max_degree]\n",
    "print(max_degree)\n",
    "print(max_degree_item)"
   ]
  },
  {
   "cell_type": "code",
   "execution_count": null,
   "metadata": {
    "ExecuteTime": {
     "end_time": "2019-05-08T02:47:52.820418Z",
     "start_time": "2019-05-08T02:26:34.244428Z"
    },
    "collapsed": true
   },
   "outputs": [],
   "source": [
    "# nx.draw(citation_G)\n",
    "# plt.show()"
   ]
  },
  {
   "cell_type": "code",
   "execution_count": null,
   "metadata": {
    "ExecuteTime": {
     "start_time": "2019-05-05T02:19:39.712Z"
    }
   },
   "outputs": [
    {
     "name": "stdout",
     "output_type": "stream",
     "text": [
      "['21843670', '16309738', '27424009', '18400456', '24415859']\n",
      "[('21843670', '16309738'), ('21843670', '10.1016/j.bej.2007.11.016'), ('21843670', '10.1016/j.lwt.2008.03.015'), ('21843670', '10.1016/j.jfoodeng.2008.04.003'), ('21843670', '11209901')]\n",
      "['12517233', '10.1001/jama.286.2.139', '16336437', '10.1001/jama.296.6.652-b', '9106097', '21862737', '10.1002/hep.22206', '20158695', '10.1097/00007890-200012270-00024', '21421589']\n"
     ]
    }
   ],
   "source": [
    "print(citation_G.nodes()[:5])\n",
    "print(citation_G.edges()[:5])\n",
    "print(citation_G.neighbors(\"23942007\"))"
   ]
  },
  {
   "cell_type": "code",
   "execution_count": null,
   "metadata": {
    "ExecuteTime": {
     "start_time": "2019-05-05T02:19:40.119Z"
    }
   },
   "outputs": [
    {
     "name": "stderr",
     "output_type": "stream",
     "text": [
      "Computing transition probabilities: 100%|██████████| 2011361/2011361 [14:48<00:00, 2262.76it/s]\n",
      "Generating walks (CPU: 1):  90%|█████████ | 9/10 [27:25:01<3:37:30, 13050.58s/it] \n"
     ]
    }
   ],
   "source": [
    "# Precompute probabilities and generate walks - **ON WINDOWS ONLY WORKS WITH workers=1**\n",
    "node2vec = Node2Vec(citation_G, dimensions=100, walk_length=60, num_walks=10, workers=1)"
   ]
  },
  {
   "cell_type": "code",
   "execution_count": null,
   "metadata": {
    "ExecuteTime": {
     "start_time": "2019-05-05T02:19:41.885Z"
    }
   },
   "outputs": [
    {
     "name": "stdout",
     "output_type": "stream",
     "text": [
      "['FIRST_TRAVEL_KEY', 'NEIGHBORS_KEY', 'NUM_WALKS_KEY', 'PROBABILITIES_KEY', 'P_KEY', 'Q_KEY', 'WALK_LENGTH_KEY', 'WEIGHT_KEY', '__class__', '__delattr__', '__dict__', '__dir__', '__doc__', '__eq__', '__format__', '__ge__', '__getattribute__', '__gt__', '__hash__', '__init__', '__init_subclass__', '__le__', '__lt__', '__module__', '__ne__', '__new__', '__reduce__', '__reduce_ex__', '__repr__', '__setattr__', '__sizeof__', '__str__', '__subclasshook__', '__weakref__', '_generate_walks', '_precompute_probabilities', 'd_graph', 'dimensions', 'fit', 'graph', 'num_walks', 'p', 'q', 'quiet', 'require', 'sampling_strategy', 'temp_folder', 'walk_length', 'walks', 'weight_key', 'workers']\n"
     ]
    }
   ],
   "source": [
    "print(dir(node2vec))"
   ]
  },
  {
   "cell_type": "code",
   "execution_count": null,
   "metadata": {
    "ExecuteTime": {
     "start_time": "2019-05-05T02:19:43.067Z"
    },
    "collapsed": true
   },
   "outputs": [],
   "source": [
    "# Embed nodes\n",
    "model = node2vec.fit(window=10, min_count=1)"
   ]
  },
  {
   "cell_type": "code",
   "execution_count": null,
   "metadata": {
    "ExecuteTime": {
     "start_time": "2019-05-05T02:19:43.733Z"
    }
   },
   "outputs": [
    {
     "name": "stdout",
     "output_type": "stream",
     "text": [
      "['__class__', '__contains__', '__delattr__', '__dict__', '__dir__', '__doc__', '__eq__', '__format__', '__ge__', '__getattribute__', '__getitem__', '__gt__', '__hash__', '__init__', '__init_subclass__', '__le__', '__lt__', '__module__', '__ne__', '__new__', '__reduce__', '__reduce_ex__', '__repr__', '__setattr__', '__sizeof__', '__str__', '__subclasshook__', '__weakref__', '_adapt_by_suffix', '_check_input_data_sanity', '_check_training_sanity', '_clear_post_train', '_do_train_epoch', '_do_train_job', '_get_job_params', '_get_thread_working_mem', '_job_producer', '_load_specials', '_log_epoch_end', '_log_epoch_progress', '_log_progress', '_log_train_end', '_minimize_model', '_raw_word_count', '_save_specials', '_set_train_params', '_smart_save', '_train_epoch', '_train_epoch_corpusfile', '_update_job_params', '_worker_loop', '_worker_loop_corpusfile', 'accuracy', 'alpha', 'batch_words', 'build_vocab', 'build_vocab_from_freq', 'callbacks', 'cbow_mean', 'clear_sims', 'compute_loss', 'corpus_count', 'corpus_total_words', 'cum_table', 'delete_temporary_training_data', 'doesnt_match', 'epochs', 'estimate_memory', 'evaluate_word_pairs', 'get_latest_training_loss', 'hashfxn', 'hs', 'init_sims', 'intersect_word2vec_format', 'iter', 'layer1_size', 'load', 'load_word2vec_format', 'log_accuracy', 'max_final_vocab', 'min_alpha', 'min_alpha_yet_reached', 'min_count', 'model_trimmed_post_training', 'most_similar', 'most_similar_cosmul', 'n_similarity', 'negative', 'ns_exponent', 'predict_output_word', 'random', 'reset_from', 'running_training_loss', 'sample', 'save', 'save_word2vec_format', 'score', 'sg', 'similar_by_vector', 'similar_by_word', 'similarity', 'syn0_lockf', 'syn1', 'syn1neg', 'total_train_time', 'train', 'train_count', 'trainables', 'vector_size', 'vocabulary', 'window', 'wmdistance', 'workers', 'wv']\n"
     ]
    }
   ],
   "source": [
    "print(dir(model))"
   ]
  },
  {
   "cell_type": "code",
   "execution_count": 26,
   "metadata": {
    "ExecuteTime": {
     "end_time": "2019-05-07T19:45:03.596380Z",
     "start_time": "2019-05-07T19:45:03.590927Z"
    }
   },
   "outputs": [
    {
     "name": "stdout",
     "output_type": "stream",
     "text": [
      "['__class__', '__contains__', '__delattr__', '__dict__', '__dir__', '__doc__', '__eq__', '__format__', '__ge__', '__getattribute__', '__getitem__', '__gt__', '__hash__', '__init__', '__init_subclass__', '__le__', '__lt__', '__module__', '__ne__', '__new__', '__reduce__', '__reduce_ex__', '__repr__', '__setattr__', '__setitem__', '__sizeof__', '__str__', '__subclasshook__', '__weakref__', '_adapt_by_suffix', '_load_specials', '_log_evaluate_word_analogies', '_save_specials', '_smart_save', 'accuracy', 'add', 'closer_than', 'cosine_similarities', 'distance', 'distances', 'doesnt_match', 'evaluate_word_analogies', 'evaluate_word_pairs', 'get_keras_embedding', 'get_vector', 'index2entity', 'index2word', 'init_sims', 'load', 'load_word2vec_format', 'log_accuracy', 'log_evaluate_word_pairs', 'most_similar', 'most_similar_cosmul', 'most_similar_to_given', 'n_similarity', 'rank', 'relative_cosine_similarity', 'save', 'save_word2vec_format', 'similar_by_vector', 'similar_by_word', 'similarity', 'similarity_matrix', 'syn0', 'syn0norm', 'vector_size', 'vectors', 'vectors_norm', 'vocab', 'wmdistance', 'word_vec', 'words_closer_than', 'wv']\n"
     ]
    }
   ],
   "source": [
    "print(dir(model.wv))"
   ]
  },
  {
   "cell_type": "code",
   "execution_count": 30,
   "metadata": {
    "ExecuteTime": {
     "end_time": "2019-05-07T19:47:43.287238Z",
     "start_time": "2019-05-07T19:47:42.588571Z"
    }
   },
   "outputs": [
    {
     "name": "stdout",
     "output_type": "stream",
     "text": [
      "2011361\n",
      "{'7935409': <gensim.models.keyedvectors.Vocab object at 0x7f17e51f3f98>, '16793553': <gensim.models.keyedvectors.Vocab object at 0x7f17e4d3ef60>, '7584145': <gensim.models.keyedvectors.Vocab object at 0x7f2e2b728048>, '10.1126/science.291.5507.1155d': <gensim.models.keyedvectors.Vocab object at 0x7f2e2b728a90>, '11891060': <gensim.models.keyedvectors.Vocab object at 0x7f2e2b728320>, '8338689': <gensim.models.keyedvectors.Vocab object at 0x7f2e2b7280f0>, '10570990': <gensim.models.keyedvectors.Vocab object at 0x7f2e2b732ba8>, '9367984': <gensim.models.keyedvectors.Vocab object at 0x7f2e2b732b70>, '17996480': <gensim.models.keyedvectors.Vocab object at 0x7f1a0526ee80>, '10036187': <gensim.models.keyedvectors.Vocab object at 0x7f17e4958a58>}\n"
     ]
    }
   ],
   "source": [
    "print(len(model.wv.vocab))\n",
    "print(dict(list(model.wv.vocab.items())[:10]))"
   ]
  },
  {
   "cell_type": "code",
   "execution_count": 32,
   "metadata": {
    "ExecuteTime": {
     "end_time": "2019-05-07T21:32:19.941845Z",
     "start_time": "2019-05-07T21:32:19.937513Z"
    }
   },
   "outputs": [
    {
     "name": "stdout",
     "output_type": "stream",
     "text": [
      "['__call__', '__class__', '__delattr__', '__dir__', '__doc__', '__eq__', '__format__', '__func__', '__ge__', '__get__', '__getattribute__', '__gt__', '__hash__', '__init__', '__init_subclass__', '__le__', '__lt__', '__ne__', '__new__', '__reduce__', '__reduce_ex__', '__repr__', '__self__', '__setattr__', '__sizeof__', '__str__', '__subclasshook__']\n"
     ]
    }
   ],
   "source": [
    "print(dir(model.save))"
   ]
  },
  {
   "cell_type": "code",
   "execution_count": 33,
   "metadata": {
    "ExecuteTime": {
     "end_time": "2019-05-07T21:43:36.677438Z",
     "start_time": "2019-05-07T21:39:33.879511Z"
    },
    "collapsed": true
   },
   "outputs": [],
   "source": [
    "# -----------------   save model ------------------ #\n",
    "import os\n",
    "# ----- generate file name ------------ #\n",
    "newfileDir = \"models/\"+Dataset+\"/node2vec/\"\n",
    "if not os.path.exists(newfileDir):\n",
    "    os.makedirs(newfileDir)\n",
    "modelname = model.__str__()+\"(node2vec)\"\n",
    "EMBEDDING_FILENAME = newfileDir+modelname\n",
    "EMBEDDING_MODEL_FILENAME = newfileDir+modelname\n",
    "\n",
    "# save embedding\n",
    "model.wv.save_word2vec_format(EMBEDDING_FILENAME)\n",
    "# Save model for later use\n",
    "model.save(EMBEDDING_MODEL_FILENAME)"
   ]
  },
  {
   "cell_type": "code",
   "execution_count": 16,
   "metadata": {
    "ExecuteTime": {
     "end_time": "2019-05-07T15:45:48.183700Z",
     "start_time": "2019-05-07T15:42:05.724794Z"
    },
    "collapsed": true
   },
   "outputs": [],
   "source": [
    "# ------------- save vector trained as txt --------------- #\n",
    "import os\n",
    "newfileDir = \"vectors/\"+Dataset+\"/node2vec/\"\n",
    "if not os.path.exists(newfileDir):\n",
    "    os.makedirs(newfileDir)\n",
    "modelname = model.__str__()+\"(node2vec)\"\n",
    "EMBEDDING_FILENAME = newfileDir+modelname+\".txt\"\n",
    "\n",
    "# Save embeddings for later use\n",
    "model.wv.save_word2vec_format(EMBEDDING_FILENAME)"
   ]
  },
  {
   "cell_type": "code",
   "execution_count": 34,
   "metadata": {
    "ExecuteTime": {
     "end_time": "2019-05-07T21:45:28.323801Z",
     "start_time": "2019-05-07T21:45:28.318239Z"
    }
   },
   "outputs": [
    {
     "name": "stdout",
     "output_type": "stream",
     "text": [
      "Done\n"
     ]
    }
   ],
   "source": [
    "print(\"Done\")"
   ]
  },
  {
   "cell_type": "code",
   "execution_count": null,
   "metadata": {
    "collapsed": true
   },
   "outputs": [],
   "source": []
  }
 ],
 "metadata": {
  "kernelspec": {
   "display_name": "Python 3",
   "language": "python",
   "name": "python3"
  },
  "language_info": {
   "codemirror_mode": {
    "name": "ipython",
    "version": 3
   },
   "file_extension": ".py",
   "mimetype": "text/x-python",
   "name": "python",
   "nbconvert_exporter": "python",
   "pygments_lexer": "ipython3",
   "version": "3.6.3"
  }
 },
 "nbformat": 4,
 "nbformat_minor": 2
}
