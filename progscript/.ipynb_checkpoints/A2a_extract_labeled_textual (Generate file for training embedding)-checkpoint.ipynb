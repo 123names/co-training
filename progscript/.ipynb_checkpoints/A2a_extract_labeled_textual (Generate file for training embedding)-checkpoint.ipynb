{
 "cells": [
  {
   "cell_type": "code",
   "execution_count": 1,
   "metadata": {
    "ExecuteTime": {
     "end_time": "2020-08-18T20:23:44.422299Z",
     "start_time": "2020-08-18T20:23:43.558658Z"
    }
   },
   "outputs": [
    {
     "name": "stdout",
     "output_type": "stream",
     "text": [
      "Total labeled records: 140266\n"
     ]
    }
   ],
   "source": [
    "# take too long to load embedding and match it with pid in each author group, \n",
    "# preprocess the embedding speed up the process\n",
    "import os\n",
    "# load labeled data pid\n",
    "Dataset = \"pubmed\"\n",
    "fileDir = \"Data/\"+Dataset+\"/canopies_labeled/\"\n",
    "listfiles = os.listdir(fileDir)\n",
    "pid_need_extract = []\n",
    "\n",
    "for file in listfiles:\n",
    "    if not file.startswith('.'):\n",
    "        with open(fileDir+file, 'r', encoding = 'utf8') as f:\n",
    "            for line in f:\n",
    "                read_data = line.split(\"\\t\")\n",
    "                # some record's doi contain \\r or \\n character in which creating issue, since we do not use those, ignore it\n",
    "                if(len(read_data)==13 or len(read_data)==12):\n",
    "                    pid_need_extract.append(int(read_data[0]))\n",
    "                else:\n",
    "                    print(len(read_data))\n",
    "        f.close()\n",
    "print(\"Total labeled records:\",len(pid_need_extract))"
   ]
  },
  {
   "cell_type": "code",
   "execution_count": 2,
   "metadata": {
    "ExecuteTime": {
     "end_time": "2020-08-18T20:23:45.320108Z",
     "start_time": "2020-08-18T20:23:45.244197Z"
    }
   },
   "outputs": [
    {
     "name": "stdout",
     "output_type": "stream",
     "text": [
      "Unique pid:  135796\n"
     ]
    }
   ],
   "source": [
    "# extract 135796 embedding out of all embedding\n",
    "pid_need_extract = list(sorted(set(pid_need_extract)))\n",
    "print(\"Unique pid: \", len(pid_need_extract))"
   ]
  },
  {
   "cell_type": "code",
   "execution_count": 3,
   "metadata": {
    "ExecuteTime": {
     "end_time": "2020-08-18T20:24:15.387123Z",
     "start_time": "2020-08-18T20:23:48.324158Z"
    }
   },
   "outputs": [
    {
     "name": "stdout",
     "output_type": "stream",
     "text": [
      "['27406695', 'A comparison of hemagglutination inhibition and neutralization assays for characterizing immunity to seasonal influenza A', 'cross-protection$$hemagglutination inhibition test$$immunity$$influenza$$microneutralization test$$neutralization test', '', \"Serum antibody to influenza can be used to identify past exposure and measure current immune status. The two most common methods for measuring this are the hemagglutination inhibition assay (HI) and the viral neutralization assay (NT), which have not been systematically compared for a large number of influenza viruses. A total of 151 study participants from near Guangzhou, China, were enrolled in 2009 and provided serum. HI and NT assays were performed for 12 historic and recently circulating strains of seasonal influenza A. We compared titers using Spearman correlation and fit models to predict NT using HI results. We observed high positive mean correlation between HI and NT assays (Spearman's rank correlation, ?=.86) across all strains. Correlation was highest within subtypes and within close proximity in time. Overall, an HI=20 corresponded to NT=10, and HI=40 corresponded to NT=20. Linear regression of log(NT) on log(HI) was statistically significant, with age modifying this relationship. Strain-specific area under a curve (AUC) indicated good accuracy (>80%) for predicting NT with HI. While we found high overall correspondence of titers between NT and HI assays for seasonal influenza A, no exact equivalence between assays could be determined. This was further complicated by correspondence between titers changing with age. These findings support generalized comparison of results between assays and give further support for use of the hemagglutination inhibition assay over the more resource intensive viral neutralization assay for seasonal influenza A, although attention should be given to the effect of age on these assays.\\n\"]\n",
      "27406695\n",
      "Total records: 3151504\n"
     ]
    }
   ],
   "source": [
    "# extract text info based on paperID and generate new smaller file with id, title, abstract, keyword, and mesh\n",
    "filePath = \"Data/\"+Dataset+\"/id_text_combined.txt\"\n",
    "all_text = []\n",
    "num_fail_extract = 0\n",
    "\n",
    "with open(filePath, 'r', encoding = 'utf8') as f:\n",
    "    for line in f:\n",
    "        read_data = line.split(\"\\t\")\n",
    "        all_text.append(read_data)\n",
    "f.close()\n",
    "print(all_text[0])\n",
    "print(all_text[0][0])\n",
    "print(\"Total records:\",len(all_text))"
   ]
  },
  {
   "cell_type": "code",
   "execution_count": 4,
   "metadata": {
    "ExecuteTime": {
     "end_time": "2020-08-18T20:24:15.394293Z",
     "start_time": "2020-08-18T20:24:15.389406Z"
    }
   },
   "outputs": [
    {
     "name": "stdout",
     "output_type": "stream",
     "text": [
      "135796\n",
      "3151504\n"
     ]
    }
   ],
   "source": [
    "print(len(pid_need_extract))\n",
    "print(len(all_text))"
   ]
  },
  {
   "cell_type": "code",
   "execution_count": 5,
   "metadata": {
    "ExecuteTime": {
     "end_time": "2020-08-18T20:24:18.750832Z",
     "start_time": "2020-08-18T20:24:15.396429Z"
    }
   },
   "outputs": [
    {
     "name": "stdout",
     "output_type": "stream",
     "text": [
      "3151504\n",
      "[['3', 'Metal substitutions incarbonic anhydrase: a halide ion probe study', '', 'animals$$binding sites$$cadmium$$carbonic anhydrases$$cattle$$humans$$hydrogen-ion concentration$$magnetic resonance spectroscopy$$mercury$$protein binding$$protein conformation$$zinc', '\\n'], ['46', 'Purification and properties of Escherichia coli dihydrofolate reductase', '', 'amino acids$$chromatography, affinity$$escherichia coli$$hydrogen-ion concentration$$isoenzymes$$kinetics$$macromolecular substances$$methotrexate$$molecular weight$$osmolar concentration$$potassium chloride$$protein conformation$$sodium chloride$$tetrahydrofolate dehydrogenase', 'Dihydrofolate reductase has been purified 40-fold to apparent homogeneity from a trimethoprim-resistant strain of Escherichia coli (RT 500) using a procedure that includes methotrexate affinity column chromatography. Determinations of the molecular weight of the enzyme based on its amino acid composition, sedimentation velocity, and sodium dodecyl sulfate gel electrophoresis gave values of 17680, 17470 and 18300, respectively. An aggregated form of the enzyme with a low specific activity can be separated from the monomer by gel filtration; treatment of the aggregate with mercaptoethanol or dithiothreitol results in an increase in enzymic activity and a regeneration of the monomer. Also, multiple molecular forms of the monomer have been detected by polyacrylamide gel electrophoresis. The unresolved enzyme exhibits two pH optima (pH 4.5 and pH 7.0) with dihydrofolate as a substrate. Highest activities are observed in buffers containing large organic cations. In 100 mM imidazolium chloride (pH 7), the specific activity is 47 mumol of dihydrofolate reduced per min per mg at 30 degrees. Folic acid also serves as a substrate with a single pH optimum of pH 4.5. At this pH the Km for folate is 16 muM, and the Vmax is 1/1000 of the rate observed with dihydrofolate as the substrate. Monovalent cations (Na+, K+, Rb+, and Cs+) inhibit dihydrofolate reductase; at a given ionic strength the degree of inhibition is a function of the ionic radius of the cation. Divalent cations are more potent inhibitors; the I50 of BaCl2 is 250 muM, as compared to 125 mM for KCl. Anions neither inhibit nor activate the enzyme.\\n'], ['75', 'Characteristics of the dephosphorylated form of phosphorylase purified from rat liver and measurement of its activity in crude liver preparations', '', 'adenosine monophosphate$$adrenal glands$$adrenalectomy$$animals$$buffers$$chickens$$diabetes mellitus$$fasting$$hydrogen-ion concentration$$kinetics$$liver$$muscles$$phosphorylase kinase$$phosphorylase phosphatase$$phosphorylases$$rabbits$$rats$$salts', 'The phosphorylated form of liver glycogen phosphorylase (alpha-1,4-glucan : orthophosphate alpha-glucosyl-transferase, EC 2.4.1.1) (phosphorylase a) is active and easily measured while the dephosphorylated form (phosphorylase b), in contrast to the muscle enzyme, has been reported to be essentially inactive even in the presence of AMP. We have purified both forms of phosphorylase from rat liver and studied the characteristics of each. Phosphorylase b activity can be measured with our assay conditions. The phosphorylase b we obtained was stimulated by high concentrations of sulfate, and was a substrate for muscle phosphorylase kinase whereas phosphorylase a was inhibited by sulfate, and was a substrate for liver phosphorylase phosphatase. Substrate binding to phosphorylase b was poor (KM glycogen = 2.5 mM, glucose-1-P = 250 mM) compared to phosphorylase a (KM glycogen = 1.8 mM, KM glucose-1-P = 0.7 mM). Liver phosphorylase b was active in the absence of AMP. However, AMP lowered the KM for glucose-1-P to 80 mM for purified phosphorylase b and to 60 mM for the enzyme in crude extract (Ka = 0.5 mM). Using appropriate substrate, buffer and AMP concentrations, assay conditions have been developed which allow determination of phosphorylase a and 90% of the phosphorylase b activity in liver extracts. Interconversion of the two forms can be demonstrated in vivo (under acute stimulation) and in vitro with little change in total activity. A decrease in total phosphorylase activity has been observed after prolonged starvation and in diabetes.\\n']]\n"
     ]
    }
   ],
   "source": [
    "all_text = sorted(all_text,key=lambda x: (int(x[0])))\n",
    "print(len(all_text))\n",
    "print(all_text[:3])"
   ]
  },
  {
   "cell_type": "code",
   "execution_count": 6,
   "metadata": {
    "ExecuteTime": {
     "end_time": "2020-08-18T20:24:33.261742Z",
     "start_time": "2020-08-18T20:24:24.325182Z"
    }
   },
   "outputs": [
    {
     "name": "stdout",
     "output_type": "stream",
     "text": [
      "Total paper fail to find:  0\n"
     ]
    }
   ],
   "source": [
    "# extract needed embedding\n",
    "counter = 0\n",
    "labeled_text_list = []\n",
    "num_fail_extract = 0\n",
    "for labeled_text in all_text:\n",
    "    if(len(pid_need_extract)==0):\n",
    "        break\n",
    "    while (pid_need_extract[0]<=int(labeled_text[0])):\n",
    "        if pid_need_extract[0]==int(labeled_text[0]):\n",
    "            labeled_text_list.append(labeled_text)\n",
    "            pid_need_extract.remove(int(labeled_text[0]))\n",
    "        elif (pid_need_extract[0]<int(labeled_text[0])):\n",
    "            # remove paper that not in all dataset\n",
    "            print(pid_need_extract[0], \" : \",labeled_text[0])\n",
    "            pid_need_extract.remove(pid_need_extract[0])\n",
    "            num_fail_extract+=1\n",
    "        if len(pid_need_extract)==0:\n",
    "            break\n",
    "print(\"Total paper fail to find: \",num_fail_extract)"
   ]
  },
  {
   "cell_type": "code",
   "execution_count": 7,
   "metadata": {
    "ExecuteTime": {
     "end_time": "2020-08-18T20:24:33.268869Z",
     "start_time": "2020-08-18T20:24:33.264090Z"
    }
   },
   "outputs": [
    {
     "name": "stdout",
     "output_type": "stream",
     "text": [
      "135796\n",
      "[['8077', 'Energetics of primary processes in visula escitation: photocalorimetry of rhodopsin in rod outer segment membranes', '', 'animals$$binding sites$$calorimetry$$cattle$$ferric compounds$$hydrogen-ion concentration$$hydroxylamines$$light$$lysine$$models, biological$$oxalates$$photochemistry$$photoreceptor cells$$radiation effects$$retinal pigments$$retinaldehyde$$rhodopsin$$temperature$$thermodynamics$$vision, ocular', 'A sensitive technique for the direct calorimetric determination of the energetics of photochemical reactions under low levels of illumination, and its application to the study of primary processes in visula excitation, are described. Enthlpies are reported for various steps in the bleaching of rhodopsin in intact rod outer segment membranes, together with the heats of appropriate model reactions. Protonation changes are also determined calorimetrically by use of buffers with differing heats of proton ionization. Bleaching of rhodopsin is accompanied by significant uptake of heat energy, vastly in excess of the energy required for simple isomerization of the retinal chromophore. Metarhodopsin I formation involves the uptake of about 17 kcal/mol and no net change in proton ionization of the system. Formation of metarhodopsin II requires an additional energy of about 10 kcal/mol and involves the uptake on one hydrogen ion from solution. The energetics of the overall photolysis reaction, rhodopsin leads to opsin + all-trans-retinal, are pH dependent and involve the exposure of an additional titrating group on opsin. This group has a heat of proton ionization of about 12 kcal/mal, characteristic of a primary amine, but a pKa in the region of neutrality. We suggest that this group is the Schiff base lysine of the chromophore binding site of rhodopsin which becomes exposed on photolysis. The low pKa for this active lysine would result in a more stable retinal-opsin linkage, and might be induced by a nearby positively charged group on the protein (either arginine or a second lysine residue). This leads to a model involving intramolecular protonation of the Schiff base nitrogen in the retinal-opsin linkage of rhodopsin, which is consistent with the thermodynamic and spectroscopic properties of the system. We further propose that the metarhodopsin I leads to metarhodopsin II step in the bleaching sequence involves reversible hydrolysis of the Schiff base linkage in the chromophore binding site, and that subsequent steps are the result of migration of the chromophore from this site.\\n'], ['17755', 'Ultrastructural features of osmotic shock in mussel gill cilia', '', 'animals$$bivalvia$$cilia$$colchicine$$cytosol$$hydrogen-ion concentration$$microtubules$$movement$$osmolar concentration$$osmotic pressure$$polyethylene glycols$$vinblastine', '\\n'], ['28220', 'Studies on the microsomal metabolism and binding of polybrominated biphenyls (PBBs)', '', 'animals$$biotransformation$$biphenyl compounds$$dna$$female$$lactation$$male$$methylcholanthrene$$microsomes, liver$$milk$$nadp$$phenobarbital$$polybrominated biphenyls$$pregnancy$$protein binding$$rats', \"The metabolism of polybrominated biphenyls (PBBs) was studied in vitro by using rat liver microsomes in the presence of NADPH and atmospheric O2. Quantitative recoveries of all PBBs were obtained after incubations with control or 3-methylcholanthrene (MC) induced microsomes. Of the twelve major components, losses of only peaks 1 (2,4,5,2',5'-pentabromobiphenyl) and 3 (a hexabromobiphenyl) were observed following incubations with microsomes from phenobarbital (PB)- or PBBS- pretreated rats. Of seven structurally identified PBB components, only peak 1 has a bromine-free para position. Peaks 1, 2, and 5 all have two adjacent unsubstituted carbons, yet only peak 1 is metabolized. Of two dibromobiphenyl model compounds studied, the 2,2'-congener was very rapidly metabolized by PB-induced microsomes whereas its 4,4'-isomer was not. These results suggest that the presence of a free para position is required for the metabolism of brominated biphenyls. Of lesser importance appears to be the number of bromines or the availability of two adjacent unsubstituted carbons. In vivo evidence for the metabolism of peaks 1 and 3 was also provided by their drastically diminished levels in liver and milk extracts. When a 14C-PBB mixture consisting almost exclusively of peaks 4 (2,4,5,2',4',5'-hexabromobiphenyl) and 8 (2,3,4,5,2',4',5'-heptabromobiphenyl) was incubated with PB- or PBBs- induced microsomes and NADPH, only traces of radioactivity remained with the microsomes after extensive extraction. However, less radioactivity was bound to microsomes from MC pretreated or especially control rats. No radioactivity was bound to exogenous DNA included in similar microsomal incubations, regardless of the type of microsomes used. Under the same conditions, [3H]-benzo[a]pyrene metabolites were bound to DNA, and PBB-induced microsomes enhanced this binding more than six-fold.\\n\"]]\n"
     ]
    }
   ],
   "source": [
    "print(len(labeled_text_list))\n",
    "print(labeled_text_list[:3])"
   ]
  },
  {
   "cell_type": "code",
   "execution_count": 10,
   "metadata": {
    "ExecuteTime": {
     "end_time": "2019-02-18T00:22:21.959674Z",
     "start_time": "2019-02-18T00:22:19.645055Z"
    },
    "collapsed": true
   },
   "outputs": [],
   "source": [
    "# export needed embedding to txt file\n",
    "newfileDir = \"Data/\"+Dataset+\"/\"\n",
    "if not os.path.exists(newfileDir):\n",
    "    os.makedirs(newfileDir)\n",
    "    \n",
    "with open(newfileDir+\"id_text_combined_labeled.txt\", \"w\",encoding='utf8') as f:\n",
    "    for feature in labeled_text_list:\n",
    "        f.write((\"\\t\".join(feature)).strip('\\n')+\"\\n\")\n",
    "f.close()"
   ]
  },
  {
   "cell_type": "code",
   "execution_count": null,
   "metadata": {
    "collapsed": true
   },
   "outputs": [],
   "source": []
  }
 ],
 "metadata": {
  "kernelspec": {
   "display_name": "Python 3",
   "language": "python",
   "name": "python3"
  },
  "language_info": {
   "codemirror_mode": {
    "name": "ipython",
    "version": 3
   },
   "file_extension": ".py",
   "mimetype": "text/x-python",
   "name": "python",
   "nbconvert_exporter": "python",
   "pygments_lexer": "ipython3",
   "version": "3.6.10"
  }
 },
 "nbformat": 4,
 "nbformat_minor": 2
}
