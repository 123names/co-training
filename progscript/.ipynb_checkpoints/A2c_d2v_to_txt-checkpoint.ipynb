{
 "cells": [
  {
   "cell_type": "code",
   "execution_count": 2,
   "metadata": {
    "ExecuteTime": {
     "end_time": "2018-12-21T01:50:55.298560Z",
     "start_time": "2018-12-21T01:50:53.642673Z"
    }
   },
   "outputs": [
    {
     "name": "stdout",
     "output_type": "stream",
     "text": [
      "Loading model ........\n",
      "Done\n"
     ]
    }
   ],
   "source": [
    "import gensim\n",
    "import logging\n",
    "import os\n",
    "import numpy as np\n",
    "from matplotlib import pyplot\n",
    "\n",
    "Dataset = \"pubmed\"\n",
    "\n",
    "# load existing model\n",
    "print(\"Loading model ........\")\n",
    "# \"../Data/\"+Dataset+\"/models/doc2v/textual_sample=3m/pv_dbow/Doc2Vec(dbow,d100,n5,mc2,s0.001,t24)\"\n",
    "# \"../Data/\"+Dataset+\"/models/doc2v/textual_sample=3m/pv_dm/Doc2Vec(dmm,d100,n5,w5,mc2,s0.001,t24)\"\n",
    "model = gensim.models.Doc2Vec.load(\"../Data/\"+Dataset+\"/models/doc2v/textual_sample=140k/pv_dbow/Doc2Vec(dbow,d100,n5,mc2,s0.001,t24)\")\n",
    "print(\"Done\")"
   ]
  },
  {
   "cell_type": "code",
   "execution_count": 5,
   "metadata": {
    "ExecuteTime": {
     "end_time": "2018-12-17T22:32:10.750410Z",
     "start_time": "2018-12-17T22:32:10.704052Z"
    }
   },
   "outputs": [
    {
     "name": "stdout",
     "output_type": "stream",
     "text": [
      "162561\n",
      "135796\n",
      "['8077', '17755', '28220', '32056', '33233', '73348', '79713', '81060', '88018', '90012', '111298', '122764', '143887', '151973', '160463', '193706', '209577', '209970', '214193', '214333', '215050', '215148', '217265', '217380', '222013', '225749', '228863', '234785', '324565', '325208', '342104', '361172', '375099', '380781', '384254', '384256', '405495', '431816', '435127', '456577', '461683', '466506', '469266', '503236', '504448', '504463', '537383', '557056', '562505', '591426', '593357', '600376', '622194', '645355', '646810', '653791', '672636', '699016', '717992', '730761', '740755', '740759', '745024', '755663', '755676', '757226', '776033', '823842', '833853', '844087', '862010', '903538', '932880', '936111', '945194', '948370', '995242', '1001820', '1066687', '1130673', '1161023', '1172508', '1247456', '1249372', '1252834', '1263021', '1269896', '1282013', '1283452', '1283753', '1286200', '1287162', '1287944', '1288076', '1288203', '1288329', '1289383', '1290937', '1290938', '1292439']\n",
      "100\n",
      "[-4.26651448e-01 -2.02746645e-01  8.01687092e-02  2.83757240e-01\n",
      "  3.49318944e-02 -2.23565832e-01 -3.72970581e-01  8.55050683e-02\n",
      " -8.46354902e-01 -5.35770357e-01 -1.87531397e-01 -1.58320680e-01\n",
      "  3.34230736e-02  1.98533222e-01  2.14869738e-01 -8.80391479e-01\n",
      "  7.68066496e-02 -4.55495834e-01  2.51815975e-01  6.88497901e-01\n",
      " -5.25791526e-01 -1.57358050e-01  6.93184972e-01 -3.12031895e-01\n",
      "  2.69187897e-01 -6.91778660e-01  3.18276614e-01 -1.24258828e+00\n",
      " -3.45038213e-02 -4.30427492e-01  1.50295809e-01  3.61901164e-01\n",
      " -3.02727614e-02 -4.78537977e-01  4.82616514e-01  2.72812426e-01\n",
      " -1.53052650e-04 -2.30726562e-02  2.83149034e-01  4.32218373e-01\n",
      " -8.02083760e-02  6.34952426e-01 -5.10420918e-01  1.03504837e+00\n",
      "  1.56378299e-01  1.61051810e-01 -1.62489474e-01  5.76204062e-01\n",
      "  1.28607273e-01  2.09606826e-01  1.54712901e-01  2.72137910e-01\n",
      " -3.84682864e-01  6.79856241e-01 -5.96352637e-01 -1.33450306e-03\n",
      "  7.79307485e-02  1.73001513e-01  7.85766169e-02  6.68238997e-01\n",
      " -2.72141397e-01 -8.21241662e-02 -4.37627822e-01 -6.82398140e-01\n",
      " -6.29926622e-02  5.93570411e-01  5.74655272e-02 -2.64001507e-02\n",
      " -1.32668361e-01  3.92456025e-01 -1.27001166e-01 -4.68071491e-01\n",
      "  1.59500614e-01 -1.36815518e-01 -6.56570271e-02 -1.36097848e-01\n",
      "  4.49737340e-01  6.17395155e-02 -3.99902642e-01  6.20844960e-01\n",
      " -7.64434516e-01 -1.29116952e-01  7.09488928e-01  6.83589727e-02\n",
      " -1.34291857e-01  1.05095282e-01  2.24309757e-01  1.69112235e-01\n",
      " -7.22760737e-01 -1.11364394e-01 -6.58878207e-01 -6.35259986e-01\n",
      "  1.09708831e-01  1.90547004e-01  4.18742865e-01 -3.60014528e-01\n",
      "  2.23304659e-01  3.85000616e-01  1.78348795e-01 -6.43243343e-02]\n",
      "['-0.42665145', '-0.20274664', '0.08016871', '0.28375724', '0.03493189', '-0.22356583', '-0.37297058', '0.08550507', '-0.84635490', '-0.53577036', '-0.18753140', '-0.15832068', '0.03342307', '0.19853322', '0.21486974', '-0.88039148', '0.07680665', '-0.45549583', '0.25181597', '0.68849790', '-0.52579153', '-0.15735805', '0.69318497', '-0.31203189', '0.26918790', '-0.69177866', '0.31827661', '-1.24258828', '-0.03450382', '-0.43042749', '0.15029581', '0.36190116', '-0.03027276', '-0.47853798', '0.48261651', '0.27281243', '-0.00015305', '-0.02307266', '0.28314903', '0.43221837', '-0.08020838', '0.63495243', '-0.51042092', '1.03504837', '0.15637830', '0.16105181', '-0.16248947', '0.57620406', '0.12860727', '0.20960683', '0.15471290', '0.27213791', '-0.38468286', '0.67985624', '-0.59635264', '-0.00133450', '0.07793075', '0.17300151', '0.07857662', '0.66823900', '-0.27214140', '-0.08212417', '-0.43762782', '-0.68239814', '-0.06299266', '0.59357041', '0.05746553', '-0.02640015', '-0.13266836', '0.39245602', '-0.12700117', '-0.46807149', '0.15950061', '-0.13681552', '-0.06565703', '-0.13609785', '0.44973734', '0.06173952', '-0.39990264', '0.62084496', '-0.76443452', '-0.12911695', '0.70948893', '0.06835897', '-0.13429186', '0.10509528', '0.22430976', '0.16911224', '-0.72276074', '-0.11136439', '-0.65887821', '-0.63525999', '0.10970883', '0.19054700', '0.41874287', '-0.36001453', '0.22330466', '0.38500062', '0.17834879', '-0.06432433']\n",
      "<class 'list'>\n"
     ]
    }
   ],
   "source": [
    "# size of vocab\n",
    "print(len(model.wv.vocab))\n",
    "# print number of doc vec\n",
    "print(len(model.docvecs))\n",
    "# print list of all tags\n",
    "allPaperTags = model.docvecs.offset2doctag\n",
    "print(allPaperTags[:100])\n",
    "# dimension of the doc vector\n",
    "print(len(model.docvecs[0]))\n",
    "# example of one doc vectors\n",
    "print(model.docvecs['8077'])\n",
    "test = model.docvecs['8077'].tolist()\n",
    "test = [format(i, '.8f') for i in test]\n",
    "print(test)\n",
    "print(type(test))"
   ]
  },
  {
   "cell_type": "code",
   "execution_count": 7,
   "metadata": {
    "ExecuteTime": {
     "end_time": "2018-11-28T15:50:36.835414Z",
     "start_time": "2018-11-28T15:50:36.815227Z"
    },
    "collapsed": true
   },
   "outputs": [],
   "source": [
    "import unicodedata\n",
    "import string\n",
    "valid_filename_chars = \"-_.,() %s%s\" % (string.ascii_letters, string.digits)\n",
    "char_limit = 255\n",
    "def clean_filename(filename, whitelist=valid_filename_chars, replace=' '):\n",
    "    # replace spaces\n",
    "    for r in replace:\n",
    "        filename = filename.replace(r,'_')\n",
    "    \n",
    "    # keep only valid ascii chars\n",
    "    cleaned_filename = unicodedata.normalize('NFKD', filename).encode('ASCII', 'ignore').decode()\n",
    "    \n",
    "    # keep only whitelisted chars\n",
    "    cleaned_filename = ''.join(c for c in cleaned_filename if c in whitelist)\n",
    "    if len(cleaned_filename)>char_limit:\n",
    "        print(\"Warning, filename truncated because it was over {}. Filenames may no longer be unique\".format(char_limit))\n",
    "    return cleaned_filename[:char_limit]"
   ]
  },
  {
   "cell_type": "code",
   "execution_count": 9,
   "metadata": {
    "ExecuteTime": {
     "end_time": "2018-11-28T15:51:01.146528Z",
     "start_time": "2018-11-28T15:51:01.141207Z"
    }
   },
   "outputs": [
    {
     "data": {
      "text/plain": [
       "'Doc2Vec(dmm,d100,n5,w5,mc3,s0.001,t24)'"
      ]
     },
     "execution_count": 9,
     "metadata": {},
     "output_type": "execute_result"
    }
   ],
   "source": [
    "clean_filename(model.__str__())"
   ]
  },
  {
   "cell_type": "code",
   "execution_count": 10,
   "metadata": {
    "ExecuteTime": {
     "end_time": "2018-11-28T15:56:06.584016Z",
     "start_time": "2018-11-28T15:51:03.105051Z"
    },
    "collapsed": true
   },
   "outputs": [],
   "source": [
    "# export the paper vector representation to txt file\n",
    "newfileDir = \"../Data/\"+Dataset+\"/vectors/d2v/\"\n",
    "if not os.path.exists(newfileDir):\n",
    "    os.makedirs(newfileDir)\n",
    "allPaperTags = model.docvecs.offset2doctag\n",
    "newf = open(newfileDir+clean_filename(model.__str__())+\".txt\", \"w\",encoding='utf8')\n",
    "\n",
    "for paper in allPaperTags:\n",
    "    vectorRepresentation = model.docvecs[paper].tolist()\n",
    "    vectorRepresentation = [format(i, '.8f') for i in vectorRepresentation]\n",
    "    vectorRepresentation = ' '.join(vectorRepresentation)\n",
    "    newf.write(paper+\" \"+vectorRepresentation+ \"\\n\")\n",
    "newf.close()"
   ]
  },
  {
   "cell_type": "code",
   "execution_count": null,
   "metadata": {
    "collapsed": true
   },
   "outputs": [],
   "source": []
  }
 ],
 "metadata": {
  "kernelspec": {
   "display_name": "Python 3",
   "language": "python",
   "name": "python3"
  },
  "language_info": {
   "codemirror_mode": {
    "name": "ipython",
    "version": 3
   },
   "file_extension": ".py",
   "mimetype": "text/x-python",
   "name": "python",
   "nbconvert_exporter": "python",
   "pygments_lexer": "ipython3",
   "version": "3.6.3"
  }
 },
 "nbformat": 4,
 "nbformat_minor": 2
}
