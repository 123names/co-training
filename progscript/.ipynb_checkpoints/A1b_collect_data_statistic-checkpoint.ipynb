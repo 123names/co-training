{
 "cells": [
  {
   "cell_type": "code",
   "execution_count": 2,
   "metadata": {
    "ExecuteTime": {
     "end_time": "2019-02-17T22:54:39.373173Z",
     "start_time": "2019-02-17T22:53:44.324850Z"
    }
   },
   "outputs": [
    {
     "name": "stdout",
     "output_type": "stream",
     "text": [
      "2\n",
      "2\n",
      "All line:  4163774\n",
      "Error formate line:  -2\n",
      "Formated records:  4163772\n"
     ]
    }
   ],
   "source": [
    "# load the file\n",
    "import sys\n",
    "import io\n",
    "import os\n",
    "\n",
    "Dataset = \"pubmed\"\n",
    "\n",
    "fileDir = \"Data/\"+Dataset+\"/canopies/\"\n",
    "listfiles = os.listdir(fileDir)\n",
    "all_line = 0\n",
    "allformatedRecords = []\n",
    "\n",
    "\n",
    "for file in listfiles:\n",
    "    if not file.startswith('.'):\n",
    "        with open(fileDir+file, 'r', encoding = 'utf8') as f:\n",
    "            for line in f:\n",
    "                all_line+=1\n",
    "                read_data = line.split(\"\\t\")\n",
    "                # some record's doi contain \\r or \\n character in which creating issue, since we do not use those, ignore it\n",
    "                if(len(read_data)==13 or len(read_data)==12):\n",
    "                    paper_detail = {\"paperID\": read_data[0], \"authorID\":read_data[1], \"total_author\": read_data[3],\n",
    "                                    \"author_name\": read_data[4], \"co_authors\": read_data[5], \"department\": read_data[6],\n",
    "                                    \"venue\": read_data[7], \"mesh\": read_data[8], \"keywords\": read_data[9], \n",
    "                                    \"publish_year\": read_data[10]}\n",
    "                    allformatedRecords.append(paper_detail)\n",
    "                else:\n",
    "                    print(len(read_data))\n",
    "        f.close()\n",
    "error_line = len(allformatedRecords)-all_line\n",
    "print(\"All line: \", all_line)\n",
    "print(\"Error formate line: \", error_line)\n",
    "print(\"Formated records: \", len(allformatedRecords))"
   ]
  },
  {
   "cell_type": "code",
   "execution_count": 3,
   "metadata": {
    "ExecuteTime": {
     "end_time": "2019-02-17T22:55:03.819252Z",
     "start_time": "2019-02-17T22:54:39.377032Z"
    }
   },
   "outputs": [
    {
     "name": "stdout",
     "output_type": "stream",
     "text": [
      "Total records: 4163772 records\n",
      "Record have no author name:  0\n",
      "Record have no total_author:  0\n",
      "Record have no venue:  0\n",
      "Record have no co_authors:  132742\n",
      "Record have no department:  2678926\n",
      "Record have no mesh:  886569\n",
      "Record have no keywords:  3414308\n",
      "Record have no publish_year:  8\n"
     ]
    }
   ],
   "source": [
    "print(\"Total records:\",len(allformatedRecords), \"records\")\n",
    "# find total number of papers using set\n",
    "paperIDs = set()\n",
    "# collect data missing condition\n",
    "from collections import defaultdict\n",
    "not_available_count = defaultdict(int)\n",
    "for record in allformatedRecords:\n",
    "    if(record[\"author_name\"]==\"\"):\n",
    "        not_available_count[\"author name\"]+=1\n",
    "    if(record[\"total_author\"]==\"\"):\n",
    "        not_available_count[\"total author\"]+=1\n",
    "    if(record[\"co_authors\"]==\"\"):\n",
    "        not_available_count[\"co authors\"]+=1\n",
    "    if(record[\"department\"]==\"\"):\n",
    "        not_available_count[\"department\"]+=1\n",
    "    if(record[\"venue\"]==\"\"):\n",
    "        not_available_count[\"venue\"]+=1\n",
    "    if(record[\"mesh\"]==\"\"):\n",
    "        not_available_count[\"mesh\"]+=1\n",
    "    if(record[\"keywords\"]==\"\"):\n",
    "        not_available_count[\"keywords\"]+=1\n",
    "    if(record[\"publish_year\"]==\"\"):\n",
    "        not_available_count[\"publish year\"]+=1\n",
    "    paperIDs.add(int(record[\"paperID\"]))\n",
    "    \n",
    "print(\"Record have no author name: \", not_available_count[\"author name\"])\n",
    "print(\"Record have no total_author: \", not_available_count[\"total author\"] )\n",
    "print(\"Record have no venue: \", not_available_count[\"venue\"])\n",
    "print(\"Record have no co_authors: \", not_available_count[\"co authors\"])\n",
    "print(\"Record have no department: \", not_available_count[\"department\"])\n",
    "print(\"Record have no mesh: \", not_available_count[\"mesh\"])\n",
    "print(\"Record have no keywords: \", not_available_count[\"keywords\"])\n",
    "print(\"Record have no publish_year: \", not_available_count[\"publish year\"])"
   ]
  },
  {
   "cell_type": "code",
   "execution_count": 5,
   "metadata": {
    "ExecuteTime": {
     "end_time": "2019-02-17T22:59:13.406878Z",
     "start_time": "2019-02-17T22:59:12.550544Z"
    }
   },
   "outputs": [
    {
     "name": "stderr",
     "output_type": "stream",
     "text": [
      "/home/gao137/intel/intelpython3/lib/python3.6/site-packages/matplotlib/axes/_axes.py:545: UserWarning: No labelled objects found. Use label='...' kwarg on individual plots.\n",
      "  warnings.warn(\"No labelled objects found. \"\n"
     ]
    },
    {
     "data": {
      "image/png": "[encoded data removed]",
      "text/plain": [
       "<matplotlib.figure.Figure at 0x7f696baf1cc0>"
      ]
     },
     "metadata": {},
     "output_type": "display_data"
    }
   ],
   "source": [
    "import matplotlib.pyplot as plt\n",
    "import numpy as np\n",
    "\n",
    "# plot data missing\n",
    "labels = list(not_available_count.keys())\n",
    "count = [len(allformatedRecords)-count for count in list(not_available_count.values())]\n",
    "# start plot\n",
    "# Generating the y positions. Later, we'll use them to replace them with labels.\n",
    "y_positions = range(len(labels))\n",
    "fig = plt.figure(figsize=(15, 8))\n",
    "ax = fig.add_subplot(111)\n",
    "ax.bar(y_positions, count)\n",
    "rects = ax.patches\n",
    "for rect, count in zip(rects, count):\n",
    "    ax.text(rect.get_x() + rect.get_width()/2, rect.get_height() + 5, str(count)+\"(\"+\"{0:.0%}\".format(count/len(allformatedRecords))+\")\", ha = \"center\", va = \"bottom\")\n",
    "#plt.xticks(labels)\n",
    "plt.xticks(y_positions, labels)\n",
    "plt.xlabel('Features')\n",
    "plt.ylabel('Available Count')\n",
    "plt.title('Feature availablity for each sample')\n",
    "plt.legend()\n",
    "plt.show()\n",
    "fig.savefig(\"../plot/statistic_figs/feature_availablity.png\", dpi=fig.dpi)"
   ]
  },
  {
   "cell_type": "code",
   "execution_count": 13,
   "metadata": {
    "ExecuteTime": {
     "end_time": "2019-02-18T00:06:16.427061Z",
     "start_time": "2019-02-18T00:05:24.931343Z"
    },
    "collapsed": true
   },
   "outputs": [],
   "source": [
    "def gather_abstract_title_info(filepath):\n",
    "    count_no_title = 0\n",
    "    count_no_abstract = 0\n",
    "    count_total_papers = 0\n",
    "    with open(filepath, 'r', encoding = 'utf8') as f:\n",
    "        for line in f:\n",
    "            count_total_papers+=1\n",
    "            items = line.split(\"\\t\")\n",
    "            title = items[1].lower().strip()\n",
    "            abstract = items[4].lower().strip()\n",
    "            if(title==\"\"):\n",
    "                count_no_title+=1\n",
    "            if(abstract==\"\"):\n",
    "                count_no_abstract+=1\n",
    "    f.close()\n",
    "    return count_total_papers, count_no_title, count_no_abstract\n",
    "\n",
    "extracted_total, num_no_title, num_no_abstract = gather_abstract_title_info(\"Data/\"+Dataset+\"/id_text_combined.txt\")"
   ]
  },
  {
   "cell_type": "code",
   "execution_count": 14,
   "metadata": {
    "ExecuteTime": {
     "end_time": "2019-02-18T00:06:16.441147Z",
     "start_time": "2019-02-18T00:06:16.431083Z"
    }
   },
   "outputs": [
    {
     "name": "stdout",
     "output_type": "stream",
     "text": [
      "Extract unique paper count:  3151504\n",
      "Number of extracted paper that do not have title:  1746\n",
      "Number of extracted paper that do not have abstract:  450453\n"
     ]
    }
   ],
   "source": [
    "print(\"Extract unique paper count: \",extracted_total)\n",
    "print(\"Number of extracted paper that do not have title: \", num_no_title)\n",
    "print(\"Number of extracted paper that do not have abstract: \", num_no_abstract)"
   ]
  },
  {
   "cell_type": "code",
   "execution_count": 15,
   "metadata": {
    "ExecuteTime": {
     "end_time": "2019-02-18T00:08:50.930808Z",
     "start_time": "2019-02-18T00:08:48.629925Z"
    }
   },
   "outputs": [
    {
     "name": "stdout",
     "output_type": "stream",
     "text": [
      "Total unique paper count:  3151504\n"
     ]
    }
   ],
   "source": [
    "# the paper id is not unique, we want to extract abstract with unique paper id \n",
    "paperIDs = sorted(paperIDs)\n",
    "total_paper = len(paperIDs)\n",
    "print(\"Total unique paper count: \",total_paper)"
   ]
  },
  {
   "cell_type": "code",
   "execution_count": 16,
   "metadata": {
    "ExecuteTime": {
     "end_time": "2019-02-18T00:08:56.122327Z",
     "start_time": "2019-02-18T00:08:55.213619Z"
    }
   },
   "outputs": [
    {
     "name": "stdout",
     "output_type": "stream",
     "text": [
      "[0, 3151504]\n"
     ]
    },
    {
     "data": {
      "image/png": "[encoded data removed]",
      "text/plain": [
       "<matplotlib.figure.Figure at 0x7f696b9cccf8>"
      ]
     },
     "metadata": {},
     "output_type": "display_data"
    }
   ],
   "source": [
    "# plot real total paper count vs extract total count\n",
    "no_text_paper = total_paper-extracted_total\n",
    "text_info_avail = [no_text_paper, extracted_total]\n",
    "print(text_info_avail)\n",
    "fig2, ax2 = plt.subplots()\n",
    "ax2.pie(text_info_avail, labels=[\"No textual info\", \"Have textual info\"], autopct='%1.1f%%')\n",
    "ax2.axis('equal')\n",
    "plt.title('Text information availability')\n",
    "plt.show()"
   ]
  },
  {
   "cell_type": "code",
   "execution_count": 17,
   "metadata": {
    "ExecuteTime": {
     "end_time": "2019-02-18T00:09:38.855981Z",
     "start_time": "2019-02-18T00:09:29.561090Z"
    }
   },
   "outputs": [
    {
     "name": "stdout",
     "output_type": "stream",
     "text": [
      "Total labeled record:  140266\n",
      "Total labeled paper:  135796\n",
      "Total ORCID count:  9914\n"
     ]
    }
   ],
   "source": [
    "# collect labeled data infomation\n",
    "# collect unique author id\n",
    "labeled_record = []\n",
    "ORCID = []\n",
    "for paper in allformatedRecords:\n",
    "    if paper[\"authorID\"]!=str(-1):\n",
    "        labeled_record.append(int(paper[\"paperID\"]))\n",
    "        ORCID.append(paper[\"authorID\"])\n",
    "ORCID = set(ORCID)\n",
    "labeled_paper = set(labeled_record)\n",
    "print(\"Total labeled record: \", len(labeled_record))\n",
    "print(\"Total labeled paper: \", len(labeled_paper))\n",
    "print(\"Total ORCID count: \",len(ORCID))"
   ]
  },
  {
   "cell_type": "code",
   "execution_count": 18,
   "metadata": {
    "ExecuteTime": {
     "end_time": "2019-02-18T00:09:47.744385Z",
     "start_time": "2019-02-18T00:09:47.174076Z"
    }
   },
   "outputs": [
    {
     "name": "stdout",
     "output_type": "stream",
     "text": [
      "[0.033687243201597016, 0.966312756798403]\n"
     ]
    },
    {
     "data": {
      "image/png": "[encoded data removed]",
      "text/plain": [
       "<matplotlib.figure.Figure at 0x7f696bae4a20>"
      ]
     },
     "metadata": {},
     "output_type": "display_data"
    }
   ],
   "source": [
    "# collect labeled data vs all data\n",
    "total_rec = len(allformatedRecords)\n",
    "labeled_rec = len(labeled_record)\n",
    "record_label_dist = [(labeled_rec/total_rec), ((total_rec-labeled_rec)/total_rec)]\n",
    "print(record_label_dist)\n",
    "\n",
    "fig1, ax1 = plt.subplots()\n",
    "ax1.pie(record_label_dist, labels=[\"Labeled records\", \"Unlabled records\"], autopct='%1.1f%%')\n",
    "ax1.axis('equal')\n",
    "plt.title('Label ratio for all records')\n",
    "plt.show()"
   ]
  },
  {
   "cell_type": "markdown",
   "metadata": {},
   "source": [
    "# collect statistic after preprocessing"
   ]
  },
  {
   "cell_type": "code",
   "execution_count": 1,
   "metadata": {
    "ExecuteTime": {
     "end_time": "2019-01-10T18:06:07.276546Z",
     "start_time": "2019-01-10T18:05:12.499926Z"
    }
   },
   "outputs": [
    {
     "name": "stdout",
     "output_type": "stream",
     "text": [
      "Total  3151504  labeled paper have text information\n"
     ]
    }
   ],
   "source": [
    "# load text information\n",
    "Dataset = \"pubmed\"\n",
    "raw_filepath = \"../Data\"+\"/\"+Dataset+\"/id_text_combined.txt\"\n",
    "all_text_content = []\n",
    "with open(raw_filepath, 'r', encoding = 'utf8') as f:\n",
    "    # items[0] is paper ID, items[1] is title, items[2] is abstract\n",
    "    for line in f:\n",
    "        items = line.split(\"\\t\")\n",
    "        # lower case all character\n",
    "        paperID = items[0]\n",
    "        title = items[1].lower()\n",
    "        keywords = items[2].lower()\n",
    "        mesh = items[3].lower()\n",
    "        abstract = items[4].lower()\n",
    "        # text information can be defined as all feature combined\n",
    "        content = title+\" \"+keywords+\" \"+mesh+\" \"+abstract\n",
    "        paper_text_content = {\"paperID\": paperID, \"title\":title, \"keywords\":keywords, \"mesh\":mesh,\n",
    "                              \"abstract\": abstract, \"combine_text\":content}\n",
    "        all_text_content.append(paper_text_content)\n",
    "print(\"Total \", len(all_text_content), \" labeled paper have text information\")"
   ]
  },
  {
   "cell_type": "code",
   "execution_count": 3,
   "metadata": {
    "ExecuteTime": {
     "end_time": "2019-01-10T18:07:14.484046Z",
     "start_time": "2019-01-10T18:07:00.325288Z"
    },
    "collapsed": true
   },
   "outputs": [],
   "source": [
    "import pandas as pd\n",
    "# convert to dataframe so it's easy to process\n",
    "all_text_content_df = pd.DataFrame(all_text_content)"
   ]
  },
  {
   "cell_type": "code",
   "execution_count": null,
   "metadata": {
    "ExecuteTime": {
     "end_time": "2019-01-10T19:48:06.621308Z",
     "start_time": "2019-01-10T18:07:14.489428Z"
    },
    "collapsed": true
   },
   "outputs": [],
   "source": [
    "import com_func\n",
    "# title average token size after preprocess\n",
    "cleaned_title, title_token_size= com_func.clean_batch_of_raw(all_text_content_df['title'], stopword=True)\n",
    "# abstract average token size after preprocess\n",
    "cleaned_abstract, abstract_token_size= com_func.clean_batch_of_raw(all_text_content_df['abstract'], stopword=True)\n",
    "# mesh average token size after preprocess\n",
    "cleaned_mesh, mesh_token_size= com_func.clean_batch_of_raw(all_text_content_df['mesh'], stopword=True)\n",
    "# keywords average token size after preprocess\n",
    "cleaned_keywords, keywords_token_size= com_func.clean_batch_of_raw(all_text_content_df['keywords'], stopword=True)\n",
    "# combined average token size after preprocess\n",
    "cleaned_text, text_token_size= com_func.clean_batch_of_raw(all_text_content_df['combine_text'], stopword=True)"
   ]
  },
  {
   "cell_type": "code",
   "execution_count": 6,
   "metadata": {
    "ExecuteTime": {
     "end_time": "2019-01-10T19:49:10.570024Z",
     "start_time": "2019-01-10T19:49:09.320027Z"
    }
   },
   "outputs": [
    {
     "name": "stdout",
     "output_type": "stream",
     "text": [
      "9.938808898862257\n",
      "max title token length:  57\n",
      "min title token length:  0\n",
      "104.02582005290172\n",
      "max title token length:  963\n",
      "min title token length:  0\n"
     ]
    }
   ],
   "source": [
    "import numpy as np\n",
    "print(np.sum(title_token_size)/len(title_token_size))\n",
    "print(\"max title token length: \", max(title_token_size))\n",
    "print(\"min title token length: \", min(title_token_size))\n",
    "\n",
    "print(np.sum(abstract_token_size)/len(abstract_token_size))\n",
    "print(\"max title token length: \", max(abstract_token_size))\n",
    "print(\"min title token length: \", min(abstract_token_size))\n",
    "\n",
    "# print(np.sum(mesh_token_size)/len(mesh_token_size))\n",
    "# print(np.sum(keywords_token_size)/len(keywords_token_size))\n",
    "# print(np.sum(text_token_size)/len(text_token_size))"
   ]
  },
  {
   "cell_type": "code",
   "execution_count": null,
   "metadata": {
    "collapsed": true
   },
   "outputs": [],
   "source": []
  }
 ],
 "metadata": {
  "kernelspec": {
   "display_name": "Python 3",
   "language": "python",
   "name": "python3"
  },
  "language_info": {
   "codemirror_mode": {
    "name": "ipython",
    "version": 3
   },
   "file_extension": ".py",
   "mimetype": "text/x-python",
   "name": "python",
   "nbconvert_exporter": "python",
   "pygments_lexer": "ipython3",
   "version": "3.6.3"
  }
 },
 "nbformat": 4,
 "nbformat_minor": 2
}
