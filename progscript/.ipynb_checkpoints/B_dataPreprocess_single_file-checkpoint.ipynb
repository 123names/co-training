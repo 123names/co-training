{
 "cells": [
  {
   "cell_type": "code",
   "execution_count": 1,
   "metadata": {},
   "outputs": [
    {
     "name": "stdout",
     "output_type": "stream",
     "text": [
      "765\n"
     ]
    }
   ],
   "source": [
    "# load the file\n",
    "import sys\n",
    "import io\n",
    "\n",
    "filePath = \"../Data/canopies_clean/canopy_w_wang\"\n",
    "\n",
    "counter = 0\n",
    "allPapersInFile = []\n",
    "\n",
    "with open(filePath, 'r', encoding = 'utf8') as f:\n",
    "    for line in f:\n",
    "        read_data = line.split(\"\\t\")\n",
    "        paper_detail = {\"paperID\": read_data[0], \"authorID\":read_data[1],\n",
    "                        \"author_position\":read_data[2], \"total_author\": read_data[3],\n",
    "                        \"author_name\": read_data[4], \"co_authors\": read_data[5], \n",
    "                        \"department\": read_data[6], \"vendor\": read_data[7], \n",
    "                        \"mesh\": read_data[8], \"keywords\": read_data[9], \n",
    "                        \"publish_year\": read_data[10], \"doi\": read_data[11],\n",
    "                        \"paperTitle\": read_data[12]}\n",
    "        allPapersInFile.append(paper_detail)\n",
    "        counter+=1\n",
    "f.close()\n",
    "print(counter)\n"
   ]
  },
  {
   "cell_type": "code",
   "execution_count": 4,
   "metadata": {
    "collapsed": true
   },
   "outputs": [],
   "source": [
    "# # extract abstract based on paperID and generate new smaller file with id to abstract\n",
    "# filePath = \"../Data/id_abstract.txt\n",
    "# with open(filePath, 'r', encoding = 'utf8') as f:\n",
    "#     newf = open(\"../Data/id_abstract_processed.txt\")\n",
    "#     for line in f:\n",
    "#         read_data = line.split(\"\\t\")\n",
    "#         for paper in allPapersInFile:\n",
    "#             if (read_data[0]==paper[\"paperID\"]):\n",
    "#                 newf.write(read_data[0]+\"\\t\"+read_data[1]+\"\\n\")\n",
    "#     newf.close()\n",
    "# f.close()"
   ]
  },
  {
   "cell_type": "code",
   "execution_count": 3,
   "metadata": {},
   "outputs": [
    {
     "name": "stdout",
     "output_type": "stream",
     "text": [
      "paperID\n",
      "authorID\n",
      "author_position\n",
      "total_author\n",
      "author_name\n",
      "co_authors\n",
      "department\n",
      "vendor\n",
      "mesh\n",
      "keywords\n",
      "publish_year\n",
      "doi\n",
      "paperTitle\n"
     ]
    }
   ],
   "source": [
    "# data column\n",
    "for key in allPapersInFile[0]:\n",
    "    print(key)"
   ]
  },
  {
   "cell_type": "code",
   "execution_count": 3,
   "metadata": {},
   "outputs": [
    {
     "name": "stdout",
     "output_type": "stream",
     "text": [
      "2 people have same name: wendong wang\n",
      "14 people have same name: wei wang\n",
      "3 people have same name: wen wang\n",
      "2 people have same name: w m wang\n",
      "Author name: w m wang, Author: 0000-0001-6818-7711, Paper count: 2\n",
      "Author name: w m wang, Author: 0000-0002-9852-1589, Paper count: 19\n",
      "Author name: wei wang, Author: 0000-0002-6983-2548, Paper count: 1\n",
      "Author name: wei wang, Author: 0000-0001-9223-6472, Paper count: 2\n",
      "Author name: wei wang, Author: 0000-0002-1260-2098, Paper count: 4\n",
      "Author name: wei wang, Author: 0000-0003-3941-4860, Paper count: 4\n",
      "Author name: wei wang, Author: 0000-0001-6587-8859, Paper count: 5\n",
      "Author name: wei wang, Author: 0000-0001-7496-4548, Paper count: 5\n",
      "Author name: wei wang, Author: 0000-0002-7762-7560, Paper count: 6\n",
      "Author name: wei wang, Author: 0000-0002-1083-6720, Paper count: 7\n",
      "Author name: wei wang, Author: 0000-0002-3780-5158, Paper count: 8\n",
      "Author name: wei wang, Author: 0000-0002-4628-1755, Paper count: 12\n",
      "Author name: wei wang, Author: 0000-0002-5257-7675, Paper count: 13\n",
      "Author name: wei wang, Author: 0000-0001-9208-7569, Paper count: 14\n",
      "Author name: wei wang, Author: 0000-0003-4163-3173, Paper count: 14\n",
      "Author name: wei wang, Author: 0000-0002-1430-1360, Paper count: 101\n",
      "Author name: wen wang, Author: 0000-0002-3709-021X, Paper count: 1\n",
      "Author name: wen wang, Author: 0000-0002-5812-6744, Paper count: 1\n",
      "Author name: wen wang, Author: 0000-0002-9303-516X, Paper count: 3\n",
      "Author name: wendong wang, Author: 0000-0003-1930-4891, Paper count: 1\n",
      "Author name: wendong wang, Author: 0000-0003-3007-1750, Paper count: 9\n"
     ]
    }
   ],
   "source": [
    "# extract author with same name\n",
    "from collections import Counter\n",
    "\n",
    "# set up threshold\n",
    "threshold = 0\n",
    "\n",
    "# create author ID to name map\n",
    "author_ID_to_name_map = []\n",
    "\n",
    "for paper in allPapersInFile:\n",
    "    if(paper[\"authorID\"] not in [item[\"author_ID\"] for item in author_ID_to_name_map]):\n",
    "        author_ID_to_name_map.append({\"author_name\": paper[\"author_name\"], \"author_ID\": paper[\"authorID\"]})\n",
    "\n",
    "# extract author with same name\n",
    "sameNameAuthor = []\n",
    "for i in author_ID_to_name_map:\n",
    "    for j in author_ID_to_name_map:\n",
    "        if(j[\"author_name\"]==i[\"author_name\"] and j[\"author_ID\"]!=i[\"author_ID\"]):\n",
    "            if(i[\"author_ID\"] not in [item[\"author_ID\"] for item in sameNameAuthor]):\n",
    "                sameNameAuthor.append(i)\n",
    "            if(j[\"author_ID\"] not in [item[\"author_ID\"] for item in sameNameAuthor]):\n",
    "                sameNameAuthor.append(j)\n",
    "\n",
    "# count author with same name\n",
    "sameNameCounter = Counter([author[\"author_name\"] for author in sameNameAuthor])\n",
    "for key, value in sameNameCounter.items():\n",
    "    if value>=2:\n",
    "        print(value, \"people have same name:\", key)\n",
    "\n",
    "# for author in sameNameAuthor:\n",
    "#     print(\"Author: {k}, Author ID: {c}\".format(k=author[\"author_name\"], c=author[\"author_ID\"]))\n",
    "\n",
    "# count number of paper author write\n",
    "c = Counter([paper[\"authorID\"] for paper in allPapersInFile])\n",
    "for key, value in c.items():\n",
    "    for author in sameNameAuthor:\n",
    "        if(key == author[\"author_ID\"]):\n",
    "            author[\"paper_count\"] = value\n",
    "\n",
    "sameNameAuthorWithCount = sorted(sameNameAuthor, key=lambda k: (k['author_name'], k[\"paper_count\"]))\n",
    "for author in sameNameAuthorWithCount:\n",
    "    if(author[\"paper_count\"]>threshold):\n",
    "        print(\"Author name: {n}, Author: {k}, Paper count: {c}\".format(n=author[\"author_name\"],k=author[\"author_ID\"], c= author[\"paper_count\"]))"
   ]
  }
 ],
 "metadata": {
  "kernelspec": {
   "display_name": "Python 3",
   "language": "python",
   "name": "python3"
  },
  "language_info": {
   "codemirror_mode": {
    "name": "ipython",
    "version": 3
   },
   "file_extension": ".py",
   "mimetype": "text/x-python",
   "name": "python",
   "nbconvert_exporter": "python",
   "pygments_lexer": "ipython3",
   "version": "3.6.3"
  }
 },
 "nbformat": 4,
 "nbformat_minor": 2
}
