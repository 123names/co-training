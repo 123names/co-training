{
 "cells": [
  {
   "cell_type": "code",
   "execution_count": 9,
   "metadata": {
    "ExecuteTime": {
     "end_time": "2019-04-09T18:19:45.987955Z",
     "start_time": "2019-04-09T18:19:45.830513Z"
    }
   },
   "outputs": [
    {
     "name": "stdout",
     "output_type": "stream",
     "text": [
      "2116\n"
     ]
    }
   ],
   "source": [
    "# load the file\n",
    "import sys\n",
    "import io\n",
    "\n",
    "Dataset = \"pubmed\"\n",
    "\n",
    "filePath = \"Data/\"+Dataset+\"/canopies_labeled/canopy_j_kim\"\n",
    "\n",
    "counter = 0\n",
    "allPapersInFile = []\n",
    "\n",
    "with open(filePath, 'r', encoding = 'utf8') as f:\n",
    "    for line in f:\n",
    "        read_data = line.split(\"\\t\")\n",
    "        paper_detail = {\"paperID\": read_data[0], \"authorID\":read_data[1],\n",
    "                        \"author_position\":read_data[2], \"total_author\": read_data[3],\n",
    "                        \"author_name\": read_data[4], \"co_authors\": read_data[5], \n",
    "                        \"department\": read_data[6], \"vendor\": read_data[7], \n",
    "                        \"mesh\": read_data[8], \"keywords\": read_data[9], \n",
    "                        \"publish_year\": read_data[10], \"doi\": read_data[11],\n",
    "                        \"paperTitle\": read_data[12]}\n",
    "        allPapersInFile.append(paper_detail)\n",
    "        counter+=1\n",
    "f.close()\n",
    "print(counter)\n"
   ]
  },
  {
   "cell_type": "code",
   "execution_count": 20,
   "metadata": {
    "ExecuteTime": {
     "end_time": "2019-01-23T19:57:27.864581Z",
     "start_time": "2019-01-23T19:57:27.858622Z"
    },
    "collapsed": true
   },
   "outputs": [],
   "source": [
    "# # extract abstract based on paperID and generate new smaller file with id to abstract\n",
    "# filePath = \"../Data/id_abstract.txt\n",
    "# with open(filePath, 'r', encoding = 'utf8') as f:\n",
    "#     newf = open(\"../Data/id_abstract_processed.txt\")\n",
    "#     for line in f:\n",
    "#         read_data = line.split(\"\\t\")\n",
    "#         for paper in allPapersInFile:\n",
    "#             if (read_data[0]==paper[\"paperID\"]):\n",
    "#                 newf.write(read_data[0]+\"\\t\"+read_data[1]+\"\\n\")\n",
    "#     newf.close()\n",
    "# f.close()"
   ]
  },
  {
   "cell_type": "code",
   "execution_count": 10,
   "metadata": {
    "ExecuteTime": {
     "end_time": "2019-04-09T18:19:49.151096Z",
     "start_time": "2019-04-09T18:19:49.135550Z"
    }
   },
   "outputs": [
    {
     "name": "stdout",
     "output_type": "stream",
     "text": [
      "paperID\n",
      "authorID\n",
      "author_position\n",
      "total_author\n",
      "author_name\n",
      "co_authors\n",
      "department\n",
      "vendor\n",
      "mesh\n",
      "keywords\n",
      "publish_year\n",
      "doi\n",
      "paperTitle\n"
     ]
    }
   ],
   "source": [
    "# data column\n",
    "for key in allPapersInFile[0]:\n",
    "    print(key)"
   ]
  },
  {
   "cell_type": "markdown",
   "metadata": {},
   "source": [
    "# Here we extract groups where name are exact same\n",
    "\n",
    "Due to this is rare case, we will group authors by first initial last name."
   ]
  },
  {
   "cell_type": "code",
   "execution_count": 11,
   "metadata": {
    "ExecuteTime": {
     "end_time": "2019-04-09T18:19:50.471840Z",
     "start_time": "2019-04-09T18:19:50.138512Z"
    }
   },
   "outputs": [
    {
     "name": "stdout",
     "output_type": "stream",
     "text": [
      "2 people have same name: jae-hyun kim\n",
      "2 people have same name: jihyun kim\n",
      "2 people have same name: ji hyun kim\n",
      "2 people have same name: jong-hyun kim\n",
      "2 people have same name: ji-hwan kim\n",
      "2 people have same name: ji-won kim\n",
      "3 people have same name: jihun kim\n",
      "2 people have same name: jin-wook kim\n",
      "3 people have same name: jong seung kim\n",
      "2 people have same name: jaehoon kim\n",
      "2 people have same name: jin woo kim\n",
      "2 people have same name: jihye kim\n",
      "2 people have same name: j h kim\n",
      "2 people have same name: jae-young kim\n",
      "Author name: j h kim, Author: 0000-0002-1418-3309, Paper count: 1\n",
      "Author name: j h kim, Author: 0000-0002-1299-4300, Paper count: 36\n",
      "Author name: jae-hyun kim, Author: 0000-0002-3531-489X, Paper count: 1\n",
      "Author name: jae-hyun kim, Author: 0000-0002-3512-5837, Paper count: 2\n",
      "Author name: jae-young kim, Author: 0000-0002-9423-438X, Paper count: 2\n",
      "Author name: jae-young kim, Author: 0000-0001-9840-4780, Paper count: 11\n",
      "Author name: jaehoon kim, Author: 0000-0001-6188-7571, Paper count: 9\n",
      "Author name: jaehoon kim, Author: 0000-0003-4035-0438, Paper count: 23\n",
      "Author name: ji hyun kim, Author: 0000-0003-1834-4867, Paper count: 1\n",
      "Author name: ji hyun kim, Author: 0000-0002-3984-0686, Paper count: 2\n",
      "Author name: ji-hwan kim, Author: 0000-0003-3889-2289, Paper count: 2\n",
      "Author name: ji-hwan kim, Author: 0000-0002-2679-8802, Paper count: 2\n",
      "Author name: ji-won kim, Author: 0000-0001-9881-2784, Paper count: 12\n",
      "Author name: ji-won kim, Author: 0000-0001-6426-9074, Paper count: 15\n",
      "Author name: jihun kim, Author: 0000-0003-4856-6305, Paper count: 1\n",
      "Author name: jihun kim, Author: 0000-0002-2124-0818, Paper count: 2\n",
      "Author name: jihun kim, Author: 0000-0003-1522-9038, Paper count: 3\n",
      "Author name: jihye kim, Author: 0000-0003-0812-6663, Paper count: 1\n",
      "Author name: jihye kim, Author: 0000-0001-5794-975X, Paper count: 2\n",
      "Author name: jihyun kim, Author: 0000-0002-5886-8545, Paper count: 1\n",
      "Author name: jihyun kim, Author: 0000-0002-0066-534X, Paper count: 4\n",
      "Author name: jin woo kim, Author: 0000-0003-3155-0569, Paper count: 1\n",
      "Author name: jin woo kim, Author: 0000-0003-0767-1918, Paper count: 26\n",
      "Author name: jin-wook kim, Author: 0000-0003-4074-877X, Paper count: 2\n",
      "Author name: jin-wook kim, Author: 0000-0003-0934-3344, Paper count: 73\n",
      "Author name: jong seung kim, Author: 0000-0002-8416-3872, Paper count: 1\n",
      "Author name: jong seung kim, Author: 0000-0002-1384-6799, Paper count: 1\n",
      "Author name: jong seung kim, Author: 0000-0003-3477-1172, Paper count: 146\n",
      "Author name: jong-hyun kim, Author: 0000-0001-8641-7904, Paper count: 1\n",
      "Author name: jong-hyun kim, Author: 0000-0002-3365-8007, Paper count: 1\n"
     ]
    }
   ],
   "source": [
    "# extract author with same name\n",
    "from collections import Counter\n",
    "\n",
    "# set up threshold\n",
    "threshold = 0\n",
    "\n",
    "# create author ID to name map\n",
    "author_ID_to_name_map = []\n",
    "\n",
    "for paper in allPapersInFile:\n",
    "    if(paper[\"authorID\"] not in [item[\"author_ID\"] for item in author_ID_to_name_map]):\n",
    "        author_ID_to_name_map.append({\"author_name\": paper[\"author_name\"], \"author_ID\": paper[\"authorID\"]})\n",
    "\n",
    "# extract author with same name\n",
    "sameNameAuthor = []\n",
    "for i in author_ID_to_name_map:\n",
    "    for j in author_ID_to_name_map:\n",
    "        if(j[\"author_name\"]==i[\"author_name\"] and j[\"author_ID\"]!=i[\"author_ID\"]):\n",
    "            if(i[\"author_ID\"] not in [item[\"author_ID\"] for item in sameNameAuthor]):\n",
    "                sameNameAuthor.append(i)\n",
    "            if(j[\"author_ID\"] not in [item[\"author_ID\"] for item in sameNameAuthor]):\n",
    "                sameNameAuthor.append(j)\n",
    "\n",
    "# count author with same name\n",
    "sameNameCounter = Counter([author[\"author_name\"] for author in sameNameAuthor])\n",
    "for key, value in sameNameCounter.items():\n",
    "    if value>=2:\n",
    "        print(value, \"people have same name:\", key)\n",
    "\n",
    "# for author in sameNameAuthor:\n",
    "#     print(\"Author: {k}, Author ID: {c}\".format(k=author[\"author_name\"], c=author[\"author_ID\"]))\n",
    "\n",
    "# count number of paper author write\n",
    "c = Counter([paper[\"authorID\"] for paper in allPapersInFile])\n",
    "for key, value in c.items():\n",
    "    for author in sameNameAuthor:\n",
    "        if(key == author[\"author_ID\"]):\n",
    "            author[\"paper_count\"] = value\n",
    "\n",
    "sameNameAuthorWithCount = sorted(sameNameAuthor, key=lambda k: (k['author_name'], k[\"paper_count\"]))\n",
    "for author in sameNameAuthorWithCount:\n",
    "    if(author[\"paper_count\"]>threshold):\n",
    "        print(\"Author name: {n}, Author: {k}, Paper count: {c}\".format(n=author[\"author_name\"],k=author[\"author_ID\"], c= author[\"paper_count\"]))"
   ]
  },
  {
   "cell_type": "code",
   "execution_count": 26,
   "metadata": {
    "ExecuteTime": {
     "end_time": "2019-01-23T19:58:31.810070Z",
     "start_time": "2019-01-23T19:58:31.799460Z"
    }
   },
   "outputs": [
    {
     "name": "stdout",
     "output_type": "stream",
     "text": [
      "26240340\n",
      "24360965\n",
      "23870121\n",
      "23453808\n",
      "22155569\n",
      "22419161\n",
      "21896721\n",
      "22121020\n",
      "21443952\n",
      "21596312\n",
      "20541448\n",
      "20178742\n",
      "19531475\n",
      "19410543\n",
      "18936164\n",
      "19272450\n",
      "18449190\n",
      "16809761\n",
      "16337599\n",
      "15186775\n",
      "15118074\n",
      "11956208\n",
      "11452032\n"
     ]
    }
   ],
   "source": [
    "for paper in allPapersInFile:\n",
    "    if(paper[\"authorID\"] == \"0000-0003-4035-0438\"):\n",
    "        print(paper[\"paperID\"])"
   ]
  },
  {
   "cell_type": "code",
   "execution_count": null,
   "metadata": {
    "collapsed": true
   },
   "outputs": [],
   "source": []
  }
 ],
 "metadata": {
  "kernelspec": {
   "display_name": "Python 3",
   "language": "python",
   "name": "python3"
  },
  "language_info": {
   "codemirror_mode": {
    "name": "ipython",
    "version": 3
   },
   "file_extension": ".py",
   "mimetype": "text/x-python",
   "name": "python",
   "nbconvert_exporter": "python",
   "pygments_lexer": "ipython3",
   "version": "3.6.3"
  }
 },
 "nbformat": 4,
 "nbformat_minor": 2
}
