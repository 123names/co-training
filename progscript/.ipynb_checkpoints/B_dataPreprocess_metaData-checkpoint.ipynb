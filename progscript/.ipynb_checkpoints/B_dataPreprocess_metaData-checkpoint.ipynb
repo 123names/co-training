{
 "cells": [
  {
   "cell_type": "code",
   "execution_count": null,
   "metadata": {
    "collapsed": true
   },
   "outputs": [],
   "source": [
    "# load the file\n",
    "import sys\n",
    "import io\n",
    "import os\n",
    "\n",
    "fileDir = \"../Data/canopies_labeled/\"\n",
    "listfiles = os.listdir(fileDir)\n",
    "LabeledRecords_original = []\n",
    "\n",
    "for file in listfiles:\n",
    "    if not file.startswith('.'):\n",
    "        with open(fileDir+file, 'r', encoding = 'utf8') as f:\n",
    "            for line in f:\n",
    "                read_data = line.split(\"\\t\")\n",
    "                # get ride of bad formated lines\n",
    "                if(len(read_data)==13):\n",
    "                    paper_detail = {\"paperID\": read_data[0], \"authorID\":read_data[1],\n",
    "                                    \"author_position\":read_data[2], \"total_author\": read_data[3],\n",
    "                                    \"author_name\": read_data[4], \"co_authors\": read_data[5], \n",
    "                                    \"department\": read_data[6], \"vendor\": read_data[7], \n",
    "                                    \"mesh\": read_data[8], \"keywords\": read_data[9], \n",
    "                                    \"publish_year\": read_data[10], \"citation graph\": read_data[11]}\n",
    "                    LabeledRecords_original.append(paper_detail)\n",
    "        f.close()\n",
    "print(\"Total labeled records:\",len(LabeledRecords_original), \"records\")"
   ]
  },
  {
   "cell_type": "code",
   "execution_count": null,
   "metadata": {
    "collapsed": true
   },
   "outputs": [],
   "source": [
    "# calculate tf-idf on keywords\n",
    "# extract keywords\n",
    "\n",
    "\n",
    "\n",
    "# calculate tf-idf\n",
    "from sklearn.feature_extraction.text import TfidfVectorizer\n",
    "allContent = [paper.content for paper in allpaperCollection]\n",
    "print(allContent[:2])\n",
    "tfidf_vectorizer = TfidfVectorizer(use_idf=True, smooth_idf=True, sublinear_tf=True, norm=None,min_df = 3).fit(allContent)\n",
    "tfidf_matrix = tfidf_vectorizer.transform(allContent)\n",
    "# for i in range(0, len(collection)):\n",
    "#     print(collection[i].pid)\n",
    "#     print(tfidf_matrix[i].toarray())\n",
    "print(tfidf_matrix[:2].toarray())\n",
    "print(tfidf_matrix.shape)"
   ]
  },
  {
   "cell_type": "code",
   "execution_count": null,
   "metadata": {
    "collapsed": true
   },
   "outputs": [],
   "source": [
    "#calculate co"
   ]
  }
 ],
 "metadata": {
  "kernelspec": {
   "display_name": "Python 3",
   "language": "python",
   "name": "python3"
  },
  "language_info": {
   "codemirror_mode": {
    "name": "ipython",
    "version": 3
   },
   "file_extension": ".py",
   "mimetype": "text/x-python",
   "name": "python",
   "nbconvert_exporter": "python",
   "pygments_lexer": "ipython3",
   "version": "3.6.3"
  }
 },
 "nbformat": 4,
 "nbformat_minor": 2
}
