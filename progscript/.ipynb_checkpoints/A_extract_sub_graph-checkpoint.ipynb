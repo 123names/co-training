{
 "cells": [
  {
   "cell_type": "code",
   "execution_count": 9,
   "metadata": {},
   "outputs": [],
   "source": [
    "paperIDs = []\n",
    "# read in paper ID\n",
    "with open(\"../Data/pids.txt\", 'r', encoding = 'utf8') as infile:\n",
    "    for line in infile:\n",
    "        paperIDs.append(line.strip('\\n'))"
   ]
  },
  {
   "cell_type": "code",
   "execution_count": 5,
   "metadata": {
    "collapsed": true
   },
   "outputs": [],
   "source": [
    "citations = []\n",
    "with open(\"../Data/16May-citation.txt\", 'r', encoding = 'utf8') as infile:\n",
    "    for line in infile:\n",
    "        citations.append(line)"
   ]
  },
  {
   "cell_type": "code",
   "execution_count": 25,
   "metadata": {},
   "outputs": [
    {
     "name": "stdout",
     "output_type": "stream",
     "text": [
      "3149075\n",
      "502248898\n"
     ]
    }
   ],
   "source": [
    "print(len(paperIDs))\n",
    "print(len(citations))"
   ]
  },
  {
   "cell_type": "code",
   "execution_count": null,
   "metadata": {},
   "outputs": [
    {
     "name": "stdout",
     "output_type": "stream",
     "text": [
      "3149075\n",
      "check\n",
      "After: 0:00:00.000900\n"
     ]
    }
   ],
   "source": [
    "import os\n",
    "from datetime import datetime\n",
    "\n",
    "subgraph = []\n",
    "counter = 0\n",
    "paperIDs = set(paperIDs)\n",
    "print(len(paperIDs))\n",
    "t1 = datetime.now()\n",
    "for line in citations:\n",
    "    if counter %100000000 ==0:\n",
    "        print(\"check\")\n",
    "        t2 = datetime.now()\n",
    "        print('After: ' + str(t2 - t1))\n",
    "    id_list = line.split(\"\\t\")\n",
    "    counter+=1\n",
    "    if (id_list[0] in paperIDs) or (id_list[1] in paperIDs):\n",
    "        subgraph.append(line)\n",
    "        if id_list[1] in paperIDs:\n",
    "            print(id_list[1])\n",
    "print(\"Done, subgraph size: \", len(subgraph))\n",
    "newf = open(\"../Data/subgraph.txt\",\"w\",encoding='utf8')\n",
    "for line in subgraph:\n",
    "    newf.write(line)\n",
    "newf.close()"
   ]
  },
  {
   "cell_type": "code",
   "execution_count": 21,
   "metadata": {},
   "outputs": [
    {
     "name": "stdout",
     "output_type": "stream",
     "text": [
      "check\n",
      "After: 0:01:12.386295\n",
      "check\n",
      "After: 0:02:10.933411\n"
     ]
    },
    {
     "ename": "KeyboardInterrupt",
     "evalue": "",
     "output_type": "error",
     "traceback": [
      "\u001b[0;31m---------------------------------------------------------------------------\u001b[0m",
      "\u001b[0;31mKeyboardInterrupt\u001b[0m                         Traceback (most recent call last)",
      "\u001b[0;32m<ipython-input-21-468c186e17da>\u001b[0m in \u001b[0;36m<module>\u001b[0;34m()\u001b[0m\n\u001b[1;32m     25\u001b[0m     \u001b[0;32mif\u001b[0m \u001b[0;34m(\u001b[0m\u001b[0mbinary_search\u001b[0m\u001b[0;34m(\u001b[0m\u001b[0mpaperIDs\u001b[0m\u001b[0;34m,\u001b[0m \u001b[0mid_list\u001b[0m\u001b[0;34m[\u001b[0m\u001b[0;36m0\u001b[0m\u001b[0;34m]\u001b[0m\u001b[0;34m,\u001b[0m\u001b[0;36m0\u001b[0m\u001b[0;34m,\u001b[0m\u001b[0mlen\u001b[0m\u001b[0;34m(\u001b[0m\u001b[0mpaperIDs\u001b[0m\u001b[0;34m)\u001b[0m\u001b[0;34m-\u001b[0m\u001b[0;36m1\u001b[0m\u001b[0;34m)\u001b[0m\u001b[0;34m!=\u001b[0m\u001b[0;34m-\u001b[0m\u001b[0;36m1\u001b[0m\u001b[0;34m)\u001b[0m \u001b[0;32mor\u001b[0m \u001b[0;34m(\u001b[0m\u001b[0mbinary_search\u001b[0m\u001b[0;34m(\u001b[0m\u001b[0mpaperIDs\u001b[0m\u001b[0;34m,\u001b[0m\u001b[0mid_list\u001b[0m\u001b[0;34m[\u001b[0m\u001b[0;36m1\u001b[0m\u001b[0;34m]\u001b[0m\u001b[0;34m,\u001b[0m\u001b[0;36m0\u001b[0m\u001b[0;34m,\u001b[0m\u001b[0mlen\u001b[0m\u001b[0;34m(\u001b[0m\u001b[0mpaperIDs\u001b[0m\u001b[0;34m)\u001b[0m\u001b[0;34m-\u001b[0m\u001b[0;36m1\u001b[0m\u001b[0;34m)\u001b[0m\u001b[0;34m!=\u001b[0m\u001b[0;34m-\u001b[0m\u001b[0;36m1\u001b[0m\u001b[0;34m)\u001b[0m\u001b[0;34m:\u001b[0m\u001b[0;34m\u001b[0m\u001b[0m\n\u001b[1;32m     26\u001b[0m         \u001b[0msubgraph\u001b[0m\u001b[0;34m.\u001b[0m\u001b[0mappend\u001b[0m\u001b[0;34m(\u001b[0m\u001b[0mline\u001b[0m\u001b[0;34m)\u001b[0m\u001b[0;34m\u001b[0m\u001b[0m\n\u001b[0;32m---> 27\u001b[0;31m         \u001b[0;32mif\u001b[0m \u001b[0mid_list\u001b[0m\u001b[0;34m[\u001b[0m\u001b[0;36m1\u001b[0m\u001b[0;34m]\u001b[0m \u001b[0;32min\u001b[0m \u001b[0mpaperIDs\u001b[0m\u001b[0;34m:\u001b[0m\u001b[0;34m\u001b[0m\u001b[0m\n\u001b[0m\u001b[1;32m     28\u001b[0m             \u001b[0mprint\u001b[0m\u001b[0;34m(\u001b[0m\u001b[0mid_list\u001b[0m\u001b[0;34m[\u001b[0m\u001b[0;36m1\u001b[0m\u001b[0;34m]\u001b[0m\u001b[0;34m)\u001b[0m\u001b[0;34m\u001b[0m\u001b[0m\n\u001b[1;32m     29\u001b[0m \u001b[0;34m\u001b[0m\u001b[0m\n",
      "\u001b[0;31mKeyboardInterrupt\u001b[0m: "
     ]
    }
   ],
   "source": [
    "import os\n",
    "from datetime import datetime\n",
    "subgraph = []\n",
    "counter = 0\n",
    "\n",
    "def binary_search(numbers, target, first, last):\n",
    "    mid = (first + last) // 2\n",
    "    if first > last:\n",
    "        index = -1\n",
    "    elif target == numbers[mid]:\n",
    "        index =  mid\n",
    "    elif target < numbers[mid]:\n",
    "        index = binary_search(numbers, target, first, mid-1)\n",
    "    else:\n",
    "        index = binary_search(numbers, target, mid+1, last)\n",
    "    return index\n",
    "t1 = datetime.now()\n",
    "for line in citations:\n",
    "    if counter %10000 ==0:\n",
    "        print(\"check\")\n",
    "        t2 = datetime.now()\n",
    "        print('After: ' + str(t2 - t1))\n",
    "    id_list = line.split(\"\\t\")\n",
    "    counter+=1\n",
    "    if (binary_search(paperIDs, id_list[0],0,len(paperIDs)-1)!=-1) or (binary_search(paperIDs,id_list[1],0,len(paperIDs)-1)!=-1):\n",
    "        subgraph.append(line)\n",
    "        if id_list[1] in paperIDs:\n",
    "            print(id_list[1])\n",
    "\n",
    "newf = open(\"../Data/subgraph.txt\",w,encoding='utf8')\n",
    "for line in subgraph:\n",
    "    newf.write(line)\n",
    "newf.close()"
   ]
  },
  {
   "cell_type": "code",
   "execution_count": null,
   "metadata": {
    "collapsed": true
   },
   "outputs": [],
   "source": []
  }
 ],
 "metadata": {
  "kernelspec": {
   "display_name": "Python 3",
   "language": "python",
   "name": "python3"
  },
  "language_info": {
   "codemirror_mode": {
    "name": "ipython",
    "version": 3
   },
   "file_extension": ".py",
   "mimetype": "text/x-python",
   "name": "python",
   "nbconvert_exporter": "python",
   "pygments_lexer": "ipython3",
   "version": "3.6.3"
  }
 },
 "nbformat": 4,
 "nbformat_minor": 2
}
