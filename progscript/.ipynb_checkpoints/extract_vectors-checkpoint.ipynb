{
 "cells": [
  {
   "cell_type": "code",
   "execution_count": 3,
   "metadata": {},
   "outputs": [
    {
     "name": "stdout",
     "output_type": "stream",
     "text": [
      "Total vector records: 3149075\n",
      "{'paperID': '3', 'vectors': ['-0.07245799', '-0.15048164', '-0.04320673', '0.01244448', '0.05051953', '-0.05573996', '0.03158288', '-0.04663554', '-0.00442508', '-0.02417533', '-0.03292065', '0.03798062', '0.08195730', '-0.09100581', '-0.04666801', '-0.06315092', '-0.05957321', '0.09766518', '0.01981102', '0.09956500', '-0.02059892', '-0.02321497', '0.10300557', '0.09654117', '0.02085607', '0.15179265', '0.03320639', '0.04716884', '0.04259005', '-0.01022485', '0.07371941', '0.02970656', '0.18967280', '0.07049462', '-0.07849123', '0.10272161', '0.05396378', '0.04138396', '0.08093689', '-0.04713648', '-0.08277001', '0.06004119', '0.15147503', '-0.10719796', '-0.06268646', '0.15823838', '0.10273122', '0.04453533', '-0.00394740', '-0.01239040', '-0.06826647', '-0.02995823', '0.14925463', '0.12254845', '-0.05894163', '0.11628735', '0.03898517', '0.01221054', '-0.00804257', '-0.06178775', '-0.04752085', '-0.04040224', '0.09192738', '0.01171173', '0.02951661', '-0.02156392', '-0.02458819', '-0.00003645', '-0.06527787', '0.07321506', '0.00926040', '0.04152755', '-0.06273570', '0.00205773', '-0.14158797', '0.01341034', '0.05070017', '-0.06785034', '0.01392612', '0.01312939', '-0.03518058', '-0.04593558', '-0.04542769', '-0.03334041', '0.02727035', '0.03331508', '-0.05495675', '-0.02231646', '-0.01770608', '0.02452897', '0.03648302', '0.02217655', '0.01033537', '0.00610828', '-0.03949452', '0.01911573', '-0.08300079', '-0.04561001', '0.01872506', '0.01281491\\n']}\n"
     ]
    }
   ],
   "source": [
    "# load the vector files\n",
    "import sys\n",
    "import io\n",
    "import os\n",
    "setting = \"p2v\"\n",
    "\n",
    "\n",
    "vectorFilesDir = \"../Data/vectors/\"+setting+\"/\"+setting+\".txt\"\n",
    "allPaperVectors = []\n",
    "\n",
    "with open(vectorFilesDir, 'r', encoding = 'utf8') as f:\n",
    "    for line in f:\n",
    "        read_data = line.split(\" \")\n",
    "        paperID = read_data[0]\n",
    "        read_data.remove(read_data[0])\n",
    "        paper_Vectors = {\"paperID\": paperID, \"vectors\": read_data}\n",
    "        allPaperVectors.append(paper_Vectors)\n",
    "f.close()\n",
    "        \n",
    "print(\"Total vector records:\",len(allPaperVectors))\n",
    "print(allPaperVectors[0])"
   ]
  },
  {
   "cell_type": "code",
   "execution_count": 4,
   "metadata": {},
   "outputs": [
    {
     "name": "stdout",
     "output_type": "stream",
     "text": [
      "chung-may yang1.txt\n",
      "wei lu0.txt\n",
      "yong wang1.txt\n",
      "david g lloyd0.txt\n",
      "wei lu1.txt\n",
      "feng liu1.txt\n",
      "david g lloyd1.txt\n",
      "jeong hwan kim1.txt\n",
      "chung-may yang0.txt\n",
      "michael wagner0.txt\n",
      "feng liu0.txt\n",
      "hao song1.txt\n",
      "hao song0.txt\n",
      "kevin m. ryan0.txt\n",
      "michael wagner1.txt\n",
      "lei wang0.txt\n",
      "jeong hwan kim0.txt\n",
      "yong wang0.txt\n",
      "lei wang1.txt\n",
      "kevin m. ryan1.txt\n"
     ]
    }
   ],
   "source": [
    "# load same name authors\n",
    "\n",
    "# ../Data/DataForClassification/d2v/\n",
    "classificationDir = \"../Data/DataForClassification/\"+setting+\"/\"\n",
    "if not os.path.exists(classificationDir):\n",
    "    os.makedirs(classificationDir)\n",
    "    \n",
    "authorFileDir = \"../Data/filteredSameNameAuthor/\"\n",
    "listAuthorFile = os.listdir(authorFileDir)\n",
    "for file in listAuthorFile:\n",
    "    if not file.startswith('.'):\n",
    "        paperIDs = []\n",
    "        # read in paper ID\n",
    "        with open(authorFileDir+file, 'r', encoding = 'utf8') as infile:\n",
    "            for line in infile:\n",
    "                paperIDs.append(line.strip('\\n'))\n",
    "        infile.close()\n",
    "        # extract selected paper vector from all paper vector\n",
    "        with open(classificationDir+file, 'w', encoding = 'utf8') as outfile:\n",
    "            for paper_Vectors in allPaperVectors:\n",
    "                if(paper_Vectors[\"paperID\"] in paperIDs):\n",
    "                    vector=' '.join(paper_Vectors[\"vectors\"])\n",
    "                    outfile.write(paper_Vectors[\"paperID\"]+' '+vector)\n",
    "        outfile.close()\n",
    "        print(file)     "
   ]
  }
 ],
 "metadata": {
  "kernelspec": {
   "display_name": "Python 3",
   "language": "python",
   "name": "python3"
  },
  "language_info": {
   "codemirror_mode": {
    "name": "ipython",
    "version": 3
   },
   "file_extension": ".py",
   "mimetype": "text/x-python",
   "name": "python",
   "nbconvert_exporter": "python",
   "pygments_lexer": "ipython3",
   "version": "3.6.3"
  }
 },
 "nbformat": 4,
 "nbformat_minor": 2
}
