{
 "cells": [
  {
   "cell_type": "code",
   "execution_count": 5,
   "metadata": {
    "collapsed": true
   },
   "outputs": [],
   "source": [
    "paperIDs = []\n",
    "# read in paper ID\n",
    "with open(\"../Data/pids.txt\", 'r', encoding = 'utf8') as infile:\n",
    "    for line in infile:\n",
    "        paperIDs.append(line.strip('\\n'))"
   ]
  },
  {
   "cell_type": "code",
   "execution_count": 3,
   "metadata": {
    "collapsed": true
   },
   "outputs": [],
   "source": [
    "citations = []\n",
    "with open(\"../Data/16May-citation.txt\", 'r', encoding = 'utf8') as infile:\n",
    "    for line in infile:\n",
    "        citations.append(line)"
   ]
  },
  {
   "cell_type": "code",
   "execution_count": 6,
   "metadata": {},
   "outputs": [
    {
     "name": "stdout",
     "output_type": "stream",
     "text": [
      "3149075\n",
      "502248898\n"
     ]
    }
   ],
   "source": [
    "print(len(paperIDs))\n",
    "print(len(citations))"
   ]
  },
  {
   "cell_type": "code",
   "execution_count": 11,
   "metadata": {},
   "outputs": [
    {
     "name": "stdout",
     "output_type": "stream",
     "text": [
      "['8587804\\t10.1017/s1742758400012674\\n', '10.1017/s0041977x1100084x\\t10.1364/josa.46.000628\\n', '10.1353/wp.2001.0006\\t7674027\\n', '10.1017/s0041977x1100084x\\t10.1515/zava.1898.13.1.111\\n', '8587804\\t10.1017/s0007485300049415\\n', '10.1017/s1365100505040204\\t10.1093/oxfordjournals.oep.a041948\\n', '10.1017/s0140525x00031769\\t10.1037/0096-1523.7.2.356\\n', '8587804\\t10.1177/0040571x7207500312\\n', '10.1017/s0140525x00031769\\t10.3758/bf03335168\\n', '10.1353/wp.2001.0006\\t10.1111/j.1747-7093.1992.tb00545.x\\n']\n"
     ]
    }
   ],
   "source": [
    "print(citations[-10:])"
   ]
  },
  {
   "cell_type": "code",
   "execution_count": 12,
   "metadata": {},
   "outputs": [
    {
     "name": "stdout",
     "output_type": "stream",
     "text": [
      "3149075\n",
      "check\n",
      "After: 0:00:00.000292\n",
      "check\n",
      "After: 0:02:33.940243\n",
      "check\n",
      "After: 0:05:11.718249\n",
      "check\n",
      "After: 0:07:46.756749\n",
      "['10.1186/1471-2342-13-31\\n']\n",
      "check\n",
      "After: 0:10:26.034783\n",
      "['10.1007/s11240-011-9919-5\\n']\n",
      "['289/23/3152\\n']\n",
      "['1096645\\n']\n",
      "['ct0203sattler\\n']\n",
      "['jphysiol.2003.044875\\n']\n",
      "['s1535610804002077\\n']\n",
      "['ajas-25-7-913-2[pii]\\n']\n",
      "['2235925100\\n']\n",
      "['0904113106\\n']\n",
      "['348/26/2599\\n']\n",
      "['2003-07-2459\\n']\n",
      "['s0006-291x(08)02191-8\\n']\n",
      "check\n",
      "After: 0:13:04.427809\n",
      "Done, subgraph size:  46441274\n"
     ]
    }
   ],
   "source": [
    "import os\n",
    "from datetime import datetime\n",
    "\n",
    "subgraph = []\n",
    "counter = 0\n",
    "paperIDs = set(paperIDs)\n",
    "print(len(paperIDs))\n",
    "\n",
    "t1 = datetime.now()\n",
    "for line in citations:\n",
    "    if counter %100000000 ==0:\n",
    "        print(\"check\")\n",
    "        t2 = datetime.now()\n",
    "        print('After: ' + str(t2 - t1))\n",
    "    id_list = line.split(\"\\t\")\n",
    "    counter+=1\n",
    "    if(len(id_list)==2):\n",
    "        if (id_list[0] in paperIDs) or (id_list[1] in paperIDs):\n",
    "            subgraph.append(line)\n",
    "            if id_list[1] in paperIDs:\n",
    "                print(id_list[1])\n",
    "    else:\n",
    "        print(id_list)\n",
    "print(\"Done, subgraph size: \", len(subgraph))\n",
    "newf = open(\"../Data/subgraph.txt\",\"w\",encoding='utf8')\n",
    "for line in subgraph:\n",
    "    newf.write(line)\n",
    "newf.close()"
   ]
  },
  {
   "cell_type": "code",
   "execution_count": null,
   "metadata": {
    "collapsed": true
   },
   "outputs": [],
   "source": [
    "import os\n",
    "from datetime import datetime\n",
    "subgraph = []\n",
    "counter = 0\n",
    "\n",
    "def binary_search(numbers, target, first, last):\n",
    "    mid = (first + last) // 2\n",
    "    if first > last:\n",
    "        index = -1\n",
    "    elif target == numbers[mid]:\n",
    "        index =  mid\n",
    "    elif target < numbers[mid]:\n",
    "        index = binary_search(numbers, target, first, mid-1)\n",
    "    else:\n",
    "        index = binary_search(numbers, target, mid+1, last)\n",
    "    return index\n",
    "t1 = datetime.now()\n",
    "for line in citations:\n",
    "    if counter %10000 ==0:\n",
    "        print(\"check\")\n",
    "        t2 = datetime.now()\n",
    "        print('After: ' + str(t2 - t1))\n",
    "    id_list = line.split(\"\\t\")\n",
    "    counter+=1\n",
    "    if (binary_search(paperIDs, id_list[0],0,len(paperIDs)-1)!=-1) or (binary_search(paperIDs,id_list[1],0,len(paperIDs)-1)!=-1):\n",
    "        subgraph.append(line)\n",
    "        if id_list[1] in paperIDs:\n",
    "            print(id_list[1])\n",
    "\n",
    "newf = open(\"../Data/subgraph.txt\",w,encoding='utf8')\n",
    "for line in subgraph:\n",
    "    newf.write(line)\n",
    "newf.close()"
   ]
  },
  {
   "cell_type": "code",
   "execution_count": null,
   "metadata": {
    "collapsed": true
   },
   "outputs": [],
   "source": []
  }
 ],
 "metadata": {
  "kernelspec": {
   "display_name": "Python 3",
   "language": "python",
   "name": "python3"
  },
  "language_info": {
   "codemirror_mode": {
    "name": "ipython",
    "version": 3
   },
   "file_extension": ".py",
   "mimetype": "text/x-python",
   "name": "python",
   "nbconvert_exporter": "python",
   "pygments_lexer": "ipython3",
   "version": "3.6.3"
  }
 },
 "nbformat": 4,
 "nbformat_minor": 2
}
