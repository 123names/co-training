{
 "cells": [
  {
   "cell_type": "code",
   "execution_count": 54,
   "metadata": {
    "ExecuteTime": {
     "end_time": "2019-01-05T04:05:52.991110Z",
     "start_time": "2019-01-05T04:05:52.639145Z"
    },
    "collapsed": true
   },
   "outputs": [],
   "source": [
    "class K_Means:\n",
    "\n",
    "    def __init__(self, k =2, tolerance = 0.0001, max_iterations = 3):\n",
    "        '''\n",
    "        K: number of cluster we want from input datas\n",
    "        tolerance: When the difference between the old and new centroids is less than the tolerance value, we stop the iterations.\n",
    "        max_iteration: maxium amount of iteration process\n",
    "        '''\n",
    "        self.k = k\n",
    "        self.tolerance = tolerance\n",
    "        self.max_iterations = max_iterations\n",
    "        \n",
    "    def fit(self,data):\n",
    "        \n",
    "        np.random.shuffle(data)\n",
    "        self.centroids = {}\n",
    "        # init centroid\n",
    "        for i in range(self.k):\n",
    "            self.centroids[i] = data[i]\n",
    "        # start iterations\n",
    "        for i in range(self.max_iterations):\n",
    "            print(\"Iter centroid: \", self.centroids)\n",
    "            self.clusters = {}\n",
    "            for i in range(self.k):\n",
    "                self.clusters[i] = []\n",
    "                \n",
    "            for features in data:\n",
    "                distances = [np.linalg.norm(features-self.centroids[centroid]) for centroid in self.centroids]\n",
    "                result_cluster = distances.index(min(distances))\n",
    "                self.clusters[result_cluster].append(features)\n",
    "            print(self.clusters)\n",
    "            # save previous centroids to check centroids changes\n",
    "            prev_centroids = dict(self.centroids)\n",
    "            \n",
    "            # update to new centroids\n",
    "            for cluster in self.clusters:\n",
    "                self.centroids[cluster] = np.average(self.clusters[cluster],axis=0)\n",
    "            \n",
    "            optimized = True\n",
    "            # if centroids changes more than tolerance, we keep iterative process\n",
    "            for centroid in self.centroids:\n",
    "                original_centroid = prev_centroids[centroid]\n",
    "                current_centroid = self.centroids[centroid]\n",
    "                if np.sum((current_centroid-original_centroid)/original_centroid*100.0) > self.tolerance:\n",
    "                    print(\"within-cluster sum of squared error: \", np.sum((current_centroid-original_centroid)/original_centroid*100.0))\n",
    "                    optimized = False\n",
    "                    \n",
    "            # otherwise, break out loop\n",
    "            if optimized:\n",
    "                break\n",
    "    \n",
    "    def predict(self, data):\n",
    "        distances = [np.linalg.norm(data-self.centroids[centroid]) for centroid in self.centroids]\n",
    "        result_cluster = distances.index(min(distances))\n",
    "        \n",
    "        return result_cluster\n",
    "    "
   ]
  },
  {
   "cell_type": "markdown",
   "metadata": {},
   "source": [
    "1. Know number of cluster in given dataset: <br>\n",
    "Normally the number of cluster (k) is given as part of user input.\n",
    "2. Randomly select K point in dataset to start as initial centroids <br>\n",
    "In the program example, we just choice first K point as initial centroid.\n",
    "3. Calculate distance of all other point (featuresets) to centroids <br>\n",
    "4. The formula of choose centroids that minimize the within-cluster sum of squared can be given as: <br>\n",
    "\\begin{equation}\\sum_{i=0}^{N}\\min_{\\mu_c \\in C}(||x_i - \\mu_c||^2) \\end{equation} \n",
    "where $N$ is total number of sample in $X$, $x_i$ is one the sample in $X$, $u_c$ is centroids also mean of samples in each cluster.\n",
    "5. New cluster is formed, we take mean of each cluster (mean of all point in each cluster), making that mean to be the new centroid for new cluster. <br>\n",
    "5. Repeat step 3-5 until cluster optimized (centroids no longer moving)<br>\n"
   ]
  },
  {
   "cell_type": "code",
   "execution_count": 9,
   "metadata": {
    "ExecuteTime": {
     "end_time": "2020-05-10T22:25:21.367475Z",
     "start_time": "2020-05-10T22:25:21.333638Z"
    },
    "collapsed": true
   },
   "outputs": [],
   "source": [
    "import matplotlib.pyplot as plt\n",
    "from matplotlib import style\n",
    "style.use('ggplot')\n",
    "import numpy as np\n",
    "\n",
    "X = np.array([[1, 2],\n",
    "              [1.5, 1.8],\n",
    "              [5, 8 ],\n",
    "              [1.3, 1.5],\n",
    "              [1.4,2.3],\n",
    "              [8, 8],\n",
    "              [1, 0.6],\n",
    "              [9,11]])\n",
    "X_extra = np.array([[1, 6],\n",
    "              [1.5, 8],\n",
    "              [1.3, 5],\n",
    "              [1.4,3],\n",
    "              [6, 8],\n",
    "              [10, 4],\n",
    "              [9,4]])\n",
    "colors = 10*[\"g\",\"r\",\"c\",\"b\",\"k\"]"
   ]
  },
  {
   "cell_type": "code",
   "execution_count": 81,
   "metadata": {
    "ExecuteTime": {
     "end_time": "2019-01-05T04:14:54.256855Z",
     "start_time": "2019-01-05T04:14:53.654216Z"
    }
   },
   "outputs": [
    {
     "name": "stdout",
     "output_type": "stream",
     "text": [
      "Iter centroid:  {0: array([1., 2.]), 1: array([1. , 0.6])}\n",
      "{0: [array([1., 2.]), array([1.4, 2.3]), array([ 9., 11.]), array([1.3, 1.5]), array([8., 8.]), array([1.5, 1.8]), array([5., 8.])], 1: [array([1. , 0.6])]}\n",
      "within-cluster sum of squared error:  435.7142857142858\n",
      "Iter centroid:  {0: array([3.88571429, 4.94285714]), 1: array([1. , 0.6])}\n",
      "{0: [array([ 9., 11.]), array([8., 8.]), array([5., 8.])], 1: [array([1., 2.]), array([1. , 0.6]), array([1.4, 2.3]), array([1.3, 1.5]), array([1.5, 1.8])]}\n",
      "within-cluster sum of squared error:  170.80641505156973\n",
      "within-cluster sum of squared error:  197.33333333333334\n",
      "Iter centroid:  {0: array([7.33333333, 9.        ]), 1: array([1.24, 1.64])}\n",
      "{0: [array([ 9., 11.]), array([8., 8.]), array([5., 8.])], 1: [array([1., 2.]), array([1. , 0.6]), array([1.4, 2.3]), array([1.3, 1.5]), array([1.5, 1.8])]}\n"
     ]
    },
    {
     "data": {
      "image/png": "[encoded data removed]",
      "text/plain": [
       "<matplotlib.figure.Figure at 0x7f2d36a0a828>"
      ]
     },
     "metadata": {},
     "output_type": "display_data"
    }
   ],
   "source": [
    "clf = K_Means()\n",
    "clf.fit(X)\n",
    "\n",
    "for centroid in clf.centroids:\n",
    "    plt.scatter(clf.centroids[centroid][0], clf.centroids[centroid][1],\n",
    "                marker=\"x\", color=\"k\", s=50)\n",
    "\n",
    "for cluster in clf.clusters:\n",
    "    color = colors[cluster]\n",
    "    for sample in clf.clusters[cluster]:\n",
    "        plt.scatter(sample[0], sample[1], marker=\"o\", color=color, s=20)\n",
    "        \n",
    "plt.show()"
   ]
  },
  {
   "cell_type": "code",
   "execution_count": 11,
   "metadata": {
    "ExecuteTime": {
     "end_time": "2020-05-10T22:27:04.957638Z",
     "start_time": "2020-05-10T22:27:04.890101Z"
    }
   },
   "outputs": [
    {
     "name": "stdout",
     "output_type": "stream",
     "text": [
      "[[4.36660051 7.00793201]\n",
      " [6.36531225 5.91842697]\n",
      " [3.36053567 7.23886118]\n",
      " [1.36937942 8.4382726 ]\n",
      " [7.94400403 1.66666667]\n",
      " [9.07233156 5.66666667]\n",
      " [8.1109309  5.27046277]]\n"
     ]
    }
   ],
   "source": [
    "from sklearn.cluster import KMeans\n",
    "\n",
    "clf = KMeans(n_clusters=2)\n",
    "clf.fit(X)\n",
    "\n",
    "X_dist = clf.transform(X_extra)\n",
    "print(X_dist)\n",
    "\n",
    "centroids = clf.cluster_centers_\n",
    "labels = clf.labels_\n"
   ]
  },
  {
   "cell_type": "code",
   "execution_count": 10,
   "metadata": {
    "ExecuteTime": {
     "end_time": "2020-05-10T22:25:24.966344Z",
     "start_time": "2020-05-10T22:25:24.412909Z"
    }
   },
   "outputs": [
    {
     "data": {
      "image/png": "[encoded data removed]",
      "text/plain": [
       "<matplotlib.figure.Figure at 0x7f101c87e9b0>"
      ]
     },
     "metadata": {},
     "output_type": "display_data"
    },
    {
     "name": "stdout",
     "output_type": "stream",
     "text": [
      "[[ 1.   2. ]\n",
      " [ 1.5  1.8]\n",
      " [ 5.   8. ]\n",
      " [ 1.3  1.5]\n",
      " [ 1.4  2.3]\n",
      " [ 8.   8. ]\n",
      " [ 1.   0.6]\n",
      " [ 9.  11. ]]\n",
      "[1 1 0 1 1 0 1 0]\n"
     ]
    }
   ],
   "source": [
    "colors = [\"g.\",\"r.\",\"c.\",\"y.\"]\n",
    "for i in range(len(X)):\n",
    "    plt.plot(X[i][0], X[i][1], colors[labels[i]], markersize = 10)\n",
    "for i in range(len(X_extra)):\n",
    "    plt.plot(X_extra[i][0], X_extra[i][1], colors[2], markersize = 10)\n",
    "plt.scatter(centroids[:, 0],centroids[:, 1], marker = \"x\", s=50, linewidths = 5, zorder = 10)\n",
    "plt.show()\n",
    "print(X)\n",
    "print(labels)"
   ]
  },
  {
   "cell_type": "code",
   "execution_count": null,
   "metadata": {
    "collapsed": true
   },
   "outputs": [],
   "source": []
  }
 ],
 "metadata": {
  "kernelspec": {
   "display_name": "Python 3",
   "language": "python",
   "name": "python3"
  },
  "language_info": {
   "codemirror_mode": {
    "name": "ipython",
    "version": 3
   },
   "file_extension": ".py",
   "mimetype": "text/x-python",
   "name": "python",
   "nbconvert_exporter": "python",
   "pygments_lexer": "ipython3",
   "version": "3.6.3"
  }
 },
 "nbformat": 4,
 "nbformat_minor": 2
}
