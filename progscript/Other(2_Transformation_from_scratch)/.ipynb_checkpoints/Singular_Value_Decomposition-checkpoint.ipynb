{
 "cells": [
  {
   "cell_type": "code",
   "execution_count": 1,
   "metadata": {},
   "outputs": [
    {
     "name": "stdout",
     "output_type": "stream",
     "text": [
      "Orginal matrix:  [[ 4  0]\n",
      " [ 3 -5]]\n",
      "U:  [[-0.4472136  -0.89442719]\n",
      " [-0.89442719  0.4472136 ]]\n",
      "Sigma:  [6.32455532 3.16227766]\n",
      "Vt:  [[-0.70710678  0.70710678]\n",
      " [-0.70710678 -0.70710678]]\n",
      "[[6.32455532 0.        ]\n",
      " [0.         3.16227766]]\n",
      "[[6.32455532 0.        ]\n",
      " [0.         3.16227766]]\n",
      "[[ 4.00000000e+00 -1.11022302e-15]\n",
      " [ 3.00000000e+00 -5.00000000e+00]]\n"
     ]
    }
   ],
   "source": [
    "# Singular-value decomposition\n",
    "# The singular value decomposition (SVD) provides another way to factorize a matrix, \n",
    "# into singular vectors and singular values. \n",
    "# The SVD allows us to discover some of the same kind of information as the eigendecomposition. \n",
    "# However, the SVD is more generally applicable.\n",
    "from numpy import array\n",
    "from numpy import diag\n",
    "from numpy import dot\n",
    "from numpy import zeros\n",
    "from scipy.linalg import svd\n",
    "# define a m x n matrix\n",
    "A = array([[4, 0], [3, -5]])\n",
    "print(\"Orginal matrix: \", A)\n",
    "# SVD\n",
    "U, s, VT = svd(A)\n",
    "# U m x m matrix\n",
    "print(\"U: \", U)\n",
    "# Sigma need to be convert to m x n diagonal matrix\n",
    "print(\"Sigma: \", s)\n",
    "# transpose of an n x n matrix\n",
    "print(\"Vt: \", VT)\n",
    "# create m x n Sigma matrix\n",
    "Sigma = zeros((A.shape[0], A.shape[1]))\n",
    "print(diag(s))\n",
    "# populate Sigma with n x n diagonal matrix\n",
    "Sigma[:A.shape[1], :A.shape[1]] = diag(s)\n",
    "print(Sigma)\n",
    "# reconstruct matrix\n",
    "B = U.dot(Sigma.dot(VT))\n",
    "print(B)"
   ]
  },
  {
   "cell_type": "code",
   "execution_count": 3,
   "metadata": {},
   "outputs": [
    {
     "name": "stdout",
     "output_type": "stream",
     "text": [
      "[[ 1  2  3  4  5  6  7  8  9 10]\n",
      " [11 12 13 14 15 16 17 18 19 20]\n",
      " [21 22 23 24 25 26 27 28 29 30]]\n",
      "[[ 1.  2.  3.  4.  5.  6.  7.  8.  9. 10.]\n",
      " [11. 12. 13. 14. 15. 16. 17. 18. 19. 20.]\n",
      " [21. 22. 23. 24. 25. 26. 27. 28. 29. 30.]]\n",
      "[[-18.52157747   6.47697214]\n",
      " [-49.81310011   1.91182038]\n",
      " [-81.10462276  -2.65333138]]\n"
     ]
    }
   ],
   "source": [
    "from numpy import array\n",
    "from numpy import diag\n",
    "from numpy import zeros\n",
    "from scipy.linalg import svd\n",
    "# define a matrix\n",
    "A = array([\n",
    "    [1,2,3,4,5,6,7,8,9,10],\n",
    "    [11,12,13,14,15,16,17,18,19,20],\n",
    "    [21,22,23,24,25,26,27,28,29,30]])\n",
    "print(A)\n",
    "# Singular-value decomposition\n",
    "U, s, VT = svd(A)\n",
    "# create m x n Sigma matrix\n",
    "Sigma = zeros((A.shape[0], A.shape[1]))\n",
    "# populate Sigma with n x n diagonal matrix\n",
    "Sigma[:A.shape[0], :A.shape[0]] = diag(s)\n",
    "# select\n",
    "n_elements = 2\n",
    "Sigma = Sigma[:, :n_elements]\n",
    "VT = VT[:n_elements, :]\n",
    "# reconstruct\n",
    "B = U.dot(Sigma.dot(VT))\n",
    "print(B)\n",
    "# transform\n",
    "T = U.dot(Sigma)\n",
    "print(T)"
   ]
  },
  {
   "cell_type": "code",
   "execution_count": 1,
   "metadata": {},
   "outputs": [
    {
     "name": "stdout",
     "output_type": "stream",
     "text": [
      "[[ 1  2  3  4  5  6  7  8  9 10]\n",
      " [11 12 13 14 15 16 17 18 19 20]\n",
      " [21 22 23 24 25 26 27 28 29 30]]\n",
      "[[18.52157747  6.47697214]\n",
      " [49.81310011  1.91182038]\n",
      " [81.10462276 -2.65333138]]\n"
     ]
    }
   ],
   "source": [
    "from numpy import array\n",
    "from sklearn.decomposition import TruncatedSVD\n",
    "# define array\n",
    "A = array([\n",
    "    [1,2,3,4,5,6,7,8,9,10],\n",
    "    [11,12,13,14,15,16,17,18,19,20],\n",
    "    [21,22,23,24,25,26,27,28,29,30]])\n",
    "print(A)\n",
    "# svd\n",
    "svd = TruncatedSVD(n_components=2)\n",
    "svd.fit(A)\n",
    "result = svd.transform(A)\n",
    "print(result)"
   ]
  },
  {
   "cell_type": "code",
   "execution_count": 1,
   "metadata": {},
   "outputs": [
    {
     "name": "stdout",
     "output_type": "stream",
     "text": [
      "converged in 6 iterations!\n",
      "converged in 26 iterations!\n",
      "converged in 2 iterations!\n"
     ]
    }
   ],
   "source": [
    "import numpy as np\n",
    "from numpy.linalg import norm\n",
    "\n",
    "from random import normalvariate\n",
    "from math import sqrt\n",
    "\n",
    "\n",
    "def randomUnitVector(n):\n",
    "    unnormalized = [normalvariate(0, 1) for _ in range(n)]\n",
    "    theNorm = sqrt(sum(x * x for x in unnormalized))\n",
    "    return [x / theNorm for x in unnormalized]\n",
    "\n",
    "\n",
    "def svd_1d(A, epsilon=1e-10):\n",
    "    ''' The one-dimensional SVD '''\n",
    "\n",
    "    n, m = A.shape\n",
    "    x = randomUnitVector(min(n,m))\n",
    "    lastV = None\n",
    "    currentV = x\n",
    "\n",
    "    if n > m:\n",
    "        B = np.dot(A.T, A)\n",
    "    else:\n",
    "        B = np.dot(A, A.T)\n",
    "\n",
    "    iterations = 0\n",
    "    while True:\n",
    "        iterations += 1\n",
    "        lastV = currentV\n",
    "        currentV = np.dot(B, lastV)\n",
    "        currentV = currentV / norm(currentV)\n",
    "\n",
    "        if abs(np.dot(currentV, lastV)) > 1 - epsilon:\n",
    "            print(\"converged in {} iterations!\".format(iterations))\n",
    "            return currentV\n",
    "\n",
    "\n",
    "def svd(A, k=None, epsilon=1e-10):\n",
    "    '''\n",
    "        Compute the singular value decomposition of a matrix A\n",
    "        using the power method. A is the input matrix, and k\n",
    "        is the number of singular values you wish to compute.\n",
    "        If k is None, this computes the full-rank decomposition.\n",
    "    '''\n",
    "    A = np.array(A, dtype=float)\n",
    "    n, m = A.shape\n",
    "    svdSoFar = []\n",
    "    if k is None:\n",
    "        k = min(n, m)\n",
    "\n",
    "    for i in range(k):\n",
    "        matrixFor1D = A.copy()\n",
    "\n",
    "        for singularValue, u, v in svdSoFar[:i]:\n",
    "            matrixFor1D -= singularValue * np.outer(u, v)\n",
    "\n",
    "        if n > m:\n",
    "            v = svd_1d(matrixFor1D, epsilon=epsilon)  # next singular vector\n",
    "            u_unnormalized = np.dot(A, v)\n",
    "            sigma = norm(u_unnormalized)  # next singular value\n",
    "            u = u_unnormalized / sigma\n",
    "        else:\n",
    "            u = svd_1d(matrixFor1D, epsilon=epsilon)  # next singular vector\n",
    "            v_unnormalized = np.dot(A.T, u)\n",
    "            sigma = norm(v_unnormalized)  # next singular value\n",
    "            v = v_unnormalized / sigma\n",
    "\n",
    "        svdSoFar.append((sigma, u, v))\n",
    "\n",
    "    singularValues, us, vs = [np.array(x) for x in zip(*svdSoFar)]\n",
    "    return singularValues, us.T, vs\n",
    "\n",
    "\n",
    "if __name__ == \"__main__\":\n",
    "    movieRatings = np.array([\n",
    "        [2, 5, 3],\n",
    "        [1, 2, 1],\n",
    "        [4, 1, 1],\n",
    "        [3, 5, 2],\n",
    "        [5, 3, 1],\n",
    "        [4, 5, 5],\n",
    "        [2, 4, 2],\n",
    "        [2, 2, 5],\n",
    "    ], dtype='float64')\n",
    "\n",
    "    # v1 = svd_1d(movieRatings)\n",
    "    # print(v1)\n",
    "\n",
    "    theSVD = svd(movieRatings)"
   ]
  },
  {
   "cell_type": "code",
   "execution_count": null,
   "metadata": {
    "collapsed": true
   },
   "outputs": [],
   "source": []
  }
 ],
 "metadata": {
  "kernelspec": {
   "display_name": "Python 3",
   "language": "python",
   "name": "python3"
  },
  "language_info": {
   "codemirror_mode": {
    "name": "ipython",
    "version": 3
   },
   "file_extension": ".py",
   "mimetype": "text/x-python",
   "name": "python",
   "nbconvert_exporter": "python",
   "pygments_lexer": "ipython3",
   "version": "3.6.3"
  }
 },
 "nbformat": 4,
 "nbformat_minor": 2
}
