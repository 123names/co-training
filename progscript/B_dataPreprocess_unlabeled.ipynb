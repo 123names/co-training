{
 "cells": [
  {
   "cell_type": "code",
   "execution_count": 1,
   "metadata": {},
   "outputs": [
    {
     "name": "stdout",
     "output_type": "stream",
     "text": [
      "canopy_s_khan\n",
      "['289/23/3152$$10.1038/mp.2014.180$$10.1016/j.euroneuro.2012.09.009$$10.1111/j.1365-2710.2007.00846.x$$10.1093/bioinformatics/btq054$$10.1016/s0893-133x(99)00134-7$$10.1001/2013.jamapsychiatry.4$$10.1176/appi.ajp.162.6.1171$$10.1038/tp.2015.47$$10.1038/nature06916$$10.1016/j.euroneuro.2007.06.004$$10.1038/75556$$10.1038/sj.npp.1301462$$10.1016/s0006-3223(03)00231-2$$10.1007/978-1-62703-360-2_1$$10.1016/j.jad.2013.10.043$$10.1016/j.euroneuro.2012.02.006$$10.1176/appi.ajp.163.11.1905$$10.6101/azq/000239$$10.4088/jcp.08m04309$$10.1214/aos/1176344136$$10.1017/s1461145714000819$$10.1016/j.bbi.2012.12.008', '36:0.321147089741$$148:0.171360271293$$174:0.213924613605\\n']\n",
      "canopy_k_thomas\n",
      "canopy_m_cohen\n",
      "canopy_k_zhou\n",
      "['ct0203sattler$$10.4049/jimmunol.171.2.708$$10.4049/jimmunol.0901065$$10.1038/nbt0712-571b$$10.1182/blood-2004-07-2583$$10.1111/j.1600-065x.1998.tb01574.x$$10.1371/journal.pone.0032416$$10.1016/s0022-3476(75)80463-x$$10.4049/jimmunol.1400336$$10.1016/s0301-472x(01)00769-x$$10.1016/j.it.2003.11.003$$10.1073/pnas.96.11.6377$$10.1016/j.pharmthera.2006.02.002$$10.1007/s12032-010-9515-2$$10.1002/lt.21432$$10.1016/j.jim.2011.04.004$$10.4049/jimmunol.1301828$$10.3389/fimmu.2012.00345$$10.1016/j.trim.2015.01.003$$10.1016/j.immuni.2004.09.002$$10.1182/blood-2005-07-2657$$10.1016/j.it.2008.06.005$$10.1189/jlb.0503228$$10.3389/fimmu.2014.00555$$10.2174/092986711798184334$$10.1038/nature06306$$10.1007/s12015-012-9408-1$$10.4049/jimmunol.1003884$$10.1182/blood-2013-02-482406$$10.1096/fj.01-0169com$$10.1002/stem.1934$$10.1089/scd.2014.0155$$10.1111/j.1365-2249.2007.03422.x$$10.1161/01.cir.98.7.711$$10.1016/j.it.2012.10.001$$10.1161/01.cir.0000163586.62253.a5$$10.1007/s11302-013-9385-0$$10.1016/s0306-3623(01)00107-0$$10.1097/cji.0b013e318217007c$$10.1089/154732804323099190$$10.1016/j.bbmt.2009.12.057$$10.1046/j.1365-3083.2003.01176.x$$10.1186/scrt216$$10.1038/srep14478$$10.1038/icb.2012.62$$10.1038/icb.2012.60$$10.3389/fimmu.2014.00304$$10.3727/096368913x664577$$10.1089/107632701300062859$$10.1016/j.jtcvs.2014.06.029$$10.1111/imr.12160$$10.1089/scd.2015.0008$$10.1634/stemcells.2005-0008$$10.1084/jem.20020590$$10.1007/s11302-006-9050-y$$10.1002/eji.200526106$$10.1038/nrd3955$$10.1634/stemcells.2004-0359$$10.1016/j.bbamcr.2008.01.024$$10.3390/biom5020775$$10.1097/aln.0b013e3181b060f2$$10.4049/jimmunol.1002907$$10.1016/j.febslet.2015.07.027$$10.1182/blood-2009-02-203943$$10.1093/intimm/dxp095$$10.15252/embj.201489589$$10.1073/pnas.0705563105$$10.1634/stemcells.2007-1122$$10.4049/jimmunol.1401434$$10.1038/nrd2638$$10.1016/j.exphem.2007.12.015$$10.1097/01.asn.0000102474.68613.ae$$10.1074/jbc.m109.047423$$10.1681/asn.2012010070$$10.1038/ni760$$10.1097/00007890-197404000-00001$$10.1074/jbc.m110.127100$$10.1084/jem.20130249$$10.1096/fj.12-225201$$10.1100/tsw.2011.22$$10.1097/cji.0b013e3182298c8f$$10.1007/s11373-004-8183-7$$10.1182/blood.v99.10.3838$$10.1002/1529-0131(200108)44:8<1928::aid-art331>3.0.co;2-p$$10.1007/s10545-014-9691-x$$10.1371/journal.pone.0015150$$10.1016/j.jacc.2007.11.040$$10.1016/j.jcyt.2013.07.017$$10.1002/eji.200737529$$10.1634/stemcells.21-1-111$$10.1016/j.jaut.2007.12.012$$10.1111/j.1365-2249.2009.03874.x$$10.1038/nrcardio.2014.9$$10.1089/scd.2013.0089$$10.1186/ar1887$$10.1152/ajpheart.00593.2006$$10.1007/s00109-013-0997-1$$10.1097/shk.0b013e3181cdc3e2$$10.1002/eji.200939314$$10.1111/cea.12521$$10.4049/jimmunol.165.9.5262$$10.1182/blood-2004-02-0586.supported$$10.1016/j.jim.2009.05.004$$10.3324/haematol.12857$$10.1111/jcmm.12036$$10.4049/jimmunol.0902007$$10.1111/j.1582-4934.2011.01391.x$$10.5966/sctm.2011-0017$$10.1634/stemcells.2006-0071$$10.4049/jimmunol.177.10.6780$$10.1155/2012/485156$$10.1002/stem.2280$$10.1016/j.it.2009.04.001$$10.4049/jimmunol.175.3.1483$$10.1186/s13287-015-0021-5$$10.1126/scitranslmed.3005407$$10.1007/s11302-012-9311-x$$10.4049/jimmunol.1402898$$10.1074/jbc.270.5.2387$$10.2337/db13-0614$$10.1097/00024382-200115040-00008$$10.1111/cei.12354$$10.1182/blood-2003-11-3909$$10.1038/srep13110$$10.1084/jem.194.5.629$$10.1182/blood-2010-11-317321$$10.1182/blood-2013-09-524827$$10.1084/jem.20020110', '18:0.0952561204595$$85:0.384236066082$$91:0.0896458345845$$94:0.0847502474787$$191:0.108071291529\\n']\n",
      "Total records: 4163770 records\n"
     ]
    }
   ],
   "source": [
    "# load the file\n",
    "import sys\n",
    "import io\n",
    "import os\n",
    "\n",
    "fileDir = \"../Data/canopies/\"\n",
    "listfiles = os.listdir(fileDir)\n",
    "allPapersInFile_original = []\n",
    "\n",
    "for file in listfiles:\n",
    "    if not file.startswith('.'):\n",
    "        with open(fileDir+file, 'r', encoding = 'utf8') as f:\n",
    "            for line in f:\n",
    "                read_data = line.split(\"\\t\")\n",
    "                # get ride of bad formated lines\n",
    "                try:\n",
    "                    name_part = read_data[4].split(\" \")\n",
    "                    if(len(name_part[-1])<2):\n",
    "                        print(file)\n",
    "                except:\n",
    "                    print(read_data)\n",
    "                if(len(read_data)==13):    \n",
    "                    paper_detail = {\"paperID\": read_data[0], \"authorID\":read_data[1],\"author_name\": read_data[4]}\n",
    "                    allPapersInFile_original.append(paper_detail)\n",
    "        f.close()\n",
    "print(\"Total records:\",len(allPapersInFile_original), \"records\")"
   ]
  },
  {
   "cell_type": "code",
   "execution_count": 6,
   "metadata": {},
   "outputs": [
    {
     "name": "stdout",
     "output_type": "stream",
     "text": [
      "[{'paperID': '73576', 'authorID': '-1', 'author_name': 'j read'}, {'paperID': '320686', 'authorID': '-1', 'author_name': 'j m read'}, {'paperID': '418969', 'authorID': '-1', 'author_name': 'j a read'}]\n"
     ]
    }
   ],
   "source": [
    "# extract all papers that are unlabeled (authorID==-1)\n",
    "UnlabeledPapersInFile = []\n",
    "for paper in allPapersInFile_original:\n",
    "    if paper[\"authorID\"]==str(-1):\n",
    "        UnlabeledPapersInFile.append(paper)\n",
    "print(UnlabeledPapersInFile[:3])"
   ]
  },
  {
   "cell_type": "code",
   "execution_count": 7,
   "metadata": {},
   "outputs": [
    {
     "name": "stdout",
     "output_type": "stream",
     "text": [
      "Total unlabeled records:  4023504\n",
      "Number of name before the last test:  333813\n",
      "Number of name have pass the last test:  333662\n",
      "Number of records have full last name:  4023333\n",
      "Number of unique last name:  1964\n"
     ]
    }
   ],
   "source": [
    "# Process one, get unlabeled paper records that have full last name and first name is unknown\n",
    "print(\"Total unlabeled records: \",len(UnlabeledPapersInFile))\n",
    "authorNames = set([records[\"author_name\"] for records in UnlabeledPapersInFile])\n",
    "print(\"Number of name before the last test: \",len(authorNames))\n",
    "noQualifyList = []\n",
    "lastnameList = set()\n",
    "counter = 0\n",
    "# pick up unqualified names\n",
    "for author in authorNames:\n",
    "    name_part = author.split(\" \")\n",
    "    # if only have last name, print it out for check\n",
    "#     if(len(name_part)<2):\n",
    "#         print(author)\n",
    "    # check if last name is a character or not\n",
    "    if(len(name_part[-1])>1):\n",
    "        # check if first name start with unknown (public by organization)\n",
    "        if(name_part[0]!=\"unknown\"):\n",
    "            counter+=1\n",
    "            lastnameList.add(name_part[-1])\n",
    "        else:\n",
    "            noQualifyList.append(author)\n",
    "#             print(author)\n",
    "    # if last name length less than 2, append to list\n",
    "    else:\n",
    "        noQualifyList.append(author)\n",
    "#         print(author)\n",
    "print(\"Number of name have pass the last test: \",counter)\n",
    "\n",
    "unlabeledRecords_processed1 = []\n",
    "for record in UnlabeledPapersInFile:\n",
    "    if(record[\"author_name\"] not in noQualifyList):\n",
    "        unlabeledRecords_processed1.append(record)\n",
    "print(\"Number of records have full last name: \",len(unlabeledRecords_processed1))\n",
    "print(\"Number of unique last name: \", len(lastnameList))"
   ]
  },
  {
   "cell_type": "code",
   "execution_count": 8,
   "metadata": {},
   "outputs": [
    {
     "name": "stdout",
     "output_type": "stream",
     "text": [
      "{'lambrechts', 'smeeth', 'hussain', 'nakamura', 'alonso-coello', 'lloyd', 'cusi', 'sadikot', 'kimmel', 'lathrop', 'nesto', 'villa-angulo', 'marinò', 'riverol', 'fraser', 'zenklusen', 'costa', 'zhsng', 'wharton', 'morrissey', 'kariisa', 'bojesen', 'haynes', 'whitfield', 'braun', 'reynolds', 'polidoro', 'dalby', 'rizi', 'kunzel', 'bianchi', 'moysich', 'crespo', 'nanas', 'davis', 'santoro', 'mcgue', 'zhang', 'johansson', 'maia', 'rasmussen', 'patil', 'zheng', 'boscari', 'horikoshi', 'weng', 'pasquale', 'okamoto', 'chuang', 'sodergren', 'tzortzatos', 'svensson', 'anaya', 'marshall', 'nayak', 'jha', 'koeckerling', 'dyer', 'rowland', 'chene', 'pan', 'wichmann', 'ahsan-ul-bari', 'bruno', 'ramsear', 'jonas', 'jensen', 'shemin', 'nilsson', 'oldenburg', 'ng', 'ma', 'muñoz-garcía', 'hafler', 'mantovani', 'dennis', 'nahrstaedt', 'berg', 'tajima', 'kang', 'lapointe', 'xi', 'madsen', 'paredes', 'aird', 'qureshi', 'kosinski', 'villamor', 'yellin', 'cambien', 'raizada', 'brinton', 'firestein', 'doyle', 'kobayashi', 'grosjean', 'norman', 'zakaria', 'fernandes', 'runnebaum', 'loughlin', 'mckay', 'wilkerson', 'rasouli', 'balmforth', 'zeska', 'pereira', 'gazzard', 'matullo', 'miranda', 'relvas', 'duijn', 'weedon', 'barros', 'wales', 'golutvin', 'reilly', 'batista', 'vermeire', 'vitale', 'sakai', 'parsons', 'berry', 'skomro', 'hodges', 'manolio', 'balish', 'robichaud', 'mooser', 'yoon', 'garcía-redondo', 'liss', 'millet', 'nielsen', 'mahajan', 'ju', 'lodi', 'chen', 'barber', 'wolf', 'mcardle', 'tillou', 'soto', 'kenny', 'watkins', 'sawford', 'townsend', 'ulaş', 'manning', 'sheridan', 'connis', 'joseph', 'olsen', 'rietschel', 'camey', 'guerini', 'sanz', 'bernardo', 'waisfisz', 'eyheramendy', 'zulkifli', 'ling', 'jewell', 'kraft', 'dawood', 'ross', 'lopes', 'stainback', 'vandenberghe', 'hess', 'nguyen', 'muzny', 'choi', 'arora', 'aggarwal', 'flynn', 'whittemore', 'kathiresan', 'klaveren', 'ljunggren', 'wang', 'gobs', 'dickson', 'boileau', 'slager', 'singaraju', 'vieira', 'carlo', 'hartmann', 'duarte', 'rodríguez-téllez', 'savage', 'cascudo', 'kaur', 'lynch', 'watts', 'friedman', 'xia', 'hill', 'gad', 'radice', 'popov', 'lindenberger', 'fernández-ortiz', 'reece', 'bentham', 'kanjanaboos', 'guénel', 'jung', 'sng', 'redford', 'shugart', 'breteler', 'witt', 'mazet', 'dravid', 'ghoussaini', 'pall', 'rocha', 'oldehinkel', 'hoover', 'moser', 'schmitz', 'stefánsson', 'rosenfeld', 'powell', 'tang', 'shaw', 'yen', 'garcía', 'cornelissen', 'balart', 'greene', 'kristensen', 'erker', 'masuda', 'palmer', 'yi', 'heier', 'fridley', 'you', 'barreto', 'kechavarzi', 'chiquette', 'flexeder', 'kamuth', 'cordeiro', 'nam', 'rodriguez', 'laurenti', 'conte', 'chattopadhyay', 'marcolin', 'emery', 'wannamethee', 'ziogas', 'feuk', 'hayden', 'zhuo', 'romer', 'morange', 'wheatley', 'hoshiyama', 'felmlee', 'mcanulla', 'ozawa', 'wernerson', 'hsing', 'harrison', 'read', 'su', 'lang', 'fernandez', 'kulawonganunchai', 'glenn', 'freeman', 'rattanamongkongul', 'compton', 'linder', 'redhwi', 'herrero', 'aittomäki', 'voronina', 'pouchelon', 'waeber', 'hinchliffe', 'siscovick', 'shanewise', 'owen', 'wilkinson', 'vonsattel', 'thomas', 'ming', 'yong', 'ferenci', 'ahmed', 'glendon', 'meulenbelt', 'parsa', 'dollfus', 'castro', 'nevanlinna', 'bell', 'fiallo-scharer', 'chang-claude', 'shanks', 'grarup', 'england', 'murugesan', 'videm', 'meyre', 'cui', 'reijden', 'simpson', 'watson', 'gerunda', 'takemori', 'ninkovic', \"o'malley\", 'hall', 'dickinson', 'willis', 'bonneau', 'marthin', 'kreppel', 'franco', 'ganley', 'campbell', 'cotch', 'lurie', 'yun-gang', 'chaturvedi', 'yonemoto', 'zimmermann', 'mori', 'møller', 'king', 'borecki', 'foss', 'vlachos', 'casey', 'sherr', 'miranda-angulo', 'cosentino', 'danovitch', 'tybjaerg-hansen', 'keith', 'parveen', 'gershon', 'heller', 'mwango', 'ikenberry', 'jain', 'yasnopolskiy', 'zhu', 'harte', 'nieto', 'saeedi', 'martínez', 'weigen', 'cavalcanti', 'hiltuenen', 'patry', \"o'connor\", 'culebro', 'becker', 'sham', 'horton', 'gudnason', 'hara', 'shenoy', 'barnett', 'esteves', 'lemos', 'guerrero', 'coelho', 'schwinghammer', 'rouleau', 'fonseca', 'camacho', 'eriani', 'curry', 'luo', 'meyer', 'assche', 'ragucci', 'wildner', 'januzzi', 'jang', 'hui', 'sadeghi', 'tu', 'mosquera', 'goessling', 'koh', 'sperling', 'macgregor', 'murdoch', 'ip', 'hollis', 'cheng', 'harris', 'feng', 'kaufman', 'lindholm', 'somogyi', 'dur', 'kimberly', 'fisher', 'kellum', 'wen', 'godwin', 'bartholomeusz', 'hunt', 'williamson', 'hughes', 'brennan', 'jones', 'yeo', 'nixon', 'terry', 'wei', 'fornage', 'ward', 'wolfgang', 'jussila', 'oʼbrien', 'redline', 'mishra', 'booth', 'shileds', 'dhansay', 'wentzensen', 'alavi', 'mano', 'renner', 'younkin', 'jenkins', 'tokar', 'clark', 'schmid', 'kriege', 'tsai', 'yuying', 'rodríguez', 'fein', 'siddiqui', 'hakonarson', 'armstrong', 'chakravarti', 'kamiya', 'bagi', 'wijmenga', 'pendergast', 'trip', 'mathies', 'bansi', \"o'brien\", 'videau', 'horan', 'bangasingh', 'connley', 'quiceno', 'tsunoda', 'kaye', 'belelli', 'bauer', 'yan', 'richter', 'newman', 'fehr', 'paoletti', 'hastie', 'behar', 'langenberg', 'vingerling', 'pooley', 'guo', 'svastisalee', 'dias', 'keildson', 'wong', 'tyrer', 'guz', 'altman', 'keating', 'qi', 'swanson', 'nelson', 'yaojun', 'macdonald', 'venugopal', 'ouellette', 'moisse', 'albert', 'flyger', 'liao', 'liang', 'liu', 'deng', 'wallace', 'knottenbelt', 'pomerantz', 'dalla', 'mallery', 'ives', 'freitas', 'steben', 'broek', 'ying', 'rosenberg', 'huber', 'hendel', 'houghton', 'pathy', 'wu', 'ali', 'jacobson', 'whelan', 'ning', 'andrews', 'lissowska', 'rendon', 'hakimi', 'danu', 'hooning', 'ghosh', 'abate-shen', 'netea', 'little', 'macmahon', 'caffarri', 'srinivasan', 'silva', 'baptista', 'gabriel', 'henderson', 'zimmer', 'stroncek', 'mcclay', 'quan', 'iqbal', 'ingason', 'pers', 'tekkis', 'bergmann', 'baron', 'mefford', 'olson', 'faire', 'mcinnes', 'vo', 'she', 'hays', 'bhattacharyya', 'visscher', 'forrester', 'muranen', 'rodrigues', 'cesar', 'lombardi', 'venditti', 'baltic', 'abe', 'aguilar', 'saskin', 'churchman', 'branno', 'pepys', 'oldani', 'thierens', 'gualandi', 'fraedrich', 'ewertz', 'remias', 'dehghan', 'gaffney', 'regan', 'smith', 'vogt', 'xavier', 'schindler', 'matukumalli', 'staszak', 'gambardella', 'klopp', 'kwon', 'chapin', 'smeaton', 'correia', 'smoller', 'brook', 'yamamoto', 'gloria-soria', 'volpe', 'logsdon', 'carr', 'sorrentino', 'vicic', 'deguchi', 'eriksson', 'ping', 'sherman', 'zou', 'hoagwood', 'roden', 'krishnan', 'bartlett', 'wauters', 'espinasse', 'nickels', 'yoo', 'mieczkowski', 'cerqueira', 'duan', 'sinclair', 'bhasin', 'younis', 'alves', 'gong', 'dawson', 'jia', 'tatum', 'saini', 'wain', 'ribeiro', 'rathmell', 'yuanhai', 'kjaer', 'hasi', 'prentice', 'farrer', 'abrantes', 'graham', 'hutka', 'merino', 'qin', 'cross', 'olswold', 'wadhwa', 'lam', 'lophatananon', 'varadarajulu', 'masi', 'baynes', 'lévai', 'hou', 'gugnani', 'botta-fridlund', 'hosgood', 'beardsley', 'sharma', 'bielinski', 'yun', 'massuger', 'sreeramareddy', 'wolffenbuttel', 'guan', 'jaunmuktane', 'barker', 'shinnar', 'kato', 'yang', 'bernstein', 'demura', 'mao', 'kerin', 'saraf', 'cupples', 'radhakrishnan', 'dewar', 'scordo', 'park', 'boshoff', 'pedersen', 'koff', 'tavares', 'godard', 'medipally', 'marks', 'spencer', 'yokota', 'kuchenbaecker', 'shalini', 'collée', 'waldvogel', 'stevenson', 'golup', 'urzagasti', 'massingham', 'yao', 'vega', 'weaver', 'bates', 'ito', 'schmidt', 'barrera', 'pinho', 'ku', 'porter', 'gardner', 'chasman', 'carracedo', 'ko', 'parish', 'williams', 'correa', 'gaigalas', 'miller', 'saeki', 'ingelsson', 'sanderson', 'humanic', 'squillace', 'pellegrini', 'whetzel', 'martinez', 'finfer', 'parellada', 'jhangian', 'morré', 'lotery', 'singh', 'kiel', 'seynaeve', 'jacobsen', 'chanock', 'gammazza', 'conde', 'nishimura', 'hite', 'ho', 'klein', 'kook', 'shu', 'worley', 'cai', 'jesus', 'goldhirsch', 'arnold', 'mitsuyasu', 'lahmers', 'deal', 'zhou', 'yamasaki', 'rogers', 'thäder', 'iedema', 'edwards', 'momohara', 'zöllner', 'coleman', 'goldman', 'young', 'garcia', 'okada', 'løkkegaard', 'rojas-martinez', 'palma', 'ouweland', \"m'rini\", 'chadha', 'chun', 'arango', 'howell', 'vázquez', 'chapple', 'boackle', 'nagy', 'chandrasekharappa', 'faix', 'arroyo', 'howarth', 'yip', 'charlson', 'alegria', 'knight', 'håkansson', 'dodds', 'pevec', 'lupski', 'saito', 'bronicki', 'clausen', 'bustamante', 'narod', 'lichtenstein', 'sukotjo', 'maleki', 'james', 'odefrey', 'othman', 'wagner', 'persson', 'warren', 'brewer', 'antunes', 'grant', 'green', 'brock', 'rosendaal', 'ewings', 'chong', 'kubisch', 'karmacharya', 'vyse', 'rinaldi', 'knoppers', 'ohlsson', 'alarcόn-riquelme', 'wickremasinghe', 'schroeder', 'kosma', 'launer', 'hardy', 'ford', 'siegel', 'liotta', 'kwak', 'rice', 'crace', 'mcquigg', 'cequier', \"d'alençon\", 'purvis', 'esposito', 'naccarato', 'battistone', 'faiz', 'chien', 'lewin', 'sethi', 'kuo', 'kasza', 'gao', 'prakash', 'pelosi', 'davies', 'chou', 'yamada', 'torrejon', 'menezes', 'eury', 'moreno', 'arrojo', 'hunter', 'dvorakova', 'whitham', 'yeomans', 'roy', 'wardlaw', 'zwahlen', 'leaper', 'neath', 'seela', 'jeemon', 'basit', 'kim', 'chau', 'dan', 'xue', 'herold', 'decamp', 'olivieri', 'schellenberg', 'metsä-ketelä', 'hussein', 'lowe', 'morin', 'fernández', 'coltman', 'murakami', 'levy', 'caldés', 'buhay', 'schouw', 'brooks', 'fujita', 'jeongho', 'gonzález', 'viana', 'ray', 'bosh', 'rosa', 'brosgart', 'morgan', 'raheem', 'dou', 'engel', 'liju', 'li', 'gorman', 'bastin', 'zaki', 'tresagues', 'ferretti', 'goldberg', 'abumi', 'skoog', 'hong', 'john', 'chiang', 'atwood', 'magalhães-soares', 'cardoso', 'swamy', 'reis', 'swartz', 'sweeting', 'duscher', 'pauwels', 'malloy', 'mm', 'steiner', 'andreotti', 'comín', 'garcia-closas', 'zhai', 'mazer', 'fann', \"o'gara\", 'field', 'arends', 'bum', 'shao', 'nihei', 'pariante', 'sinha', 'messing', 'khan', 'riazuddin', 'kirby', 'richards', 'latif', 'yazhuo', 'giglio', 'teixeira', 'donnell', 'kelly', 'prados-ruiz', 'roskoski', 'locatelli', 'beach', 'melo', 'trehan', 'maat', 'walsh', 'haendel', 'radolf', 'kawamura', 'vincent', 'sheu', 'sureshkumar', 'mott', 'ferraris', 'beller', 'shah', 'suzuki', 'allen', 'woo', 'andersson', 'pathak', 'nordestgaard', 'forouzanfar', 'terndrup', 'júnior', 'bernardi', 'kong', 'xie', 'watada', 'gonzalez', 'spurlock', 'tesler', 'dung', 'easton', 'sellers', 'schildkraut', 'sylvia', 'paul', 'mello', 'jo', 'bose', 'iles', 'sandberg', 'mayer', 'derry', 'moraes', 'donnelly', 'foster', 'bryc', 'voloshin', 'roo', 'chandrasekar', 'pearson', 'yungui', 'prince', 'al-sarraj', 'mohammadi', 'clamp', 'taanman', 'burton', 'bakker', 'cravino', 'ansari', 'harrington', 'eholie', 'varlotta', 'jiang', 'hailemariam', 'pearlson', 'heckbert', 'handsaker', 'apicella', 'hassan', 'bist', 'teo', 'despotis', 'yehl', 'hammond', 'truong', 'geng', 'waugh', 'carlsen', 'kubo', 'pinto', 'doney', 'toneatto', 'cust', 'kaczanowski', 'belda-iniesta', 'rashid', 'noble', 'yamagami', 'laframboise', 'downing', 'keller', 'montgomery', 'sharatchandra', 'amos', 'salama', 'evensen', 'chu', 'maddern', 'figueiredo', 'mora', 'brown', 'deloukas', 'defazio', 'boland', 'lummis', 'sarwar', 'mahmoud', 'logan', 'boada', 'burchfield', 'peden', 'law', 'buadromo', 'hein', 'liqunyu', 'beilby', 'hsiung', 'rodgers', 'raveendra', 'gill', 'takahama', 'viegas', 'lyons', 'wint', 'burgess', 'şahin', 'tcaciuc', 'fischer', 'arcieri', 'gowans', 'strayer', 'larsen', 'zhao', 'shin', 'halliday', 'franze', 'bunch', 'dugan', 'ishizu', 'krause', 'winer', 'quinn', 'gordon', 'rajput', 'zimmet', 'gusella', 'bryce', 'pearce', 'brenner', 'ramus', 'janus', 'blanc', 'silver', 'völzke', 'webb', 'cowley', 'oldgren', 'lyngsøe', 'tanaka', 'lian', 'alexander', 'signorello', 'foust', 'bridges', 'alothman', 'stanke', 'lim', 'cuevas', 'carter', 'romano', 'gu', 'catterall', 'anton-culver', 'mitchell', 'ji', 'rahi', 'bressler', 'weinblatt', 'do', 'rubenfeld', 'froguel', 'maeda', 'scarpa', 'hammes-schiffer', 'tseng', 'severino', 'hosseini', 'he', 'jager', 'uitdehaag', 'tworoger', 'joffres', 'evans', 'fuchs', 'maingi', 'swerdlow', 'bedford', 'islami', 'inoue', 'schneider', 'magnusson', 'scholz', 'gaspar', 'pang', 'yue', 'roux', 'amorim', 'xiao', 'savides', 'figueroa', 'rafkin', 'zimmerman', 'shy', 'lau', 'wehrl', 'gooch', 'chaudhry', 'chia', 'kawai', 'wessels', 'almahmeed', 'rasale', 'morris', 'schumacher', 'flesch-janys', 'bhushan', 'jong', 'schmieder', 'fleming', 'tian', 'steingrub', 'bastieri', 'francis', 'kengne', 'udagawa', 'xili', 'tan', 'hammad', 'meesters', 'rotter', 'kostis', 'destée', 'cortellini', 'cottin', 'hua', 'finer', 'ornato', 'monteiro', 'pirastu', 'zhong', 'crawford', 'potpara', 'gårdlund', 'ellinghaus', 'ferro', 'langerød', 'amaral', 'prescott', 'rubinstein', 'chotinavich', 'pal', 'bliss', 'andersen', 'teubert', 'gallagher', 'mcmahon', 'lai', 'neves', 'jeray', 'sieber', 'hawksworth', 'sawyer', 'gandhi', 'cruz', 'sirajuddin', 'krieger', 'bezieau', 'daniels', 'rzepecka', 'hayward', 'goh', 'gubareva', 'myers', 'song', 'petersen', 'larsson', 'witteman', 'luce', 'maple', 'nardi', 'remarque', 'cantwell', 'lucas', 'lin', 'khajuria', 'yuan', 'toland', 'woolliams', 'tavtigian', 'balkau', 'schubert', 'blake', 'pimentel', 'johnson', 'dunning', 'budoff', 'brito', 'neuhausen', 'marchini', 'oh', 'hung', 'lu', 'bortolin', 'peng', 'uezima', 'pasinski', 'barrett', 'hollingsworth', 'hsu', 'ortega', 'chin', 'khoury', 'morello', 'scheer', 'hardyment', 'voysey', 'giles', 'nunes', 'kajimoto', 'cao', 'machado', 'cirino', 'mohan', 'sikkema', 'gur', 'hatami', 'sahu', 'dike', 'puffer', 'mcgownan', 'sato', 'winckler', 'sousa', 'gorbunov', 'wang-gohrke', 'mowat', 'rodrigues-lisoni', 'mitra', 'xing', 'eichner', 'sivaswamy', 'shen', 'riina', 'peters', 'kerr', 'sanjuán', 'vandvik', 'kasiske', 'terrones', 'mccarthy', 'biankin', 'burren', 'oliveira', 'tai', 'grip', 'solovyev', 'soares', 'rauh', 'deeks', 'luz', 'toniolo', 'glasziou', 'baysgalan', 'idol', 'paladini', 'saint-hilaire', 'stier', 'mcpherson', 'diaz-buschmann', 'rabasa-lhoret', 'meade', 'mcmullen', 'cameron', 'sicks', 'bordelon', 'gaborieau', 'novak', 'hollestelle', 'ertekin-taner', 'dagenais', 'skinner', 'jie', 'takai', 'wiese', 'meylaerts', 'bennett', 'das', 'puschmann', 'toomes', 'scott', 'hasdai', 'sharathkumar', 'ryan', 'bergman', 'garcía-closas', 'ware', 'shinawi', 'abrahamsen', 'auerbach', 'blanco', 'tsang', 'chambers', 'sonstegard', 'mukhopadhyay', 'kushwaha', 'roberts', 'srivastava', 'ueno', 'ye', 'protopopov', 'sterner', 'lenzini', 'pavan', 'casas', 'bochud', 'mulligan', 'bogdanova', 'collins', 'pharoah', 'barrio', 'manson', 'mansour', 'weiner', 'cooper', 'pons-estel', 'tozer-loft', 'raju', 'gyllensten', 'richard', 'meitinger', 'moscetti', 'wallaschofski', 'tollenaar', 'ergina', 'pierce', 'linn', 'fonoff', 'branco', 'conrad', 'muir', 'morales', 'waterworth', 'sanders', 'qian', 'phillips', 'ren', 'pinheiro', 'rodger', 'nozyce', 'pavlin', 'thompson', 'weinshilboum', 'iamsirithaworn', 'bialek', 'baker', 'lundgren', 'hossain', 'kar', 'paton', 'sucheston-campbell', 'hadden', 'matthews', 'hankinson', 'henry', 'ruiz', 'ibrahim', 'asperen', 'acosta', 'jin', 'aung', 'qiu', 'cattaneo', 'brocht', 'lopez', 'rowe', 'motulsky', 'delgado', 'heid', 'stirzaker', 'hultqvist', 'sleno', 'soulanoudjingar', 'sim', 'urassa', 'boyle', 'ni', 'barzi', 'cornelis', 'anderson', 'west', 'vanezis', 'musen', 'wyatt', 'kennerson', 'birrell', 'rosty', 'giorgi', 'shim', 'casabona', 'cox', 'quintana', 'sun', 'junior', 'cohen', 'stein', 'rafiq', 'arnoux', 'ruggi', 'deardorff', 'reininghaus', 'schultz', 'blomqvist', 'day', 'stevens', 'douglas', 'fielder', 'bloomfield', 'paltiel', 'ismail', 'drepper', 'morookian', 'jing', 'jr', 'sambrook', 'seo', 'romero', 'baranov', 'black', 'lünemann', 'yannoukakos', 'quiros', 'fitzgerald', 'nanavaty', 'ong', 'euskirchen', 'hallmans', 'speliotes', 'rudan', 'connell', 'levine', 'braund', 'muehlbauer', 'rao', 'lopez-march', 'wender', 'cardwell', 'hofman', 'monreal', 'robins-browne', 'tsao', 'santos', 'guerreiro', 'wladis', 'cardon', 'kunwar', 'mckey', 'sullivan', 'polman', 'kulma', 'stewart', 'egger', 'pizzi', 'kil', 'dicioccio', 'ganesh', 'giuliani', 'goel', 'agrawal', 'kavanagh', 'ouyang', 'schnabel', 'hasan', 'qiang', 'shan', 'banerjee', 'gibbons', 'taylor', 'yu', 'reddy', 'hidalgo', 'shimada', 'demissie', 'wasserthiel-smoller', 'boardman', 'veldhuis', 'southey', 'schulz-wendtland', 'pandey', 'gore', 'marlow', 'rodefeld', 'pimlott', 'hwang', 'lund', 'kitagawa', 'jian', 'lasa', 'sarkisian', 'white', 'toscano', 'choudhury', 'piñeiro', 'hautzinger', 'agarwal', 'ellis', 'martin', 'rossi', 'windelband', 'mardis', 'carby', 'rana', 'weber', 'kramer', 'barton', 'lobo', 'jackson', 'araujo', 'cancelo', 'chan', 'mariotti', 'bhardwaj', 'kapoor', 'fanelli', 'zeng', 'rotimi', 'hengstenberg', 'wordsworth', 'wiltshire', 'dominiczak', 'howard', 'macedo', 'barbosa', 'levinson', 'daly', 'cunha', 'longo', 'patel', 'liping', 'berger', 'pollard', 'darabi', 'mungall', 'fox', 'madarnas', 'yamaguchi', 'robbiano', 'gomes', 'pospisil', 'fei', 'köhler', 'mohs', 'mogensen', 'potkin', 'johnston', 'kaner', 'yiu', 'wareham', 'may', 'chenevix-trench', 'schoemaker', 'eklund', 'chapman', 'harold', 'vaughan', 'storer', 'siegrist', 'russo', 'shimizu', 'zhan', 'aamot', 'parker', 'nsuati', 'mayeux', 'dai', 'rossing', 'federman', 'donghai', 'nakajima', 'schuilenburg', 'forbes', 'bull', 'bolla', 'schmitt', 'shrubsole', 'coutinho', 'richardson', 'dunn', 'børresen-dale', 'dudley', 'nahass', 'summers', 'yoshida', 'stanley', 'marra', 'yonova-doing', 'judge', 'mills', 'warner', 'hu', 'sayers', 'aranda', 'goodman', 'chang', 'jennings', 'nicolás', 'izatt', 'ding', 'lawrence', 'garcia-ledesma', 'martens', 'ramos', 'wheeler', 'garcia-ros', 'mathes', 'mcdonald', 'mohanty', 'gray', 'pritchard', 'jaker', 'matos', 'richardus', 'murabito', 'moore', 'reed', 'cin', 'hodgson', 'moreira', 'takahashi', 'spector', 'ireland', 'turner', 'goodship', 'rai', 'han', 'schwartz', 'molina', 'guthrie', 'dean', 'elliott', 'hansen', 'mooradian', 'amoah', 'tran', 'sarwer', 'blankenberg', 'vimolmangkang', 'joo', 'gupta', 'lisa', 'huang', 'kameyama', 'lima', 'walther', 'hamann', 'feigelson', 'north', 'penninx', 'salomaa', 'lv', 'waldenberger', 'rizzo', 'wood', 'almeida', 'bae', 'lyssenko', 'fu', 'nogueira', 'hata', 'xu', 'kao', 'fontana', 'andrade', 'belachew', 'senyukov', 'ajitha', 'soderberg', 'sabir', 'shi', 'sabbagh', 'chamorro-santos', 'mohammed', 'strengman', 'katulanda', 'anzalone', 'ruiming', 'leiter', 'brodland', 'adams', 'rittenberg', 'palevsky', 'havlak', 'christensen', 'chao', 'rajan', 'dong', 'gibbs', 'bolton', 'danesh', 'tabbada', 'reiss', 'lewis', 'bao', 'ferguson', 'mcclanahan', 'cho', 'beekman', 'zavertyaev', 'gubitz', 'gross', 'islam', 'carvalho', 'mueller-mellin', 'erbacher', 'whincup', 'stemple', 'richie', 'thorland', 'mason', 'rubio', 'morales-guadarrama', 'fan', 'sohn', 'jacobs', 'muller', 'clarke', 'uddin', 'ellias', 'torres', \"o'donovan\", 'hudson', 'tamkins', 'murphy', 'ahn', 'sampaio', 'mcguffin', 'chudley', 'robert', 'mukherjee', 'salem', 'kumar', 'goode', 'mehl', 'soranzo', 'lee', 'cleland', 'doraiswamy', 'biswas', 'campos', 'schwebel', 'rader', 'whitlow', 'sengupta', 'troendle', 'kestenbaum', 'tokunaga', 'rego', 'bingham', 'humphreys', 'wright', 'rubin', 'vartiainen', 'weltens', 'houston', 'ventura-martins', 'appel', 'marques', 'faruque', 'riedel', 'zabierowski', 'müller', 'hanna', 'landt', 'imani', 'carey', 'martins', 'small', 'lüder', 'aslam', 'watanabe', 'jana', 'kwok', 'veldink', 'fabbri', 'thomsen', 'cates', 'doherty', 'murray', 'sahin', 'gutierrez', 'scanlan', 'gil', 'buscaglia', 'reid', 'george', 'labalette', 'bortolotto', 'nomura', 'worthington', 'mcevoy', 'jeong', 'ferreira', 'heatley', 'castañeda-orjuela', 'ramirez', 'tjus', 'amin', 'wedrén', 'paffenholz', 'billington', 'merok', 'dimopoulos', 'karlan', 'walker', 'halle', 'marini', 'cantor', 'klain', 'essand', 'yuan-qing', 'lindblad-toh', 'russell', 'vithana', 'zuckerman', 'guidi', 'guerra', 'wilke', 'nazareno', 'moura', 'griebner', 'bains', 'bilbao', 'degos', 'teahan', 'brant', 'xiang', 'maier', 'lightner', 'pwrtwee', 'giacomini', 'boyd', 'coppola', 'wonnacott', 'silva-alves', 'navarro', 'grange', 'wilson', 'alexopoulou', 'nishikawa', 'gerhard', 'allekotte', 'klautz', 'cheung', 'colombo', 'ferrara', 'lahkar', 'westerfield', 'figueiras', 'akbani', 'lawlor', 'micha', 'hsieh', 'maouche', 'adler', 'díez', 'daniel', 'feitosa', 'beckmann', 'escobedo', 'chung', 'fang', 'childers', 'vogel', 'saykin', 'kitts', 'long', 'bandera', 'mägi', 'gentry-maharaj', 'hensten', 'robinson', 'chow', 'weir', 'simon', 'ferrari', 'byrne', 'nawaz', 'meisinger', \"d'souza\", 'meng', 'fastuca', 'yin', 'montine', 'moon', 'mccloskey', 'arthur', 'saha', 'perry', 'marino', 'riechelmann', 'bouffard', 'lella', 'huikuri', 'changalvaie', 'loos', 'tadmouri', 'orlowski', 'ricci', 'wan', 'almenara'}\n"
     ]
    }
   ],
   "source": [
    "print(lastnameList)"
   ]
  },
  {
   "cell_type": "code",
   "execution_count": 48,
   "metadata": {
    "collapsed": true
   },
   "outputs": [],
   "source": [
    "# # save the pid based on last name\n",
    "# newfileDir = \"../Data/unlabeledGroup/\"\n",
    "# if not os.path.exists(newfileDir):\n",
    "#     os.makedirs(newfileDir)\n",
    "# for record in unlabeledRecords_processed1:\n",
    "#     for lname in lastnameList:\n",
    "#         if record[\"author_name\"].split(\" \")[-1] == lname:\n",
    "#             # write all record belone to same last name to one file\n",
    "#             newf = open((newfileDir+lname+\".txt\").encode('utf-8'), \"a+\",encoding='utf8')\n",
    "#             newf.write(record[\"author_name\"] + \"\\t\" + record[\"paperID\"]+\"\\n\")\n",
    "#             newf.close()"
   ]
  },
  {
   "cell_type": "code",
   "execution_count": null,
   "metadata": {
    "collapsed": true
   },
   "outputs": [],
   "source": [
    "# some of the last name only contain one record, we will treat it as disambiguated\n",
    "fileDir = \"../Data/unlabeledGroup/\"\n",
    "listfiles = os.listdir(fileDir)\n"
   ]
  },
  {
   "cell_type": "code",
   "execution_count": null,
   "metadata": {
    "collapsed": true
   },
   "outputs": [],
   "source": [
    "# process 2 pick up name with same first name or first initial\n",
    "authorNames = [author for author in authorNames if author not in noQualifyList]\n",
    "# check if names that have more middle names\n",
    "counter = 0\n",
    "for name in authorNames:\n",
    "    part = name.split(\" \")\n",
    "    if(len(part)>3):\n",
    "        print(name)\n",
    "        counter+=1\n",
    "print(counter, \" name have more than 3 part.\")"
   ]
  }
 ],
 "metadata": {
  "kernelspec": {
   "display_name": "Python 3",
   "language": "python",
   "name": "python3"
  },
  "language_info": {
   "codemirror_mode": {
    "name": "ipython",
    "version": 3
   },
   "file_extension": ".py",
   "mimetype": "text/x-python",
   "name": "python",
   "nbconvert_exporter": "python",
   "pygments_lexer": "ipython3",
   "version": "3.6.3"
  }
 },
 "nbformat": 4,
 "nbformat_minor": 2
}
