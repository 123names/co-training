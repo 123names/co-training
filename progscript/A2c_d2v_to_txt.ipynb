{
 "cells": [
  {
   "cell_type": "code",
   "execution_count": 10,
   "metadata": {
    "ExecuteTime": {
     "end_time": "2019-01-15T17:58:51.754770Z",
     "start_time": "2019-01-15T17:58:38.491630Z"
    }
   },
   "outputs": [
    {
     "name": "stdout",
     "output_type": "stream",
     "text": [
      "Loading model ........\n",
      "Done\n"
     ]
    }
   ],
   "source": [
    "import gensim\n",
    "import logging\n",
    "import os\n",
    "import numpy as np\n",
    "from matplotlib import pyplot\n",
    "\n",
    "Dataset = \"pubmed\"\n",
    "\n",
    "# load existing model\n",
    "print(\"Loading model ........\")\n",
    "# \"../Data/\"+Dataset+\"/models/doc2v/textual_sample=3m/pv_dm/Doc2Vec(dmm,d100,n5,w5,mc2,s0.001,t24)\"\n",
    "# \"../Data/\"+Dataset+\"/models/doc2v/textual_sample=3m/pv_dbow/Doc2Vec(dbow,d100,n5,mc2,s0.001,t24)\"\n",
    "model = gensim.models.Doc2Vec.load(\"../Data/\"+Dataset+\"/models/doc2v/textual_sample=3m/pv_dm/Doc2Vec(dmm,d100,n5,w5,mc3,s0.001,t24)\")\n",
    "print(\"Done\")"
   ]
  },
  {
   "cell_type": "code",
   "execution_count": 11,
   "metadata": {
    "ExecuteTime": {
     "end_time": "2019-01-15T18:03:35.360920Z",
     "start_time": "2019-01-15T18:01:40.266027Z"
    }
   },
   "outputs": [
    {
     "name": "stdout",
     "output_type": "stream",
     "text": [
      "['27406695', 0.4894304573535919, 1.4113768339157104, -0.3352033793926239, -0.4296081066131592, 0.03353068605065346, 1.4585485458374023, -1.081477403640747, 0.6079679131507874, 1.8353559970855713, 0.3822573721408844, -0.17573945224285126, -0.8680503964424133, 1.2106705904006958, 0.6375372409820557, -0.744168221950531, -0.8936153650283813, 0.13228897750377655, -0.19121073186397552, -0.5508224964141846, -1.0194804668426514, -0.13327720761299133, 0.7373141050338745, 0.1596939116716385, 0.13325919210910797, -0.08128974586725235, 0.3605048656463623, 0.33010202646255493, 1.157584547996521, 0.35253188014030457, -0.06465575844049454, -0.06596878170967102, 2.284174919128418, 0.7084231972694397, 1.1917121410369873, -1.236040711402893, -0.9306693077087402, 0.17620204389095306, 0.7892269492149353, -0.19077904522418976, -1.3005975484848022, 0.0021050465293228626, -0.10431402921676636, -0.20067118108272552, 0.21709077060222626, -0.4393363893032074, 1.0337944030761719, -0.6375114917755127, -0.5623388886451721, -0.2847132086753845, -1.5367647409439087, -0.26288601756095886, -0.9696909189224243, 0.4714091122150421, -2.5495083332061768, 0.11463223397731781, 0.5586639642715454, -0.37068307399749756, -0.0997125431895256, 0.7704575061798096, 0.27687573432922363, 0.038312558084726334, -0.6809124946594238, -0.6418682336807251, 0.4164934754371643, 0.9028409719467163, -1.710955023765564, -0.7880290150642395, 0.46211177110671997, -0.5461755394935608, 0.47191575169563293, 0.9610161185264587, -1.0834119319915771, 0.7332395315170288, -0.434536337852478, -0.811034083366394, -0.3883002698421478, -0.31229540705680847, -1.0946474075317383, 0.08783187717199326, -0.07307800650596619, 0.41936010122299194, 1.5073381662368774, 1.7622729539871216, 0.24219587445259094, 1.7477071285247803, 0.019341040402650833, -1.9009705781936646, -0.3032068610191345, 0.24093420803546906, 0.6303161978721619, -0.609990119934082, -1.7762106657028198, 0.9172455072402954, -0.23534920811653137, 0.12802913784980774, 0.4855634272098541, -1.087449073791504, -0.7739694714546204, -2.065297842025757, 0.013616361655294895]\n"
     ]
    }
   ],
   "source": [
    "textual_emb = []\n",
    "allPaperTags = model.docvecs.offset2doctag\n",
    "for pid in allPaperTags:\n",
    "    vectorRepresentation = model.docvecs[pid].tolist()\n",
    "    vectorRepresentation = [float(i) for i in vectorRepresentation]\n",
    "    textual_emb.append([pid]+vectorRepresentation)\n",
    "print(textual_emb[0])"
   ]
  },
  {
   "cell_type": "code",
   "execution_count": null,
   "metadata": {
    "ExecuteTime": {
     "end_time": "2018-12-17T22:32:10.750410Z",
     "start_time": "2018-12-17T22:32:10.704052Z"
    }
   },
   "outputs": [],
   "source": [
    "# size of vocab\n",
    "print(len(model.wv.vocab))\n",
    "# print number of doc vec\n",
    "print(len(model.docvecs))\n",
    "# print list of all tags\n",
    "allPaperTags = model.docvecs.offset2doctag\n",
    "print(allPaperTags[:100])\n",
    "# dimension of the doc vector\n",
    "print(len(model.docvecs[0]))\n",
    "# example of one doc vectors\n",
    "print(model.docvecs['8077'])\n",
    "test = model.docvecs['8077'].tolist()\n",
    "test = [format(i, '.8f') for i in test]\n",
    "print(test)\n",
    "print(type(test))"
   ]
  },
  {
   "cell_type": "code",
   "execution_count": null,
   "metadata": {
    "ExecuteTime": {
     "end_time": "2018-11-28T15:50:36.835414Z",
     "start_time": "2018-11-28T15:50:36.815227Z"
    },
    "collapsed": true
   },
   "outputs": [],
   "source": [
    "import unicodedata\n",
    "import string\n",
    "valid_filename_chars = \"-_.,() %s%s\" % (string.ascii_letters, string.digits)\n",
    "char_limit = 255\n",
    "def clean_filename(filename, whitelist=valid_filename_chars, replace=' '):\n",
    "    # replace spaces\n",
    "    for r in replace:\n",
    "        filename = filename.replace(r,'_')\n",
    "    \n",
    "    # keep only valid ascii chars\n",
    "    cleaned_filename = unicodedata.normalize('NFKD', filename).encode('ASCII', 'ignore').decode()\n",
    "    \n",
    "    # keep only whitelisted chars\n",
    "    cleaned_filename = ''.join(c for c in cleaned_filename if c in whitelist)\n",
    "    if len(cleaned_filename)>char_limit:\n",
    "        print(\"Warning, filename truncated because it was over {}. Filenames may no longer be unique\".format(char_limit))\n",
    "    return cleaned_filename[:char_limit]"
   ]
  },
  {
   "cell_type": "code",
   "execution_count": null,
   "metadata": {
    "ExecuteTime": {
     "end_time": "2018-11-28T15:51:01.146528Z",
     "start_time": "2018-11-28T15:51:01.141207Z"
    }
   },
   "outputs": [],
   "source": [
    "clean_filename(model.__str__())"
   ]
  },
  {
   "cell_type": "code",
   "execution_count": null,
   "metadata": {
    "ExecuteTime": {
     "end_time": "2018-11-28T15:56:06.584016Z",
     "start_time": "2018-11-28T15:51:03.105051Z"
    },
    "collapsed": true
   },
   "outputs": [],
   "source": [
    "# export the paper vector representation to txt file\n",
    "newfileDir = \"../Data/\"+Dataset+\"/vectors/d2v/\"\n",
    "if not os.path.exists(newfileDir):\n",
    "    os.makedirs(newfileDir)\n",
    "allPaperTags = model.docvecs.offset2doctag\n",
    "newf = open(newfileDir+clean_filename(model.__str__())+\".txt\", \"w\",encoding='utf8')\n",
    "\n",
    "for paper in allPaperTags:\n",
    "    vectorRepresentation = model.docvecs[paper].tolist()\n",
    "    vectorRepresentation = [format(i, '.8f') for i in vectorRepresentation]\n",
    "    vectorRepresentation = ' '.join(vectorRepresentation)\n",
    "    newf.write(paper+\" \"+vectorRepresentation+ \"\\n\")\n",
    "newf.close()"
   ]
  },
  {
   "cell_type": "code",
   "execution_count": null,
   "metadata": {
    "collapsed": true
   },
   "outputs": [],
   "source": []
  }
 ],
 "metadata": {
  "kernelspec": {
   "display_name": "Python 3",
   "language": "python",
   "name": "python3"
  },
  "language_info": {
   "codemirror_mode": {
    "name": "ipython",
    "version": 3
   },
   "file_extension": ".py",
   "mimetype": "text/x-python",
   "name": "python",
   "nbconvert_exporter": "python",
   "pygments_lexer": "ipython3",
   "version": "3.6.3"
  }
 },
 "nbformat": 4,
 "nbformat_minor": 2
}
