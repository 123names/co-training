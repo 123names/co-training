{
 "cells": [
  {
   "cell_type": "code",
   "execution_count": 2,
   "metadata": {
    "ExecuteTime": {
     "end_time": "2019-03-24T02:21:19.701379Z",
     "start_time": "2019-03-24T02:21:18.706293Z"
    },
    "collapsed": true
   },
   "outputs": [],
   "source": [
    "import os\n",
    "import pickle\n",
    "import numpy as np\n",
    "import pandas as pd\n",
    "def dummy(doc):\n",
    "    return doc\n",
    "Dataset = \"pubmed\""
   ]
  },
  {
   "cell_type": "code",
   "execution_count": 3,
   "metadata": {
    "ExecuteTime": {
     "end_time": "2019-04-21T23:46:31.656972Z",
     "start_time": "2019-04-21T23:46:31.625172Z"
    }
   },
   "outputs": [
    {
     "name": "stdout",
     "output_type": "stream",
     "text": [
      "0.26666666666666666\n",
      "0.3333333333333333\n"
     ]
    }
   ],
   "source": [
    "from sklearn.metrics import f1_score\n",
    "y_true = [0, 0, 0, 1, 1, 1]\n",
    "y_pred = [0, 0, 0, 0, 0, 1]\n",
    "print(f1_score(y_true, y_pred, average='macro'))\n",
    "print(f1_score(y_true, y_pred, average='micro'))"
   ]
  },
  {
   "cell_type": "code",
   "execution_count": 17,
   "metadata": {
    "ExecuteTime": {
     "end_time": "2019-04-15T16:13:49.323690Z",
     "start_time": "2019-04-15T16:13:49.157178Z"
    }
   },
   "outputs": [
    {
     "name": "stdout",
     "output_type": "stream",
     "text": [
      "[1 1 0 1 1 1 1 1 1 1 1 1 1 1 0 0 1 0 1 1 1 1 0 1 1 1 1 0 1 1 1 1 1 1 1 1 0\n",
      " 1 0 0 0 1 1 0 1 1 1 0 1 1 1 1 1 1 1 1 1 1 1 1 1 1 1 1 0 1 0 0 1 1 1 1 1 1\n",
      " 1 1 1 0 1 1 1 1 1 1 1 1 0 1 1 0 1 0 1 1 1 1 1 0 1 1]\n",
      "StratifiedShuffleSplit(labels=[1 1 0 1 1 1 1 1 1 1 1 1 1 1 0 0 1 0 1 1 1 1 0 1 1 1 1 0 1 1 1 1 1 1 1 1 0\n",
      " 1 0 0 0 1 1 0 1 1 1 0 1 1 1 1 1 1 1 1 1 1 1 1 1 1 1 1 0 1 0 0 1 1 1 1 1 1\n",
      " 1 1 1 0 1 1 1 1 1 1 1 1 0 1 1 0 1 0 1 1 1 1 1 0 1 1], n_iter=1, test_size=0.5, random_state=0)\n",
      "[[ 5  5]\n",
      " [ 8 32]]\n",
      "              precision    recall  f1-score   support\n",
      "\n",
      "           0       0.38      0.50      0.43        10\n",
      "           1       0.86      0.80      0.83        40\n",
      "\n",
      "   micro avg       0.74      0.74      0.74        50\n",
      "   macro avg       0.62      0.65      0.63        50\n",
      "weighted avg       0.77      0.74      0.75        50\n",
      "\n",
      "0.6329757199322417\n",
      "0.6247401247401247\n",
      "0.65\n",
      "0.74\n",
      "0.74\n",
      "0.74\n"
     ]
    },
    {
     "name": "stderr",
     "output_type": "stream",
     "text": [
      "/home/gao137/intel/intelpython3/lib/python3.6/site-packages/sklearn/linear_model/logistic.py:433: FutureWarning: Default solver will be changed to 'lbfgs' in 0.22. Specify a solver to silence this warning.\n",
      "  FutureWarning)\n"
     ]
    }
   ],
   "source": [
    "from sklearn.datasets import make_classification\n",
    "from sklearn.cross_validation import StratifiedShuffleSplit\n",
    "from sklearn.metrics import accuracy_score, f1_score, precision_score, recall_score, classification_report, confusion_matrix\n",
    "from sklearn.linear_model import LogisticRegression\n",
    "# We use a utility to generate artificial classification data.\n",
    "class_ratio = [0.2, 0.8]\n",
    "X, y = make_classification(n_samples=100, weights= class_ratio, n_informative=10, n_classes=2)\n",
    "sss = StratifiedShuffleSplit(y, n_iter=1, test_size=0.5, random_state=0)\n",
    "print(y)\n",
    "\n",
    "for train_idx, test_idx in sss:\n",
    "    X_train, X_test, y_train, y_test = X[train_idx], X[test_idx], y[train_idx], y[test_idx]\n",
    "    clf = LogisticRegression()\n",
    "    clf.fit(X_train, y_train)\n",
    "    y_pred = clf.predict(X_test)\n",
    "    # row true, column predict\n",
    "    print(confusion_matrix(y_test, y_pred))\n",
    "    print(classification_report(y_test,y_pred))\n",
    "    \n",
    "    print(f1_score(y_test, y_pred, average=\"macro\"))\n",
    "    print(precision_score(y_test, y_pred, average=\"macro\"))\n",
    "    print(recall_score(y_test, y_pred, average=\"macro\"))\n",
    "    \n",
    "    print(f1_score(y_test, y_pred, average=\"micro\"))\n",
    "    print(precision_score(y_test, y_pred, average=\"micro\"))\n",
    "    print(recall_score(y_test, y_pred, average=\"micro\"))"
   ]
  },
  {
   "cell_type": "code",
   "execution_count": 22,
   "metadata": {
    "ExecuteTime": {
     "end_time": "2019-04-15T16:23:28.684344Z",
     "start_time": "2019-04-15T16:23:28.658598Z"
    }
   },
   "outputs": [
    {
     "name": "stdout",
     "output_type": "stream",
     "text": [
      "0.38461538461538464\n",
      "0.5\n",
      "0.4347826086956522\n",
      "0.8648648648648649\n",
      "0.8\n",
      "0.8311688311688312\n",
      "0.6329757199322417\n"
     ]
    }
   ],
   "source": [
    "#-------- macro f1 ------------ #\n",
    "print(5/(5+8))\n",
    "\n",
    "print(5/(5+5))\n",
    "\n",
    "print(2*((5/(5+8))*(5/(5+5)))/(5/(5+8)+5/(5+5)))\n",
    "\n",
    "print(32/(32+5))\n",
    "\n",
    "print(32/(32+8))\n",
    "\n",
    "print(2*((32/(32+5))*(32/(32+8)))/(32/(32+5)+32/(32+8)))\n",
    "\n",
    "print(((2*((5/(5+8))*(5/(5+5)))/(5/(5+8)+5/(5+5)))+(2*((32/(32+5))*(32/(32+8)))/(32/(32+5)+32/(32+8))))/2)"
   ]
  },
  {
   "cell_type": "code",
   "execution_count": 12,
   "metadata": {
    "ExecuteTime": {
     "end_time": "2020-07-20T00:02:24.194142Z",
     "start_time": "2020-07-20T00:02:22.844067Z"
    }
   },
   "outputs": [
    {
     "data": {
      "image/png": "[encoded data removed]",
      "text/plain": [
       "<Figure size 432x288 with 1 Axes>"
      ]
     },
     "metadata": {},
     "output_type": "display_data"
    }
   ],
   "source": [
    "import numpy as np\n",
    "import matplotlib.pyplot as plt\n",
    "from adjustText import adjust_text\n",
    "np.random.seed(1)\n",
    "x, y = np.random.random((2,200))\n",
    "\n",
    "fig, ax = plt.subplots()\n",
    "ax.plot(x, y, 'bo')\n",
    "ts = []\n",
    "for i in range(10):\n",
    "    ts.append(plt.text(x[i], y[i], 'Something'+str(i)))\n",
    "adjust_text(ts, x=x, y=y, force_points=0.3, force_text=1, force_objects=(1, 0), expand_points=(2, 2), \n",
    "            expand_text=(1.05, 1), arrowprops=dict(arrowstyle='Simple', color='red'), autoalign=False)\n",
    "plt.show()"
   ]
  },
  {
   "cell_type": "code",
   "execution_count": 2,
   "metadata": {
    "ExecuteTime": {
     "end_time": "2020-07-19T23:54:50.490945Z",
     "start_time": "2020-07-19T23:54:50.119474Z"
    }
   },
   "outputs": [
    {
     "data": {
      "image/png": "[encoded data removed]",
      "text/plain": [
       "<Figure size 432x288 with 1 Axes>"
      ]
     },
     "metadata": {},
     "output_type": "display_data"
    }
   ],
   "source": [
    "import matplotlib.pyplot as plt\n",
    "z = [0.15, 0.3, 0.45, 0.46, 0.6, 0.75]\n",
    "y = [2.56422, 3.77284, 3.52623, 3.52623, 3.51468, 3.02199]\n",
    "n = [58, 651, 393, \"393(2)\", 203, 123]\n",
    "\n",
    "fig, ax = plt.subplots()\n",
    "ax.scatter( z, y )\n",
    "texts = []\n",
    "for i, txt in enumerate( n ):\n",
    "    texts.append(ax.text(z[i], y[i], txt))\n",
    "adjust_text(texts)\n",
    "plt.show()"
   ]
  },
  {
   "cell_type": "code",
   "execution_count": 4,
   "metadata": {
    "ExecuteTime": {
     "end_time": "2019-03-24T02:21:50.318272Z",
     "start_time": "2019-03-24T02:21:50.288633Z"
    }
   },
   "outputs": [
    {
     "name": "stdout",
     "output_type": "stream",
     "text": [
      "[2 4 3 1 0]\n",
      "[4 3 0 2 1]\n",
      "[0 1 3 4 2]\n",
      "0.2\n",
      "(array([2]),)\n"
     ]
    }
   ],
   "source": [
    "test = np.array([0.9, 0.8, 0.2, 0.5, 0.3])\n",
    "order = test.argsort()\n",
    "order_reversed = (-test).argsort()\n",
    "ranks = order.argsort()\n",
    "print(order)\n",
    "print(ranks)\n",
    "print(order_reversed)\n",
    "print(np.amin(test))\n",
    "print(np.where(test == np.amin(test)))"
   ]
  },
  {
   "cell_type": "code",
   "execution_count": 14,
   "metadata": {
    "ExecuteTime": {
     "end_time": "2019-02-27T02:02:56.057238Z",
     "start_time": "2019-02-27T02:02:55.311587Z"
    }
   },
   "outputs": [
    {
     "data": {
      "image/png": "[encoded data removed]",
      "text/plain": [
       "<matplotlib.figure.Figure at 0x7f97dd01cf28>"
      ]
     },
     "metadata": {},
     "output_type": "display_data"
    },
    {
     "data": {
      "image/png": "[encoded data removed]",
      "text/plain": [
       "<matplotlib.figure.Figure at 0x7f97dd2d20f0>"
      ]
     },
     "metadata": {},
     "output_type": "display_data"
    }
   ],
   "source": [
    "import numpy as np\n",
    "import matplotlib.pyplot as plt\n",
    "\n",
    "# example data\n",
    "x = np.arange(0.1, 4, 0.5)\n",
    "y = np.exp(-x)\n",
    "\n",
    "# example variable error bar values\n",
    "yerr = 0.1 + 0.2*np.sqrt(x)\n",
    "xerr = 0.1 + yerr\n",
    "\n",
    "# First illustrate basic pyplot interface, using defaults where possible.\n",
    "plt.figure()\n",
    "plt.errorbar(x, y, yerr=[yerr, 2*yerr], fmt='-o', capsize=3)\n",
    "plt.title(\"Simplest errorbars, 0.2 in x, 0.4 in y\")\n",
    "plt.show()"
   ]
  },
  {
   "cell_type": "code",
   "execution_count": 5,
   "metadata": {
    "ExecuteTime": {
     "end_time": "2019-02-23T01:59:48.269835Z",
     "start_time": "2019-02-23T01:59:48.205036Z"
    }
   },
   "outputs": [
    {
     "name": "stdout",
     "output_type": "stream",
     "text": [
      "[('test', 0.45), ('test1', 0.55)]\n",
      "[('test', 4), ('test1', 6)]\n",
      "[0, 2, 7, 9, 3, 8, 1]\n",
      "[0, 1, 2, 3, 4, 5, 6, 7, 8, 9, 10]\n",
      "[23, 20, 18, 22, 19, 12, 14]\n",
      "[11, 12, 13, 14, 15, 16, 17, 18, 19, 20, 21, 22, 23]\n",
      "[-1, -1, -1, -1, 'test', 'test', 'test', -1, -1, -1, 'test', 'test1', -1, 'test1', -1, 'test1', 'test1', 'test1', -1, -1, -1, 'test1', -1, -1]\n",
      "        0\n",
      "0      -1\n",
      "1      -1\n",
      "2      -1\n",
      "3      -1\n",
      "4    test\n",
      "5    test\n",
      "6    test\n",
      "7      -1\n",
      "8      -1\n",
      "9      -1\n",
      "10   test\n",
      "11  test1\n",
      "12     -1\n",
      "13  test1\n",
      "14     -1\n",
      "15  test1\n",
      "16  test1\n",
      "17  test1\n",
      "18     -1\n",
      "19     -1\n",
      "20     -1\n",
      "21  test1\n",
      "22     -1\n",
      "23     -1\n",
      "         0\n",
      "0       -1\n",
      "1   123456\n",
      "2       -1\n",
      "3       -1\n",
      "4   123456\n",
      "5     test\n",
      "6     test\n",
      "7       -1\n",
      "8   123456\n",
      "9       -1\n",
      "10    test\n",
      "11   test1\n",
      "12      -1\n",
      "13   test1\n",
      "14      -1\n",
      "15   test1\n",
      "16   test1\n",
      "17   test1\n",
      "18      -1\n",
      "19      -1\n",
      "20      -1\n",
      "21   test1\n",
      "22      -1\n",
      "23      -1\n"
     ]
    }
   ],
   "source": [
    "import random\n",
    "labels = [\"test\",\"test\",\"test\",\"test\",\"test\",\"test\",\"test\",\"test\",\"test\",\"test\",\"test\",\n",
    "          \"test1\",\"test1\",\"test1\",\"test1\",\"test1\",\"test1\",\"test1\",\"test1\",\"test1\",\"test1\",\"test1\",\"test1\",\"test1\"]\n",
    "init_labeled_size = 10\n",
    "test = [(\"test\",0.45),(\"test1\", 0.55)]\n",
    "print(test)\n",
    "# Banker's rounding. Rounded to the nearest even number\n",
    "co_train_per_class_size = [(label, round(ratio*init_labeled_size)) for label, ratio in test]\n",
    "print(co_train_per_class_size)\n",
    "temp = labels\n",
    "for unique_label, wanted_size in co_train_per_class_size:\n",
    "    selected_size = 0\n",
    "    unique_label_idx = [i for i, x in enumerate(temp) if x == unique_label]\n",
    "    unlabel_item_idx = random.sample(unique_label_idx, (len(unique_label_idx)-wanted_size))\n",
    "    for unlabel_idx in unlabel_item_idx:\n",
    "        temp[unlabel_idx]=-1\n",
    "    print(unlabel_item_idx)\n",
    "    print(unique_label_idx)\n",
    "print(temp)\n",
    "\n",
    "auto_labeled = [1,4,8]\n",
    "labels = pd.DataFrame(labels)\n",
    "print(labels)\n",
    "labels[0][auto_labeled] = \"123456\"\n",
    "print(labels)"
   ]
  },
  {
   "cell_type": "code",
   "execution_count": 5,
   "metadata": {
    "ExecuteTime": {
     "end_time": "2019-02-22T02:54:38.298783Z",
     "start_time": "2019-02-22T02:54:38.246878Z"
    }
   },
   "outputs": [
    {
     "name": "stdout",
     "output_type": "stream",
     "text": [
      "Number of processors:  24\n",
      "test: 20\n",
      "test2: 6\n"
     ]
    }
   ],
   "source": [
    "import multiprocessing as mp\n",
    "print(\"Number of processors: \", mp.cpu_count())\n",
    "\n",
    "def jobA(num):\n",
    "    return \"test: \" + str(num * 2)\n",
    "\n",
    "def jobB(num):\n",
    "    return \"test2: \"+ str(num * 3)\n",
    "\n",
    "from multiprocessing import Pool\n",
    "\n",
    "p = Pool(2)\n",
    "r1 = p.apply(jobA, (10,))\n",
    "r2 = p.apply(jobB, (2,))\n",
    "print(r1)\n",
    "print(r2)"
   ]
  },
  {
   "cell_type": "code",
   "execution_count": null,
   "metadata": {
    "ExecuteTime": {
     "end_time": "2019-02-17T01:50:13.190446Z",
     "start_time": "2019-02-17T01:50:13.159264Z"
    },
    "collapsed": true
   },
   "outputs": [],
   "source": [
    "import numpy as np\n",
    "test = np.array([[40,32],\n",
    "                [135, 142]])\n",
    "test1 = np.diag(test)\n",
    "print(test1)\n",
    "print(test)\n",
    "print(test.sum(axis=0))\n",
    "print(test.sum(axis=0)-test1)\n",
    "print(test.sum(axis=1))\n",
    "print(test.sum(axis=1)-test1)"
   ]
  },
  {
   "cell_type": "code",
   "execution_count": null,
   "metadata": {
    "ExecuteTime": {
     "end_time": "2019-02-16T16:22:20.722955Z",
     "start_time": "2019-02-16T16:22:20.702559Z"
    },
    "collapsed": true
   },
   "outputs": [],
   "source": [
    "import numpy as np\n",
    "classes = np.array(['0000-0001-9498-284X','0000-0002-5878-8895','0000-0002-6929-5359'])\n",
    "classes1 = np.array(['0000-0001-9498-284X','0000-0002-5878-8895','0000-0002-6929-5359'])\n",
    "\n",
    "if all(classes == classes1):\n",
    "    print(\"pass\")\n",
    "else:\n",
    "    sys.exit(\"Two view classifier label not mapping\")"
   ]
  },
  {
   "cell_type": "code",
   "execution_count": null,
   "metadata": {
    "ExecuteTime": {
     "end_time": "2019-02-14T02:53:28.049917Z",
     "start_time": "2019-02-14T02:53:25.301194Z"
    },
    "collapsed": true
   },
   "outputs": [],
   "source": [
    "import pandas as pd\n",
    "import numpy as np\n",
    "np.set_printoptions(precision=3, suppress=True)\n",
    "idx = [1,5,7,6,4,3,2,8]\n",
    "df = pd.DataFrame(np.random.randn(8, 4),index =idx, columns=['A', 'B', 'C', 'D'])\n",
    "print(df)"
   ]
  },
  {
   "cell_type": "code",
   "execution_count": null,
   "metadata": {
    "ExecuteTime": {
     "end_time": "2019-02-09T04:56:25.021656Z",
     "start_time": "2019-02-09T04:56:25.014179Z"
    },
    "collapsed": true
   },
   "outputs": [],
   "source": [
    "want_idx = [5,2,8]\n",
    "print()\n",
    "print(np.where(list(df.index) in want_idx))"
   ]
  },
  {
   "cell_type": "code",
   "execution_count": null,
   "metadata": {
    "ExecuteTime": {
     "end_time": "2019-02-10T03:40:23.417005Z",
     "start_time": "2019-02-10T03:40:22.227393Z"
    },
    "collapsed": true
   },
   "outputs": [],
   "source": [
    "import matplotlib.pyplot as plt\n",
    "import numpy as np\n",
    "\n",
    "y = [2.56422, 3.77284, 3.52623, 3.51468, 3.02199]\n",
    "z = np.array([0.15, 0.3, 0.45, 0.6, 0.75])\n",
    "n = [203, 123]\n",
    "n_idx = [3,4]\n",
    "\n",
    "fig, ax = plt.subplots()\n",
    "ax.scatter(z, y, s=50)\n",
    "\n",
    "print(z[n_idx])\n",
    "\n",
    "temp = ax.scatter(z[n_idx], y[n_idx], edgecolor='black', linewidth='3', s=50)\n",
    "temp.set_facecolor(\"none\")\n",
    "temp.set_label(\"self-labeled\")\n",
    "plt.legend()\n",
    "\n",
    "# for idx, txt in zip(n_idx, n):\n",
    "#     ax.annotate(txt, (z[idx], y[idx]), xytext=(z[idx]+0.2, y[idx]+0.05), arrowprops=dict(facecolor='black', shrink=0.05))\n",
    "plt.show()"
   ]
  },
  {
   "cell_type": "code",
   "execution_count": null,
   "metadata": {
    "ExecuteTime": {
     "end_time": "2019-02-08T06:44:50.558019Z",
     "start_time": "2019-02-08T06:44:50.550617Z"
    },
    "collapsed": true
   },
   "outputs": [],
   "source": [
    "import sklearn; sklearn.show_versions()"
   ]
  },
  {
   "cell_type": "code",
   "execution_count": null,
   "metadata": {
    "ExecuteTime": {
     "end_time": "2019-02-10T03:49:33.054702Z",
     "start_time": "2019-02-10T03:49:32.977341Z"
    },
    "collapsed": true
   },
   "outputs": [],
   "source": [
    "from sklearn.decomposition import PCA, IncrementalPCA\n",
    "\n",
    "X = np.array([[-1, -1], [-2, -1], [-3, -2], [1, 1], [2, 1], [3, 2]])\n",
    "pca = IncrementalPCA(n_components=2)\n",
    "test = pca.fit_transform(X)\n",
    "print(test)\n",
    "print(pca.transform([[0,0]]))"
   ]
  },
  {
   "cell_type": "code",
   "execution_count": null,
   "metadata": {
    "ExecuteTime": {
     "end_time": "2019-02-10T03:48:30.173995Z",
     "start_time": "2019-02-10T03:48:30.079393Z"
    },
    "collapsed": true
   },
   "outputs": [],
   "source": [
    "X = np.array([[-1, -1], [-2, -1], [-3, -2], [1, 1], [2, 1]])\n",
    "X_test = np.array([[3, 2]])\n",
    "pca = IncrementalPCA(n_components=2)\n",
    "pca.partial_fit(X)\n",
    "pca.partial_fit(X_test)\n",
    "print(pca.transform(X_test))"
   ]
  },
  {
   "cell_type": "code",
   "execution_count": null,
   "metadata": {
    "ExecuteTime": {
     "end_time": "2019-02-14T03:07:18.952944Z",
     "start_time": "2019-02-14T03:07:16.756215Z"
    },
    "collapsed": true
   },
   "outputs": [],
   "source": [
    "import matplotlib.pyplot as plt\n",
    "from sklearn.linear_model import LogisticRegression\n",
    "from sklearn import datasets\n",
    "import copy\n",
    "\n",
    "iris = datasets.load_iris()\n",
    "X = iris.data[:, :2]  # we only take the first two features.\n",
    "Y = iris.target\n",
    "\n",
    "logreg = LogisticRegression(C=1e5, solver='lbfgs', multi_class='ovr')\n",
    "test = [copy.deepcopy(logreg)]*10\n",
    "logreg.fit(X,Y)\n",
    "print(logreg.decision_function(X))\n",
    "print(logreg.predict_proba(X))\n",
    "print(np.argmax(logreg.decision_function(X)[:,0]))\n",
    "print(np.argmax(logreg.predict_proba(X)[:,0]))\n",
    "print(logreg.decision_function(X)[22])\n",
    "print(logreg.predict_proba(X)[22])\n",
    "# \n",
    "print(\"Example confidence score: \",logreg.decision_function(X)[32])\n",
    "print(logreg.predict_proba(X)[32])\n",
    "print(logreg.coef_ )\n",
    "print(logreg.intercept_ )\n",
    "print(X[32])"
   ]
  },
  {
   "cell_type": "code",
   "execution_count": null,
   "metadata": {
    "ExecuteTime": {
     "end_time": "2019-02-14T03:07:22.736080Z",
     "start_time": "2019-02-14T03:07:22.718025Z"
    },
    "collapsed": true
   },
   "outputs": [],
   "source": [
    "print(test)\n",
    "print(test[0].coef_)\n",
    "print(test[1].coef_)"
   ]
  },
  {
   "cell_type": "code",
   "execution_count": 1,
   "metadata": {
    "ExecuteTime": {
     "end_time": "2019-04-01T15:41:46.215896Z",
     "start_time": "2019-04-01T15:41:42.579860Z"
    }
   },
   "outputs": [
    {
     "name": "stdout",
     "output_type": "stream",
     "text": [
      "<class 'pandas.core.frame.DataFrame'>\n",
      "     total_bill   tip     sex smoker   day    time  size\n",
      "0         16.99  1.01  Female     No   Sun  Dinner     2\n",
      "1         10.34  1.66    Male     No   Sun  Dinner     3\n",
      "2         21.01  3.50    Male     No   Sun  Dinner     3\n",
      "3         23.68  3.31    Male     No   Sun  Dinner     2\n",
      "4         24.59  3.61  Female     No   Sun  Dinner     4\n",
      "5         25.29  4.71    Male     No   Sun  Dinner     4\n",
      "6          8.77  2.00    Male     No   Sun  Dinner     2\n",
      "7         26.88  3.12    Male     No   Sun  Dinner     4\n",
      "8         15.04  1.96    Male     No   Sun  Dinner     2\n",
      "9         14.78  3.23    Male     No   Sun  Dinner     2\n",
      "10        10.27  1.71    Male     No   Sun  Dinner     2\n",
      "11        35.26  5.00  Female     No   Sun  Dinner     4\n",
      "12        15.42  1.57    Male     No   Sun  Dinner     2\n",
      "13        18.43  3.00    Male     No   Sun  Dinner     4\n",
      "14        14.83  3.02  Female     No   Sun  Dinner     2\n",
      "15        21.58  3.92    Male     No   Sun  Dinner     2\n",
      "16        10.33  1.67  Female     No   Sun  Dinner     3\n",
      "17        16.29  3.71    Male     No   Sun  Dinner     3\n",
      "18        16.97  3.50  Female     No   Sun  Dinner     3\n",
      "19        20.65  3.35    Male     No   Sat  Dinner     3\n",
      "20        17.92  4.08    Male     No   Sat  Dinner     2\n",
      "21        20.29  2.75  Female     No   Sat  Dinner     2\n",
      "22        15.77  2.23  Female     No   Sat  Dinner     2\n",
      "23        39.42  7.58    Male     No   Sat  Dinner     4\n",
      "24        19.82  3.18    Male     No   Sat  Dinner     2\n",
      "25        17.81  2.34    Male     No   Sat  Dinner     4\n",
      "26        13.37  2.00    Male     No   Sat  Dinner     2\n",
      "27        12.69  2.00    Male     No   Sat  Dinner     2\n",
      "28        21.70  4.30    Male     No   Sat  Dinner     2\n",
      "29        19.65  3.00  Female     No   Sat  Dinner     2\n",
      "..          ...   ...     ...    ...   ...     ...   ...\n",
      "214       28.17  6.50  Female    Yes   Sat  Dinner     3\n",
      "215       12.90  1.10  Female    Yes   Sat  Dinner     2\n",
      "216       28.15  3.00    Male    Yes   Sat  Dinner     5\n",
      "217       11.59  1.50    Male    Yes   Sat  Dinner     2\n",
      "218        7.74  1.44    Male    Yes   Sat  Dinner     2\n",
      "219       30.14  3.09  Female    Yes   Sat  Dinner     4\n",
      "220       12.16  2.20    Male    Yes   Fri   Lunch     2\n",
      "221       13.42  3.48  Female    Yes   Fri   Lunch     2\n",
      "222        8.58  1.92    Male    Yes   Fri   Lunch     1\n",
      "223       15.98  3.00  Female     No   Fri   Lunch     3\n",
      "224       13.42  1.58    Male    Yes   Fri   Lunch     2\n",
      "225       16.27  2.50  Female    Yes   Fri   Lunch     2\n",
      "226       10.09  2.00  Female    Yes   Fri   Lunch     2\n",
      "227       20.45  3.00    Male     No   Sat  Dinner     4\n",
      "228       13.28  2.72    Male     No   Sat  Dinner     2\n",
      "229       22.12  2.88  Female    Yes   Sat  Dinner     2\n",
      "230       24.01  2.00    Male    Yes   Sat  Dinner     4\n",
      "231       15.69  3.00    Male    Yes   Sat  Dinner     3\n",
      "232       11.61  3.39    Male     No   Sat  Dinner     2\n",
      "233       10.77  1.47    Male     No   Sat  Dinner     2\n",
      "234       15.53  3.00    Male    Yes   Sat  Dinner     2\n",
      "235       10.07  1.25    Male     No   Sat  Dinner     2\n",
      "236       12.60  1.00    Male    Yes   Sat  Dinner     2\n",
      "237       32.83  1.17    Male    Yes   Sat  Dinner     2\n",
      "238       35.83  4.67  Female     No   Sat  Dinner     3\n",
      "239       29.03  5.92    Male     No   Sat  Dinner     3\n",
      "240       27.18  2.00  Female    Yes   Sat  Dinner     2\n",
      "241       22.67  2.00    Male    Yes   Sat  Dinner     2\n",
      "242       17.82  1.75    Male     No   Sat  Dinner     2\n",
      "243       18.78  3.00  Female     No  Thur  Dinner     2\n",
      "\n",
      "[244 rows x 7 columns]\n"
     ]
    },
    {
     "data": {
      "image/png": "[encoded data removed]",
      "text/plain": [
       "<matplotlib.figure.Figure at 0x7fcf49418b38>"
      ]
     },
     "metadata": {},
     "output_type": "display_data"
    },
    {
     "data": {
      "image/png": "[encoded data removed]",
      "text/plain": [
       "<matplotlib.figure.Figure at 0x7fcedb4ed6d8>"
      ]
     },
     "metadata": {},
     "output_type": "display_data"
    },
    {
     "data": {
      "image/png": "[encoded data removed]",
      "text/plain": [
       "<matplotlib.figure.Figure at 0x7fcedb3c6f28>"
      ]
     },
     "metadata": {},
     "output_type": "display_data"
    }
   ],
   "source": [
    "import seaborn as sns\n",
    "import matplotlib.pyplot as plt\n",
    "sns.set(style=\"whitegrid\")\n",
    "tips = sns.load_dataset(\"tips\")\n",
    "print(type(tips))\n",
    "print(tips)\n",
    "ax = sns.boxplot(x=\"day\", y=\"total_bill\", data=tips)\n",
    "plt.show()\n",
    "ax = sns.boxplot(x=\"day\", y=\"total_bill\", hue=\"smoker\", data=tips, palette=\"Set3\")\n",
    "plt.show()\n",
    "ax = sns.boxplot(x=\"day\", y=\"total_bill\", hue=\"time\", data=tips, linewidth=2.5)\n",
    "plt.show()"
   ]
  },
  {
   "cell_type": "code",
   "execution_count": null,
   "metadata": {
    "ExecuteTime": {
     "end_time": "2019-01-30T16:50:39.724115Z",
     "start_time": "2019-01-30T16:50:38.501793Z"
    },
    "collapsed": true
   },
   "outputs": [],
   "source": [
    "import numpy as np\n",
    "import matplotlib.pyplot as plt\n",
    "from sklearn.datasets import make_blobs\n",
    "from sklearn.linear_model import LogisticRegression\n",
    "\n",
    "# make 3-class dataset for classification\n",
    "centers = [[-5, 0], [0, 1.5], [5, -1]]\n",
    "X, y = make_blobs(n_samples=1000, centers=centers, random_state=40)\n",
    "\n",
    "for multi_class in (['ovr']):\n",
    "    clf = LogisticRegression(solver='liblinear', max_iter=100, random_state=42,\n",
    "                             multi_class=multi_class).fit(X, y)\n",
    "\n",
    "    # print the training scores\n",
    "    print(\"training score : %.3f (%s)\" % (clf.score(X, y), multi_class))\n",
    "\n",
    "    # create a mesh to plot in\n",
    "    h = .02  # step size in the mesh\n",
    "    x_min, x_max = X[:, 0].min() - 1, X[:, 0].max() + 1\n",
    "    y_min, y_max = X[:, 1].min() - 1, X[:, 1].max() + 1\n",
    "    print(x_min)\n",
    "    print(x_max)\n",
    "    xx, yy = np.meshgrid(np.arange(x_min, x_max, h), np.arange(y_min, y_max, h))\n",
    "    print(xx.shape)\n",
    "\n",
    "    # Plot the decision boundary. For that, we will assign a color to each\n",
    "    # point in the mesh [x_min, x_max]x[y_min, y_max].\n",
    "    Z = clf.predict(np.c_[xx.ravel(), yy.ravel()])\n",
    "    # Put the result into a color plot\n",
    "    Z = Z.reshape(xx.shape)\n",
    "    plt.figure()\n",
    "    plt.contourf(xx, yy, Z, cmap=plt.cm.Paired)\n",
    "    plt.title(\"Decision surface of LogisticRegression (%s)\" % multi_class)\n",
    "    plt.axis('tight')\n",
    "\n",
    "    # Plot also the training points\n",
    "    colors = \"bry\"\n",
    "    for i, color in zip(clf.classes_, colors):\n",
    "        idx = np.where(y == i)\n",
    "        plt.scatter(X[idx, 0], X[idx, 1], c=color, cmap=plt.cm.Paired,\n",
    "                    edgecolor='black', s=20)\n",
    "\n",
    "    # Plot the three one-against-all classifiers\n",
    "    xmin, xmax = plt.xlim()\n",
    "    ymin, ymax = plt.ylim()\n",
    "    coef = clf.coef_\n",
    "    intercept = clf.intercept_\n",
    "\n",
    "    def plot_hyperplane(c, color):\n",
    "        def line(x0):\n",
    "            return (-(x0 * coef[c, 0]) - intercept[c]) / coef[c, 1]\n",
    "        plt.plot([xmin, xmax], [line(xmin), line(xmax)],\n",
    "                 ls=\"--\", color=color)\n",
    "\n",
    "    for i, color in zip(clf.classes_, colors):\n",
    "        plot_hyperplane(i, color)\n",
    "\n",
    "plt.show()"
   ]
  },
  {
   "cell_type": "code",
   "execution_count": null,
   "metadata": {
    "ExecuteTime": {
     "end_time": "2019-01-21T19:28:27.176944Z",
     "start_time": "2019-01-21T19:28:27.128576Z"
    },
    "collapsed": true
   },
   "outputs": [],
   "source": [
    "import networkx as nx\n",
    "# Create a graph\n",
    "G = nx.fast_gnp_random_graph(n=100, p=0.5)\n",
    "print(\"Number of nodes: \", G.number_of_nodes())\n",
    "print(\"Number of edges: \", G.number_of_edges())\n",
    "print(G.nodes()[:5])\n",
    "print(G.edges()[:5])\n",
    "print(G.neighbors(0))"
   ]
  },
  {
   "cell_type": "code",
   "execution_count": null,
   "metadata": {
    "ExecuteTime": {
     "end_time": "2019-01-20T22:13:09.440920Z",
     "start_time": "2019-01-20T22:13:09.357649Z"
    },
    "collapsed": true
   },
   "outputs": [],
   "source": [
    "import random\n",
    "the_list = [1,2,3,4,5,6,7,8,9,10,11,12,15]\n",
    "test = random.sample(the_list, 5)\n",
    "remain = the_list-test\n",
    "print(test)\n",
    "print(the_list)\n",
    "print(remain)\n"
   ]
  },
  {
   "cell_type": "code",
   "execution_count": null,
   "metadata": {
    "ExecuteTime": {
     "end_time": "2018-12-21T01:09:21.645751Z",
     "start_time": "2018-12-21T01:09:20.976019Z"
    },
    "collapsed": true
   },
   "outputs": [],
   "source": [
    "modelSaveDir = \"../Data/\"+Dataset+\"/models/tf/textual_sample=140k/\"\n",
    "with open(modelSaveDir+'tf_features.pickle', \"rb\") as input_file:\n",
    "    vec = pickle.load(input_file)\n",
    "with open(modelSaveDir+'feature_pid.pickle', \"rb\") as input_file:\n",
    "    allPaperid = pickle.load(input_file)\n",
    "print(vec.shape)\n",
    "print(len(allPaperid))"
   ]
  },
  {
   "cell_type": "code",
   "execution_count": null,
   "metadata": {
    "ExecuteTime": {
     "end_time": "2018-12-21T01:35:17.524061Z",
     "start_time": "2018-12-21T01:35:17.511740Z"
    },
    "collapsed": true
   },
   "outputs": [],
   "source": [
    "print(vec[0].nonzero())"
   ]
  },
  {
   "cell_type": "code",
   "execution_count": null,
   "metadata": {
    "ExecuteTime": {
     "end_time": "2018-12-20T04:13:57.893207Z",
     "start_time": "2018-12-20T04:13:57.884952Z"
    },
    "collapsed": true
   },
   "outputs": [],
   "source": [
    "print(dir(vec))"
   ]
  },
  {
   "cell_type": "code",
   "execution_count": null,
   "metadata": {
    "ExecuteTime": {
     "end_time": "2018-12-20T03:49:14.380549Z",
     "start_time": "2018-12-20T03:49:14.280584Z"
    },
    "collapsed": true
   },
   "outputs": [],
   "source": [
    "import numpy as np\n",
    "allPaperid = np.asarray(allPaperid)\n",
    "result = textual_emb = np.column_stack([allPaperid, vec])\n",
    "print(result.shape)"
   ]
  },
  {
   "cell_type": "code",
   "execution_count": null,
   "metadata": {
    "ExecuteTime": {
     "end_time": "2018-12-20T03:41:30.220476Z",
     "start_time": "2018-12-20T03:41:30.210988Z"
    },
    "collapsed": true
   },
   "outputs": [],
   "source": [
    "print(result[0])"
   ]
  },
  {
   "cell_type": "code",
   "execution_count": null,
   "metadata": {
    "ExecuteTime": {
     "end_time": "2018-12-21T01:30:18.477600Z",
     "start_time": "2018-12-21T01:30:17.030451Z"
    },
    "collapsed": true
   },
   "outputs": [],
   "source": [
    "import com_func\n",
    "# examples\n",
    "collection = []\n",
    "sentences = ['this is a the First sentence for first    .',\" \",\"51152123asdfasd\",\n",
    "             'and the final sentencesssssssssssssssddddddddddddddddddddddddsssssssssssssssssssssssss!'\n",
    "            , \"cross-protection$$hemagglutination \"]\n",
    "counter = 5\n",
    "for line in sentences:\n",
    "    newPaper = {\"cleaned_content\":com_func.clean_line_of_raw(line, stopword = False, word_min_length=2)}\n",
    "    collection.append(newPaper)\n",
    "    counter+=1\n",
    "print(collection)\n",
    "allContent = [paper[\"cleaned_content\"]for paper in collection]\n",
    "\n",
    "# test = model.transform(allContent)\n",
    "# print(test.shape)"
   ]
  },
  {
   "cell_type": "code",
   "execution_count": null,
   "metadata": {
    "ExecuteTime": {
     "end_time": "2018-12-21T01:30:50.822714Z",
     "start_time": "2018-12-21T01:30:50.757371Z"
    },
    "collapsed": true
   },
   "outputs": [],
   "source": [
    "# calculate tf-idf\n",
    "from sklearn.feature_extraction.text import TfidfVectorizer\n",
    "# tf = sublinear tf, 1+log(tf) if tf >0, or 0. idf = (log(1+N)/df(t,d,C)) + 1\n",
    "# df(d,t,C) means number of document d contain term t in collection C\n",
    "# Each row is normalized to have unit Euclidean norm \n",
    "# reference to http://scikit-learn.org/stable/modules/feature_extraction.html#text-feature-extraction\n",
    "tfidf_vectorizer = TfidfVectorizer(use_idf=False, smooth_idf=False, sublinear_tf=True, norm=\"l2\", min_df=0,\n",
    "                                   analyzer='word', tokenizer=dummy,preprocessor=dummy, stop_words = None)\n",
    "allContent = [paper[\"cleaned_content\"]for paper in collection]\n",
    "print(allContent)\n",
    "tfidf_matrix = tfidf_vectorizer.fit_transform(allContent)\n",
    "testpid = [3,1,4,2]\n",
    "print(testpid)\n",
    "print(len(tfidf_vectorizer.vocabulary_))\n",
    "print(tfidf_vectorizer.get_feature_names())\n",
    "print(tfidf_matrix.shape)\n",
    "print(tfidf_matrix)\n",
    "print(tfidf_matrix.toarray())"
   ]
  },
  {
   "cell_type": "code",
   "execution_count": null,
   "metadata": {
    "ExecuteTime": {
     "end_time": "2018-12-19T21:01:36.810097Z",
     "start_time": "2018-12-19T21:01:36.802079Z"
    },
    "collapsed": true
   },
   "outputs": [],
   "source": [
    "print(dir(tfidfresult))"
   ]
  },
  {
   "cell_type": "code",
   "execution_count": null,
   "metadata": {
    "ExecuteTime": {
     "end_time": "2018-12-19T14:53:31.077580Z",
     "start_time": "2018-12-19T14:53:30.086025Z"
    },
    "collapsed": true
   },
   "outputs": [],
   "source": [
    "from sklearn.decomposition import TruncatedSVD\n",
    "svd = TruncatedSVD(n_components=100)\n",
    "final_lsa_Matrix = svd.fit_transform(test)\n",
    "print(test.shape)"
   ]
  },
  {
   "cell_type": "code",
   "execution_count": null,
   "metadata": {
    "ExecuteTime": {
     "end_time": "2018-12-19T14:53:31.822430Z",
     "start_time": "2018-12-19T14:53:31.811067Z"
    },
    "collapsed": true
   },
   "outputs": [],
   "source": [
    "print(final_lsa_Matrix)\n",
    "print(svd.explained_variance_ratio_.sum())"
   ]
  },
  {
   "cell_type": "code",
   "execution_count": null,
   "metadata": {
    "ExecuteTime": {
     "end_time": "2018-12-17T23:21:25.486914Z",
     "start_time": "2018-12-17T23:21:25.471011Z"
    },
    "code_folding": [],
    "collapsed": true
   },
   "outputs": [],
   "source": [
    "import numpy as np\n",
    "def remove_zero_feature(Xtr, min_tfidf=0.04):\n",
    "    D = Xtr.toarray() # convert to dense if you want\n",
    "    tfidf_means = np.mean(D, axis=0) # find features that are 0 in all documents\n",
    "    D = np.delete(D, np.where(tfidf_means == 0)[0], axis=1) # delete them from the matrix\n",
    "    return D"
   ]
  },
  {
   "cell_type": "code",
   "execution_count": null,
   "metadata": {
    "ExecuteTime": {
     "end_time": "2018-12-17T23:21:26.190960Z",
     "start_time": "2018-12-17T23:21:26.162422Z"
    },
    "collapsed": true
   },
   "outputs": [],
   "source": [
    "test2 = remove_zero_feature(test)\n",
    "print(test2.shape)"
   ]
  },
  {
   "cell_type": "code",
   "execution_count": null,
   "metadata": {
    "ExecuteTime": {
     "end_time": "2018-11-20T20:34:39.314709Z",
     "start_time": "2018-11-20T20:34:39.283264Z"
    },
    "collapsed": true
   },
   "outputs": [],
   "source": [
    "import com_func\n",
    "# examples\n",
    "collection = []\n",
    "sentences = ['this is a the First sentence for first    .',\" \",\"51152123asdfasd\",\n",
    "             'and the final sentencesssssssssssssssddddddddddddddddddddddddsssssssssssssssssssssssss!']\n",
    "collection, rowSize = com_func.clean_batch_of_raw(sentences, stopword = False, word_min_length=2)\n",
    "print(collection)\n",
    "print(rowSize)"
   ]
  },
  {
   "cell_type": "code",
   "execution_count": null,
   "metadata": {
    "ExecuteTime": {
     "end_time": "2018-12-19T20:34:03.785676Z",
     "start_time": "2018-12-19T20:34:03.661349Z"
    },
    "collapsed": true
   },
   "outputs": [],
   "source": [
    "from gensim import corpora\n",
    "import pickle\n",
    "modelSaveDir = \"../Data/\"+Dataset+\"/models/count/textual_sample=140k/\"\n",
    "embedding = corpora.MmCorpus(os.path.join(modelSaveDir, 'tf_vector.mm'))\n",
    "with open(modelSaveDir+'emb_pid.pickle', \"rb\") as input_file:\n",
    "    index = pickle.load(input_file)\n",
    "\n",
    "print(len(index))\n",
    "print(len(embedding))"
   ]
  },
  {
   "cell_type": "code",
   "execution_count": null,
   "metadata": {
    "ExecuteTime": {
     "end_time": "2018-12-17T21:26:20.422147Z",
     "start_time": "2018-12-17T21:26:19.671049Z"
    },
    "collapsed": true
   },
   "outputs": [],
   "source": [
    "import com_func\n",
    "# examples\n",
    "collection = []\n",
    "sentences = ['this is a the First sentence for first    .',\" \",\"51152123asdfasd\",\n",
    "             'and the final sentencesssssssssssssssddddddddddddddddddddddddsssssssssssssssssssssssss!'\n",
    "            , \"cross-protection$$hemagglutination \"]\n",
    "counter = 5\n",
    "for line in sentences:\n",
    "    newPaper = {\"cleaned_content\":com_func.clean_line_of_raw(line, stopword = False, word_min_length=2)}\n",
    "    collection.append(newPaper)\n",
    "    counter+=1\n",
    "print(collection)"
   ]
  },
  {
   "cell_type": "code",
   "execution_count": null,
   "metadata": {
    "ExecuteTime": {
     "end_time": "2018-12-17T21:26:20.946213Z",
     "start_time": "2018-12-17T21:26:20.915583Z"
    },
    "collapsed": true
   },
   "outputs": [],
   "source": [
    "collection[0].items()"
   ]
  },
  {
   "cell_type": "code",
   "execution_count": null,
   "metadata": {
    "ExecuteTime": {
     "end_time": "2018-12-19T21:42:03.062521Z",
     "start_time": "2018-12-19T21:42:03.019669Z"
    },
    "collapsed": true
   },
   "outputs": [],
   "source": [
    "# convert raw text to numerical feature vectors\n",
    "# unigram are used\n",
    "import gensim\n",
    "from gensim import corpora\n",
    "dictionary = corpora.Dictionary(allContent)\n",
    "corpus = [dictionary.doc2bow(text) for text in allContent]\n",
    "print(corpus)\n",
    "doc_emb = gensim.matutils.corpus2csc(corpus)\n",
    "print(doc_emb.T.toarray())\n",
    "tf = gensim.models.TfidfModel(corpus, smartirs=\"lnn\")\n",
    "tfidfresult = tf[corpus]\n",
    "tfidf_emb = gensim.matutils.corpus2csc(tfidfresult)\n",
    "print(tfidf_emb.T.toarray())"
   ]
  },
  {
   "cell_type": "code",
   "execution_count": null,
   "metadata": {
    "ExecuteTime": {
     "end_time": "2018-12-17T21:27:46.071677Z",
     "start_time": "2018-12-17T21:27:46.016132Z"
    },
    "collapsed": true
   },
   "outputs": [],
   "source": [
    "# convert raw text to numerical feature vectors\n",
    "# bow(Bags of words) are used\n",
    "import numpy as np\n",
    "from sklearn.feature_extraction.text import CountVectorizer\n",
    "count_vect = CountVectorizer(min_df = 0,analyzer='word', tokenizer=dummy,preprocessor=dummy, stop_words = None)\n",
    "# train a dictionary to build a frquence counter\n",
    "allContent = [paper[\"cleaned_content\"]for paper in collection]\n",
    "print(allContent)\n",
    "count_matrix = count_vect.fit_transform(allContent)\n",
    "print(len(count_vect.vocabulary_))\n",
    "print(count_vect.get_feature_names())\n",
    "print(count_matrix.toarray())\n",
    "print(count_matrix.shape)\n",
    "test = count_vect.fit_transform(allContent).todense()\n",
    "print(test)"
   ]
  },
  {
   "cell_type": "code",
   "execution_count": null,
   "metadata": {
    "ExecuteTime": {
     "end_time": "2018-11-30T23:34:51.384399Z",
     "start_time": "2018-11-30T23:34:51.373605Z"
    },
    "collapsed": true
   },
   "outputs": [],
   "source": [
    "from sklearn.preprocessing import StandardScaler\n",
    "scaler = StandardScaler()\n",
    "result = scaler.fit_transform(count_matrix.toarray())\n",
    "print(scaler.mean_)\n",
    "print(scaler.var_ )\n",
    "print(result)"
   ]
  },
  {
   "cell_type": "code",
   "execution_count": null,
   "metadata": {
    "ExecuteTime": {
     "end_time": "2018-11-20T03:56:52.859612Z",
     "start_time": "2018-11-20T03:56:52.848019Z"
    },
    "collapsed": true
   },
   "outputs": [],
   "source": [
    "# test save model\n",
    "import pickle\n",
    "\n",
    "pickle.dump(count_vect, open(\"../tests/CountVectorizer.pickle\", \"wb\"))\n",
    "pickle.dump(count_matrix, open(\"../tests/trained_features.pickle\", \"wb\"))"
   ]
  },
  {
   "cell_type": "code",
   "execution_count": null,
   "metadata": {
    "ExecuteTime": {
     "end_time": "2018-12-09T22:09:28.225665Z",
     "start_time": "2018-12-09T22:09:28.196542Z"
    },
    "collapsed": true
   },
   "outputs": [],
   "source": [
    "# calculate tf-idf\n",
    "from sklearn.feature_extraction.text import TfidfVectorizer\n",
    "# tf = sublinear tf, 1+log(tf) if tf >0, or 0. idf = (log(1+N)/df(t,d,C)) + 1\n",
    "# df(d,t,C) means number of document d contain term t in collection C\n",
    "# Each row is normalized to have unit Euclidean norm \n",
    "# reference to http://scikit-learn.org/stable/modules/feature_extraction.html#text-feature-extraction\n",
    "tfidf_vectorizer = TfidfVectorizer(use_idf=True, smooth_idf=True, sublinear_tf=True, norm=None, min_df=0,\n",
    "                                   analyzer='word', tokenizer=dummy,preprocessor=dummy, stop_words = None)\n",
    "allContent = [paper[\"cleaned_content\"]for paper in collection]\n",
    "print(allContent)\n",
    "tfidf_matrix = tfidf_vectorizer.fit_transform(allContent)\n",
    "testpid = [3,1,4,2]\n",
    "print(testpid)\n",
    "print(len(tfidf_vectorizer.vocabulary_))\n",
    "print(tfidf_vectorizer.get_feature_names())\n",
    "print(tfidf_matrix.shape)\n",
    "print(tfidf_matrix)\n",
    "print(tfidf_matrix.toarray())"
   ]
  },
  {
   "cell_type": "code",
   "execution_count": null,
   "metadata": {
    "ExecuteTime": {
     "end_time": "2018-11-20T04:18:52.904228Z",
     "start_time": "2018-11-20T04:18:52.897752Z"
    },
    "collapsed": true
   },
   "outputs": [],
   "source": [
    "# test save model\n",
    "\n",
    "pickle.dump(tfidf_vectorizer, open(\"../tests/tfidf.pickle\", \"wb\"))\n",
    "pickle.dump(tfidf_matrix, open(\"../tests/trained_features.pickle\", \"wb\"))\n",
    "pickle.dump(testpid, open(\"../tests/index.pickle\", \"wb\"))"
   ]
  },
  {
   "cell_type": "code",
   "execution_count": null,
   "metadata": {
    "ExecuteTime": {
     "end_time": "2018-11-28T04:31:20.682659Z",
     "start_time": "2018-11-28T04:31:20.446987Z"
    },
    "collapsed": true
   },
   "outputs": [],
   "source": [
    "from sklearn.feature_extraction.text import TfidfVectorizer\n",
    "from sklearn.decomposition import TruncatedSVD\n",
    "# using tf-idf + SVD as LSA\n",
    "tfidf_vectorizer = TfidfVectorizer(use_idf=True, smooth_idf=True, sublinear_tf=True, norm=None, min_df=0,\n",
    "                                   analyzer='word', tokenizer=dummy,preprocessor=dummy, stop_words = None)\n",
    "allContent = [paper[\"cleaned_content\"]for paper in collection]\n",
    "print(allContent)\n",
    "tfidf_matrix = tfidf_vectorizer.fit_transform(allContent)\n",
    "testpid = [3,1,4,2]\n",
    "print(testpid)\n",
    "print(len(tfidf_vectorizer.vocabulary_))\n",
    "print(tfidf_vectorizer.get_feature_names())\n",
    "print(tfidf_matrix.shape)\n",
    "print(tfidf_matrix.toarray())\n",
    "# For LSA, a dim of 100 is recommended.\n",
    "svd = TruncatedSVD(n_components=5, random_state=42)\n",
    "lsa_d5_emb = svd.fit_transform(tfidf_matrix)\n",
    "print(lsa_d5_emb)\n",
    "print(svd.explained_variance_ratio_)\n",
    "print(svd.explained_variance_ratio_.sum())\n",
    "print(svd.singular_values_)"
   ]
  },
  {
   "cell_type": "code",
   "execution_count": null,
   "metadata": {
    "ExecuteTime": {
     "end_time": "2018-11-28T04:17:25.096288Z",
     "start_time": "2018-11-28T04:17:25.016141Z"
    },
    "collapsed": true
   },
   "outputs": [],
   "source": [
    "from sklearn.datasets import make_multilabel_classification\n",
    "X, _ = make_multilabel_classification(random_state=0)\n",
    "print(X)\n",
    "print(X.shape)"
   ]
  },
  {
   "cell_type": "code",
   "execution_count": null,
   "metadata": {
    "ExecuteTime": {
     "end_time": "2018-11-28T04:00:37.830413Z",
     "start_time": "2018-11-28T04:00:37.752220Z"
    },
    "collapsed": true
   },
   "outputs": [],
   "source": [
    "# train LDA\n",
    "from sklearn.decomposition import LatentDirichletAllocation\n",
    "import numpy as np\n",
    "from sklearn.feature_extraction.text import CountVectorizer\n",
    "count_vect = CountVectorizer(min_df = 0,analyzer='word', tokenizer=dummy,preprocessor=dummy, stop_words = None)\n",
    "# train a dictionary to build a frquence counter\n",
    "allContent = [paper[\"cleaned_content\"]for paper in collection]\n",
    "print(allContent)\n",
    "count_matrix = count_vect.fit_transform(allContent)\n",
    "print(len(count_vect.vocabulary_))\n",
    "print(count_vect.get_feature_names())\n",
    "print(count_matrix.toarray())\n",
    "print(count_matrix.shape)\n",
    "lda = LatentDirichletAllocation(n_components=5, random_state=0)\n",
    "lda_d5_emb = lda.fit_transform(count_matrix.toarray())\n",
    "print(lda_d5_emb)"
   ]
  },
  {
   "cell_type": "code",
   "execution_count": null,
   "metadata": {
    "ExecuteTime": {
     "end_time": "2018-12-17T01:40:18.819959Z",
     "start_time": "2018-12-17T01:40:18.804124Z"
    },
    "collapsed": true
   },
   "outputs": [],
   "source": [
    "# test load model\n",
    "loadDir = \"../Data/\"+Dataset+\"/models/LSA/textual/\"\n",
    "with open(loadDir+'lsa_d100_emb.pickle', \"rb\") as input_file:\n",
    "    emb = pickle.load(input_file)\n",
    "with open(loadDir+'feature_pid.pickle', \"rb\") as input_file:\n",
    "    pid = pickle.load(input_file)\n",
    "print(emb.shape)\n",
    "print(len(pid))"
   ]
  },
  {
   "cell_type": "code",
   "execution_count": null,
   "metadata": {
    "ExecuteTime": {
     "end_time": "2018-12-17T01:40:35.415325Z",
     "start_time": "2018-12-17T01:40:35.381324Z"
    },
    "collapsed": true
   },
   "outputs": [],
   "source": [
    "# test load model\n",
    "loadDir = '../tests/'\n",
    "with open(loadDir+'tfidf.pickle', \"rb\") as input_file:\n",
    "    test = pickle.load(input_file)\n",
    "with open(loadDir+'train_comment_features.pickle', \"rb\") as input_file:\n",
    "    vec = pickle.load(input_file)\n",
    "print(len(test.vocabulary_))\n",
    "print(test.get_feature_names())\n",
    "print(vec.toarray())\n",
    "print(vec.shape)"
   ]
  },
  {
   "cell_type": "code",
   "execution_count": null,
   "metadata": {
    "ExecuteTime": {
     "end_time": "2018-12-17T01:54:03.990661Z",
     "start_time": "2018-12-17T01:54:03.968456Z"
    },
    "collapsed": true
   },
   "outputs": [],
   "source": [
    "# test load model\n",
    "loadDir = '../tests/'\n",
    "with open(loadDir+'tfidf.pickle', \"rb\") as input_file:\n",
    "    test = pickle.load(input_file)\n",
    "with open(loadDir+'trained_features.pickle', \"rb\") as input_file:\n",
    "    vec = pickle.load(input_file)\n",
    "with open(loadDir+'index.pickle', \"rb\") as input_file:\n",
    "    index = pickle.load(input_file)\n",
    "print(index)\n",
    "print(len(test.vocabulary_))\n",
    "print(test.get_feature_names())\n",
    "print(vec.toarray())\n",
    "print(vec.shape)"
   ]
  },
  {
   "cell_type": "code",
   "execution_count": null,
   "metadata": {
    "ExecuteTime": {
     "end_time": "2019-02-19T02:18:04.689991Z",
     "start_time": "2019-02-19T02:18:04.616394Z"
    },
    "collapsed": true
   },
   "outputs": [],
   "source": [
    "import gensim\n",
    "from gensim.models.doc2vec import TaggedDocument\n",
    "# examples\n",
    "documents = []\n",
    "sentences = [['this', 'is', 'the', 'first', 'sentence', 'for', 'doc2vec'],\n",
    "             ['this', 'is', 'the', 'second', 'sentence'],\n",
    "             ['yet', 'another', 'sentence'],\n",
    "             ['one', 'more', 'sentence'],\n",
    "             ['one', 'more', 'sentence'],\n",
    "             ['one', 'more', 'sentence'],\n",
    "             ['one', 'more', 'sentence'],\n",
    "             ['one', 'more', 'sentence'],\n",
    "             ['and', 'the', 'final', 'sentence']]\n",
    "counter = 0;\n",
    "for line in sentences:\n",
    "    documents.append(TaggedDocument(line, [str(counter)]))\n",
    "    counter+=1;\n",
    "print(documents)"
   ]
  },
  {
   "cell_type": "code",
   "execution_count": null,
   "metadata": {
    "ExecuteTime": {
     "end_time": "2018-12-18T04:40:16.635707Z",
     "start_time": "2018-12-18T04:40:16.320539Z"
    },
    "collapsed": true
   },
   "outputs": [],
   "source": [
    "import multiprocessing\n",
    "# numpy\n",
    "import numpy as np\n",
    "import os\n",
    "\n",
    "# save the model\n",
    "def train_and_save_d2v_model(document):\n",
    "    cores = multiprocessing.cpu_count()\n",
    "    newfileDir = '../tests/'\n",
    "    if not os.path.exists(newfileDir):\n",
    "        os.makedirs(newfileDir)\n",
    "    # train model\n",
    "    # size is dimension of vector return, dm defines training algorithm, when dm = 1 is distributed memory (PV-DM),\n",
    "    # pv-dm is better than pv-dbow\n",
    "    # when dm = 0 is distributed bag of words (PV-DBOW), \n",
    "    # sample is threshold for configuring which higher-frequency words are randomly downsampled, \n",
    "    # min_count is ignore threshold (Ignores all words with total frequency lower than min_count)\n",
    "    model = gensim.models.Doc2Vec(dm=1,vector_size=100,negative=5, window=5, min_count=5, sample=1e-3, workers=cores)\n",
    "    model.build_vocab(documents)\n",
    "    #print(dir(model))\n",
    "    modelname = model.__str__()\n",
    "    print(modelname)\n",
    "    print(model.wv.vocab)\n",
    "    # shuffle doc\n",
    "    np.random.shuffle(documents)\n",
    "    print(documents)\n",
    "    for epoch in range(50):\n",
    "        print('Epoch %d' % epoch)\n",
    "        model.train(documents)\n",
    "    print(dir(model))\n",
    "    # save model\n",
    "#     print(\"Saving model\")\n",
    "#     model.save(newfileDir+\"/model\")\n",
    "#     print(\"Done\")\n",
    "#     model.delete_temporary_training_data(keep_doctags_vectors=True, keep_inference=True)\n",
    "    \n",
    "train_and_save_d2v_model(documents)"
   ]
  },
  {
   "cell_type": "code",
   "execution_count": 1,
   "metadata": {
    "ExecuteTime": {
     "end_time": "2019-02-19T05:07:05.675961Z",
     "start_time": "2019-02-19T05:07:04.065181Z"
    }
   },
   "outputs": [
    {
     "name": "stdout",
     "output_type": "stream",
     "text": [
      "[{'cleaned_content': ['schizophrenia', 'and', 'childhood', 'adversity']}, {'cleaned_content': ['schizophrenia', 'drug', 'companies', 'and', 'the', 'internet']}, {'cleaned_content': ['cross', 'protection', 'hemagglutination']}, {'cleaned_content': ['this', 'is', 'an', 'text', 'sentence']}, {'cleaned_content': ['more', 'test', 'sentence', 'added', 'to', 'ensure', 'we', 'have', 'enough', 'sample', 'for', 'plot']}, {'cleaned_content': ['just', 'making', 'some', 'random', 'things']}, {'cleaned_content': ['may', 'be', 'that', 'it', 'it', 'should', 'be', 'good', 'for', 'ploting', 'the', 'token', 'frequency', 'distrubution', 'now']}]\n"
     ]
    }
   ],
   "source": [
    "import com_func\n",
    "# examples\n",
    "collection = []\n",
    "sentences = [\"schizophrenia and childhood adversity\", \"schizophrenia, drug companies and the internet\",\n",
    "             \"cross-protection$$hemagglutination\", \"this is an text sentence\",\n",
    "             \" more test sentence added to ensure we have enough sample for plot\", \" just making some random things\",\n",
    "             \" may be that's it, it should be good for ploting the token frequency distrubution now\"]\n",
    "counter = 5\n",
    "for line in sentences:\n",
    "    newPaper = {\"cleaned_content\":com_func.clean_line_of_raw(line, stopword = False, word_min_length=2)}\n",
    "    collection.append(newPaper)\n",
    "    counter+=1\n",
    "print(collection)"
   ]
  },
  {
   "cell_type": "code",
   "execution_count": 4,
   "metadata": {
    "ExecuteTime": {
     "end_time": "2019-02-19T05:08:20.229222Z",
     "start_time": "2019-02-19T05:08:20.197217Z"
    }
   },
   "outputs": [
    {
     "name": "stdout",
     "output_type": "stream",
     "text": [
      "[['schizophrenia', 'and', 'childhood', 'adversity'], ['schizophrenia', 'drug', 'companies', 'and', 'the', 'internet'], ['cross', 'protection', 'hemagglutination'], ['this', 'is', 'an', 'text', 'sentence'], ['more', 'test', 'sentence', 'added', 'to', 'ensure', 'we', 'have', 'enough', 'sample', 'for', 'plot'], ['just', 'making', 'some', 'random', 'things'], ['may', 'be', 'that', 'it', 'it', 'should', 'be', 'good', 'for', 'ploting', 'the', 'token', 'frequency', 'distrubution', 'now']]\n",
      "43\n",
      "['added', 'adversity', 'an', 'and', 'be', 'childhood', 'companies', 'cross', 'distrubution', 'drug', 'enough', 'ensure', 'for', 'frequency', 'good', 'have', 'hemagglutination', 'internet', 'is', 'it', 'just', 'making', 'may', 'more', 'now', 'plot', 'ploting', 'protection', 'random', 'sample', 'schizophrenia', 'sentence', 'should', 'some', 'test', 'text', 'that', 'the', 'things', 'this', 'to', 'token', 'we']\n",
      "(7, 43)\n",
      "  (0, 30)\t1.9808292530117262\n",
      "  (0, 3)\t1.9808292530117262\n",
      "  (0, 5)\t2.386294361119891\n",
      "  (0, 1)\t2.386294361119891\n",
      "  (1, 30)\t1.9808292530117262\n",
      "  (1, 3)\t1.9808292530117262\n",
      "  (1, 9)\t2.386294361119891\n",
      "  (1, 6)\t2.386294361119891\n",
      "  (1, 37)\t1.9808292530117262\n",
      "  (1, 17)\t2.386294361119891\n",
      "  (2, 7)\t2.386294361119891\n",
      "  (2, 27)\t2.386294361119891\n",
      "  (2, 16)\t2.386294361119891\n",
      "  (3, 39)\t2.386294361119891\n",
      "  (3, 18)\t2.386294361119891\n",
      "  (3, 2)\t2.386294361119891\n",
      "  (3, 35)\t2.386294361119891\n",
      "  (3, 31)\t1.9808292530117262\n",
      "  (4, 31)\t1.9808292530117262\n",
      "  (4, 23)\t2.386294361119891\n",
      "  (4, 34)\t2.386294361119891\n",
      "  (4, 0)\t2.386294361119891\n",
      "  (4, 40)\t2.386294361119891\n",
      "  (4, 11)\t2.386294361119891\n",
      "  (4, 42)\t2.386294361119891\n",
      "  (4, 15)\t2.386294361119891\n",
      "  (4, 10)\t2.386294361119891\n",
      "  (4, 29)\t2.386294361119891\n",
      "  (4, 12)\t1.9808292530117262\n",
      "  (4, 25)\t2.386294361119891\n",
      "  (5, 20)\t2.386294361119891\n",
      "  (5, 21)\t2.386294361119891\n",
      "  (5, 33)\t2.386294361119891\n",
      "  (5, 28)\t2.386294361119891\n",
      "  (5, 38)\t2.386294361119891\n",
      "  (6, 37)\t1.9808292530117262\n",
      "  (6, 12)\t1.9808292530117262\n",
      "  (6, 22)\t2.386294361119891\n",
      "  (6, 4)\t4.040347569516239\n",
      "  (6, 36)\t2.386294361119891\n",
      "  (6, 19)\t4.040347569516239\n",
      "  (6, 32)\t2.386294361119891\n",
      "  (6, 14)\t2.386294361119891\n",
      "  (6, 26)\t2.386294361119891\n",
      "  (6, 41)\t2.386294361119891\n",
      "  (6, 13)\t2.386294361119891\n",
      "  (6, 8)\t2.386294361119891\n",
      "  (6, 24)\t2.386294361119891\n",
      "[[0.         2.38629436 0.         1.98082925 0.         2.38629436\n",
      "  0.         0.         0.         0.         0.         0.\n",
      "  0.         0.         0.         0.         0.         0.\n",
      "  0.         0.         0.         0.         0.         0.\n",
      "  0.         0.         0.         0.         0.         0.\n",
      "  1.98082925 0.         0.         0.         0.         0.\n",
      "  0.         0.         0.         0.         0.         0.\n",
      "  0.        ]\n",
      " [0.         0.         0.         1.98082925 0.         0.\n",
      "  2.38629436 0.         0.         2.38629436 0.         0.\n",
      "  0.         0.         0.         0.         0.         2.38629436\n",
      "  0.         0.         0.         0.         0.         0.\n",
      "  0.         0.         0.         0.         0.         0.\n",
      "  1.98082925 0.         0.         0.         0.         0.\n",
      "  0.         1.98082925 0.         0.         0.         0.\n",
      "  0.        ]\n",
      " [0.         0.         0.         0.         0.         0.\n",
      "  0.         2.38629436 0.         0.         0.         0.\n",
      "  0.         0.         0.         0.         2.38629436 0.\n",
      "  0.         0.         0.         0.         0.         0.\n",
      "  0.         0.         0.         2.38629436 0.         0.\n",
      "  0.         0.         0.         0.         0.         0.\n",
      "  0.         0.         0.         0.         0.         0.\n",
      "  0.        ]\n",
      " [0.         0.         2.38629436 0.         0.         0.\n",
      "  0.         0.         0.         0.         0.         0.\n",
      "  0.         0.         0.         0.         0.         0.\n",
      "  2.38629436 0.         0.         0.         0.         0.\n",
      "  0.         0.         0.         0.         0.         0.\n",
      "  0.         1.98082925 0.         0.         0.         2.38629436\n",
      "  0.         0.         0.         2.38629436 0.         0.\n",
      "  0.        ]\n",
      " [2.38629436 0.         0.         0.         0.         0.\n",
      "  0.         0.         0.         0.         2.38629436 2.38629436\n",
      "  1.98082925 0.         0.         2.38629436 0.         0.\n",
      "  0.         0.         0.         0.         0.         2.38629436\n",
      "  0.         2.38629436 0.         0.         0.         2.38629436\n",
      "  0.         1.98082925 0.         0.         2.38629436 0.\n",
      "  0.         0.         0.         0.         2.38629436 0.\n",
      "  2.38629436]\n",
      " [0.         0.         0.         0.         0.         0.\n",
      "  0.         0.         0.         0.         0.         0.\n",
      "  0.         0.         0.         0.         0.         0.\n",
      "  0.         0.         2.38629436 2.38629436 0.         0.\n",
      "  0.         0.         0.         0.         2.38629436 0.\n",
      "  0.         0.         0.         2.38629436 0.         0.\n",
      "  0.         0.         2.38629436 0.         0.         0.\n",
      "  0.        ]\n",
      " [0.         0.         0.         0.         4.04034757 0.\n",
      "  0.         0.         2.38629436 0.         0.         0.\n",
      "  1.98082925 2.38629436 2.38629436 0.         0.         0.\n",
      "  0.         4.04034757 0.         0.         2.38629436 0.\n",
      "  2.38629436 0.         2.38629436 0.         0.         0.\n",
      "  0.         0.         2.38629436 0.         0.         0.\n",
      "  2.38629436 1.98082925 0.         0.         0.         2.38629436\n",
      "  0.        ]]\n"
     ]
    }
   ],
   "source": [
    "from sklearn.feature_extraction.text import TfidfVectorizer\n",
    "tfidf_vectorizer = TfidfVectorizer(use_idf=True, sublinear_tf=True, norm=None, min_df=0,\n",
    "                                   analyzer='word', tokenizer=dummy,preprocessor=dummy, stop_words = None)\n",
    "allContent = [paper[\"cleaned_content\"]for paper in collection]\n",
    "print(allContent)\n",
    "tfidf_matrix = tfidf_vectorizer.fit_transform(allContent)\n",
    "print(len(tfidf_vectorizer.vocabulary_))\n",
    "print(tfidf_vectorizer.get_feature_names())\n",
    "print(tfidf_matrix.shape)\n",
    "print(tfidf_matrix)\n",
    "print(tfidf_matrix.toarray())"
   ]
  },
  {
   "cell_type": "code",
   "execution_count": 7,
   "metadata": {
    "ExecuteTime": {
     "end_time": "2019-02-19T05:19:06.917710Z",
     "start_time": "2019-02-19T05:19:06.152860Z"
    }
   },
   "outputs": [
    {
     "name": "stdout",
     "output_type": "stream",
     "text": [
      "[<matplotlib.text.Text object at 0x7fc53bad8b70>]\n"
     ]
    },
    {
     "name": "stderr",
     "output_type": "stream",
     "text": [
      "/home/gao137/intel/intelpython3/lib/python3.6/site-packages/matplotlib/font_manager.py:1297: UserWarning: findfont: Font family ['sans-serif'] not found. Falling back to DejaVu Sans\n",
      "  (prop.get_family(), self.defaultFamily[fontext]))\n"
     ]
    },
    {
     "data": {
      "image/png": "[encoded data removed]",
      "text/plain": [
       "<matplotlib.figure.Figure at 0x7fc52e02bb70>"
      ]
     },
     "metadata": {},
     "output_type": "display_data"
    }
   ],
   "source": [
    "import matplotlib.pyplot as plt\n",
    "from yellowbrick.text import FreqDistVisualizer\n",
    "from sklearn.feature_extraction.text import CountVectorizer\n",
    "axes = plt.gca()\n",
    "def dummy(doc):\n",
    "    return doc\n",
    "import numpy as np\n",
    "vectorizer = CountVectorizer(min_df = 0, analyzer='word', tokenizer=dummy,preprocessor=dummy)\n",
    "allContent = [paper[\"cleaned_content\"] for paper in collection]\n",
    "count_matrix = vectorizer.fit_transform(allContent)\n",
    "features = vectorizer.get_feature_names()\n",
    "visualizer = FreqDistVisualizer(features=features, n=30, orient=\"v\")\n",
    "visualizer.fit(count_matrix)\n",
    "visualizer.set_title(\"Frequency distribution before data preprocessing\")\n",
    "visualizer.finalize()\n",
    "# print(visualizer.ax.text(0.5,0.5, \"test\"))\n",
    "visualizer.ax.texts[0].set_position((0.55, 0.97))\n",
    "print(visualizer.ax.texts)\n",
    "# visualizer.poof()\n",
    "plt.show()"
   ]
  },
  {
   "cell_type": "code",
   "execution_count": null,
   "metadata": {
    "ExecuteTime": {
     "end_time": "2019-01-10T16:23:41.057262Z",
     "start_time": "2019-01-10T16:23:34.619834Z"
    },
    "collapsed": true
   },
   "outputs": [],
   "source": [
    "from multiprocessing.pool import ThreadPool, TimeoutError\n",
    "\n",
    "def process_input(prompt,answer):\n",
    "    s = input(prompt)\n",
    "    return s\n",
    "\n",
    "threadp = ThreadPool(processes=1)\n",
    "answer = \"test\"\n",
    "prompt = \"WARNING: already exists! Do you want to overwrite <y/n>? \\n \"\n",
    "try:\n",
    "    answer = threadp.apply_async(process_input, args=(prompt, answer)).get(timeout=10)\n",
    "except TimeoutError: \n",
    "    print(\"no input found\")\n",
    "print(answer)\n",
    "    "
   ]
  },
  {
   "cell_type": "code",
   "execution_count": null,
   "metadata": {
    "ExecuteTime": {
     "end_time": "2019-01-17T04:21:36.349026Z",
     "start_time": "2019-01-17T04:21:36.294758Z"
    },
    "collapsed": true
   },
   "outputs": [],
   "source": [
    "import numpy as np\n",
    "from sklearn.datasets import load_iris\n",
    "from sklearn.linear_model import LogisticRegression\n",
    "X, y = load_iris(return_X_y=True)\n",
    "clf = LogisticRegression(random_state=0,multi_class='ovr').fit(X, y)\n",
    "test1 = clf.predict_proba(X[0:3]) \n",
    "test2 = clf.predict_proba(X[100:103])\n",
    "\n",
    "np.set_printoptions(precision=3, suppress=True)\n",
    "print(test1)\n",
    "print(test2)\n",
    "\n",
    "print(test1*test2/2)"
   ]
  },
  {
   "cell_type": "code",
   "execution_count": null,
   "metadata": {
    "collapsed": true
   },
   "outputs": [],
   "source": []
  }
 ],
 "metadata": {
  "kernelspec": {
   "display_name": "Python 3",
   "language": "python",
   "name": "python3"
  },
  "language_info": {
   "codemirror_mode": {
    "name": "ipython",
    "version": 3
   },
   "file_extension": ".py",
   "mimetype": "text/x-python",
   "name": "python",
   "nbconvert_exporter": "python",
   "pygments_lexer": "ipython3",
   "version": "3.6.10"
  }
 },
 "nbformat": 4,
 "nbformat_minor": 2
}
