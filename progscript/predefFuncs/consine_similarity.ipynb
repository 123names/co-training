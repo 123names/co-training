{
 "cells": [
  {
   "cell_type": "code",
   "execution_count": 6,
   "metadata": {},
   "outputs": [
    {
     "name": "stdout",
     "output_type": "stream",
     "text": [
      "Number of documents: 3\n",
      "[['mason', 'really', 'loves', 'food'], ['hannah', 'loves', 'food', 'too', 'food'], ['the', 'whale', 'is', 'food']]\n",
      "{'food': 0, 'loves': 1, 'mason': 2, 'really': 3, 'hannah': 4, 'too': 5, 'is': 6, 'the': 7, 'whale': 8}\n",
      "[(0, 1), (1, 1), (2, 1), (3, 1)]\n",
      "[(0, 2), (1, 1), (4, 1), (5, 1)]\n",
      "[(0, 1), (6, 1), (7, 1), (8, 1)]\n"
     ]
    }
   ],
   "source": [
    "import numpy as np\n",
    "import gensim\n",
    "from nltk.tokenize import word_tokenize\n",
    "\n",
    "def cos_sim(a, b):\n",
    "\t\"\"\"Takes 2 vectors a, b and returns the cosine similarity according \n",
    "\tto the definition of the dot product\n",
    "\t\"\"\"\n",
    "\tdot_product = np.dot(a, b)\n",
    "\tnorm_a = np.linalg.norm(a)\n",
    "\tnorm_b = np.linalg.norm(b)\n",
    "\treturn dot_product / (norm_a * norm_b)\n",
    "\n",
    "raw_documents = [\"Mason really loves food\",\n",
    "                 \"Hannah loves food too food\",\n",
    "                 \"The whale is food\"]\n",
    "\n",
    "print(\"Number of documents:\",len(raw_documents))\n",
    "gen_docs = [[w.lower() for w in word_tokenize(text)] for text in raw_documents]\n",
    "print(gen_docs)\n",
    "dictionary = gensim.corpora.Dictionary(gen_docs)\n",
    "print(dictionary.token2id)\n",
    "sentence_m = dictionary.doc2bow(raw_documents[0].lower().split())\n",
    "sentence_h = dictionary.doc2bow(raw_documents[1].lower().split())\n",
    "sentence_w = dictionary.doc2bow(raw_documents[2].lower().split())\n",
    "# the counts we computed above\n",
    "sentence_m = np.array([1, 1, 1, 1, 0, 0, 0, 0, 0]) \n",
    "sentence_h = np.array([0, 0, 1, 1, 1, 1, 0, 0, 0])\n",
    "sentence_w = np.array([0, 0, 0, 1, 0, 0, 1, 1, 1])\n",
    "\n",
    "# We should expect sentence_m and sentence_h to be more similar\n",
    "print(cos_sim(sentence_m, sentence_h)) # 0.5\n",
    "print(cos_sim(sentence_m, sentence_w)) # 0.25"
   ]
  },
  {
   "cell_type": "code",
   "execution_count": null,
   "metadata": {
    "collapsed": true
   },
   "outputs": [],
   "source": []
  }
 ],
 "metadata": {
  "kernelspec": {
   "display_name": "Python 3",
   "language": "python",
   "name": "python3"
  },
  "language_info": {
   "codemirror_mode": {
    "name": "ipython",
    "version": 3
   },
   "file_extension": ".py",
   "mimetype": "text/x-python",
   "name": "python",
   "nbconvert_exporter": "python",
   "pygments_lexer": "ipython3",
   "version": "3.6.3"
  }
 },
 "nbformat": 4,
 "nbformat_minor": 2
}
