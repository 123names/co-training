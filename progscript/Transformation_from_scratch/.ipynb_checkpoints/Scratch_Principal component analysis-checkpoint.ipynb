{
 "cells": [
  {
   "cell_type": "code",
   "execution_count": 30,
   "metadata": {},
   "outputs": [
    {
     "name": "stdout",
     "output_type": "stream",
     "text": [
      "Org: \n",
      " [[90 60 90]\n",
      " [90 90 30]\n",
      " [60 60 60]\n",
      " [60 60 90]\n",
      " [30 30 30]]\n",
      "Mean:  [66. 60. 60.]\n",
      "centered: \n",
      " [[ 24.   0.  30.]\n",
      " [ 24.  30. -30.]\n",
      " [ -6.   0.   0.]\n",
      " [ -6.   0.  30.]\n",
      " [-36. -30. -30.]]\n",
      "co-variance: \n",
      " [[630. 450. 225.]\n",
      " [450. 450.   0.]\n",
      " [225.   0. 900.]]\n",
      "eigen vector: \n",
      " [[ 0.6487899  -0.65580225 -0.3859988 ]\n",
      " [-0.74104991 -0.4291978  -0.51636642]\n",
      " [-0.17296443 -0.62105769  0.7644414 ]]\n",
      "eigen value:  [  56.02457535 1137.5874413   786.38798335]\n",
      "Sort_index:  [1 2 0]\n",
      "sorted eigenvalue:  [1137.5874413   786.38798335   56.02457535]\n",
      "corresponding principal components: \n",
      " [[-0.65580225 -0.4291978  -0.62105769]\n",
      " [-0.3859988  -0.51636642  0.7644414 ]\n",
      " [ 0.6487899  -0.74104991 -0.17296443]]\n",
      "[[-34.37098481  13.66927088  10.3820247 ]\n",
      " [ -9.98345733 -47.68820559  -1.47160698]\n",
      " [  3.93481353   2.31599277  -3.89273939]\n",
      " [-14.69691716  25.24923474  -9.08167225]\n",
      " [ 55.11654576   6.45370719   4.06399392]]\n"
     ]
    }
   ],
   "source": [
    "from numpy import array\n",
    "from numpy import mean\n",
    "from numpy import cov\n",
    "from numpy.linalg import eig\n",
    "from numpy import argsort\n",
    "\n",
    "# define a matrix with 5 sample and each sample have 3 features\n",
    "A = array([[90, 60, 90], [90, 90, 30], [60, 60, 60], [60, 60, 90], [30, 30, 30]])\n",
    "print(\"Org: \\n\",A)\n",
    "# calculate the mean of each column (features)\n",
    "M = mean(A.T, axis=1)\n",
    "print(\"Mean: \", M)\n",
    "# center columns by subtracting column means\n",
    "C = A - M\n",
    "print(\"centered: \\n\", C)\n",
    "# calculate covariance matrix of centered matrix\n",
    "V = cov(C.T)\n",
    "print(\"co-variance: \\n\", V)\n",
    "# eigendecomposition of covariance matrix\n",
    "values, vectors = eig(V)\n",
    "print(\"eigen vector: \\n\", vectors)\n",
    "print(\"eigen value: \",values)\n",
    "# sort the eigen value to get largest magnitudes \n",
    "sort_descending = argsort(-values)\n",
    "print(\"Sort_index: \", sort_descending)\n",
    "# find top n pca, simply find top n heighest magnitudes\n",
    "sorted_eigenvalue = array(values)[sort_descending]\n",
    "principal_components = array(vectors.T)[sort_descending]\n",
    "print(\"sorted eigenvalue: \",sorted_eigenvalue)\n",
    "print(\"corresponding principal components: \\n\", principal_components)\n",
    "# project data\n",
    "P = principal_components.dot(C.T)\n",
    "print(P.T)"
   ]
  },
  {
   "cell_type": "code",
   "execution_count": 20,
   "metadata": {},
   "outputs": [
    {
     "name": "stdout",
     "output_type": "stream",
     "text": [
      "[[90 60 90]\n",
      " [90 90 30]\n",
      " [60 60 60]\n",
      " [60 60 90]\n",
      " [30 30 30]]\n",
      "[[-0.65580225 -0.4291978  -0.62105769]\n",
      " [ 0.3859988   0.51636642 -0.7644414 ]\n",
      " [ 0.6487899  -0.74104991 -0.17296443]]\n",
      "[1137.5874413   786.38798335   56.02457535]\n",
      "[[-34.37098481 -13.66927088  10.3820247 ]\n",
      " [ -9.98345733  47.68820559  -1.47160698]\n",
      " [  3.93481353  -2.31599277  -3.89273939]\n",
      " [-14.69691716 -25.24923474  -9.08167225]\n",
      " [ 55.11654576  -6.45370719   4.06399392]]\n"
     ]
    }
   ],
   "source": [
    "# Principal Component Analysis\n",
    "from numpy import array\n",
    "from sklearn.decomposition import PCA\n",
    "# define a matrix\n",
    "A = array([[90, 60, 90], [90, 90, 30], [60, 60, 60], [60, 60, 90], [30, 30, 30]])\n",
    "print(A)\n",
    "# create the PCA instance\n",
    "pca = PCA(3)\n",
    "# fit on data\n",
    "pca.fit(A)\n",
    "# access values and vectors\n",
    "print(pca.components_)\n",
    "print(pca.explained_variance_)\n",
    "# transform data\n",
    "B = pca.transform(A)\n",
    "print(B)"
   ]
  },
  {
   "cell_type": "code",
   "execution_count": null,
   "metadata": {
    "collapsed": true
   },
   "outputs": [],
   "source": []
  }
 ],
 "metadata": {
  "kernelspec": {
   "display_name": "Python 3",
   "language": "python",
   "name": "python3"
  },
  "language_info": {
   "codemirror_mode": {
    "name": "ipython",
    "version": 3
   },
   "file_extension": ".py",
   "mimetype": "text/x-python",
   "name": "python",
   "nbconvert_exporter": "python",
   "pygments_lexer": "ipython3",
   "version": "3.6.3"
  }
 },
 "nbformat": 4,
 "nbformat_minor": 2
}
