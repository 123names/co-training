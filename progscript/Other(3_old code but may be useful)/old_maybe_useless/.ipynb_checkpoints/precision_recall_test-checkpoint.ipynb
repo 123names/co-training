{
 "cells": [
  {
   "cell_type": "code",
   "execution_count": 2,
   "metadata": {},
   "outputs": [
    {
     "name": "stdout",
     "output_type": "stream",
     "text": [
      "micro precision:  0.3333333333333333\n",
      "macro precision:  0.2222222222222222\n",
      "micro recall:  0.3333333333333333\n",
      "macro recall:  0.3333333333333333\n"
     ]
    }
   ],
   "source": [
    "from sklearn import metrics\n",
    "y_true = [0, 1, 2, 0, 1, 2]\n",
    "y_pred = [0, 2, 1, 0, 0, 1]\n",
    "print(\"micro precision: \", metrics.precision_score(y_true, y_pred, average='micro'))\n",
    "print(\"macro precision: \", metrics.precision_score(y_true, y_pred, average='macro'))\n",
    "print(\"micro recall: \", metrics.recall_score(y_true, y_pred, average='micro'))\n",
    "print(\"macro recall: \", metrics.recall_score(y_true, y_pred, average='macro'))"
   ]
  },
  {
   "cell_type": "code",
   "execution_count": null,
   "metadata": {
    "collapsed": true
   },
   "outputs": [],
   "source": [
    "# convert raw text to numerical feature vectors\n",
    "# unigram are used\n",
    "import pickle\n",
    "from gensim import corpora\n",
    "modelSaveDir = \"../Data/\"+Dataset+\"/models/count/textual_sample=140k/\"\n",
    "if not os.path.exists(modelSaveDir):\n",
    "    os.makedirs(modelSaveDir)\n",
    "\n",
    "allContent = [paper[\"cleaned_content\"] for paper in documents]\n",
    "allpid = [paper[\"paperID\"] for paper in documents]\n",
    "dictionary = corpora.Dictionary(allContent)\n",
    "dictionary.filter_extremes(no_below=cutoff, keep_n = 50000)\n",
    "dictionary.save(os.path.join(modelSaveDir, 'tf_dictionary.dict'))\n",
    "\n",
    "all_doc_emb = [dictionary.doc2bow(text) for text in allContent]\n",
    "corpora.MmCorpus.serialize(os.path.join(modelSaveDir, 'tf_vector.mm'), all_doc_emb)\n",
    "# save the pid with respect to document\n",
    "pickle.dump(allpid, open(modelSaveDir+\"emb_pid.pickle\", \"wb\"))"
   ]
  }
 ],
 "metadata": {
  "kernelspec": {
   "display_name": "Python 3",
   "language": "python",
   "name": "python3"
  },
  "language_info": {
   "codemirror_mode": {
    "name": "ipython",
    "version": 3
   },
   "file_extension": ".py",
   "mimetype": "text/x-python",
   "name": "python",
   "nbconvert_exporter": "python",
   "pygments_lexer": "ipython3",
   "version": "3.6.3"
  }
 },
 "nbformat": 4,
 "nbformat_minor": 2
}
