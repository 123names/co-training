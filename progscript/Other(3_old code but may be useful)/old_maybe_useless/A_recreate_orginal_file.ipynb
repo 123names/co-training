{
 "cells": [
  {
   "cell_type": "code",
   "execution_count": null,
   "metadata": {
    "collapsed": true
   },
   "outputs": [],
   "source": [
    "# load the file\n",
    "import sys\n",
    "import io\n",
    "import os\n",
    "\n",
    "Dataset = \"pubmed\"\n",
    "\n",
    "fileDir = \"../Data/\"+Dataset+\"/canopies/\"\n",
    "listfiles = os.listdir(fileDir)\n",
    "allPapersInFile_original = []\n",
    "\n",
    "for file in listfiles:\n",
    "    if not file.startswith('.'):\n",
    "        with open(fileDir+file, 'r', encoding = 'utf8') as f:\n",
    "            for line in f:\n",
    "                read_data = line.split(\"\\t\")\n",
    "                # get ride of bad formated lines\n",
    "                if(len(read_data)==13):\n",
    "                    paper_detail = {\"paperID\": read_data[0], \"authorID\":read_data[1],\n",
    "                                    \"author_position\":read_data[2], \"total_author\": read_data[3],\n",
    "                                    \"author_name\": read_data[4], \"co_authors\": read_data[5], \n",
    "                                    \"department\": read_data[6], \"vendor\": read_data[7], \n",
    "                                    \"mesh\": read_data[8], \"keywords\": read_data[9], \n",
    "                                    \"publish_year\": read_data[10], \"citation graph\": read_data[11]}\n",
    "                    allPapersInFile_original.append(paper_detail)\n",
    "                else:\n",
    "                    print(read_data)\n",
    "        f.close()\n",
    "        \n",
    "print(\"Total records:\",len(allPapersInFile_original), \"records\")"
   ]
  },
  {
   "cell_type": "code",
   "execution_count": null,
   "metadata": {
    "collapsed": true
   },
   "outputs": [],
   "source": [
    "# recreate orginal file since the groups contain error\n",
    "newf = open(\"../Data/\"+Dataset+\"/recreated_pubmed_org.txt\", \"w\",encoding='utf8')\n",
    "for paper in allPapersInFile_original:\n",
    "    newf.write(paper[\"paperID\"]+\"\\t\"+paper[\"authorID\"]+\"\\t\"+paper[\"author_position\"]+\"\\t\"+paper[\"total_author\"]+\"\\t\"+\n",
    "               paper[\"author_name\"]+\"\\t\"+paper[\"co_authors\"]+\"\\t\"+paper[\"department\"]+\"\\t\"+paper[\"vendor\"]+\"\\t\"+\n",
    "               paper[\"mesh\"]+\"\\t\"+paper[\"keywords\"]+\"\\t\"+paper[\"publish_year\"]+\"\\t\"+paper[\"citation graph\"])\n",
    "newf.close()"
   ]
  }
 ],
 "metadata": {
  "kernelspec": {
   "display_name": "Python 3",
   "language": "python",
   "name": "python3"
  },
  "language_info": {
   "codemirror_mode": {
    "name": "ipython",
    "version": 3
   },
   "file_extension": ".py",
   "mimetype": "text/x-python",
   "name": "python",
   "nbconvert_exporter": "python",
   "pygments_lexer": "ipython3",
   "version": "3.6.3"
  }
 },
 "nbformat": 4,
 "nbformat_minor": 2
}
