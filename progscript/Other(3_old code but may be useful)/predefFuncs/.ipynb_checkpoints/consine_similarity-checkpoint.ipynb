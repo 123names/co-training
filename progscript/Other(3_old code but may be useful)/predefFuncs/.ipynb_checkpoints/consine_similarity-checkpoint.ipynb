{
 "cells": [
  {
   "cell_type": "code",
   "execution_count": 1,
   "metadata": {
    "ExecuteTime": {
     "end_time": "2018-12-06T15:15:10.804696Z",
     "start_time": "2018-12-06T15:15:07.652049Z"
    }
   },
   "outputs": [
    {
     "name": "stdout",
     "output_type": "stream",
     "text": [
      "[1 1 1 1 0 0 0 0 0]\n",
      "[[1 1 1 1 0 0 0 0 0]\n",
      " [0 0 1 1 1 1 0 0 0]\n",
      " [0 0 0 1 0 0 1 1 1]]\n",
      "[4 2 1]\n",
      "2.0\n",
      "[2. 2. 2.]\n",
      "[0 0 1 1 1 1 0 0 0]\n",
      "[[1 1 1 1 0 0 0 0 0]\n",
      " [0 0 1 1 1 1 0 0 0]\n",
      " [0 0 0 1 0 0 1 1 1]]\n",
      "[2 4 1]\n",
      "2.0\n",
      "[2. 2. 2.]\n",
      "[0 0 0 1 0 0 1 1 1]\n",
      "[[1 1 1 1 0 0 0 0 0]\n",
      " [0 0 1 1 1 1 0 0 0]\n",
      " [0 0 0 1 0 0 1 1 1]]\n",
      "[1 1 4]\n",
      "2.0\n",
      "[2. 2. 2.]\n",
      "[array([1.  , 0.5 , 0.25]), array([0.5 , 1.  , 0.25]), array([0.25, 0.25, 1.  ])]\n"
     ]
    }
   ],
   "source": [
    "import numpy as np\n",
    "import gensim\n",
    "from nltk.tokenize import word_tokenize\n",
    "\n",
    "def pair_wise_cosine():\n",
    "        \n",
    "    dotted = matrix.dot(vector)\n",
    "    matrix_norms = np.linalg.norm(matrix, axis=1)\n",
    "    vector_norm = np.linalg.norm(vector)\n",
    "    matrix_vector_norms = np.multiply(matrix_norms, vector_norm)\n",
    "    neighbors = np.divide(dotted, matrix_vector_norms)\n",
    "    return \n",
    "\n",
    "def self_pairwise_cosine(in_matrix):\n",
    "    \n",
    "    \"\"\"Takes matrix and returns the cosine similarity between each pairs\n",
    "    \"\"\"\n",
    "    final_sim = []\n",
    "    for row in in_matrix:\n",
    "        print(row)\n",
    "        print(in_matrix)\n",
    "        dot_product = np.dot(in_matrix, row)\n",
    "        print(dot_product)\n",
    "        row_norm = np.linalg.norm(row)\n",
    "        matrix_norm = np.linalg.norm(in_matrix, axis = 1)\n",
    "        print(row_norm)\n",
    "        print(matrix_norm)\n",
    "        final_sim.append(dot_product / (row_norm * matrix_norm))\n",
    "    return final_sim\n",
    "\n",
    "# the counts we computed above\n",
    "sentence_m = np.array([[1, 1, 1, 1, 0, 0, 0, 0, 0],\n",
    "                      [0, 0, 1, 1, 1, 1, 0, 0, 0], \n",
    "                      [0, 0, 0, 1, 0, 0, 1, 1, 1]]) \n",
    "\n",
    "# We should expect sentence_m and sentence_h to be more similar\n",
    "print(self_pairwise_cosine(sentence_m)) # 0.5"
   ]
  },
  {
   "cell_type": "code",
   "execution_count": null,
   "metadata": {
    "collapsed": true
   },
   "outputs": [],
   "source": []
  }
 ],
 "metadata": {
  "kernelspec": {
   "display_name": "Python 3",
   "language": "python",
   "name": "python3"
  },
  "language_info": {
   "codemirror_mode": {
    "name": "ipython",
    "version": 3
   },
   "file_extension": ".py",
   "mimetype": "text/x-python",
   "name": "python",
   "nbconvert_exporter": "python",
   "pygments_lexer": "ipython3",
   "version": "3.6.3"
  }
 },
 "nbformat": 4,
 "nbformat_minor": 2
}
