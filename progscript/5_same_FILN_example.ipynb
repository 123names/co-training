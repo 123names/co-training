{
 "cells": [
  {
   "cell_type": "code",
   "execution_count": null,
   "metadata": {
    "ExecuteTime": {
     "end_time": "2019-04-09T18:28:25.176724Z",
     "start_time": "2019-04-09T18:28:25.098156Z"
    }
   },
   "outputs": [],
   "source": [
    "# load the file\n",
    "import sys\n",
    "import io\n",
    "\n",
    "Dataset = \"pubmed\"\n",
    "\n",
    "filePath = \"Data/\"+Dataset+\"/canopies_labeled/canopy_p_robinson\"\n",
    "\n",
    "counter = 0\n",
    "allPapersInFile = []\n",
    "\n",
    "with open(filePath, 'r', encoding = 'utf8') as f:\n",
    "    for line in f:\n",
    "        read_data = line.split(\"\\t\")\n",
    "        paper_detail = {\"paperID\": read_data[0], \"authorID\":read_data[1],\n",
    "                        \"author_position\":read_data[2], \"total_author\": read_data[3],\n",
    "                        \"author_name\": read_data[4], \"co_authors\": read_data[5], \n",
    "                        \"department\": read_data[6], \"vendor\": read_data[7], \n",
    "                        \"mesh\": read_data[8], \"keywords\": read_data[9], \n",
    "                        \"publish_year\": read_data[10], \"doi\": read_data[11],\n",
    "                        \"paperTitle\": read_data[12]}\n",
    "        allPapersInFile.append(paper_detail)\n",
    "        counter+=1\n",
    "f.close()\n",
    "print(counter)\n"
   ]
  },
  {
   "cell_type": "markdown",
   "metadata": {},
   "source": [
    "# Here we group author with same first initial last name (FILN)"
   ]
  },
  {
   "cell_type": "code",
   "execution_count": 10,
   "metadata": {
    "ExecuteTime": {
     "end_time": "2019-04-09T18:34:20.751151Z",
     "start_time": "2019-04-09T18:34:20.709305Z"
    }
   },
   "outputs": [
    {
     "name": "stdout",
     "output_type": "stream",
     "text": [
      "[{'author_name': 'peter n robinson', 'author_ID': '0000-0002-0736-9199'}, {'author_name': 'p a robinson', 'author_ID': '0000-0002-0577-3147'}, {'author_name': 'phillip j robinson', 'author_ID': '0000-0002-7878-0313'}, {'author_name': 'p c robinson', 'author_ID': '0000-0002-3156-3418'}]\n",
      "Counter({'0000-0002-7878-0313': 133, '0000-0002-0736-9199': 119, '0000-0002-3156-3418': 19, '0000-0002-0577-3147': 4})\n"
     ]
    }
   ],
   "source": [
    "from collections import Counter\n",
    "\n",
    "# create author ID to name map\n",
    "author_ID_to_name_map = []\n",
    "\n",
    "for paper in allPapersInFile:\n",
    "    if(paper[\"authorID\"] not in [item[\"author_ID\"] for item in author_ID_to_name_map]):\n",
    "        author_ID_to_name_map.append({\"author_name\": paper[\"author_name\"], \"author_ID\": paper[\"authorID\"]})\n",
    "\n",
    "# count author with same FILN\n",
    "sameFNLNCounter = Counter([author[\"authorID\"] for author in allPapersInFile])\n",
    "print(sameFNLNCounter)\n",
    "\n"
   ]
  },
  {
   "cell_type": "code",
   "execution_count": null,
   "metadata": {
    "collapsed": true
   },
   "outputs": [],
   "source": []
  }
 ],
 "metadata": {
  "kernelspec": {
   "display_name": "Python 3",
   "language": "python",
   "name": "python3"
  },
  "language_info": {
   "codemirror_mode": {
    "name": "ipython",
    "version": 3
   },
   "file_extension": ".py",
   "mimetype": "text/x-python",
   "name": "python",
   "nbconvert_exporter": "python",
   "pygments_lexer": "ipython3",
   "version": "3.6.3"
  }
 },
 "nbformat": 4,
 "nbformat_minor": 2
}
