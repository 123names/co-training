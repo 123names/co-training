{
 "cells": [
  {
   "cell_type": "code",
   "execution_count": 2,
   "metadata": {},
   "outputs": [
    {
     "name": "stdout",
     "output_type": "stream",
     "text": [
      "Total labeled records: 140266 records\n"
     ]
    }
   ],
   "source": [
    "# load the file\n",
    "import sys\n",
    "import io\n",
    "import os\n",
    "\n",
    "fileDir = \"../Data/canopies_labeled/\"\n",
    "listfiles = os.listdir(fileDir)\n",
    "LabeledRecords_original = []\n",
    "\n",
    "for file in listfiles:\n",
    "    if not file.startswith('.'):\n",
    "        with open(fileDir+file, 'r', encoding = 'utf8') as f:\n",
    "            for line in f:\n",
    "                read_data = line.split(\"\\t\")\n",
    "                # get ride of bad formated lines\n",
    "                if(len(read_data)==13):\n",
    "                    paper_detail = {\"paperID\": read_data[0], \"authorID\":read_data[1],\n",
    "                                    \"author_position\":read_data[2], \"total_author\": read_data[3],\n",
    "                                    \"author_name\": read_data[4], \"co_authors\": read_data[5], \n",
    "                                    \"department\": read_data[6], \"vendor\": read_data[7], \n",
    "                                    \"mesh\": read_data[8], \"keywords\": read_data[9], \n",
    "                                    \"publish_year\": read_data[10], \"citation graph\": read_data[11]}\n",
    "                    LabeledRecords_original.append(paper_detail)\n",
    "        f.close()\n",
    "print(\"Total labeled records:\",len(LabeledRecords_original), \"records\")"
   ]
  },
  {
   "cell_type": "code",
   "execution_count": 3,
   "metadata": {},
   "outputs": [
    {
     "name": "stdout",
     "output_type": "stream",
     "text": [
      "[{'paperID': '27406695', 'authorID': '0000-0002-9697-0962', 'author_position': '4', 'total_author': '10', 'author_name': 'jonathan m read', 'co_authors': 'truelove zhu lessler riley wang kwok guan jiang cummings', 'department': 'department epidemiology public health institute infection global health university liverpool neston uk', 'vendor': '27279', 'mesh': '', 'keywords': 'cross-protection$$hemagglutination inhibition test$$immunity$$influenza$$microneutralization test$$neutralization test', 'publish_year': '2016', 'citation graph': '10.3345/kjp.2012.55.12.474$$10.1016/j.vaccine.2011.11.019$$10.1007/s00430-010-0143-4$$10.1080/15388220801955596$$10.1017/s0022172400022610$$10.1038/ncomms1432$$10.1016/j.vaccine.2007.02.039$$10.1128/cvi.00278-15$$10.3201/eid1508.081754'}, {'paperID': '26876744', 'authorID': '0000-0002-9697-0962', 'author_position': '1', 'total_author': '8', 'author_name': 'j m read', 'co_authors': 'hungerford cooke vivancos iturriza-gómara allen french cunliffe', 'department': 'chicas group lancaster medical school faculty health medicine lancaster university lancaster uk', 'vendor': '11865', 'mesh': 'Adolescent$$Child$$Child, Preschool$$Community-Acquired Infections$$Cross Infection$$Female$$Gastroenteritis$$Hospitals$$Humans$$Infant$$Infant, Newborn$$Male$$Prevalence$$Rotavirus Infections$$Rotavirus Vaccines$$United Kingdom$$Vaccination', 'keywords': 'Epidemiology$$Healthcare-associated infection$$Rotavirus$$Vaccination', 'publish_year': '2016', 'citation graph': '10.3201/eid1601.090401$$10.1016/j.jcv.2008.12.001$$10.1136/bmjopen-2013-003570$$10.1136/bmj.f2347$$10.1136/bmjopen-2014-006161$$10.1016/j.vaccine.2007.02.072$$10.1016/s1473-3099(14)71060-6$$10.1016/s1473-3099(11)70253-5'}, {'paperID': '26978780', 'authorID': '0000-0002-9697-0962', 'author_position': '1', 'total_author': '9', 'author_name': 'jonathan read', 'co_authors': 'guclu vukotich galloway gao rainey uzicanin zimmer cummings', 'department': 'department epidemiology population health farr institute herc institute infection global health university liverpool liverpool l69 3gl united kingdom lancaster medical school lancaster university lancaster la1 4yg united kingdom', 'vendor': '28161', 'mesh': 'Humans$$Pennsylvania$$Schools$$Social Support$$Students', 'keywords': '', 'publish_year': '2016', 'citation graph': '10.3201/eid1702.100458$$10.1093/aje/kwq243$$10.1093/oxfordjournals.epirev.a017917$$10.1016/0020-0190(89)90102-6$$10.1137/070710111$$10.3201/eid0902.020188$$10.1098/rsif.2008.0013$$10.1145/2641638.2641652$$10.1086/655810$$10.1073/pnas.1009094108$$10.1017/s0950268807009181$$10.1016/j.physrep.2009.11.002$$10.1016/j.socnet.2009.02.002$$10.1086/225469$$10.1155/2011/284909$$10.3201/eid1602.091372$$10.3310/hta14340-04$$10.1016/j.socnet.2013.08.003$$10.1086/598513$$10.1186/s12879-014-0695-9$$10.1186/1471-2334-14-136$$10.1073/pnas.1008895108$$10.1136/thoraxjnl-2012-202054$$10.1088/1367-2630/9/6/179$$10.1038/srep03099$$10.1142/s0219720011005719$$10.1007/s00779-009-0239-2$$10.1111/j.1600-0668.2007.00469.x$$10.1186/s12879-014-0670-5$$10.1093/cid/cis211'}]\n"
     ]
    }
   ],
   "source": [
    "# print a sample\n",
    "print(LabeledRecords_original[:3])"
   ]
  },
  {
   "cell_type": "code",
   "execution_count": 6,
   "metadata": {
    "collapsed": true
   },
   "outputs": [],
   "source": [
    "# process metadata keywords and mesh\n",
    "# Medical Subject Headings (MeSH)\n",
    "# extract keywords and mesh\n",
    "pid_keywords_mesh = []\n",
    "for record in LabeledRecords_original:\n",
    "    pid_keywords_mesh.append({\"paperID\": read_data[0], \"keywords\": read_data[9], \"mesh\": read_data[8]})\n"
   ]
  },
  {
   "cell_type": "code",
   "execution_count": null,
   "metadata": {
    "collapsed": true
   },
   "outputs": [],
   "source": [
    "# calculate tf-idf\n",
    "from sklearn.feature_extraction.text import TfidfVectorizer\n",
    "allContent = [paper.content for paper in allpaperCollection]\n",
    "print(allContent[:2])\n",
    "tfidf_vectorizer = TfidfVectorizer(use_idf=True, smooth_idf=True, sublinear_tf=True, norm=None,min_df = 3).fit(allContent)\n",
    "tfidf_matrix = tfidf_vectorizer.transform(allContent)\n",
    "# for i in range(0, len(collection)):\n",
    "#     print(collection[i].pid)\n",
    "#     print(tfidf_matrix[i].toarray())\n",
    "print(tfidf_matrix[:2].toarray())\n",
    "print(tfidf_matrix.shape)"
   ]
  },
  {
   "cell_type": "code",
   "execution_count": null,
   "metadata": {
    "collapsed": true
   },
   "outputs": [],
   "source": [
    "# process metadata total_author and co_authors\n",
    "# calculate co\n",
    "pid_author_info = []\n",
    "for record in LabeledRecords_original:\n",
    "    pid_author_info.append({\"paperID\": read_data[0], \"total_author\": read_data[3], \"co_authors\": read_data[5])"
   ]
  },
  {
   "cell_type": "code",
   "execution_count": null,
   "metadata": {
    "collapsed": true
   },
   "outputs": [],
   "source": [
    "# process metadata department\n",
    "#\n",
    "pid_department = []\n",
    "for record in LabeledRecords_original:\n",
    "    pid_department.append({\"paperID\": read_data[0],\"department\": read_data[6])"
   ]
  },
  {
   "cell_type": "code",
   "execution_count": null,
   "metadata": {
    "collapsed": true
   },
   "outputs": [],
   "source": [
    "# process metadata vendor\n",
    "# the vendor is in id form, no future process needed\n",
    "pid_vendor = []\n",
    "for record in LabeledRecords_original:\n",
    "    pid_vendor.append({\"paperID\": read_data[0],\"vendor\": read_data[7])"
   ]
  },
  {
   "cell_type": "code",
   "execution_count": null,
   "metadata": {
    "collapsed": true
   },
   "outputs": [],
   "source": [
    "# process metadata publish_year\n",
    "# year do not need future process\n",
    "pid_year = []\n",
    "for record in LabeledRecords_original:\n",
    "    pid_year.append({\"paperID\": read_data[0],\"publish_year\": read_data[10])"
   ]
  }
 ],
 "metadata": {
  "kernelspec": {
   "display_name": "Python 3",
   "language": "python",
   "name": "python3"
  },
  "language_info": {
   "codemirror_mode": {
    "name": "ipython",
    "version": 3
   },
   "file_extension": ".py",
   "mimetype": "text/x-python",
   "name": "python",
   "nbconvert_exporter": "python",
   "pygments_lexer": "ipython3",
   "version": "3.6.3"
  }
 },
 "nbformat": 4,
 "nbformat_minor": 2
}
