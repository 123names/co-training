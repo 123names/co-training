{
 "cells": [
  {
   "cell_type": "code",
   "execution_count": 7,
   "metadata": {
    "ExecuteTime": {
     "end_time": "2019-07-10T02:48:02.828807Z",
     "start_time": "2019-07-10T02:48:01.653470Z"
    }
   },
   "outputs": [
    {
     "name": "stdout",
     "output_type": "stream",
     "text": [
      "Total labeled records: 140266 records\n",
      "[{'paperID': '27406695', 'authorID': '0000-0002-9697-0962', 'belone file': 'canopy_j_read'}, {'paperID': '26876744', 'authorID': '0000-0002-9697-0962', 'belone file': 'canopy_j_read'}, {'paperID': '26978780', 'authorID': '0000-0002-9697-0962', 'belone file': 'canopy_j_read'}]\n"
     ]
    }
   ],
   "source": [
    "# select names contain most productive author\n",
    "import sys\n",
    "import io\n",
    "import os\n",
    "\n",
    "Dataset = \"pubmed\"\n",
    "\n",
    "filePath = \"../Data/\"+Dataset+\"/canopies_labeled/\"\n",
    "listfiles = os.listdir(filePath)\n",
    "\n",
    "LabeledRecords_original = []\n",
    "\n",
    "for file in listfiles:\n",
    "    if not file.startswith('.'):\n",
    "        with open(filePath+file, 'r', encoding = 'utf8') as f:\n",
    "            for line in f:\n",
    "                read_data = line.split(\"\\t\")\n",
    "                # get ride of bad formated lines\n",
    "                if(len(read_data)==13):\n",
    "                    paper_detail = {\"paperID\": read_data[0], \"authorID\":read_data[1], \"belone file\": file}\n",
    "                    LabeledRecords_original.append(paper_detail)\n",
    "        f.close()\n",
    "print(\"Total labeled records:\",len(LabeledRecords_original), \"records\")\n",
    "print(LabeledRecords_original[:3])"
   ]
  },
  {
   "cell_type": "code",
   "execution_count": 8,
   "metadata": {
    "ExecuteTime": {
     "end_time": "2019-07-10T02:48:03.553890Z",
     "start_time": "2019-07-10T02:48:02.831341Z"
    }
   },
   "outputs": [
    {
     "name": "stdout",
     "output_type": "stream",
     "text": [
      "[('0000-0002-2381-2349', 587), ('0000-0002-9955-6003', 487), ('0000-0002-4295-6129', 423), ('0000-0003-4876-8839', 356), ('0000-0001-5205-8245', 343), ('0000-0001-7108-9776', 331), ('0000-0001-6505-4139', 322), ('0000-0003-2950-3632', 279), ('0000-0002-1619-8328', 268), ('0000-0001-8532-2727', 267), ('0000-0002-9152-6512', 265), ('0000-0001-5664-9392', 252), ('0000-0003-3894-5301', 251), ('0000-0002-5555-9034', 244), ('0000-0002-3765-3318', 238), ('0000-0003-3709-1690', 237), ('0000-0002-3101-1138', 232), ('0000-0003-0960-6415', 231), ('0000-0002-3894-4811', 222), ('0000-0002-1940-6428', 219)]\n",
      "canopy_x_li : 867\n",
      "C1:  ['0000-0002-5555-9034'] : 244\n",
      "C2:  623\n",
      "Final class condition, C1: 244  C2: 244\n",
      "canopy_c_nogueira : 303\n",
      "C1:  ['0000-0003-2950-3632'] : 279\n",
      "C2:  24\n",
      "Final class condition, C1: 279  C2: 24\n",
      "canopy_m_wu : 658\n",
      "C1:  ['0000-0002-1940-6428'] : 219\n",
      "C2:  439\n",
      "Final class condition, C1: 219  C2: 219\n",
      "canopy_r_ross : 374\n",
      "C1:  ['0000-0003-4876-8839'] : 356\n",
      "C2:  18\n",
      "Final class condition, C1: 356  C2: 18\n",
      "canopy_c_torres : 300\n",
      "C1:  ['0000-0003-3709-1690'] : 237\n",
      "C2:  63\n",
      "Final class condition, C1: 237  C2: 63\n",
      "canopy_d_richardson : 456\n",
      "C1:  ['0000-0003-0960-6415'] : 231\n",
      "C2:  225\n",
      "Final class condition, C1: 231  C2: 225\n",
      "canopy_s_chang : 592\n",
      "C1:  ['0000-0001-6505-4139'] : 322\n",
      "C2:  270\n",
      "Final class condition, C1: 322  C2: 270\n",
      "canopy_m_hidalgo : 279\n",
      "C1:  ['0000-0002-3765-3318'] : 238\n",
      "C2:  41\n",
      "Final class condition, C1: 238  C2: 41\n",
      "canopy_l_xiao : 302\n",
      "C1:  ['0000-0001-8532-2727'] : 267\n",
      "C2:  35\n",
      "Final class condition, C1: 267  C2: 35\n",
      "canopy_g_lewis : 367\n",
      "C1:  ['0000-0001-5205-8245'] : 343\n",
      "C2:  24\n",
      "Final class condition, C1: 343  C2: 24\n",
      "canopy_r_reis : 615\n",
      "C1:  ['0000-0002-4295-6129'] : 423\n",
      "C2:  192\n",
      "Final class condition, C1: 423  C2: 192\n",
      "canopy_k_jones : 607\n",
      "C1:  ['0000-0001-7108-9776'] : 331\n",
      "C2:  276\n",
      "Final class condition, C1: 331  C2: 276\n",
      "canopy_m_andersen : 399\n",
      "C1:  ['0000-0002-3894-4811'] : 222\n",
      "C2:  177\n",
      "Final class condition, C1: 222  C2: 177\n",
      "canopy_c_yu : 335\n",
      "C1:  ['0000-0001-5664-9392'] : 252\n",
      "C2:  83\n",
      "Final class condition, C1: 252  C2: 83\n",
      "canopy_m_parker : 280\n",
      "C1:  ['0000-0002-3101-1138'] : 232\n",
      "C2:  48\n",
      "Final class condition, C1: 232  C2: 48\n",
      "canopy_m_roberts : 320\n",
      "C1:  ['0000-0003-3894-5301'] : 251\n",
      "C2:  69\n",
      "Final class condition, C1: 251  C2: 69\n",
      "canopy_r_smith : 789\n",
      "C1:  ['0000-0002-2381-2349'] : 587\n",
      "C2:  202\n",
      "Final class condition, C1: 587  C2: 202\n",
      "canopy_a_cheng : 636\n",
      "C1:  ['0000-0002-9152-6512'] : 265\n",
      "C2:  371\n",
      "Final class condition, C1: 265  C2: 265\n",
      "canopy_j_nielsen : 913\n",
      "C1:  ['0000-0002-9955-6003'] : 487\n",
      "C2:  426\n",
      "Final class condition, C1: 487  C2: 426\n",
      "canopy_p_matthews : 329\n",
      "C1:  ['0000-0002-1619-8328'] : 268\n",
      "C2:  61\n",
      "Final class condition, C1: 268  C2: 61\n"
     ]
    }
   ],
   "source": [
    "import random\n",
    "from collections import Counter\n",
    "\n",
    "# pick top productive author\n",
    "all_author_aid = [d['authorID'] for d in LabeledRecords_original]\n",
    "author_paper_count = Counter(all_author_aid)\n",
    "top_20_author = author_paper_count.most_common(20)\n",
    "print(top_20_author)\n",
    "top_20_aid = [author[0] for author in top_20_author]\n",
    "\n",
    "# find names (files) contains those productive author\n",
    "top_author_belone_file = list(set([file[\"belone file\"] for file in LabeledRecords_original if file[\"authorID\"] in top_20_aid]))\n",
    "\n",
    "# for each of 20 names, form one vs rest classification\n",
    "for top_author_file_name in top_author_belone_file:\n",
    "    ingroup_papers = [pid for pid in LabeledRecords_original if pid[\"belone file\"]==top_author_file_name]\n",
    "    all_ingroup_pids = [paper[\"paperID\"] for paper in ingroup_papers]\n",
    "    print(top_author_file_name,\":\",len(all_ingroup_pids))\n",
    "    \n",
    "    # find most productive author id\n",
    "    positive_aid = list(set([paper[\"authorID\"] for paper in ingroup_papers if paper[\"authorID\"] in top_20_aid]))\n",
    "    positive_pids = [paper[\"paperID\"] for paper in ingroup_papers if paper[\"authorID\"] in top_20_aid]\n",
    "    print(\"C1: \", positive_aid, \":\", len(positive_pids))\n",
    "    \n",
    "    # rest of papers as negative class\n",
    "    negative_pids = [pid for pid in all_ingroup_pids if pid not in positive_pids]\n",
    "    print(\"C2: \",len(negative_pids))\n",
    "    \n",
    "    # random len(positive class) from negative class\n",
    "    final_negative_pids = random.sample(negative_pids, min(len(positive_pids), len(negative_pids)))\n",
    "    \n",
    "    print(\"Final class condition, C1:\", len(positive_pids), \" C2:\", len(final_negative_pids))\n",
    "    \n",
    "    fileSaveDir = \"top_author_vs_rest(same_name)/\"\n",
    "    if not os.path.exists(fileSaveDir):\n",
    "        os.makedirs(fileSaveDir)\n",
    "    \n",
    "    newf = open(\"top_author_vs_rest(same_name)/\"+top_author_file_name+\".txt\", \"w\",encoding='utf8')\n",
    "    # write positive class\n",
    "    for pids in positive_pids:\n",
    "        newf.write(pids+\"\\t\"+ \"0\" + \"\\n\")\n",
    "    # write negative class\n",
    "    for pids in final_negative_pids:\n",
    "        newf.write(pids+\"\\t\"+ \"1\"+ \"\\n\")\n",
    "    newf.close()\n"
   ]
  },
  {
   "cell_type": "code",
   "execution_count": null,
   "metadata": {
    "collapsed": true
   },
   "outputs": [],
   "source": []
  }
 ],
 "metadata": {
  "kernelspec": {
   "display_name": "Python 3",
   "language": "python",
   "name": "python3"
  },
  "language_info": {
   "codemirror_mode": {
    "name": "ipython",
    "version": 3
   },
   "file_extension": ".py",
   "mimetype": "text/x-python",
   "name": "python",
   "nbconvert_exporter": "python",
   "pygments_lexer": "ipython3",
   "version": "3.6.3"
  }
 },
 "nbformat": 4,
 "nbformat_minor": 2
}
