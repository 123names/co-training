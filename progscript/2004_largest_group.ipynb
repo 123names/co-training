{
 "cells": [
  {
   "cell_type": "code",
   "execution_count": 2,
   "metadata": {
    "ExecuteTime": {
     "end_time": "2018-12-04T02:05:15.859244Z",
     "start_time": "2018-12-04T02:05:15.742060Z"
    }
   },
   "outputs": [
    {
     "name": "stdout",
     "output_type": "stream",
     "text": [
      "2116\n"
     ]
    }
   ],
   "source": [
    "# load the file\n",
    "import sys\n",
    "import io\n",
    "\n",
    "Dataset = \"pubmed\"\n",
    "\n",
    "filePath = \"../Data/\"+Dataset+\"/canopies_labeled/canopy_j_kim\"\n",
    "\n",
    "counter = 0\n",
    "allPapersInFile = []\n",
    "\n",
    "with open(filePath, 'r', encoding = 'utf8') as f:\n",
    "    for line in f:\n",
    "        read_data = line.split(\"\\t\")\n",
    "        paper_detail = {\"paperID\": read_data[0], \"authorID\":read_data[1],\n",
    "                        \"author_position\":read_data[2], \"total_author\": read_data[3],\n",
    "                        \"author_name\": read_data[4], \"co_authors\": read_data[5], \n",
    "                        \"department\": read_data[6], \"vendor\": read_data[7], \n",
    "                        \"mesh\": read_data[8], \"keywords\": read_data[9], \n",
    "                        \"publish_year\": read_data[10], \"doi\": read_data[11],\n",
    "                        \"paperTitle\": read_data[12]}\n",
    "        allPapersInFile.append(paper_detail)\n",
    "        counter+=1\n",
    "f.close()\n",
    "print(counter)"
   ]
  },
  {
   "cell_type": "code",
   "execution_count": null,
   "metadata": {
    "collapsed": true
   },
   "outputs": [],
   "source": []
  },
  {
   "cell_type": "code",
   "execution_count": null,
   "metadata": {
    "collapsed": true
   },
   "outputs": [],
   "source": [
    "2116, j_kim\n",
    "1689, y_wang\n",
    "1244, y_zhang\n",
    "1139, j_chen\n",
    "1111, k_kim\n",
    "986, h_chen\n",
    "965, y_liu\n",
    "965, j_zhang\n",
    "913, j_nielsen\n",
    "867, x_li\n",
    "\n"
   ]
  }
 ],
 "metadata": {
  "kernelspec": {
   "display_name": "Python 3",
   "language": "python",
   "name": "python3"
  },
  "language_info": {
   "codemirror_mode": {
    "name": "ipython",
    "version": 3
   },
   "file_extension": ".py",
   "mimetype": "text/x-python",
   "name": "python",
   "nbconvert_exporter": "python",
   "pygments_lexer": "ipython3",
   "version": "3.6.3"
  }
 },
 "nbformat": 4,
 "nbformat_minor": 2
}
