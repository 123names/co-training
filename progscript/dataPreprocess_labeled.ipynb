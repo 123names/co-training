{
 "cells": [
  {
   "cell_type": "code",
   "execution_count": 17,
   "metadata": {},
   "outputs": [
    {
     "name": "stdout",
     "output_type": "stream",
     "text": [
      "Total use records: 140266 records\n"
     ]
    }
   ],
   "source": [
    "# load the file\n",
    "import sys\n",
    "import io\n",
    "import os\n",
    "\n",
    "fileDir = \"../Data/canopies_clean/\"\n",
    "listfiles = os.listdir(fileDir)\n",
    "allLabeledPapersInFile_original = []\n",
    "\n",
    "for file in listfiles:\n",
    "    if not file.startswith('.'):\n",
    "        with open(fileDir+file, 'r', encoding = 'utf8') as f:\n",
    "            for line in f:\n",
    "                read_data = line.split(\"\\t\")\n",
    "                # get ride of bad formated lines\n",
    "                if(len(read_data)==13):\n",
    "                    paper_detail = {\"paperID\": read_data[0], \"authorID\":read_data[1],\n",
    "                                    \"author_position\":read_data[2], \"total_author\": read_data[3],\n",
    "                                    \"author_name\": read_data[4], \"co_authors\": read_data[5], \n",
    "                                    \"department\": read_data[6], \"vendor\": read_data[7], \n",
    "                                    \"mesh\": read_data[8], \"keywords\": read_data[9], \n",
    "                                    \"publish_year\": read_data[10], \"citation graph\": read_data[11]}\n",
    "                    allLabeledPapersInFile_original.append(paper_detail)\n",
    "        f.close()\n",
    "print(\"Total labeled records:\",len(allLabeledPapersInFile_original), \"records\")"
   ]
  },
  {
   "cell_type": "code",
   "execution_count": 18,
   "metadata": {},
   "outputs": [
    {
     "name": "stdout",
     "output_type": "stream",
     "text": [
      "paperID\n",
      "authorID\n",
      "author_position\n",
      "total_author\n",
      "author_name\n",
      "co_authors\n",
      "department\n",
      "vendor\n",
      "mesh\n",
      "keywords\n",
      "publish_year\n",
      "citation graph\n"
     ]
    }
   ],
   "source": [
    "# data column\n",
    "for key in allLabeledPapersInFile_original[0]:\n",
    "    print(key)"
   ]
  },
  {
   "cell_type": "code",
   "execution_count": 19,
   "metadata": {},
   "outputs": [
    {
     "name": "stdout",
     "output_type": "stream",
     "text": [
      "['authorID', 'author_name', 'author_position', 'citation graph', 'co_authors', 'department', 'keywords', 'mesh', 'paperID', 'publish_year', 'total_author', 'vendor']\n",
      "              authorID      author_name author_position  \\\n",
      "0  0000-0002-9697-0962  jonathan m read               4   \n",
      "1  0000-0002-9697-0962         j m read               1   \n",
      "2  0000-0002-9697-0962    jonathan read               1   \n",
      "3  0000-0002-9697-0962  jonathan m read               3   \n",
      "4  0000-0002-9697-0962  jonathan m read               7   \n",
      "\n",
      "                                      citation graph  \\\n",
      "0  10.3345/kjp.2012.55.12.474$$10.1016/j.vaccine....   \n",
      "1  10.3201/eid1601.090401$$10.1016/j.jcv.2008.12....   \n",
      "2  10.3201/eid1702.100458$$10.1093/aje/kwq243$$10...   \n",
      "3  10.1097/inf.0b013e3181fefc51$$10.1016/s1473-30...   \n",
      "4  10.1097/inf.0b013e3181ecbf7e$$10.1093/aje/kwt2...   \n",
      "\n",
      "                                          co_authors  \\\n",
      "0  truelove zhu lessler riley wang kwok guan jian...   \n",
      "1  hungerford cooke vivancos iturriza-gómara alle...   \n",
      "2  guclu vukotich galloway gao rainey uzicanin zi...   \n",
      "3  hungerford vivancos eurorotanet network member...   \n",
      "4  heinsbroek tafatatha chisambo phiri mwiba ngwi...   \n",
      "\n",
      "                                          department  \\\n",
      "0  department epidemiology public health institut...   \n",
      "1  chicas group lancaster medical school faculty ...   \n",
      "2  department epidemiology population health farr...   \n",
      "3                                                      \n",
      "4                                                      \n",
      "\n",
      "                                            keywords  \\\n",
      "0  cross-protection$$hemagglutination inhibition ...   \n",
      "1  Epidemiology$$Healthcare-associated infection$...   \n",
      "2                                                      \n",
      "3  epidemiology$$gastrointestinal disease$$labora...   \n",
      "4  Africa$$HIV$$Streptococcus pneumoniae$$carriag...   \n",
      "\n",
      "                                                mesh   paperID publish_year  \\\n",
      "0                                                     27406695         2016   \n",
      "1  Adolescent$$Child$$Child, Preschool$$Community...  26876744         2016   \n",
      "2  Humans$$Pennsylvania$$Schools$$Social Support$...  26978780         2016   \n",
      "3  Antigens, Viral$$Diarrhea$$Europe$$Feces$$Fema...  26794258         2016   \n",
      "4                                                     26628514         2016   \n",
      "\n",
      "  total_author vendor  \n",
      "0           10  27279  \n",
      "1            8  11865  \n",
      "2            9  28161  \n",
      "3            8  26369  \n",
      "4            9    433  \n",
      "9914\n"
     ]
    }
   ],
   "source": [
    "# merge author name based on their id, replace abstract name to full name if full name available\n",
    "# this case, we assume that author id is unique identifier means each author will only have one author ID\n",
    "import pandas as pd\n",
    "allLabelPapersInFile_dataframe = pd.DataFrame(allLabeledPapersInFile_original)\n",
    "print(list(allLabelPapersInFile_dataframe.columns.values))\n",
    "print(allLabelPapersInFile_dataframe[:5])\n",
    "print(len(allLabelPapersInFile_dataframe.authorID.unique()))"
   ]
  },
  {
   "cell_type": "code",
   "execution_count": 20,
   "metadata": {
    "scrolled": false
   },
   "outputs": [
    {
     "name": "stdout",
     "output_type": "stream",
     "text": [
      "9914\n"
     ]
    }
   ],
   "source": [
    "from collections import Counter\n",
    "\n",
    "# create author ID to name map\n",
    "author_ID_to_name_map = []\n",
    "\n",
    "for paper in allLabeledPapersInFile_original:\n",
    "    if(paper[\"authorID\"] not in [item[\"author_ID\"] for item in author_ID_to_name_map]):\n",
    "        author_ID_to_name_map.append({\"author_name\": paper[\"author_name\"], \"author_ID\": paper[\"authorID\"]})\n",
    "\n",
    "print(len(author_ID_to_name_map))\n",
    "# extract author with same name\n",
    "# author with same name different author ID\n",
    "sameNameAuthor = []\n",
    "for i in author_ID_to_name_map:\n",
    "    for j in author_ID_to_name_map:\n",
    "        if(j[\"author_name\"]==i[\"author_name\"] and j[\"author_ID\"]!=i[\"author_ID\"]):\n",
    "            if(i[\"author_ID\"] not in [item[\"author_ID\"] for item in sameNameAuthor]):\n",
    "                sameNameAuthor.append(i)\n",
    "            if(j[\"author_ID\"] not in [item[\"author_ID\"] for item in sameNameAuthor]):\n",
    "                sameNameAuthor.append(j)\n",
    "\n",
    "# # count author with same name\n",
    "# sameNameCounter = Counter([author[\"author_name\"] for author in sameNameAuthor])\n",
    "# for key, value in sameNameCounter.items():\n",
    "#     if value>=2:\n",
    "#         print(value, \"people have same name:\", key)\n",
    "\n",
    "# for author in sameNameAuthor:\n",
    "#     print(\"Author: {k}, Author ID: {c}\".format(k=author[\"author_name\"], c=author[\"author_ID\"]))    "
   ]
  },
  {
   "cell_type": "code",
   "execution_count": 8,
   "metadata": {},
   "outputs": [
    {
     "data": {
      "text/plain": [
       "[('0000-0002-2381-2349', 587),\n",
       " ('0000-0002-9955-6003', 487),\n",
       " ('0000-0002-4295-6129', 423)]"
      ]
     },
     "execution_count": 8,
     "metadata": {},
     "output_type": "execute_result"
    }
   ],
   "source": [
    "# assume author ID are unique name identifier\n",
    "from collections import Counter\n",
    "# find the paper that each author write\n",
    "c = Counter([paper[\"authorID\"] for paper in allLabeledPapersInFile_original])\n",
    "#for key, value in c.items():\n",
    "c.most_common(3) "
   ]
  },
  {
   "cell_type": "code",
   "execution_count": 6,
   "metadata": {},
   "outputs": [
    {
     "name": "stdout",
     "output_type": "stream",
     "text": [
      "4163770\n",
      "Author name: chung-may yang, Author: 0000-0003-4082-420X, Paper count: 42\n",
      "Author name: chung-may yang, Author: 0000-0002-4328-8716, Paper count: 71\n",
      "Author name: david g lloyd, Author: 0000-0003-0658-8995, Paper count: 50\n",
      "Author name: david g lloyd, Author: 0000-0002-0824-9682, Paper count: 104\n",
      "Author name: francisco ortega, Author: 0000-0002-4730-9270, Paper count: 38\n",
      "Author name: francisco ortega, Author: 0000-0003-2111-769X, Paper count: 86\n",
      "Author name: lei wang, Author: 0000-0002-5859-2526, Paper count: 53\n",
      "Author name: lei wang, Author: 0000-0003-3870-3388, Paper count: 64\n",
      "Author name: michael moore, Author: 0000-0003-3074-6631, Paper count: 38\n",
      "Author name: michael moore, Author: 0000-0002-5127-4509, Paper count: 45\n",
      "Author name: michael wagner, Author: 0000-0003-2589-6440, Paper count: 98\n",
      "Author name: michael wagner, Author: 0000-0002-9778-7684, Paper count: 141\n"
     ]
    }
   ],
   "source": [
    "# filter out authors that have same name but write less paper than threshold\n",
    "\n",
    "# set up threshold\n",
    "threshold = 30\n",
    "\n",
    "print(len(allLabeledPapersInFile_original))\n",
    "# count number of paper author write\n",
    "c = Counter([paper[\"authorID\"] for paper in allLabeledPapersInFile_original])\n",
    "for key, value in c.items():\n",
    "    for author in sameNameAuthor:\n",
    "        if(key == author[\"author_ID\"]):\n",
    "            author[\"paper_count\"] = value\n",
    "\n",
    "sameNameAuthorWithCount = sorted(sameNameAuthor, key=lambda k: (k['author_name'], k[\"paper_count\"]))\n",
    "# collect authors that have repeated name and write more paper than threshold\n",
    "uniqueAuthors = []\n",
    "temp = []\n",
    "authorFilter = []\n",
    "for author in sameNameAuthorWithCount:\n",
    "    if(author[\"paper_count\"]>threshold):\n",
    "        temp.append(author)\n",
    "        #print(\"Author name: {n}, Author: {k}, Paper count: {c}\".format(n=author[\"author_name\"],k=author[\"author_ID\"], c= author[\"paper_count\"]))\n",
    "\n",
    "for author in temp:\n",
    "    if(author[\"author_name\"] not in uniqueAuthors):\n",
    "        uniqueAuthors.append(author[\"author_name\"])\n",
    "    else: \n",
    "        if author[\"author_name\"] not in authorFilter:\n",
    "            authorFilter.append(author[\"author_name\"])\n",
    "# collect filtered data\n",
    "filteredAuthors = []\n",
    "for author in temp:\n",
    "    if(author[\"author_name\"] in authorFilter):\n",
    "        filteredAuthors.append(author)\n",
    "\n",
    "for author in filteredAuthors:\n",
    "    print(\"Author name: {n}, Author: {k}, Paper count: {c}\".format(n=author[\"author_name\"],k=author[\"author_ID\"], c= author[\"paper_count\"]))\n"
   ]
  }
 ],
 "metadata": {
  "kernelspec": {
   "display_name": "Python 3",
   "language": "python",
   "name": "python3"
  },
  "language_info": {
   "codemirror_mode": {
    "name": "ipython",
    "version": 3
   },
   "file_extension": ".py",
   "mimetype": "text/x-python",
   "name": "python",
   "nbconvert_exporter": "python",
   "pygments_lexer": "ipython3",
   "version": "3.6.3"
  }
 },
 "nbformat": 4,
 "nbformat_minor": 2
}
