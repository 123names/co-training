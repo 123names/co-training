{
 "cells": [
  {
   "cell_type": "code",
   "execution_count": null,
   "metadata": {
    "collapsed": true
   },
   "outputs": [],
   "source": [
    "import gensim\n",
    "import logging\n",
    "import os\n",
    "from gensim.models.doc2vec import TaggedDocument\n",
    "\n",
    "# read data from all file \n",
    "PATH = '../Data'\n",
    "# print log\n",
    "logging.basicConfig(format='%(asctime)s : %(levelname)s : %(message)s', level=logging.INFO)"
   ]
  },
  {
   "cell_type": "code",
   "execution_count": null,
   "metadata": {
    "collapsed": true
   },
   "outputs": [],
   "source": [
    "# # examples\n",
    "# documents = []\n",
    "# sentences = [['this', 'is', 'the', 'first', 'sentence', 'for', 'doc2vec'],\n",
    "#              ['this', 'is', 'the', 'second', 'sentence'],\n",
    "#              ['yet', 'another', 'sentence'],\n",
    "#              ['one', 'more', 'sentence'],\n",
    "#              ['and', 'the', 'final', 'sentence']]\n",
    "# counter = 0;\n",
    "# for line in sentences:\n",
    "#     documents.append(TaggedDocument(line, str(counter)))\n",
    "#     counter+=1;"
   ]
  },
  {
   "cell_type": "code",
   "execution_count": null,
   "metadata": {},
   "outputs": [],
   "source": [
    "# read all files\n",
    "def readallfile(filepath):\n",
    "    documents = []\n",
    "    with open(filepath, 'r', encoding = 'utf8') as f:\n",
    "        for line in f:\n",
    "            items = line.split(\"\\t\")\n",
    "            # word[0] is paper ID, word[1] is title content, word[2] is abstract content\n",
    "            title = items[1].lower().strip().split(\" \")\n",
    "            abstract = items[2].lower().strip().split(\" \")\n",
    "            documents.append(TaggedDocument(title+abstract, items[0]))\n",
    "    f.close()\n",
    "    print(\"Done loading files\")\n",
    "    return documents\n",
    "\n",
    "documents = readallfile(PATH+\"/id_title_abstract_processed.txt\")\n"
   ]
  },
  {
   "cell_type": "code",
   "execution_count": null,
   "metadata": {
    "collapsed": true
   },
   "outputs": [],
   "source": [
    "documents[:2]"
   ]
  },
  {
   "cell_type": "code",
   "execution_count": null,
   "metadata": {},
   "outputs": [],
   "source": [
    "# save the model\n",
    "def train_and_save_d2v_model(document):\n",
    "    # train model\n",
    "    # size is number of vector return, alpha is learning rate, sample is number of sample want to remove\n",
    "    model = gensim.models.Doc2Vec(document, min_count=5,vector_size=100, epochs=10, workers=8, window=5, sample=1e-3, negative=5)\n",
    "    # save model\n",
    "    newfileDir = \"../models/doc2v\"\n",
    "    if not os.path.exists(newfileDir):\n",
    "        os.makedirs(newfileDir)\n",
    "    print(\"Saving model\")\n",
    "    model.save(newfileDir+\"/model\")\n",
    "    print(\"Done\")\n",
    "    model.delete_temporary_training_data(keep_doctags_vectors=True, keep_inference=True)\n",
    "    \n",
    "train_and_save_d2v_model(documents)"
   ]
  }
 ],
 "metadata": {
  "kernelspec": {
   "display_name": "Python 3",
   "language": "python",
   "name": "python3"
  },
  "language_info": {
   "codemirror_mode": {
    "name": "ipython",
    "version": 3
   },
   "file_extension": ".py",
   "mimetype": "text/x-python",
   "name": "python",
   "nbconvert_exporter": "python",
   "pygments_lexer": "ipython3",
   "version": "3.6.3"
  }
 },
 "nbformat": 4,
 "nbformat_minor": 2
}
