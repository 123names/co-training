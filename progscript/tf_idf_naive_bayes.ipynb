{
 "cells": [
  {
   "cell_type": "code",
   "execution_count": 31,
   "metadata": {
    "collapsed": true
   },
   "outputs": [],
   "source": [
    "# # examples\n",
    "# class ExamplePaper(object):\n",
    "\n",
    "#     def __init__(self, pid, content):\n",
    "#         self.pid = pid\n",
    "#         self.content = content\n",
    "#     def add_vec_location(self, index):\n",
    "#         self.vec_loc = index\n",
    "# collection = []\n",
    "# sentences = ['this is the first sentence for first',\n",
    "#              'and the final sentence']\n",
    "# counter = 5\n",
    "# for line in sentences:\n",
    "#     newPaper = ExamplePaper(counter, line)\n",
    "#     collection.append(newPaper)\n",
    "#     counter+=1"
   ]
  },
  {
   "cell_type": "code",
   "execution_count": 24,
   "metadata": {},
   "outputs": [
    {
     "name": "stdout",
     "output_type": "stream",
     "text": [
      "['this is the first sentence for first', 'and the final sentence']\n",
      "8\n",
      "['this', 'is', 'the', 'first', 'sentence', 'for', 'and', 'final']\n",
      "[[0 0 2 1 1 1 1 1]\n",
      " [1 1 0 0 0 1 1 0]]\n",
      "(2, 8)\n"
     ]
    }
   ],
   "source": [
    "# # convert raw text to numerical feature vectors\n",
    "# # bow(Bags of words) are used\n",
    "# import numpy as np\n",
    "# from sklearn.feature_extraction.text import CountVectorizer\n",
    "# count_vect = CountVectorizer(min_df = 1)\n",
    "# # train a dictionary to build a frquence counter\n",
    "# allContent = [paper.content for paper in collection]\n",
    "# print(allContent[:2])\n",
    "# count_matrix = count_vect.fit_transform(allContent)\n",
    "# print(len(count_vect.vocabulary_))\n",
    "# print(list(count_vect.vocabulary_.keys())[:10])\n",
    "# print(count_matrix[:2].toarray())\n",
    "# print(count_matrix.shape)"
   ]
  },
  {
   "cell_type": "code",
   "execution_count": 37,
   "metadata": {},
   "outputs": [
    {
     "name": "stdout",
     "output_type": "stream",
     "text": [
      "5\n",
      "[[0.         0.         2.37965929 1.40546511 1.40546511 1.\n",
      "  1.         1.40546511]]\n",
      "6\n",
      "[[1.40546511 1.40546511 0.         0.         0.         1.\n",
      "  1.         0.        ]]\n",
      "  (0, 7)\t1.4054651081081644\n",
      "  (0, 4)\t1.4054651081081644\n",
      "  (0, 6)\t1.0\n",
      "  (0, 2)\t2.3796592851687173\n",
      "  (0, 5)\t1.0\n",
      "  (0, 3)\t1.4054651081081644\n",
      "  (1, 6)\t1.0\n",
      "  (1, 5)\t1.0\n",
      "  (1, 0)\t1.4054651081081644\n",
      "  (1, 1)\t1.4054651081081644\n",
      "[[0.         0.         2.37965929 1.40546511 1.40546511 1.\n",
      "  1.         1.40546511]\n",
      " [1.40546511 1.40546511 0.         0.         0.         1.\n",
      "  1.         0.        ]]\n",
      "0\n"
     ]
    },
    {
     "name": "stderr",
     "output_type": "stream",
     "text": [
      "/home/gao137/intel/intelpython3/lib/python3.6/site-packages/sklearn/feature_extraction/text.py:1089: FutureWarning: Conversion of the second argument of issubdtype from `float` to `np.floating` is deprecated. In future, it will be treated as `np.float64 == np.dtype(float).type`.\n",
      "  if hasattr(X, 'dtype') and np.issubdtype(X.dtype, np.float):\n"
     ]
    }
   ],
   "source": [
    "# # calculate tf\n",
    "# from sklearn.feature_extraction.text import TfidfTransformer\n",
    "# # tf = sublinear tf, 1+log(tf) if tf >0, or 0. idf = (log(1+N)/df(t,d,C)) + 1\n",
    "# # df(d,t,C) means number of document d contain term t in collection C\n",
    "# # Each row is normalized to have unit Euclidean norm \n",
    "# # reference to http://scikit-learn.org/stable/modules/feature_extraction.html#text-feature-extraction\n",
    "# tfidf_transformer = TfidfTransformer(use_idf=True, smooth_idf=True, sublinear_tf=True, norm=None).fit(count_matrix)\n",
    "# tfidf_matrix = tfidf_transformer.transform(count_matrix)\n",
    "# for i in range(0, len(collection)):\n",
    "#     collection[i].add_vec_location(i)\n",
    "#     print(collection[i].pid)\n",
    "#     print(tfidf_matrix[i].toarray())\n",
    "# print(tfidf_matrix[:2])\n",
    "# print(tfidf_matrix[:2].toarray())\n",
    "# print(collection[0].vec_loc)"
   ]
  },
  {
   "cell_type": "code",
   "execution_count": 59,
   "metadata": {},
   "outputs": [
    {
     "name": "stdout",
     "output_type": "stream",
     "text": [
      "Done loading files into dictionary, total  3149075  papers\n"
     ]
    }
   ],
   "source": [
    "import logging\n",
    "import os\n",
    "\n",
    "# read data from all file \n",
    "PATH = '../Data'\n",
    "# print log\n",
    "logging.basicConfig(format='%(asctime)s : %(levelname)s : %(message)s', level=logging.INFO)\n",
    "\n",
    "# collect all data\n",
    "class CanopyPaper(object):\n",
    "\n",
    "    def __init__(self, pid, content):\n",
    "        self.pid = pid\n",
    "        self.content = content\n",
    "    def add_vec_location(self, index):\n",
    "        self.vec_index = index\n",
    "\n",
    "from sklearn.feature_extraction.text import CountVectorizer\n",
    "def read_all_file(filepath):\n",
    "    counter = 0\n",
    "    collection = []\n",
    "    with open(filepath, 'r', encoding = 'utf8') as f:\n",
    "        for line in f:\n",
    "            items = line.split(\"\\t\")\n",
    "            # word[0] is paper ID, word[1] is title content, word[2] is abstract content\n",
    "            paperID = items[0]\n",
    "            title = items[1].lower().strip()\n",
    "            abstract = items[2].lower().strip()\n",
    "            newPaper = CanopyPaper(paperID, title+\"\\n\"+abstract)\n",
    "            collection.append(newPaper)\n",
    "            counter +=1\n",
    "    f.close()\n",
    "    print(\"Done loading files into dictionary, total \", counter, \" papers\")\n",
    "    return collection\n",
    "\n",
    "allpaperCollection = read_all_file(PATH+\"/id_title_abstract_processed.txt\")"
   ]
  },
  {
   "cell_type": "code",
   "execution_count": 60,
   "metadata": {},
   "outputs": [
    {
     "name": "stdout",
     "output_type": "stream",
     "text": [
      "3149075\n",
      "[<__main__.CanopyPaper object at 0x7f6111eb8470>, <__main__.CanopyPaper object at 0x7f6111927860>]\n",
      "3\n",
      "metal substitutions incarbonic anhydrase: a halide ion probe study\n",
      "\n"
     ]
    }
   ],
   "source": [
    "print(len(allpaperCollection))\n",
    "print(allpaperCollection[:2])\n",
    "print(allpaperCollection[0].pid)\n",
    "print(allpaperCollection[0].content)"
   ]
  },
  {
   "cell_type": "code",
   "execution_count": 56,
   "metadata": {},
   "outputs": [
    {
     "name": "stdout",
     "output_type": "stream",
     "text": [
      "['metal substitutions incarbonic anhydrase: a halide ion probe study\\n', 'purification and properties of escherichia coli dihydrofolate reductase\\ndihydrofolate reductase has been purified 40-fold to apparent homogeneity from a trimethoprim-resistant strain of escherichia coli (rt 500) using a procedure that includes methotrexate affinity column chromatography. determinations of the molecular weight of the enzyme based on its amino acid composition, sedimentation velocity, and sodium dodecyl sulfate gel electrophoresis gave values of 17680, 17470 and 18300, respectively. an aggregated form of the enzyme with a low specific activity can be separated from the monomer by gel filtration; treatment of the aggregate with mercaptoethanol or dithiothreitol results in an increase in enzymic activity and a regeneration of the monomer. also, multiple molecular forms of the monomer have been detected by polyacrylamide gel electrophoresis. the unresolved enzyme exhibits two ph optima (ph 4.5 and ph 7.0) with dihydrofolate as a substrate. highest activities are observed in buffers containing large organic cations. in 100 mm imidazolium chloride (ph 7), the specific activity is 47 mumol of dihydrofolate reduced per min per mg at 30 degrees. folic acid also serves as a substrate with a single ph optimum of ph 4.5. at this ph the km for folate is 16 mum, and the vmax is 1/1000 of the rate observed with dihydrofolate as the substrate. monovalent cations (na+, k+, rb+, and cs+) inhibit dihydrofolate reductase; at a given ionic strength the degree of inhibition is a function of the ionic radius of the cation. divalent cations are more potent inhibitors; the i50 of bacl2 is 250 mum, as compared to 125 mm for kcl. anions neither inhibit nor activate the enzyme.']\n"
     ]
    },
    {
     "name": "stderr",
     "output_type": "stream",
     "text": [
      "/home/gao137/intel/intelpython3/lib/python3.6/site-packages/sklearn/feature_extraction/text.py:1089: FutureWarning: Conversion of the second argument of issubdtype from `float` to `np.floating` is deprecated. In future, it will be treated as `np.float64 == np.dtype(float).type`.\n",
      "  if hasattr(X, 'dtype') and np.issubdtype(X.dtype, np.float):\n"
     ]
    },
    {
     "name": "stdout",
     "output_type": "stream",
     "text": [
      "[[0. 0. 0. ... 0. 0. 0.]\n",
      " [0. 0. 0. ... 0. 0. 0.]]\n",
      "(3149075, 1397826)\n"
     ]
    }
   ],
   "source": [
    "# calculate tf-idf\n",
    "from sklearn.feature_extraction.text import TfidfVectorizer\n",
    "allContent = [paper.content for paper in allpaperCollection]\n",
    "print(allContent[:2])\n",
    "# tf = sublinear tf, 1+log(tf) if tf >0, or 0. idf = (log(1+N)/df(t,d,C)) + 1\n",
    "# df(d,t,C) means number of document d contain term t in collection C\n",
    "# Each row is normalized to have unit Euclidean norm \n",
    "# reference to http://scikit-learn.org/stable/modules/feature_extraction.html#text-feature-extraction\n",
    "tfidf_vectorizer = TfidfVectorizer(use_idf=True, smooth_idf=True, sublinear_tf=True, norm=None,min_df=1).fit(allContent)\n",
    "tfidf_matrix = tfidf_vectorizer.transform(allContent)\n",
    "for i in range(0, len(collection)):\n",
    "    collection[i].add_vec_location(i)\n",
    "print(tfidf_matrix[:2].toarray())\n",
    "print(tfidf_matrix.shape)"
   ]
  },
  {
   "cell_type": "code",
   "execution_count": 57,
   "metadata": {},
   "outputs": [
    {
     "data": {
      "text/plain": [
       "['../models/tfidf/TfidfVectorizer(use_idf=True, smooth_idf=True, sublinear_tf=True, norm=None,min_df=1).pkl']"
      ]
     },
     "execution_count": 57,
     "metadata": {},
     "output_type": "execute_result"
    }
   ],
   "source": [
    "# save the model\n",
    "# Save vectorizer.vocabulary_\n",
    "from sklearn.externals import joblib\n",
    "newfileDir = \"../models/tfidf/\"\n",
    "if not os.path.exists(newfileDir):\n",
    "    os.makedirs(newfileDir)\n",
    "joblib.dump(tfidf_vectorizer, newfileDir+'TfidfVectorizer(use_idf=True, smooth_idf=True, sublinear_tf=True, norm=None,min_df=1)'+ '.pkl') \n"
   ]
  },
  {
   "cell_type": "code",
   "execution_count": 62,
   "metadata": {},
   "outputs": [
    {
     "name": "stdout",
     "output_type": "stream",
     "text": [
      "CanopyPaper\t CountVectorizer\t PATH\t allContent\t allpaperCollection\t joblib\t loadDir\t logging\t os\t \n",
      "read_all_file\t tfidf_matrix\t tfidf_vectorizer\t \n"
     ]
    }
   ],
   "source": [
    "%reset"
   ]
  },
  {
   "cell_type": "code",
   "execution_count": 63,
   "metadata": {},
   "outputs": [
    {
     "name": "stdout",
     "output_type": "stream",
     "text": [
      "[[0. 0. 0. ... 0. 0. 0.]\n",
      " [0. 0. 0. ... 0. 0. 0.]]\n",
      "(3149075, 419801)\n"
     ]
    }
   ],
   "source": [
    "from sklearn.externals import joblib\n",
    "# Load tf idf model from disk\n",
    "loadDir = \"../models/tfidf/\"\n",
    "tfidf_vectorizer = joblib.load(loadDir+'TfidfVectorizer(use_idf=True, smooth_idf=True, sublinear_tf=True, norm=None,min_df=3)'+'.pkl')\n",
    "# Load data\n",
    "allContent = [paper.content for paper in allpaperCollection]\n",
    "print(allContent[:2])\n",
    "tfidf_matrix = tfidf_vectorizer.transform(allContent)\n",
    "for i in range(0, len(allpaperCollection)):\n",
    "    allpaperCollection[i].add_vec_location(i)\n",
    "print(tfidf_matrix[:2].toarray())\n",
    "print(tfidf_matrix.shape)"
   ]
  },
  {
   "cell_type": "code",
   "execution_count": 79,
   "metadata": {},
   "outputs": [
    {
     "name": "stdout",
     "output_type": "stream",
     "text": [
      "28355772\n",
      "3149074\n"
     ]
    }
   ],
   "source": [
    "print(allpaperCollection[-1].pid)\n",
    "print(allpaperCollection[-1].vec_index)"
   ]
  },
  {
   "cell_type": "code",
   "execution_count": 84,
   "metadata": {},
   "outputs": [
    {
     "name": "stdout",
     "output_type": "stream",
     "text": [
      "['amit patel.txt', 'robert j young.txt', 'martin wagner.txt', 'michael wagner.txt', 'david g lloyd.txt', 'carmen moreno.txt', 'jong hee chang.txt', 'hao song.txt', 'yongsheng liu.txt', 'kevin m. ryan.txt', 'yu-jun zhao.txt', 'xin li.txt', 'alfredo martinez.txt', 'wei lu.txt', 'anna ferrari.txt', 'wei wang.txt', 'jeong hwan kim.txt', 'jacob john.txt', 'fang liu.txt', 'yong wang.txt', 'cheng luo.txt', 'yang wang.txt', 'qiang wang.txt', 'francisco j blanco.txt', 'yu zhang.txt', 'yang zhao.txt', 'ana castro.txt', 'bin liu.txt', 'vivek gupta.txt', 'wei xu.txt', 'richard w morris.txt', 'chao liu.txt', 'giovanni volpe.txt', 'francisco esteves.txt', 'vineet gupta.txt', 'jin young kim.txt', 'feng liu.txt', 'vivek kumar.txt', 'sebastian wolf.txt', 'pei-ming yang.txt', 'qian wang.txt', 'feng xu.txt', 'john f marshall.txt', 'ying liu.txt', 'qin li.txt', 'jun chen.txt', 'yong liu.txt', 'jie zhang.txt', 'ying zhang.txt', 'peng zhang.txt', 'lin yang.txt', 'jun zhang.txt', 'lu\\udcc3\\udcads alves.txt', 'marta crespo.txt', 'carmen torres.txt', 'marco ferrari.txt', 'mikael svensson.txt', 'lei wang.txt', 'hong yang.txt', 'chung-may yang.txt', 'jeremy m brown.txt', 'kyung su kim.txt']\n",
      "26330430\n",
      "26330430\n"
     ]
    }
   ],
   "source": [
    "# extract vector for classification\n",
    "import os\n",
    "import re\n",
    "authorFileDir = \"../Data/filteredSameNameAuthor/\"\n",
    "listAuthorFile = os.listdir(authorFileDir)\n",
    "# loop through files in directory \n",
    "# add name to name list\n",
    "name_list = []\n",
    "for file in listAuthorFile:\n",
    "    if not file.startswith('.'):\n",
    "        if not re.match(r'\\D*\\d+.txt$', file):\n",
    "            name_list.append(file)\n",
    "print(name_list)\n",
    "\n",
    "# for name in listAuthorFile:\n",
    "#     int counter = 0;\n",
    "#     for file in fileList:\n",
    "#         if not file.startswith('.'):\n",
    "            \n",
    "# hard code to read the file one by one\n",
    "# author as positive sample, other as all samples\n",
    "author_pids = []\n",
    "other_pids = []\n",
    "with open(authorFileDir+\"michael wagner0.txt\", 'r', encoding = 'utf8') as f:\n",
    "    for line in f:\n",
    "        author_pids.extend(line.strip().split(\" \"))\n",
    "\n",
    "with open(authorFileDir+\"michael wagner.txt\", 'r', encoding = 'utf8') as f:\n",
    "    for line in f:\n",
    "        other_pids.extend(line.strip().split(\" \"))\n",
    "        \n",
    "print(author_pids[0])\n",
    "print(other_pids[0])"
   ]
  },
  {
   "cell_type": "code",
   "execution_count": 88,
   "metadata": {},
   "outputs": [
    {
     "name": "stdout",
     "output_type": "stream",
     "text": [
      "16\n",
      "255\n",
      "3149075\n",
      "3\n"
     ]
    }
   ],
   "source": [
    "# size of each class\n",
    "print(len(author_pids))\n",
    "print(len(other_pids))\n",
    "print(len(allpaperCollection))"
   ]
  },
  {
   "cell_type": "code",
   "execution_count": 86,
   "metadata": {},
   "outputs": [
    {
     "name": "stdout",
     "output_type": "stream",
     "text": [
      "Negative sample size: 239\n"
     ]
    }
   ],
   "source": [
    "# remove author(positive sample) from other(negative sample)\n",
    "import random\n",
    "allPaperpids = [x for x in other_pids if x not in author_pids]\n",
    "print(\"Negative sample size:\", len(allPaperpids))\n",
    "# random take sample from all the papers and treat it as class 2\n",
    "# random sample will have same size with author's size\n",
    "if len(author_pids)>len(allPaperpids):\n",
    "    randomSample_pid = allPaperpids\n",
    "else:\n",
    "    randomSample_pid = random.sample(allPaperpids, len(author_pids))"
   ]
  },
  {
   "cell_type": "code",
   "execution_count": 103,
   "metadata": {},
   "outputs": [
    {
     "name": "stdout",
     "output_type": "stream",
     "text": [
      "16\n",
      "[array([0., 0., 0., ..., 0., 0., 0.]), array([0., 0., 0., ..., 0., 0., 0.])]\n",
      "(16, 419802)\n"
     ]
    }
   ],
   "source": [
    "# collect positive vectors from tf-idf matrix\n",
    "import pandas as pd\n",
    "import numpy as np\n",
    "author_features = []\n",
    "for pid in author_pids:\n",
    "    vec_index = -1\n",
    "    for paper in allpaperCollection:\n",
    "        if(pid == paper.pid):\n",
    "            vec_index = paper.vec_index\n",
    "    if(vec_index==-1):\n",
    "        print(\"Error, not get vector index\")\n",
    "    author_features.extend(tfidf_matrix[vec_index].toarray())\n",
    "print(len(author_features))\n",
    "print(author_features[:2])\n",
    "classOne = pd.DataFrame(author_features)\n",
    "classOne[\"label\"] = 0\n",
    "# classOne = np.vstack(author_features)\n",
    "# label = np.ones(shape = (len(author_features),len(author_features[0])))\n",
    "print(classOne.shape)"
   ]
  },
  {
   "cell_type": "code",
   "execution_count": 104,
   "metadata": {},
   "outputs": [
    {
     "name": "stdout",
     "output_type": "stream",
     "text": [
      "16\n",
      "[array([0., 0., 0., ..., 0., 0., 0.]), array([0., 0., 0., ..., 0., 0., 0.])]\n",
      "(16, 419802)\n"
     ]
    }
   ],
   "source": [
    "# collect positive vectors from tf-idf matrix\n",
    "other_features = []\n",
    "for pid in randomSample_pid:\n",
    "    vec_index = -1\n",
    "    for paper in allpaperCollection:\n",
    "        if(pid == paper.pid):\n",
    "            vec_index = paper.vec_index\n",
    "    if(vec_index==-1):\n",
    "        print(\"Error, not get vector index\")\n",
    "    other_features.extend(tfidf_matrix[vec_index].toarray())\n",
    "print(len(other_features))\n",
    "print(other_features[:2])\n",
    "classTwo = pd.DataFrame(other_features)\n",
    "classTwo[\"label\"] = 1\n",
    "# classTwo = np.vstack(author_features)\n",
    "# label = np.zeros(shape = (len(author_features),len(author_features[0])))\n",
    "print(classTwo.shape)"
   ]
  },
  {
   "cell_type": "code",
   "execution_count": 105,
   "metadata": {},
   "outputs": [
    {
     "name": "stdout",
     "output_type": "stream",
     "text": [
      "     0    1    2    3    4    5    6    7    8    9  ...    419792  419793  \\\n",
      "0  0.0  0.0  0.0  0.0  0.0  0.0  0.0  0.0  0.0  0.0  ...       0.0     0.0   \n",
      "1  0.0  0.0  0.0  0.0  0.0  0.0  0.0  0.0  0.0  0.0  ...       0.0     0.0   \n",
      "2  0.0  0.0  0.0  0.0  0.0  0.0  0.0  0.0  0.0  0.0  ...       0.0     0.0   \n",
      "3  0.0  0.0  0.0  0.0  0.0  0.0  0.0  0.0  0.0  0.0  ...       0.0     0.0   \n",
      "4  0.0  0.0  0.0  0.0  0.0  0.0  0.0  0.0  0.0  0.0  ...       0.0     0.0   \n",
      "\n",
      "   419794  419795  419796  419797  419798  419799  419800  label  \n",
      "0     0.0     0.0     0.0     0.0     0.0     0.0     0.0      0  \n",
      "1     0.0     0.0     0.0     0.0     0.0     0.0     0.0      0  \n",
      "2     0.0     0.0     0.0     0.0     0.0     0.0     0.0      0  \n",
      "3     0.0     0.0     0.0     0.0     0.0     0.0     0.0      0  \n",
      "4     0.0     0.0     0.0     0.0     0.0     0.0     0.0      0  \n",
      "\n",
      "[5 rows x 419802 columns]\n",
      "     0    1    2    3    4    5    6    7    8    9  ...    419792  419793  \\\n",
      "0  0.0  0.0  0.0  0.0  0.0  0.0  0.0  0.0  0.0  0.0  ...       0.0     0.0   \n",
      "1  0.0  0.0  0.0  0.0  0.0  0.0  0.0  0.0  0.0  0.0  ...       0.0     0.0   \n",
      "2  0.0  0.0  0.0  0.0  0.0  0.0  0.0  0.0  0.0  0.0  ...       0.0     0.0   \n",
      "3  0.0  0.0  0.0  0.0  0.0  0.0  0.0  0.0  0.0  0.0  ...       0.0     0.0   \n",
      "4  0.0  0.0  0.0  0.0  0.0  0.0  0.0  0.0  0.0  0.0  ...       0.0     0.0   \n",
      "\n",
      "   419794  419795  419796  419797  419798  419799  419800  label  \n",
      "0     0.0     0.0     0.0     0.0     0.0     0.0     0.0      0  \n",
      "1     0.0     0.0     0.0     0.0     0.0     0.0     0.0      0  \n",
      "2     0.0     0.0     0.0     0.0     0.0     0.0     0.0      1  \n",
      "3     0.0     0.0     0.0     0.0     0.0     0.0     0.0      1  \n",
      "4     0.0     0.0     0.0     0.0     0.0     0.0     0.0      1  \n",
      "\n",
      "[5 rows x 419802 columns]\n",
      "Total sample size and shape:  (32, 419801)\n"
     ]
    }
   ],
   "source": [
    "# combine data from different class get all data\n",
    "combinedData = pd.concat([classOne, classTwo])\n",
    "print(combinedData[:5])\n",
    "combinedData = combinedData.sample(frac=1).reset_index(drop=True)\n",
    "print(combinedData[:5])\n",
    "# split data and label\n",
    "data = combinedData.drop(['label'], axis=1)\n",
    "label = combinedData['label']\n",
    "print(\"Total sample size and shape: \",data.shape)"
   ]
  },
  {
   "cell_type": "code",
   "execution_count": 107,
   "metadata": {},
   "outputs": [
    {
     "data": {
      "image/png": "[encoded data removed]",
      "text/plain": [
       "<matplotlib.figure.Figure at 0x7f614eb119b0>"
      ]
     },
     "metadata": {},
     "output_type": "display_data"
    }
   ],
   "source": [
    "# Principal Component Analysis (PCA) applied to this data identifies the combination of attributes\n",
    "# (principal components, or directions in the feature space) that account for the most variance in the data.\n",
    "from sklearn.decomposition import PCA\n",
    "import matplotlib.pyplot as plt\n",
    "pca = PCA(n_components=2)\n",
    "pca_transformed = pd.DataFrame(pca.fit_transform(X=data, y=label))\n",
    "pca_transformed[\"label\"] = label\n",
    "#print(pca_transformed)\n",
    "plt.scatter(pca_transformed[label==0][0], pca_transformed[label==0][1], label='Positive sample', c='red')\n",
    "plt.scatter(pca_transformed[label==1][0], pca_transformed[label==1][1], label='Other', c='blue')\n",
    "plt.legend()\n",
    "plt.show()"
   ]
  },
  {
   "cell_type": "code",
   "execution_count": 108,
   "metadata": {},
   "outputs": [
    {
     "name": "stdout",
     "output_type": "stream",
     "text": [
      "             0           1  label\n",
      "0   -40.602688  111.476631      0\n",
      "1   -72.885834   82.149933      0\n",
      "2    39.925457   26.675329      1\n",
      "3   -50.426388    6.552296      1\n",
      "4    79.107193   37.645496      1\n",
      "5     8.045305    8.591617      1\n",
      "6   -87.209785   16.472172      0\n",
      "7  -112.029404   51.805367      0\n",
      "8    12.384606   87.634102      0\n",
      "9    92.135529  -71.341171      0\n",
      "10  -71.348213  -74.766731      1\n",
      "11   54.783916  -45.962330      1\n",
      "12  -23.208405  -56.795506      1\n",
      "13 -100.619972  -25.129234      1\n",
      "14   11.782407   48.945858      0\n",
      "15   48.382896   67.067795      0\n",
      "16  -19.537132   29.042292      1\n",
      "17   72.513626   -1.313633      1\n",
      "18   51.910011  114.768402      0\n",
      "19   94.076485   81.958008      1\n",
      "20  -20.538282  -14.507697      0\n",
      "21  127.657677   29.737686      1\n",
      "22    1.712815  130.799164      1\n",
      "23   10.549809  -32.112095      0\n",
      "24  109.729744  -23.188158      0\n",
      "25   46.514172 -110.094666      0\n",
      "26  -57.743477  -32.387547      1\n",
      "27  -23.006529   69.270622      0\n",
      "28   38.481503  -10.838777      0\n",
      "29  -21.726357  -98.861916      1\n",
      "30  -55.614647   46.407009      0\n",
      "31   19.493565  -73.029732      1\n"
     ]
    },
    {
     "data": {
      "image/png": "[encoded data removed]",
      "text/plain": [
       "<matplotlib.figure.Figure at 0x7f614958dc88>"
      ]
     },
     "metadata": {},
     "output_type": "display_data"
    }
   ],
   "source": [
    "# TSNE\n",
    "from sklearn.manifold import TSNE\n",
    "from sklearn.preprocessing import Normalizer\n",
    "tsne_transformed = TSNE(n_components=2, init = \"pca\").fit_transform(data)\n",
    "tsne_transformed_normalized = Normalizer(norm='l2').fit_transform(tsne_transformed)\n",
    "tsne_transformed_normalized = pd.DataFrame(tsne_transformed)\n",
    "tsne_transformed_normalized[\"label\"] = label\n",
    "print(tsne_transformed_normalized)\n",
    "plt.scatter(tsne_transformed_normalized[label==0][0], tsne_transformed_normalized[label==0][1], label='Positive sample', c='red')\n",
    "plt.scatter(tsne_transformed_normalized[label==1][0], tsne_transformed_normalized[label==1][1], label='Other', c='blue')\n",
    "plt.legend()\n",
    "plt.show()"
   ]
  },
  {
   "cell_type": "code",
   "execution_count": 112,
   "metadata": {},
   "outputs": [
    {
     "name": "stdout",
     "output_type": "stream",
     "text": [
      "[0 0 1 1 1 1 0 0 0 0 1 1 1 1 0 0 1 1 0 1 0 1 1 0 0 0 1 0 0 1 0 1]\n",
      "0     0\n",
      "1     0\n",
      "2     1\n",
      "3     1\n",
      "4     1\n",
      "5     1\n",
      "6     0\n",
      "7     0\n",
      "8     0\n",
      "9     0\n",
      "10    1\n",
      "11    1\n",
      "12    1\n",
      "13    1\n",
      "14    0\n",
      "15    0\n",
      "16    1\n",
      "17    1\n",
      "18    0\n",
      "19    1\n",
      "20    0\n",
      "21    1\n",
      "22    1\n",
      "23    0\n",
      "24    0\n",
      "25    0\n",
      "26    1\n",
      "27    0\n",
      "28    0\n",
      "29    1\n",
      "30    0\n",
      "31    1\n",
      "Name: label, dtype: int64\n"
     ]
    }
   ],
   "source": [
    "from sklearn.naive_bayes import GaussianNB\n",
    "gnb = GaussianNB()\n",
    "y_pred = gnb.fit(data, label).predict(data)\n",
    "print(y_pred)\n",
    "print(label)\n",
    "    "
   ]
  },
  {
   "cell_type": "code",
   "execution_count": 77,
   "metadata": {},
   "outputs": [
    {
     "name": "stdout",
     "output_type": "stream",
     "text": [
      "CanopyPaper\t CountVectorizer\t PATH\t allContent\t allPaperpids\t allpaperCollection\t authorFileDir\t author_features\t author_pids\t \n",
      "f\t file\t i\t joblib\t line\t listAuthorFile\t loadDir\t logging\t name_list\t \n",
      "os\t other_pids\t paper\t pd\t pid\t random\t randomSample_pid\t re\t read_all_file\t \n",
      "tfidf_matrix\t tfidf_vectorizer\t vec_index\t \n"
     ]
    }
   ],
   "source": [
    "who"
   ]
  },
  {
   "cell_type": "code",
   "execution_count": null,
   "metadata": {
    "collapsed": true
   },
   "outputs": [],
   "source": []
  }
 ],
 "metadata": {
  "kernelspec": {
   "display_name": "Python 3",
   "language": "python",
   "name": "python3"
  },
  "language_info": {
   "codemirror_mode": {
    "name": "ipython",
    "version": 3
   },
   "file_extension": ".py",
   "mimetype": "text/x-python",
   "name": "python",
   "nbconvert_exporter": "python",
   "pygments_lexer": "ipython3",
   "version": "3.6.3"
  }
 },
 "nbformat": 4,
 "nbformat_minor": 2
}
