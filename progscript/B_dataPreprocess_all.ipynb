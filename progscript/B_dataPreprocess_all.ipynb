{
 "cells": [
  {
   "cell_type": "code",
   "execution_count": 1,
   "metadata": {},
   "outputs": [
    {
     "name": "stdout",
     "output_type": "stream",
     "text": [
      "Total records: 4163770 records\n"
     ]
    }
   ],
   "source": [
    "# load the file\n",
    "import sys\n",
    "import io\n",
    "import os\n",
    "\n",
    "fileDir = \"../Data/canopies/\"\n",
    "listfiles = os.listdir(fileDir)\n",
    "allPapersInFile_original = []\n",
    "\n",
    "for file in listfiles:\n",
    "    if not file.startswith('.'):\n",
    "        with open(fileDir+file, 'r', encoding = 'utf8') as f:\n",
    "            for line in f:\n",
    "                read_data = line.split(\"\\t\")\n",
    "                # get ride of bad formated lines\n",
    "                if(len(read_data)==13):\n",
    "                    paper_detail = {\"paperID\": read_data[0], \"authorID\":read_data[1],\n",
    "                                    \"author_position\":read_data[2], \"total_author\": read_data[3],\n",
    "                                    \"author_name\": read_data[4], \"co_authors\": read_data[5], \n",
    "                                    \"department\": read_data[6], \"vendor\": read_data[7], \n",
    "                                    \"mesh\": read_data[8], \"keywords\": read_data[9], \n",
    "                                    \"publish_year\": read_data[10], \"citation graph\": read_data[11]}\n",
    "                    allPapersInFile_original.append(paper_detail)\n",
    "        f.close()\n",
    "print(\"Total records:\",len(allPapersInFile_original), \"records\")"
   ]
  },
  {
   "cell_type": "code",
   "execution_count": 2,
   "metadata": {},
   "outputs": [
    {
     "name": "stdout",
     "output_type": "stream",
     "text": [
      "Total paper count:  3151502\n",
      "3\n",
      "8608573\n",
      "15029458\n",
      "19048992\n",
      "22324505\n",
      "25049230\n",
      "27538872\n",
      "Total extracted abstract:  3149075\n",
      "28355772\n"
     ]
    }
   ],
   "source": [
    "# extract abstract based on paperID and generate new smaller file with id to abstract\n",
    "# sort paperID\n",
    "paperIDs = []\n",
    "for paper in allPapersInFile_original:\n",
    "    paperIDs.append(int(paper[\"paperID\"]))\n",
    "# the original file have co-authorship means the paper id is not unique, we want to extract abstract with unique paper id \n",
    "paperIDs = sorted(set(paperIDs))\n",
    "print(\"Total paper count: \",len(paperIDs))\n",
    "# extract abstract based on paper id\n",
    "filePath = \"../Data/id_title_abstract.txt\"\n",
    "paperID_abstract = []\n",
    "with open(filePath, 'r', encoding = 'utf8') as f:\n",
    "    for line in f:\n",
    "        read_data = line.split(\"\\t\")\n",
    "        if(len(paperIDs)==0):\n",
    "            break\n",
    "        elif(int(read_data[0])==paperIDs[0]):\n",
    "            if(len(paperID_abstract)%500000==0):\n",
    "                print(read_data[0])\n",
    "            paper = {\"paperID\": read_data[0], \"title\": read_data[1], \"abstract\": read_data[2]}\n",
    "            paperID_abstract.append(paper)\n",
    "            paperIDs.remove(paperIDs[0])\n",
    "        elif (paperIDs[0]<int(read_data[0])):\n",
    "            paperIDs.remove(paperIDs[0])\n",
    "            \n",
    "f.close()\n",
    "print(\"Total extracted abstract: \",len(paperID_abstract))\n",
    "print(paperID_abstract[-1][\"paperID\"])\n"
   ]
  },
  {
   "cell_type": "code",
   "execution_count": 3,
   "metadata": {
    "collapsed": true
   },
   "outputs": [],
   "source": [
    "# write content to file\n",
    "newf = open(\"../Data/id_title_abstract_processed.txt\", \"w\",encoding='utf8')\n",
    "for paper in paperID_abstract:\n",
    "    newf.write(paper[\"paperID\"]+\"\\t\"+paper[\"title\"]+\"\\t\"+paper[\"abstract\"])\n",
    "newf.close()"
   ]
  },
  {
   "cell_type": "code",
   "execution_count": null,
   "metadata": {
    "collapsed": true
   },
   "outputs": [],
   "source": []
  },
  {
   "cell_type": "code",
   "execution_count": 4,
   "metadata": {},
   "outputs": [
    {
     "name": "stdout",
     "output_type": "stream",
     "text": [
      "Total labeled record:  140266\n"
     ]
    }
   ],
   "source": [
    "# load the file and write labeled file to other folder\n",
    "import sys\n",
    "import io\n",
    "import os\n",
    "\n",
    "fileDir = \"../Data/canopies/\"\n",
    "newfileDir = \"../Data/canopies_labeled/\"\n",
    "if not os.path.exists(newfileDir):\n",
    "    os.makedirs(newfileDir)\n",
    "listfiles = os.listdir(fileDir)\n",
    "counter = 0\n",
    "\n",
    "for file in listfiles:\n",
    "    if not file.startswith('.'):\n",
    "        newf = open(newfileDir+file, \"w\",encoding='utf8')\n",
    "        with open(fileDir+file, 'r', encoding = 'utf8') as f:\n",
    "            for line in f:\n",
    "                read_data = line.split(\"\\t\")\n",
    "                # filter out unlabeled data\n",
    "                # if (read_data[0]==\"-1\"):\n",
    "                # get ride of bad formated lines\n",
    "                if(len(read_data)==13 and read_data[1]!=\"-1\"):\n",
    "                    newf.write(read_data[0]+\"\\t\"+read_data[1]+\"\\t\"+read_data[2]+\"\\t\"+read_data[3]+\"\\t\"+read_data[4]+\"\\t\"+\n",
    "                               read_data[5]+\"\\t\"+read_data[6]+\"\\t\"+read_data[7]+\"\\t\"+read_data[8]+\"\\t\"+read_data[9]+\"\\t\"+\n",
    "                               read_data[10]+\"\\t\"+read_data[11]+\"\\t\"+read_data[12]+\"\\n\")\n",
    "                    counter+=1\n",
    "        f.close()\n",
    "        newf.close()\n",
    "print(\"Total labeled record: \",counter)"
   ]
  }
 ],
 "metadata": {
  "kernelspec": {
   "display_name": "Python 3",
   "language": "python",
   "name": "python3"
  },
  "language_info": {
   "codemirror_mode": {
    "name": "ipython",
    "version": 3
   },
   "file_extension": ".py",
   "mimetype": "text/x-python",
   "name": "python",
   "nbconvert_exporter": "python",
   "pygments_lexer": "ipython3",
   "version": "3.6.3"
  }
 },
 "nbformat": 4,
 "nbformat_minor": 2
}
