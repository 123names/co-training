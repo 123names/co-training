{
 "cells": [
  {
   "cell_type": "code",
   "execution_count": 54,
   "metadata": {
    "ExecuteTime": {
     "end_time": "2019-01-05T04:05:52.991110Z",
     "start_time": "2019-01-05T04:05:52.639145Z"
    },
    "collapsed": true
   },
   "outputs": [],
   "source": [
    "class K_Means:\n",
    "\n",
    "    def __init__(self, k =2, tolerance = 0.0001, max_iterations = 3):\n",
    "        '''\n",
    "        K: number of cluster we want from input datas\n",
    "        tolerance: When the difference between the old and new centroids is less than the tolerance value, we stop the iterations.\n",
    "        max_iteration: maxium amount of iteration process\n",
    "        '''\n",
    "        self.k = k\n",
    "        self.tolerance = tolerance\n",
    "        self.max_iterations = max_iterations\n",
    "        \n",
    "    def fit(self,data):\n",
    "        \n",
    "        np.random.shuffle(data)\n",
    "        self.centroids = {}\n",
    "        # init centroid\n",
    "        for i in range(self.k):\n",
    "            self.centroids[i] = data[i]\n",
    "        # start iterations\n",
    "        for i in range(self.max_iterations):\n",
    "            print(\"Iter centroid: \", self.centroids)\n",
    "            self.clusters = {}\n",
    "            for i in range(self.k):\n",
    "                self.clusters[i] = []\n",
    "                \n",
    "            for features in data:\n",
    "                # Euclidean Norm (Euclidean distance)\n",
    "                distances = [np.linalg.norm(features-self.centroids[centroid]) for centroid in self.centroids]\n",
    "                result_cluster = distances.index(min(distances))\n",
    "                self.clusters[result_cluster].append(features)\n",
    "            print(self.clusters)\n",
    "            # save previous centroids to check centroids changes\n",
    "            prev_centroids = dict(self.centroids)\n",
    "            \n",
    "            # update to new centroids\n",
    "            for cluster in self.clusters:\n",
    "                self.centroids[cluster] = np.average(self.clusters[cluster],axis=0)\n",
    "            \n",
    "            optimized = True\n",
    "            # if centroids changes more than tolerance, we keep iterative process\n",
    "            for centroid in self.centroids:\n",
    "                original_centroid = prev_centroids[centroid]\n",
    "                current_centroid = self.centroids[centroid]\n",
    "                if np.sum((current_centroid-original_centroid)/original_centroid*100.0) > self.tolerance:\n",
    "                    print(\"within-cluster sum of squared error: \", np.sum((current_centroid-original_centroid)/original_centroid*100.0))\n",
    "                    optimized = False\n",
    "                    \n",
    "            # otherwise, break out loop\n",
    "            if optimized:\n",
    "                break\n",
    "    \n",
    "    def predict(self, data):\n",
    "        distances = [np.linalg.norm(data-self.centroids[centroid]) for centroid in self.centroids]\n",
    "        result_cluster = distances.index(min(distances))\n",
    "        \n",
    "        return result_cluster\n",
    "    "
   ]
  },
  {
   "cell_type": "markdown",
   "metadata": {},
   "source": [
    "1. Euclidean distance\n",
    "\\begin{equation}\n",
    "E(p, q) = \\sqrt{\\sum_{a=0}^{F} (p_{a} - q_{a})^2}\n",
    "\\end{equation}"
   ]
  },
  {
   "cell_type": "code",
   "execution_count": 2,
   "metadata": {
    "ExecuteTime": {
     "end_time": "2019-01-06T02:47:47.161442Z",
     "start_time": "2019-01-06T02:47:46.616856Z"
    },
    "collapsed": true
   },
   "outputs": [],
   "source": [
    "import matplotlib.pyplot as plt\n",
    "from matplotlib import style\n",
    "style.use('ggplot')\n",
    "import numpy as np\n",
    "\n",
    "X = np.array([[1, 2],\n",
    "              [1.5, 1.8],\n",
    "              [5, 8 ],\n",
    "              [1.3, 1.5],\n",
    "              [1.4,2.3],\n",
    "              [8, 8],\n",
    "              [1, 0.6],\n",
    "              [9,11]])\n",
    "colors = 10*[\"g\",\"r\",\"c\",\"b\",\"k\"]"
   ]
  },
  {
   "cell_type": "code",
   "execution_count": 3,
   "metadata": {
    "ExecuteTime": {
     "end_time": "2019-01-06T02:47:47.180585Z",
     "start_time": "2019-01-06T02:47:47.163493Z"
    }
   },
   "outputs": [
    {
     "name": "stdout",
     "output_type": "stream",
     "text": [
      "[[1.         0.97341717 0.99549547 0.9688027  0.99654576 0.9486833\n",
      "  0.84366149 0.975441  ]\n",
      " [0.97341717 1.         0.9907474  0.99981275 0.98907543 0.99589321\n",
      "  0.94420018 0.99995942]\n",
      " [0.99549547 0.9907474  1.         0.98793555 0.99993026 0.9743912\n",
      "  0.89076187 0.99192983]\n",
      " [0.9688027  0.99981275 0.98793555 1.         0.98603766 0.9974587\n",
      "  0.95039713 0.99959785]\n",
      " [0.99654576 0.98907543 0.99993026 0.98603766 1.         0.9716676\n",
      "  0.88533236 0.99036326]\n",
      " [0.9486833  0.99589321 0.9743912  0.9974587  0.9716676  1.\n",
      "  0.9701425  0.99503719]\n",
      " [0.84366149 0.94420018 0.89076187 0.95039713 0.88533236 0.9701425\n",
      "  1.         0.94119467]\n",
      " [0.975441   0.99995942 0.99192983 0.99959785 0.99036326 0.99503719\n",
      "  0.94119467 1.        ]]\n",
      "[[1.         0.97341717 0.99549547 0.9688027  0.99654576 0.9486833\n",
      "  0.84366149 0.975441  ]\n",
      " [0.97341717 1.         0.9907474  0.99981275 0.98907543 0.99589321\n",
      "  0.94420018 0.99995942]\n",
      " [0.99549547 0.9907474  1.         0.98793555 0.99993026 0.9743912\n",
      "  0.89076187 0.99192983]\n",
      " [0.9688027  0.99981275 0.98793555 1.         0.98603766 0.9974587\n",
      "  0.95039713 0.99959785]\n",
      " [0.99654576 0.98907543 0.99993026 0.98603766 1.         0.9716676\n",
      "  0.88533236 0.99036326]\n",
      " [0.9486833  0.99589321 0.9743912  0.9974587  0.9716676  1.\n",
      "  0.9701425  0.99503719]\n",
      " [0.84366149 0.94420018 0.89076187 0.95039713 0.88533236 0.9701425\n",
      "  1.         0.94119467]\n",
      " [0.975441   0.99995942 0.99192983 0.99959785 0.99036326 0.99503719\n",
      "  0.94119467 1.        ]]\n",
      "[[0.00000000e+00 2.65828317e-02 4.50452741e-03 3.11972955e-02\n",
      "  3.45424176e-03 5.13167019e-02 1.56338512e-01 2.45589979e-02]\n",
      " [2.65828317e-02 0.00000000e+00 9.25260457e-03 1.87252282e-04\n",
      "  1.09245685e-02 4.10679353e-03 5.57998186e-02 4.05786516e-05]\n",
      " [4.50452741e-03 9.25260457e-03 0.00000000e+00 1.20644483e-02\n",
      "  6.97428427e-05 2.56088043e-02 1.09238130e-01 8.07016530e-03]\n",
      " [3.11972955e-02 1.87252282e-04 1.20644483e-02 0.00000000e+00\n",
      "  1.39623431e-02 2.54130017e-03 4.96028710e-02 4.02151527e-04]\n",
      " [3.45424176e-03 1.09245685e-02 6.97428427e-05 1.39623431e-02\n",
      "  0.00000000e+00 2.83323968e-02 1.14667640e-01 9.63673721e-03]\n",
      " [5.13167019e-02 4.10679353e-03 2.56088043e-02 2.54130017e-03\n",
      "  2.83323968e-02 0.00000000e+00 2.98574999e-02 4.96280979e-03]\n",
      " [1.56338512e-01 5.57998186e-02 1.09238130e-01 4.96028710e-02\n",
      "  1.14667640e-01 2.98574999e-02 0.00000000e+00 5.88053292e-02]\n",
      " [2.45589979e-02 4.05786516e-05 8.07016530e-03 4.02151527e-04\n",
      "  9.63673721e-03 4.96280979e-03 5.88053292e-02 0.00000000e+00]]\n"
     ]
    }
   ],
   "source": [
    "from sklearn.metrics.pairwise import pairwise_kernels, cosine_similarity, cosine_distances\n",
    "print(pairwise_kernels(X, Y=None, metric=\"cosine\", filter_params=True))\n",
    "print(cosine_similarity(X, Y=None))\n",
    "print(cosine_distances(X, Y=None))"
   ]
  },
  {
   "cell_type": "code",
   "execution_count": 81,
   "metadata": {
    "ExecuteTime": {
     "end_time": "2019-01-05T04:14:54.256855Z",
     "start_time": "2019-01-05T04:14:53.654216Z"
    }
   },
   "outputs": [
    {
     "name": "stdout",
     "output_type": "stream",
     "text": [
      "Iter centroid:  {0: array([1., 2.]), 1: array([1. , 0.6])}\n",
      "{0: [array([1., 2.]), array([1.4, 2.3]), array([ 9., 11.]), array([1.3, 1.5]), array([8., 8.]), array([1.5, 1.8]), array([5., 8.])], 1: [array([1. , 0.6])]}\n",
      "within-cluster sum of squared error:  435.7142857142858\n",
      "Iter centroid:  {0: array([3.88571429, 4.94285714]), 1: array([1. , 0.6])}\n",
      "{0: [array([ 9., 11.]), array([8., 8.]), array([5., 8.])], 1: [array([1., 2.]), array([1. , 0.6]), array([1.4, 2.3]), array([1.3, 1.5]), array([1.5, 1.8])]}\n",
      "within-cluster sum of squared error:  170.80641505156973\n",
      "within-cluster sum of squared error:  197.33333333333334\n",
      "Iter centroid:  {0: array([7.33333333, 9.        ]), 1: array([1.24, 1.64])}\n",
      "{0: [array([ 9., 11.]), array([8., 8.]), array([5., 8.])], 1: [array([1., 2.]), array([1. , 0.6]), array([1.4, 2.3]), array([1.3, 1.5]), array([1.5, 1.8])]}\n"
     ]
    },
    {
     "data": {
      "image/png": "[encoded data removed]",
      "text/plain": [
       "<matplotlib.figure.Figure at 0x7f2d36a0a828>"
      ]
     },
     "metadata": {},
     "output_type": "display_data"
    }
   ],
   "source": [
    "clf = K_Means()\n",
    "clf.fit(X)\n",
    "\n",
    "for centroid in clf.centroids:\n",
    "    plt.scatter(clf.centroids[centroid][0], clf.centroids[centroid][1],\n",
    "                marker=\"x\", color=\"k\", s=50)\n",
    "\n",
    "for cluster in clf.clusters:\n",
    "    color = colors[cluster]\n",
    "    for sample in clf.clusters[cluster]:\n",
    "        plt.scatter(sample[0], sample[1], marker=\"o\", color=color, s=20)\n",
    "        \n",
    "plt.show()"
   ]
  },
  {
   "cell_type": "code",
   "execution_count": 82,
   "metadata": {
    "ExecuteTime": {
     "end_time": "2019-01-05T04:14:58.016143Z",
     "start_time": "2019-01-05T04:14:57.965737Z"
    },
    "collapsed": true
   },
   "outputs": [],
   "source": [
    "from sklearn.cluster import KMeans\n",
    "\n",
    "clf = KMeans(n_clusters=2)\n",
    "clf.fit(X)\n",
    "\n",
    "centroids = clf.cluster_centers_\n",
    "labels = clf.labels_\n"
   ]
  },
  {
   "cell_type": "code",
   "execution_count": 83,
   "metadata": {
    "ExecuteTime": {
     "end_time": "2019-01-05T04:14:58.877189Z",
     "start_time": "2019-01-05T04:14:58.240873Z"
    }
   },
   "outputs": [
    {
     "data": {
      "image/png": "[encoded data removed]",
      "text/plain": [
       "<matplotlib.figure.Figure at 0x7f2d36b696a0>"
      ]
     },
     "metadata": {},
     "output_type": "display_data"
    },
    {
     "name": "stdout",
     "output_type": "stream",
     "text": [
      "[[ 1.   2. ]\n",
      " [ 1.   0.6]\n",
      " [ 1.4  2.3]\n",
      " [ 9.  11. ]\n",
      " [ 1.3  1.5]\n",
      " [ 8.   8. ]\n",
      " [ 1.5  1.8]\n",
      " [ 5.   8. ]]\n",
      "[0 0 0 1 0 1 0 1]\n"
     ]
    }
   ],
   "source": [
    "colors = [\"g.\",\"r.\",\"c.\",\"y.\"]\n",
    "for i in range(len(X)):\n",
    "    plt.plot(X[i][0], X[i][1], colors[labels[i]], markersize = 10)\n",
    "plt.scatter(centroids[:, 0],centroids[:, 1], marker = \"x\", s=50, linewidths = 5, zorder = 10)\n",
    "plt.show()\n",
    "print(X)\n",
    "print(labels)"
   ]
  },
  {
   "cell_type": "code",
   "execution_count": null,
   "metadata": {
    "collapsed": true
   },
   "outputs": [],
   "source": []
  }
 ],
 "metadata": {
  "kernelspec": {
   "display_name": "Python 3",
   "language": "python",
   "name": "python3"
  },
  "language_info": {
   "codemirror_mode": {
    "name": "ipython",
    "version": 3
   },
   "file_extension": ".py",
   "mimetype": "text/x-python",
   "name": "python",
   "nbconvert_exporter": "python",
   "pygments_lexer": "ipython3",
   "version": "3.6.3"
  }
 },
 "nbformat": 4,
 "nbformat_minor": 2
}
