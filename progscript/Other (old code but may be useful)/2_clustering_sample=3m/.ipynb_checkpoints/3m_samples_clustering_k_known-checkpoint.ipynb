{
 "cells": [
  {
   "cell_type": "code",
   "execution_count": 1,
   "metadata": {
    "ExecuteTime": {
     "end_time": "2019-01-07T20:06:50.396847Z",
     "start_time": "2019-01-07T20:06:48.762520Z"
    },
    "collapsed": true
   },
   "outputs": [],
   "source": [
    "# parameters\n",
    "import pickle\n",
    "import com_func\n",
    "\n",
    "def dummy(doc):\n",
    "    return doc\n",
    "\n",
    "Dataset = \"pubmed\"\n",
    "\n",
    "cutoff = 3\n",
    "\n",
    "# only using paper representation, paper ciatation, and paper co_author\n",
    "pp_textual_emb_type = \"pv_dbow\"\n",
    "citation_emb_type = \"n2v\"\n",
    "\n",
    "# other meta data\n",
    "coauthor_emb_type = \"off\"\n",
    "venue_emb_type = \"off\"\n"
   ]
  },
  {
   "cell_type": "code",
   "execution_count": 2,
   "metadata": {
    "ExecuteTime": {
     "end_time": "2019-01-07T20:06:50.449401Z",
     "start_time": "2019-01-07T20:06:50.402326Z"
    },
    "collapsed": true
   },
   "outputs": [],
   "source": [
    "def dummy(doc):\n",
    "    return doc\n",
    "def read_labeled_file(infile):\n",
    "    LabeledRecords_original = []\n",
    "    with open(infile, 'r', encoding = 'utf8') as f:\n",
    "        for line in f:\n",
    "            read_data = line.split(\"\\t\")\n",
    "            # get ride of bad formated lines\n",
    "            if(len(read_data)==13 or len(read_data)==12):\n",
    "                paper_detail = {\"paperID\": read_data[0], \"authorID\":read_data[1], \n",
    "                                \"co-author\": read_data[5], \"venue_id\": read_data[7]}\n",
    "                LabeledRecords_original.append(paper_detail)\n",
    "            else:\n",
    "                print(len(read_data))\n",
    "        f.close()\n",
    "    return pd.DataFrame(LabeledRecords_original)"
   ]
  },
  {
   "cell_type": "code",
   "execution_count": 3,
   "metadata": {
    "ExecuteTime": {
     "end_time": "2019-01-07T20:06:50.598042Z",
     "start_time": "2019-01-07T20:06:50.454847Z"
    },
    "collapsed": true
   },
   "outputs": [],
   "source": [
    "# read trained rec to rec textual graph\n",
    "def read_textual_embedding(Dataset = \"pubmed\", emb_type = \"off\"):\n",
    "    textual_emb = []\n",
    "    while True:\n",
    "        if emb_type == \"pv_dm\":\n",
    "            loadDir = \"../../Data/\"+Dataset+\"/vectors/d2v/textual_sample=3m/extracted_labeled_pv_dm.txt\"\n",
    "            with open(loadDir, 'r', encoding = 'utf8') as f:\n",
    "                for line in f:\n",
    "                    read_data = line.split(\" \")\n",
    "                    paper_Vectors = read_data\n",
    "                    textual_emb.append(paper_Vectors)\n",
    "            f.close()\n",
    "\n",
    "            print(\"Total textual vector records:\",len(textual_emb))\n",
    "            print(textual_emb[0])\n",
    "            break\n",
    "        elif emb_type == \"pv_dbow\":\n",
    "            loadDir = \"../../Data/\"+Dataset+\"/vectors/d2v/textual_sample=3m/extracted_labeled_pv_dbow.txt\"\n",
    "            with open(loadDir, 'r', encoding = 'utf8') as f:\n",
    "                for line in f:\n",
    "                    read_data = line.split(\" \")\n",
    "                    paper_Vectors = read_data\n",
    "                    textual_emb.append(paper_Vectors)\n",
    "            f.close()\n",
    "            \n",
    "            print(\"Total textual vector records:\",len(textual_emb))\n",
    "            print(textual_emb[0])\n",
    "            break\n",
    "        elif emb_type == \"off\":\n",
    "            break\n",
    "        else:\n",
    "            print(\"Embedding type not available, selecting default setting\")\n",
    "            emb_type=\"pv_dbow\"\n",
    "    return textual_emb"
   ]
  },
  {
   "cell_type": "code",
   "execution_count": 4,
   "metadata": {
    "ExecuteTime": {
     "end_time": "2019-01-07T20:06:50.675438Z",
     "start_time": "2019-01-07T20:06:50.602794Z"
    },
    "collapsed": true
   },
   "outputs": [],
   "source": [
    "# read trained rec to rec node2vec citation graph\n",
    "def read_citation_embedding(Dataset = \"pubmed\", emb_type = \"off\"):\n",
    "    citation_emb = []\n",
    "    while True:\n",
    "        if emb_type == \"n2v\":\n",
    "            citation_emb_dir = \"../../Data/\"+Dataset+\"/vectors/\"+emb_type+\"/extracted_labeled_n2v.txt\"\n",
    "            with open(citation_emb_dir, 'r', encoding = 'utf8') as f:\n",
    "                for line in f:\n",
    "                    read_data = line.split(\" \")\n",
    "                    if(len(read_data)==101):\n",
    "                        paper_Vectors = read_data\n",
    "                        citation_emb.append(paper_Vectors)\n",
    "            f.close()\n",
    "            print(\"Total citation vector records:\",len(citation_emb))\n",
    "            print(citation_emb[:3])\n",
    "            break\n",
    "        elif emb_type == \"off\":\n",
    "            break\n",
    "        else:\n",
    "            print(\"Embedding type not available, selecting default setting\")\n",
    "            emb_type=\"off\"\n",
    "    return citation_emb"
   ]
  },
  {
   "cell_type": "code",
   "execution_count": 5,
   "metadata": {
    "ExecuteTime": {
     "end_time": "2019-01-07T20:06:50.733717Z",
     "start_time": "2019-01-07T20:06:50.680166Z"
    },
    "collapsed": true
   },
   "outputs": [],
   "source": [
    "def extract_embedding(all_embedding, pid):\n",
    "    extracted_emb = []\n",
    "    wanted_pid = pid.values.tolist()\n",
    "    # only if embedding exist\n",
    "    if len(all_embedding)>0:\n",
    "        for paper_embedding in all_embedding:\n",
    "            if paper_embedding[0] in wanted_pid:\n",
    "                extracted_emb.append(paper_embedding)\n",
    "    \n",
    "    extracted_emb = pd.DataFrame(extracted_emb)\n",
    "    # only if embedding exist\n",
    "    if len(all_embedding)>0:\n",
    "        # reorder embedding with pid and fill empty record with 0\n",
    "        extracted_emb = pd.merge(pid.to_frame(), extracted_emb, left_on='paperID', right_on=0, how='outer')\n",
    "        # fill missing value with 0\n",
    "        extracted_emb.fillna(0, inplace = True)\n",
    "        # remove index\n",
    "        extracted_emb.drop(['paperID', 0], axis=1, inplace=True)\n",
    "    return extracted_emb"
   ]
  },
  {
   "cell_type": "code",
   "execution_count": 6,
   "metadata": {
    "ExecuteTime": {
     "end_time": "2019-01-07T20:06:51.033181Z",
     "start_time": "2019-01-07T20:06:51.006685Z"
    },
    "collapsed": true
   },
   "outputs": [],
   "source": [
    "def LSA(cleaned_token, dim=100):\n",
    "    # Tf-idf Transformation\n",
    "    tfidf_vectorizer = TfidfVectorizer(use_idf=True, smooth_idf=True, sublinear_tf=True, tokenizer=dummy,\n",
    "                                               preprocessor=dummy, stop_words = None,min_df=cutoff)\n",
    "    tfidfMatrix = tfidf_vectorizer.fit_transform(cleaned_token).toarray()\n",
    "    # tf-idf + svd\n",
    "    svd = TruncatedSVD(n_components=dim)\n",
    "    final_lsa_Matrix = svd.fit_transform(tfidfMatrix)\n",
    "    print(svd.explained_variance_ratio_.sum())\n",
    "    return final_lsa_Matrix"
   ]
  },
  {
   "cell_type": "code",
   "execution_count": 7,
   "metadata": {
    "ExecuteTime": {
     "end_time": "2019-01-07T20:06:51.710348Z",
     "start_time": "2019-01-07T20:06:51.660742Z"
    },
    "collapsed": true
   },
   "outputs": [],
   "source": [
    "# co-author relation to emb\n",
    "def co_author_to_vector(raw_co_author_data, emb_type=\"off\"):\n",
    "    while True:\n",
    "        if emb_type == \"tf\":\n",
    "            co_author_vectorizer = TfidfVectorizer(use_idf=False, sublinear_tf=False, norm=None, \n",
    "                                                   min_df=0, analyzer='word', stop_words = None)\n",
    "            print(co_author_vectorizer)\n",
    "            result_vector = co_author_vectorizer.fit_transform(raw_co_author_data).toarray()\n",
    "            #print(co_author_vectorizer.get_feature_names())\n",
    "            #print(len(co_author_vectorizer.vocabulary_))\n",
    "            break\n",
    "        elif emb_type == \"off\":\n",
    "            result_vector = pd.DataFrame()\n",
    "            break\n",
    "        else:\n",
    "            print(\"Embedding type not available, selecting default setting\")\n",
    "            emb_type=\"tf\"\n",
    "    return result_vector"
   ]
  },
  {
   "cell_type": "code",
   "execution_count": 8,
   "metadata": {
    "ExecuteTime": {
     "end_time": "2019-01-07T20:06:52.200435Z",
     "start_time": "2019-01-07T20:06:52.159951Z"
    },
    "collapsed": true
   },
   "outputs": [],
   "source": [
    "# author-venue relation to emb\n",
    "def venue_to_vector(raw_venue_id, emb_type=\"off\"):\n",
    "    while True:\n",
    "        if emb_type == \"tf\":\n",
    "            venue_vectorizer = TfidfVectorizer(use_idf=False, sublinear_tf=False, norm=None, \n",
    "                                       min_df=0, analyzer='word', stop_words = None)\n",
    "            result_vector = venue_vectorizer.fit_transform(raw_venue_id).toarray()\n",
    "            #print(len(venue_vectorizer.vocabulary_))\n",
    "            break\n",
    "        elif emb_type == \"off\":\n",
    "            result_vector = pd.DataFrame()\n",
    "            break\n",
    "        else:\n",
    "            print(\"Embedding type not available, selecting default setting\")\n",
    "            emb_type=\"tf\"\n",
    "    return result_vector"
   ]
  },
  {
   "cell_type": "code",
   "execution_count": 9,
   "metadata": {
    "ExecuteTime": {
     "end_time": "2019-01-07T20:06:53.396433Z",
     "start_time": "2019-01-07T20:06:53.290850Z"
    },
    "collapsed": true
   },
   "outputs": [],
   "source": [
    "def pairwise_f1(true_label, pred_label):\n",
    "    # predictions that are positive, TP+FP\n",
    "    pred_pos = 0\n",
    "    # conditions that are positive, TP+FN\n",
    "    cond_pos = 0\n",
    "    # Pairs Correctly Predicted To SameAuthor, TP\n",
    "    tp = 0\n",
    "    for i in range(len(true_label)):\n",
    "        for j in range(i + 1, len(true_label)):\n",
    "            if pred_label[i] == pred_label[j]:\n",
    "                pred_pos +=1\n",
    "            if true_label[i] == true_label[j]:\n",
    "                cond_pos +=1\n",
    "            if (true_label[i] == true_label[j]) and (pred_label[i] == pred_label[j]):\n",
    "                tp +=1\n",
    "    print(\"tp: \", tp)\n",
    "    print(\"tp+fp: \", pred_pos)\n",
    "    print(\"tp+fn:\", cond_pos)\n",
    "    # calculate pairwise f1 score\n",
    "    if tp == 0:\n",
    "        pairwise_precision = 0\n",
    "        pairwise_recall = 0\n",
    "        pairwise_f1 = 0\n",
    "    else:\n",
    "        pairwise_precision = tp / pred_pos\n",
    "        pairwise_recall = tp / cond_pos\n",
    "        pairwise_f1 = (2 * pairwise_precision * pairwise_recall) / (pairwise_precision + pairwise_recall)\n",
    "        \n",
    "    return pairwise_f1, pairwise_precision, pairwise_recall, pred_pos, cond_pos, tp"
   ]
  },
  {
   "cell_type": "code",
   "execution_count": 10,
   "metadata": {
    "ExecuteTime": {
     "end_time": "2019-01-07T20:06:59.643613Z",
     "start_time": "2019-01-07T20:06:54.135685Z"
    }
   },
   "outputs": [
    {
     "name": "stdout",
     "output_type": "stream",
     "text": [
      "Total textual vector records: 135796\n",
      "['8077', '-0.14659140', '-0.16460477', '-0.50664663', '-0.17956261', '0.21054362', '0.26002276', '0.15514752', '0.13244890', '-0.27113414', '0.47227725', '0.07357255', '-0.08964530', '0.35950011', '0.37851566', '-0.04907404', '0.56523114', '-0.60256726', '-0.21556917', '-0.09287039', '-0.18874674', '0.59881312', '-0.32156968', '0.39462098', '0.35133442', '0.08628392', '-0.04479222', '0.25453219', '0.23234852', '-0.10687385', '-0.00707190', '-0.11578006', '0.06657255', '0.19292782', '0.09975667', '-0.04673584', '0.47342294', '0.50503510', '-0.13644342', '0.35020310', '0.27452260', '0.45986831', '0.72157681', '-0.08654509', '-0.36922029', '-0.28984016', '0.26503867', '-0.14659104', '0.19001262', '-0.24055083', '0.10608102', '-0.21904105', '-0.02745518', '-0.27935785', '0.67074525', '0.57324684', '0.16567072', '-0.12955795', '-0.73991919', '0.20633785', '-0.13949864', '0.07348444', '-0.45851952', '-0.28298637', '0.65005982', '-0.16004808', '-0.33634639', '0.71481329', '-0.08647151', '0.61378562', '0.84790415', '-0.40871361', '0.43062189', '0.01380008', '0.81693238', '0.22439685', '-0.32138148', '0.39291272', '0.71506411', '0.03570956', '0.02829047', '0.04145329', '-0.13109712', '0.35155740', '-0.21288362', '0.19800952', '0.07500107', '-0.23002854', '0.24881081', '-0.33990535', '0.12203706', '-0.18824810', '0.12419476', '-0.09093910', '0.54129761', '-0.43786141', '0.05272437', '0.42604834', '-0.60860509', '0.29351130', '0.69737893\\n']\n",
      "Total citation vector records: 124922\n",
      "[['8077', '0.074837', '0.437304', '0.157833', '0.179944', '-0.0696371', '-0.0925071', '-0.37209', '0.16441', '0.257381', '0.482553', '0.420752', '0.294299', '0.48322', '0.310536', '0.451489', '-0.0321524', '-0.266308', '-0.507235', '0.302519', '-0.192578', '-0.196128', '-0.716089', '0.118927', '0.130549', '0.0538411', '-0.36721', '0.320577', '0.107628', '0.437685', '0.261019', '-0.134182', '0.467584', '-0.433934', '-0.337566', '-0.112999', '0.131627', '0.185436', '-0.0716854', '0.222004', '-0.296244', '0.0662622', '0.209887', '-0.177259', '-0.202866', '0.206727', '-0.0535898', '-0.0832955', '0.00406953', '-0.13292', '-0.0853675', '-0.241761', '-0.327425', '-0.46692', '0.0485383', '0.00806723', '0.0284221', '0.115838', '-0.255672', '-0.770949', '0.0873891', '0.00681434', '0.0626846', '-0.0590345', '0.299776', '-0.173271', '-0.00270774', '-0.498401', '-0.222046', '0.321921', '0.0837049', '-0.0501312', '-0.284909', '0.274566', '0.0670506', '0.0773459', '0.24957', '-0.0768505', '0.0357878', '-0.197779', '-0.110859', '-0.0586628', '-0.371421', '-0.331327', '-0.184969', '0.347994', '-0.535585', '0.136484', '0.606065', '-0.34836', '-0.153024', '0.264854', '-0.347494', '0.0979302', '0.352819', '0.116963', '-0.428671', '-0.203673', '0.340799', '-0.153595', '0.333619\\n'], ['17755', '0.117789', '0.0381872', '0.140725', '0.0353051', '0.0743335', '-0.0230412', '-0.142969', '0.133352', '0.0249408', '0.174816', '0.0710962', '-0.0186644', '0.131927', '-0.0813431', '0.00454495', '0.0411643', '-0.211366', '-0.334071', '0.122605', '0.0906733', '-0.0945511', '-0.204131', '0.0216074', '0.050275', '-0.0138835', '-0.00201036', '0.181787', '0.0625838', '0.163003', '-0.060977', '-0.099711', '0.199833', '-0.257413', '-0.20593', '-0.148003', '-0.0193572', '0.127712', '-0.00496556', '0.203692', '-0.0632423', '-0.085105', '0.111502', '0.0563165', '-0.150758', '0.130987', '-0.24935', '-0.0698974', '-0.159101', '-0.0325247', '0.112569', '-0.0933885', '0.0523473', '-0.311551', '-0.0534642', '-0.0335219', '0.0381494', '0.0325196', '0.0200638', '-0.25958', '0.116856', '-0.00533538', '0.015437', '-0.122961', '0.0405297', '-0.0402108', '-0.0648276', '-0.280718', '-0.0610803', '0.235437', '-0.154469', '0.040941', '0.0660014', '0.0144551', '0.0697055', '0.0861819', '0.22364', '-0.108656', '-0.159732', '0.0263292', '0.0976405', '0.0357826', '-0.0407278', '-0.109561', '-0.0477482', '0.0600652', '-0.244403', '0.0708506', '0.206281', '-0.0660206', '-0.246335', '0.0559538', '-0.250907', '-0.0278802', '0.138755', '-0.0880744', '-0.158979', '-0.0278477', '0.176379', '-0.0994503', '0.134535\\n'], ['28220', '-0.168945', '0.0421443', '0.23792', '0.0796514', '0.19611', '0.0638499', '-0.513983', '0.205836', '0.190542', '0.415064', '0.377228', '0.0176192', '0.152356', '-0.114991', '0.357162', '-0.296283', '0.0681007', '-0.204847', '0.135245', '-0.00781574', '-0.12612', '-0.143662', '-0.0130079', '0.185709', '-0.0763587', '0.0492441', '0.054612', '0.0511256', '0.134606', '0.117456', '-0.231842', '0.0450055', '-0.302675', '-0.0223345', '-0.055917', '-0.261424', '0.105746', '0.104476', '0.183511', '0.0450612', '-0.373329', '0.144302', '0.148158', '0.0699681', '0.270498', '0.0455624', '-0.120792', '-0.172808', '-0.161062', '-0.000496539', '-0.128889', '-0.0161444', '-0.246482', '-0.0448989', '-0.0789056', '-0.15212', '0.111224', '-0.161332', '-0.259847', '0.00823854', '0.0212978', '-0.0829648', '-0.224326', '0.337475', '0.153362', '0.0231983', '-0.138663', '-0.102745', '0.195753', '-0.16937', '-0.350263', '0.134394', '0.228506', '0.375576', '0.115358', '0.228747', '-0.235889', '-0.278699', '-0.151732', '-0.0599872', '0.130166', '-0.0182416', '-0.0320656', '-0.245937', '0.20861', '0.173579', '0.0255497', '0.0826704', '-0.169168', '-0.154122', '0.0454759', '-0.219318', '0.0486723', '0.349938', '0.118215', '-0.281961', '0.0711244', '0.166005', '0.0144367', '0.393137\\n']]\n"
     ]
    }
   ],
   "source": [
    "# read pretrained embeddings\n",
    "all_textual_embedding = read_textual_embedding(emb_type = pp_textual_emb_type)\n",
    "all_citation_embedding = read_citation_embedding(emb_type = citation_emb_type)"
   ]
  },
  {
   "cell_type": "code",
   "execution_count": 11,
   "metadata": {
    "ExecuteTime": {
     "end_time": "2019-01-07T20:06:59.658827Z",
     "start_time": "2019-01-07T20:06:59.645747Z"
    },
    "collapsed": true
   },
   "outputs": [],
   "source": [
    "# predefined cos_sim\n",
    "def self_pairwise_cosine(in_matrix):\n",
    "    \"\"\"Takes matrix and returns the cosine similarity between each pairs\n",
    "    \"\"\"\n",
    "    final_sim = []\n",
    "    for row in in_matrix:\n",
    "        dot_product = np.dot(in_matrix, row)\n",
    "        print(dot_product)\n",
    "        row_norm = np.linalg.norm(row)\n",
    "        matrix_norm = np.linalg.norm(in_matrix, axis = 1)\n",
    "        print(row_norm)\n",
    "        print(matrix_norm)\n",
    "        final_sim.append(dot_product / (row_norm * matrix_norm))\n",
    "    return final_sim"
   ]
  },
  {
   "cell_type": "code",
   "execution_count": 12,
   "metadata": {
    "ExecuteTime": {
     "end_time": "2019-01-07T20:06:59.918164Z",
     "start_time": "2019-01-07T20:06:59.661305Z"
    },
    "collapsed": true
   },
   "outputs": [],
   "source": [
    "# Principal Component Analysis (PCA) applied to this data identifies the combination of attributes\n",
    "# (principal components, or directions in the feature space) that account for the most variance in the data.\n",
    "from sklearn.decomposition import PCA\n",
    "import matplotlib.pyplot as plt\n",
    "def visualizeWithPCA(data, label, plot_title, plotSavingPath, name):\n",
    "    if not os.path.exists(plotSavingPath):\n",
    "        os.makedirs(plotSavingPath)\n",
    "    # pca on input data\n",
    "    pca = PCA(n_components=2)\n",
    "    pca_transformed = pca.fit_transform(X=data)\n",
    "    print(pca_transformed[:3])\n",
    "    print(label[:3])\n",
    "    pca_one = pca_transformed[:,0]\n",
    "    pca_two = pca_transformed[:,1]\n",
    "    # plot to show\n",
    "    fig, ax = plt.subplots(figsize=(9,7))\n",
    "    for author in np.unique(label):\n",
    "        ix = np.where(label == author)\n",
    "        ax.set_title(plot_title, fontsize=18)\n",
    "        ax.scatter(pca_one[ix], pca_two[ix], cmap='viridis', label = author, s = 50)\n",
    "    ax.legend()\n",
    "    plt.xlabel(\"PCA one\")\n",
    "    plt.ylabel(\"PCA two\")\n",
    "    plt.show()\n",
    "    plt.savefig((plotSavingPath+name+\"_PCA.png\").encode('utf-8'))"
   ]
  },
  {
   "cell_type": "code",
   "execution_count": 13,
   "metadata": {
    "ExecuteTime": {
     "end_time": "2019-01-07T20:06:59.974969Z",
     "start_time": "2019-01-07T20:06:59.920275Z"
    },
    "collapsed": true
   },
   "outputs": [],
   "source": [
    "from sklearn.manifold import TSNE\n",
    "from sklearn.preprocessing import Normalizer\n",
    "def visualizeWithTSNE(data, label, plot_title, plotSavingPath, name):\n",
    "    if not os.path.exists(plotSavingPath):\n",
    "        os.makedirs(plotSavingPath)\n",
    "    # TSNE\n",
    "    tsne_transformed = TSNE(n_components=2).fit_transform(data)\n",
    "    print(tsne_transformed[:3])\n",
    "    tsne_transformed_normalized = Normalizer(norm='l2').fit_transform(tsne_transformed)\n",
    "    print(tsne_transformed_normalized[:3])\n",
    "    tsne_one = tsne_transformed_normalized[:,0]\n",
    "    tsne_two = tsne_transformed_normalized[:,1]\n",
    "    # plot to show\n",
    "    fig, ax = plt.subplots(figsize=(9,7))\n",
    "    for author in np.unique(label):\n",
    "        ix = np.where(label == author)\n",
    "        ax.set_title(plot_title, fontsize=18)\n",
    "        ax.scatter(tsne_one[ix], tsne_two[ix], cmap='viridis', label = author, s = 50)\n",
    "    ax.legend()\n",
    "    plt.xlabel(\"TSNE one\")\n",
    "    plt.ylabel(\"TSNE two\")\n",
    "    plt.show()\n",
    "    plt.savefig((plotSavingPath+name+\"_TSNE.png\").encode('utf-8'))"
   ]
  },
  {
   "cell_type": "code",
   "execution_count": 14,
   "metadata": {
    "ExecuteTime": {
     "end_time": "2019-01-07T20:07:35.121134Z",
     "start_time": "2019-01-07T20:07:27.731377Z"
    }
   },
   "outputs": [
    {
     "name": "stdout",
     "output_type": "stream",
     "text": [
      "For author group name:  j_read\n",
      "Counter({'0000-0002-5159-1192': 57, '0000-0002-9029-5185': 39, '0000-0002-9697-0962': 31, '0000-0002-4739-9245': 3, '0000-0003-0605-5259': 3, '0000-0003-4316-7006': 1, '0000-0002-0784-0091': 1, '0000-0002-3888-6631': 1})\n",
      "(0, 0)\n",
      "(0, 0)\n",
      "(136, 100)\n",
      "(136, 100)\n",
      "2\n",
      "(136, 200)\n",
      "[[-0.66868838 -1.19184916]\n",
      " [-0.13001965 -1.95952197]\n",
      " [-0.90903026 -0.62178762]]\n",
      "[5 5 5]\n"
     ]
    },
    {
     "data": {
      "image/png": "[encoded data removed]",
      "text/plain": [
       "<matplotlib.figure.Figure at 0x7fa890081710>"
      ]
     },
     "metadata": {},
     "output_type": "display_data"
    },
    {
     "name": "stdout",
     "output_type": "stream",
     "text": [
      "[[-3.5639136  4.6156154]\n",
      " [-3.3969262  2.999952 ]\n",
      " [-2.2021918  6.6792207]]\n",
      "[[-0.6111577   0.7915088 ]\n",
      " [-0.7495461   0.6619521 ]\n",
      " [-0.31312728  0.9497112 ]]\n"
     ]
    },
    {
     "data": {
      "text/plain": [
       "<matplotlib.figure.Figure at 0x7fa7704b2518>"
      ]
     },
     "metadata": {},
     "output_type": "display_data"
    },
    {
     "data": {
      "image/png": "[encoded data removed]",
      "text/plain": [
       "<matplotlib.figure.Figure at 0x7fa8711e4cc0>"
      ]
     },
     "metadata": {},
     "output_type": "display_data"
    },
    {
     "name": "stdout",
     "output_type": "stream",
     "text": [
      "[1.         0.44865222 0.49396111 0.4633784  0.52953625 0.24163859\n",
      " 0.51612811 0.47891581 0.60119287 0.41118799 0.4068945  0.29668199\n",
      " 0.50759537 0.5958764  0.53695186 0.38174963 0.53626688 0.48972181\n",
      " 0.69332794 0.45491135 0.55552337 0.63742893 0.45854712 0.48483384\n",
      " 0.51092784 0.48921739 0.47767874 0.48237562 0.28085154 0.26960066\n",
      " 0.4252849  0.33174829 0.35995656 0.26743464 0.36533158 0.35946494\n",
      " 0.40524744 0.18952717 0.3447094  0.3256024  0.10995841 0.34541666\n",
      " 0.1868808  0.17214157 0.41246666 0.35273078 0.31053864 0.38109666\n",
      " 0.22257695 0.20525341 0.43642101 0.23423977 0.33063048 0.31837345\n",
      " 0.2808902  0.31134275 0.29725915 0.35306261 0.31464806 0.46360658\n",
      " 0.14733671 0.32745961 0.41270776 0.23065077 0.37936271 0.33136218\n",
      " 0.30470081 0.33770677 0.27496085 0.39383815 0.32011771 0.21689226\n",
      " 0.30601921 0.28381427 0.30636816 0.14880848 0.23163204 0.28069853\n",
      " 0.40407826 0.32314501 0.31831963 0.28668681 0.32030129 0.3562627\n",
      " 0.36151381 0.28126411 0.24640877 0.32224499 0.23129734 0.26177526\n",
      " 0.26478485 0.25053874 0.38054494 0.33468848 0.1596968  0.33164569\n",
      " 0.49239373 0.31267628 0.3652274  0.35476997 0.3729131  0.3427889\n",
      " 0.29038509 0.31746852 0.20537986 0.22643548 0.23578552 0.37577691\n",
      " 0.20742496 0.45046288 0.35495805 0.22632733 0.19149182 0.39345282\n",
      " 0.30482974 0.16218952 0.14554498 0.35910916 0.29320208 0.39643887\n",
      " 0.36462419 0.22616256 0.2730492  0.15113219 0.33838219 0.3201322\n",
      " 0.28088493 0.29366829 0.32169793 0.22457623 0.2551675  0.08212185\n",
      " 0.27295132 0.33351707 0.35190158 0.25351334]\n",
      "tp:  1029\n",
      "tp+fp:  1524\n",
      "tp+fn: 2808\n",
      "tp:  1552\n",
      "tp+fp:  1779\n",
      "tp+fn: 2808\n",
      "[2 2 4 4 2 2 2 2 4 4 2 2 4 4 4 2 4 4 4 4 4 4 4 4 4 4 4 4 2 2 4 5 5 1 5 1 1\n",
      " 7 1 5 7 1 7 7 7 1 5 5 7 7 7 7 5 5 5 5 5 7 5 7 2 5 5 7 5 5 5 5 5 7 2 0 4 6\n",
      " 6 2 6 6 3 2 6 6 6 6 3 2 6 6 2 6 2 6 3 2 2 3 6 3 3 2 3 6 6 3 2 2 2 6 2 2 3\n",
      " 6 2 3 2 2 2 3 6 3 3 6 3 2 3 6 3 2 3 2 2 2 2 4 2 2]\n",
      "[1 7 1 7 7 4 7 1 1 1 4 7 1 1 1 7 1 1 1 1 1 1 1 1 1 1 1 1 4 1 1 5 5 0 5 0 7\n",
      " 2 5 5 2 5 2 2 2 4 5 5 2 2 2 2 6 5 5 5 5 2 5 2 6 5 5 2 5 5 5 5 5 2 7 7 4 0\n",
      " 6 4 0 0 6 3 3 0 0 0 6 6 3 0 6 0 6 0 6 3 3 6 6 6 6 6 6 0 0 6 3 6 6 6 0 3 6\n",
      " 0 2 6 3 4 3 0 0 6 6 0 6 3 6 0 6 3 6 3 7 7 3 4 4 4]\n",
      "[3 6 3 6 6 7 6 3 3 3 3 6 3 3 3 6 3 3 3 3 3 3 3 3 3 3 3 3 0 3 3 1 1 1 1 1 1\n",
      " 1 1 1 1 1 1 1 1 3 1 1 1 1 1 1 4 1 1 1 1 1 1 1 4 1 1 1 1 1 1 1 1 1 5 2 3 2\n",
      " 5 2 5 2 5 2 2 5 2 2 5 5 2 5 0 5 4 2 5 5 2 5 2 5 5 5 5 5 5 5 0 5 0 5 2 5 5\n",
      " 5 0 5 0 0 2 5 2 5 5 2 5 2 5 2 5 2 5 2 5 7 5 3 3 0]\n",
      "[5 5 5 5 5 5 5 5 5 5 5 5 5 5 5 5 5 5 5 5 5 5 5 5 5 5 5 5 5 5 5 4 4 4 4 4 4\n",
      " 4 4 4 4 4 4 4 4 4 4 4 4 4 4 4 4 4 4 4 4 4 4 4 4 4 4 4 4 4 4 4 4 4 7 0 1 3\n",
      " 3 3 3 3 3 3 3 3 3 3 3 3 3 3 3 3 3 3 3 3 3 3 3 3 3 3 3 3 3 3 3 3 3 3 3 3 3\n",
      " 3 3 3 3 3 3 3 3 3 3 3 3 3 3 3 3 3 3 3 2 2 2 6 6 6]\n",
      "k_mean pf1:  (0.47506925207756234, 0.6751968503937008, 0.36645299145299143)\n",
      "hierarchical_cluster_pf1:  (0.6766950076302594, 0.8724002248454188, 0.5527065527065527)\n"
     ]
    }
   ],
   "source": [
    "# load the file\n",
    "import sys\n",
    "import io\n",
    "import os\n",
    "import collections\n",
    "import numpy as np\n",
    "import pandas as pd\n",
    "from sklearn import preprocessing\n",
    "from sklearn.decomposition import TruncatedSVD\n",
    "from sklearn.preprocessing import StandardScaler\n",
    "from sklearn.cluster import KMeans, SpectralClustering, AgglomerativeClustering\n",
    "from sklearn.manifold import TSNE\n",
    "from sklearn.metrics import confusion_matrix\n",
    "from sklearn.metrics import accuracy_score\n",
    "\n",
    "fileDir = \"../Data/\"+Dataset+\"/canopies_labeled/\"\n",
    "listfiles = os.listdir(fileDir)\n",
    "\n",
    "# fix random seed for reproducibility\n",
    "np.random.seed(1)\n",
    "\n",
    "# collect statistic to output\n",
    "allname = []\n",
    "num_class = []\n",
    "per_class_count = []\n",
    "\n",
    "all_kmean_Pf1 = []\n",
    "all_spectral_Pf1 = []\n",
    "all_hierarchical_Pf1 = []\n",
    "\n",
    "# collect model pairwise f1\n",
    "\n",
    "\n",
    "# read all file in labeled group\n",
    "for file in listfiles:\n",
    "    le = preprocessing.LabelEncoder()\n",
    "    # get author group name\n",
    "    temp = file.split(\"_\")\n",
    "    author_group_name = temp[1]+\"_\"+temp[-1]\n",
    "    print(\"For author group name: \",author_group_name)\n",
    "    allname.append(author_group_name)\n",
    "    # read needed content in labeled file\n",
    "    labeled_data = read_labeled_file(fileDir+file)\n",
    "    # count number of paper each author write based on author ID\n",
    "    paperCounter = collections.Counter(labeled_data[\"authorID\"])\n",
    "    print(paperCounter)\n",
    "    temp =list(paperCounter.keys())\n",
    "    # set k in clustering algorithm that need k\n",
    "    k = len(paperCounter)\n",
    "    num_class.append(k)\n",
    "    per_class_count.append(paperCounter)\n",
    "    if k<=1:\n",
    "        all_kmean_Pf1.append(\"Not applicable\")\n",
    "        all_spectral_Pf1.append(\"Not applicable\")\n",
    "        all_hierarchical_Pf1.append(\"Not applicable\")\n",
    "    else:\n",
    "        # extract true label and pid\n",
    "        true_label = le.fit_transform(labeled_data[\"authorID\"])\n",
    "        pid = labeled_data[\"paperID\"]\n",
    "        # list of different data field\n",
    "        part_collection = []\n",
    "        # select feature wanted to fit to clustering/classification algorithm\n",
    "        # data part 1, co-author matrix\n",
    "        data_part_co_author = co_author_to_vector(labeled_data[\"co-author\"], emb_type=coauthor_emb_type)\n",
    "        print(data_part_co_author.shape)\n",
    "        part_collection.append(data_part_co_author)\n",
    "        # data part 2, venue_id that author attendent\n",
    "        data_part_venue = venue_to_vector(labeled_data[\"venue_id\"], emb_type=venue_emb_type)\n",
    "        print(data_part_venue.shape)\n",
    "        part_collection.append(data_part_venue)\n",
    "        # data part 3, extract textual embedding\n",
    "        data_part_textual = extract_embedding(all_textual_embedding, pid)\n",
    "        print(data_part_textual.shape)\n",
    "        part_collection.append(data_part_textual)\n",
    "        # data part 4, read citation embedding \n",
    "        data_part_citation = extract_embedding(all_citation_embedding, pid)\n",
    "        print(data_part_citation.shape)\n",
    "        part_collection.append(data_part_citation)\n",
    "        # merge different part of data data together by concatenate it all together\n",
    "        # remove empty emb (when emb set off)\n",
    "        part_collection = [part for part in part_collection if len(part)!=0]\n",
    "        print(len(part_collection))\n",
    "        if len(part_collection)>1:\n",
    "            combinedata = np.concatenate(part_collection,axis=1)\n",
    "        elif len(part_collection)==1:\n",
    "            if isinstance(part_collection[0], pd.DataFrame):\n",
    "                combinedata = part_collection[0].values\n",
    "            else:\n",
    "                combinedata = part_collection[0]\n",
    "        else:\n",
    "            print(\"No data available\")\n",
    "            break\n",
    "        # convert type to float\n",
    "        print(combinedata.shape)\n",
    "        combinedata = combinedata.astype(np.float)\n",
    "        # scale the data right after they been generated\n",
    "        scaler = StandardScaler()\n",
    "        scaler.fit_transform(combinedata)\n",
    "        # print(combinedata[0])\n",
    "        \n",
    "#         # plot true graph \n",
    "#         visualizeWithPCA(combinedata, true_label, plot_title = 'Data applied PCA with ground truth labels', \n",
    "#                          plotSavingPath = \"../plot/3m_sample/\", name=author_group_name)\n",
    "#         visualizeWithTSNE(combinedata, true_label, plot_title = 'Data applied TSNE with ground truth labels', \n",
    "#                          plotSavingPath = \"../plot/3m_sample/\", name=author_group_name)\n",
    "        \n",
    "        # using converted feature vector to form cluster\n",
    "        # assume k (# of authors) is known\n",
    "        # k-means baseline\n",
    "        kmeans = KMeans(n_clusters=k).fit(combinedata)\n",
    "        kmeans_label_pred = kmeans.predict(combinedata)\n",
    "        # SpectralClustering\n",
    "        spectralcluster = SpectralClustering(n_clusters=k, assign_labels=\"discretize\", affinity = \"cosine\")\n",
    "        try:\n",
    "            spectral_label_pred = spectralcluster.fit_predict(combinedata)\n",
    "        except ValueError:\n",
    "            print(\"each point is cluster, not process needed\")\n",
    "            print(spectral_label_pred)\n",
    "            \n",
    "        # hierarchical clustering\n",
    "        hierarchicalcluster = AgglomerativeClustering(n_clusters = k, linkage = \"complete\", affinity = \"cosine\")\n",
    "        hierarchicalcluster_label_pred = hierarchicalcluster.fit_predict(combinedata)\n",
    "        # test\n",
    "        print(spectralcluster.affinity_matrix_[0])\n",
    "        #print(hierarchicalcluster.children_  )\n",
    "        # prediction result\n",
    "        # pairwise f1\n",
    "        k_means_pairwise_f1_score = pairwise_f1(true_label, kmeans_label_pred)\n",
    "        #spectral_pairwise_f1_score = pairwise_f1(true_label, spectral_label_pred)\n",
    "        hierarchicalcluster_pairwise_f1_score = pairwise_f1(true_label, hierarchicalcluster_label_pred)\n",
    "        print(kmeans_label_pred)\n",
    "        print(spectral_label_pred)\n",
    "        print(hierarchicalcluster_label_pred)\n",
    "        print(true_label)\n",
    "        print(\"k_mean pf1: \",k_means_pairwise_f1_score[:3])\n",
    "        #print(\"spectral_cluster_pf1: \",spectral_pairwise_f1_score)\n",
    "        print(\"hierarchical_cluster_pf1: \", hierarchicalcluster_pairwise_f1_score[:3])\n",
    "        all_kmean_Pf1.append(k_means_pairwise_f1_score[:3])\n",
    "        #all_spectral_Pf1.append(spectral_pairwise_f1_score)\n",
    "        all_hierarchical_Pf1.append(hierarchicalcluster_pairwise_f1_score[:3])\n",
    "        break\n",
    "        \n",
    "# # write evaluation result to excel\n",
    "# output = pd.DataFrame({'Name Group':allname,\"Cluster number\":num_class, \"per_cluster_size\":per_class_count,\n",
    "#                        \"k_mean Pairwise f1, precision, recall\":all_kmean_Pf1,\n",
    "#                        #\"spectral Pairwise f1, precision, recall\":all_spectral_Pf1,\n",
    "#                        \"hierarchical Pairwise f1, precision, recall\":all_hierarchical_Pf1})\n",
    "# filename = \"textual=\"+pp_textual_emb_type+\"_citation=\"+citation_emb_type+\"name_cluster_author_known\"+\".csv\"\n",
    "# output.to_csv(\"../result/\"+Dataset+\"/clustering/\"+filename, encoding='utf-8',index=False)\n",
    "# print(\"Done\")"
   ]
  },
  {
   "cell_type": "code",
   "execution_count": 25,
   "metadata": {
    "ExecuteTime": {
     "end_time": "2018-12-14T12:59:23.259008Z",
     "start_time": "2018-12-14T12:59:23.242022Z"
    }
   },
   "outputs": [
    {
     "name": "stdout",
     "output_type": "stream",
     "text": [
      "1130\n",
      "1130\n",
      "0.5742210345772939\n",
      "0.7195311214092436\n"
     ]
    }
   ],
   "source": [
    "# pairwise f1\n",
    "from statistics import mean \n",
    "cleaned_kmean_Pf1 = [x[0] for x in all_kmean_Pf1 if isinstance(x[0], float)]\n",
    "cleaned_hierarchical_Pf1 = [x[0] for x in all_hierarchical_Pf1 if isinstance(x[0], float)]\n",
    "print(len(cleaned_kmean_Pf1))\n",
    "print(len(cleaned_hierarchical_Pf1))\n",
    "print(mean(cleaned_kmean_Pf1))\n",
    "print(mean(cleaned_hierarchical_Pf1))"
   ]
  },
  {
   "cell_type": "code",
   "execution_count": null,
   "metadata": {
    "collapsed": true
   },
   "outputs": [],
   "source": []
  }
 ],
 "metadata": {
  "kernelspec": {
   "display_name": "Python 3",
   "language": "python",
   "name": "python3"
  },
  "language_info": {
   "codemirror_mode": {
    "name": "ipython",
    "version": 3
   },
   "file_extension": ".py",
   "mimetype": "text/x-python",
   "name": "python",
   "nbconvert_exporter": "python",
   "pygments_lexer": "ipython3",
   "version": "3.6.3"
  }
 },
 "nbformat": 4,
 "nbformat_minor": 2
}
