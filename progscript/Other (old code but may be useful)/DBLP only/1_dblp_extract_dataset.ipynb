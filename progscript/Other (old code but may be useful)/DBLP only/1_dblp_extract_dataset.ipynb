{
 "cells": [
  {
   "cell_type": "code",
   "execution_count": 1,
   "metadata": {
    "collapsed": true
   },
   "outputs": [],
   "source": [
    "from lxml import etree\n",
    "# read in raw file \n",
    "Dataset = \"DBLP\"\n",
    "filename = \"../Data/\"+Dataset+\"/dblp.xml\""
   ]
  },
  {
   "cell_type": "code",
   "execution_count": null,
   "metadata": {
    "collapsed": true,
    "scrolled": true
   },
   "outputs": [],
   "source": [
    "import io\n",
    "\n",
    "def reset():\n",
    "    author_array = []\n",
    "    title = \"\"\n",
    "    year = \"\"\n",
    "    journal = \"\"\n",
    "    return author_array, title, year, journal\n",
    "\n",
    "collaborations = ['www', 'phdthesis', 'inproceedings', 'incollection', 'proceedings', 'book', 'mastersthesis', 'article']\n",
    "count_vaild_record = 0\n",
    "\n",
    "author_array, title, year, journal = reset()\n",
    "have_orcid_author = []\n",
    "author_orcid = []\n",
    "# iterparse iter through tag element in file and build up the tree\n",
    "nodes = etree.iterparse(filename, html=True)\n",
    "for event, elem in nodes:\n",
    "    # we only extract useful information for our experiment\n",
    "    if elem.tag == \"author\":\n",
    "        author_array.append(elem.text)\n",
    "        if 'orcid' in elem.attrib:\n",
    "            have_orcid_author.append(elem.text)\n",
    "            author_orcid.append(elem.attrib['orcid'])\n",
    "    if elem.tag == \"title\":\n",
    "        title = elem.text\n",
    "    if elem.tag == \"year\":\n",
    "        year = elem.text\n",
    "    if elem.tag == \"journal\":\n",
    "        journal = elem.text\n",
    "    \n",
    "    if elem.tag in collaborations:\n",
    "        # no author name or no title will be removed\n",
    "        if len(author_array)== 0 or title == None:\n",
    "            # reset article information\n",
    "            author_array, title, year, journal = reset()\n",
    "            have_orcid_author = []\n",
    "            author_orcid = []\n",
    "        else:\n",
    "            #print(author_array)\n",
    "            # only save papers have orcid\n",
    "            if len(have_orcid_author)>0:\n",
    "                # print(len(have_orcid_author))\n",
    "                for orcid, author in zip(author_orcid, have_orcid_author):\n",
    "                    count_vaild_record+=1\n",
    "                    main_author = str(author)\n",
    "                    main_orcid = orcid\n",
    "                    # concate string as one line\n",
    "                    co_author = author_array[:]\n",
    "                    co_author.remove(author)\n",
    "                    # if only one author write this paper and he have orcid, co_author string will be empty\n",
    "                    if len(co_author)== 0:\n",
    "                        co_author_string = \"\"\n",
    "                    else:\n",
    "                        co_author_string = \"$$\".join(co_author)\n",
    "                    out_sample = main_orcid+\"\\t\"+main_author+\"\\t\"+co_author_string+\"\\t\"+title+\"\\t\"+year+\"\\t\"+journal\n",
    "                    # print(out_sample)\n",
    "                    # append to file\n",
    "                    with io.open(\"../Data/DBLP/extracted_labeled_data.txt\", \"a\", encoding='utf8') as myfile:\n",
    "                        myfile.write(out_sample+\"\\n\")\n",
    "                # reset article information\n",
    "                have_orcid_author = []\n",
    "                author_orcid = []\n",
    "                author_array, title, year, journal = reset()\n",
    "            else:\n",
    "                # reset article information\n",
    "                author_array, title, year, journal = reset()\n",
    "    elem.clear()\n",
    "    while elem.getprevious() is not None:\n",
    "        del elem.getparent()[0]\n",
    "del nodes\n",
    "print(count_vaild_record)"
   ]
  },
  {
   "cell_type": "code",
   "execution_count": null,
   "metadata": {
    "collapsed": true
   },
   "outputs": [],
   "source": [
    "\n"
   ]
  }
 ],
 "metadata": {
  "kernelspec": {
   "display_name": "Python 3",
   "language": "python",
   "name": "python3"
  },
  "language_info": {
   "codemirror_mode": {
    "name": "ipython",
    "version": 3
   },
   "file_extension": ".py",
   "mimetype": "text/x-python",
   "name": "python",
   "nbconvert_exporter": "python",
   "pygments_lexer": "ipython3",
   "version": "3.6.3"
  }
 },
 "nbformat": 4,
 "nbformat_minor": 2
}
