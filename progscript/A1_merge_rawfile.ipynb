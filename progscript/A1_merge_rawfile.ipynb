{
 "cells": [
  {
   "cell_type": "code",
   "execution_count": 2,
   "metadata": {
    "ExecuteTime": {
     "end_time": "2019-02-17T23:45:03.121151Z",
     "start_time": "2019-02-17T23:37:54.938136Z"
    },
    "collapsed": true
   },
   "outputs": [],
   "source": [
    "import sys\n",
    "import io\n",
    "\n",
    "Dataset = \"pubmed\"\n",
    "\n",
    "ID = open(\"Data/\"+Dataset+\"/allAdditional/16May-IDs.txt\",'r', encoding = 'utf8')\n",
    "title = open(\"Data/\"+Dataset+\"/allAdditional/16May-title.txt\",'r', encoding = 'utf8')\n",
    "abstract = open(\"Data/\"+Dataset+\"/allAdditional/16May-abstract.txt\",'r', encoding = 'utf8')\n",
    "\n",
    "fout = open(\"Data/\"+Dataset+\"/id_title_abstract.txt\", 'w',encoding = 'utf8')\n",
    "while True:\n",
    "    i = ID.readline().strip()\n",
    "    if len(i) == 0:\n",
    "        break\n",
    "    t = title.readline().strip()\n",
    "    a = abstract.readline().strip()\n",
    "    fout.write(i + '\\t' + t + '\\t' + a + '\\n')\n",
    "fout.close()\n",
    "print(\"Done\")"
   ]
  },
  {
   "cell_type": "code",
   "execution_count": null,
   "metadata": {
    "collapsed": true
   },
   "outputs": [],
   "source": []
  }
 ],
 "metadata": {
  "kernelspec": {
   "display_name": "Python 3",
   "language": "python",
   "name": "python3"
  },
  "language_info": {
   "codemirror_mode": {
    "name": "ipython",
    "version": 3
   },
   "file_extension": ".py",
   "mimetype": "text/x-python",
   "name": "python",
   "nbconvert_exporter": "python",
   "pygments_lexer": "ipython3",
   "version": "3.6.3"
  }
 },
 "nbformat": 4,
 "nbformat_minor": 2
}
