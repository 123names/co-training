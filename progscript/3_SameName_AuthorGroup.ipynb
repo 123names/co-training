{
 "cells": [
  {
   "cell_type": "code",
   "execution_count": 1,
   "metadata": {
    "ExecuteTime": {
     "end_time": "2019-05-06T03:03:20.446668Z",
     "start_time": "2019-05-06T03:03:16.187166Z"
    }
   },
   "outputs": [
    {
     "name": "stdout",
     "output_type": "stream",
     "text": [
      "Author Name:  canopy_j_read  contains  1092  records.\n",
      "Author Name:  canopy_f_esteves  contains  154  records.\n",
      "Author Name:  canopy_c_miller  contains  6816  records.\n",
      "Author Name:  canopy_r_jha  contains  373  records.\n",
      "Author Name:  canopy_a_lowe  contains  874  records.\n",
      "Author Name:  canopy_a_vega  contains  579  records.\n",
      "Author Name:  canopy_k_smith  contains  8854  records.\n",
      "Author Name:  canopy_j_gordon  contains  3772  records.\n",
      "Author Name:  canopy_s_liao  contains  2377  records.\n",
      "Author Name:  canopy_j_qian  contains  3469  records.\n",
      "Author Name:  canopy_s_bernardi  contains  251  records.\n",
      "Author Name:  canopy_t_hill  contains  1195  records.\n",
      "Author Name:  canopy_s_schindler  contains  228  records.\n",
      "Author Name:  canopy_j_williams  contains  13942  records.\n",
      "Author Name:  canopy_s_jacobson  contains  1563  records.\n",
      "Author Name:  canopy_e_andrade  contains  350  records.\n",
      "Author Name:  canopy_t_santos  contains  632  records.\n",
      "Author Name:  canopy_k_kim  contains  30688  records.\n",
      "Author Name:  canopy_d_ricci  contains  400  records.\n",
      "Author Name:  canopy_s_cameron  contains  801  records.\n",
      "Author Name:  canopy_t_wright  contains  1892  records.\n",
      "Author Name:  canopy_r_cunha  contains  652  records.\n",
      "Author Name:  canopy_s_fuchs  contains  1327  records.\n",
      "Author Name:  canopy_m_nawaz  contains  294  records.\n",
      "Author Name:  canopy_k_harris  contains  2152  records.\n",
      "Author Name:  canopy_r_daniel  contains  1234  records.\n",
      "Author Name:  canopy_k_xu  contains  4032  records.\n",
      "Author Name:  canopy_s_antunes  contains  146  records.\n",
      "Author Name:  canopy_k_cho  contains  6055  records.\n",
      "Author Name:  canopy_j_sanderson  contains  815  records.\n",
      "Author Name:  canopy_s_uddin  contains  326  records.\n",
      "Author Name:  canopy_a_batista  contains  470  records.\n",
      "Author Name:  canopy_h_pereira  contains  673  records.\n",
      "Author Name:  canopy_a_patel  contains  6372  records.\n",
      "Author Name:  canopy_r_graham  contains  1776  records.\n",
      "Author Name:  canopy_a_nilsson  contains  1309  records.\n",
      "Author Name:  canopy_m_soto  contains  673  records.\n",
      "Author Name:  canopy_g_guidi  contains  602  records.\n",
      "Author Name:  canopy_e_andersson  contains  665  records.\n",
      "Author Name:  canopy_s_reid  contains  1570  records.\n",
      "Author Name:  canopy_a_maleki  contains  148  records.\n",
      "Author Name:  canopy_j_moon  contains  3625  records.\n",
      "Author Name:  canopy_t_abe  contains  6312  records.\n",
      "Author Name:  canopy_x_fu  contains  4787  records.\n",
      "Author Name:  canopy_f_ortega  contains  828  records.\n",
      "Author Name:  canopy_r_morris  contains  3808  records.\n",
      "Author Name:  canopy_w_fang  contains  2537  records.\n",
      "Author Name:  canopy_m_amaral  contains  496  records.\n",
      "Author Name:  canopy_h_song  contains  8326  records.\n",
      "Author Name:  canopy_h_dai  contains  6  records.\n",
      "Author Name:  canopy_y_nakajima  contains  2618  records.\n",
      "Author Name:  canopy_t_warner  contains  773  records.\n",
      "Author Name:  canopy_s_saha  contains  2567  records.\n",
      "Author Name:  canopy_j_fernandez  contains  1894  records.\n",
      "Author Name:  canopy_m_pan  contains  1445  records.\n",
      "Author Name:  canopy_a_simon  contains  2862  records.\n",
      "Author Name:  canopy_r_freitas  contains  523  records.\n",
      "Author Name: "
     ]
    },
    {
     "ename": "KeyboardInterrupt",
     "evalue": "",
     "output_type": "error",
     "traceback": [
      "\u001b[0;31m---------------------------------------------------------------------------\u001b[0m",
      "\u001b[0;31mKeyboardInterrupt\u001b[0m                         Traceback (most recent call last)",
      "\u001b[0;32m<ipython-input-1-3a76e3e8db5c>\u001b[0m in \u001b[0;36m<module>\u001b[0;34m()\u001b[0m\n\u001b[1;32m     27\u001b[0m                     \u001b[0mLabeledRecords_original\u001b[0m\u001b[0;34m.\u001b[0m\u001b[0mappend\u001b[0m\u001b[0;34m(\u001b[0m\u001b[0mpaper_detail\u001b[0m\u001b[0;34m)\u001b[0m\u001b[0;34m\u001b[0m\u001b[0m\n\u001b[1;32m     28\u001b[0m                     \u001b[0mcounter\u001b[0m\u001b[0;34m+=\u001b[0m\u001b[0;36m1\u001b[0m\u001b[0;34m\u001b[0m\u001b[0m\n\u001b[0;32m---> 29\u001b[0;31m             \u001b[0mprint\u001b[0m\u001b[0;34m(\u001b[0m\u001b[0;34m\"Author Name: \"\u001b[0m\u001b[0;34m,\u001b[0m\u001b[0mfile\u001b[0m\u001b[0;34m,\u001b[0m \u001b[0;34m\" contains \"\u001b[0m\u001b[0;34m,\u001b[0m \u001b[0mcounter\u001b[0m\u001b[0;34m,\u001b[0m \u001b[0;34m\" records.\"\u001b[0m\u001b[0;34m)\u001b[0m\u001b[0;34m\u001b[0m\u001b[0m\n\u001b[0m\u001b[1;32m     30\u001b[0m         \u001b[0mf\u001b[0m\u001b[0;34m.\u001b[0m\u001b[0mclose\u001b[0m\u001b[0;34m(\u001b[0m\u001b[0;34m)\u001b[0m\u001b[0;34m\u001b[0m\u001b[0m\n\u001b[1;32m     31\u001b[0m \u001b[0mprint\u001b[0m\u001b[0;34m(\u001b[0m\u001b[0;34m\"Total records:\"\u001b[0m\u001b[0;34m,\u001b[0m\u001b[0mlen\u001b[0m\u001b[0;34m(\u001b[0m\u001b[0mLabeledRecords_original\u001b[0m\u001b[0;34m)\u001b[0m\u001b[0;34m,\u001b[0m \u001b[0;34m\"records\"\u001b[0m\u001b[0;34m)\u001b[0m\u001b[0;34m\u001b[0m\u001b[0m\n",
      "\u001b[0;31mKeyboardInterrupt\u001b[0m: "
     ]
    }
   ],
   "source": [
    "# load the paper metadata\n",
    "import sys\n",
    "import io\n",
    "import os\n",
    "\n",
    "Dataset = \"pubmed\"\n",
    "\n",
    "fileDir = \"Data/\"+Dataset+\"/canopies/\"\n",
    "listfiles = os.listdir(fileDir)\n",
    "\n",
    "LabeledRecords_original = []\n",
    "\n",
    "for file in listfiles:\n",
    "    if not file.startswith('.'):\n",
    "        with open(fileDir+file, 'r', encoding = 'utf8') as f:\n",
    "            counter = 0\n",
    "            for line in f:\n",
    "                read_data = line.split(\"\\t\")\n",
    "                # get ride of bad formated lines\n",
    "                if(len(read_data)==13):\n",
    "                    paper_detail = {\"paperID\": read_data[0], \"authorID\":read_data[1],\n",
    "                                    \"author_position\":read_data[2], \"total_author\": read_data[3],\n",
    "                                    \"author_name\": read_data[4], \"co_authors\": read_data[5], \n",
    "                                    \"department\": read_data[6], \"vendor\": read_data[7], \n",
    "                                    \"mesh\": read_data[8], \"keywords\": read_data[9], \n",
    "                                    \"publish_year\": read_data[10], \"citation graph\": read_data[11]}\n",
    "                    LabeledRecords_original.append(paper_detail)\n",
    "                    counter+=1\n",
    "            print(\"Author Name: \",file, \" contains \", counter, \" records.\")\n",
    "        f.close()\n",
    "print(\"Total records:\",len(LabeledRecords_original), \"records\")"
   ]
  },
  {
   "cell_type": "code",
   "execution_count": 14,
   "metadata": {},
   "outputs": [
    {
     "name": "stdout",
     "output_type": "stream",
     "text": [
      "[('wei wang', 9014), ('y wang', 7355), ('m takahashi', 6323), ('y zhang', 6180), ('k yamamoto', 5728), ('h suzuki', 5419), ('k sato', 5375), ('yan wang', 5356), ('yan zhang', 5325), ('j zhang', 5317)]\n"
     ]
    }
   ],
   "source": [
    "from collections import Counter\n",
    "# count number of publication based on only name\n",
    "Record_NameCounter = Counter([records[\"author_name\"] for records in LabeledRecords_original])\n",
    "# print top 10 most common names that published papers in current dataset\n",
    "print(Record_NameCounter.most_common(10))\n"
   ]
  },
  {
   "cell_type": "code",
   "execution_count": 16,
   "metadata": {},
   "outputs": [
    {
     "name": "stdout",
     "output_type": "stream",
     "text": [
      "336916\n",
      "['jonathan m read', 'j m read', 'jonathan read', 'jenny read', 'jenny c a read']\n"
     ]
    }
   ],
   "source": [
    "# group same name records together\n",
    "# first extract all names\n",
    "authorNames = Record_NameCounter.keys()\n",
    "print(len(authorNames))\n",
    "print(list(authorNames)[:5])\n"
   ]
  },
  {
   "cell_type": "code",
   "execution_count": null,
   "metadata": {
    "collapsed": true
   },
   "outputs": [],
   "source": [
    "#\n"
   ]
  }
 ],
 "metadata": {
  "kernelspec": {
   "display_name": "Python 3",
   "language": "python",
   "name": "python3"
  },
  "language_info": {
   "codemirror_mode": {
    "name": "ipython",
    "version": 3
   },
   "file_extension": ".py",
   "mimetype": "text/x-python",
   "name": "python",
   "nbconvert_exporter": "python",
   "pygments_lexer": "ipython3",
   "version": "3.6.3"
  }
 },
 "nbformat": 4,
 "nbformat_minor": 2
}
