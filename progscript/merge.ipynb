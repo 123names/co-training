{
 "cells": [
  {
   "cell_type": "code",
   "execution_count": 3,
   "metadata": {
    "collapsed": true
   },
   "outputs": [],
   "source": [
    "import sys\n",
    "import io\n",
    "\n",
    "ID = open('../Data/16May-IDs.txt','r', encoding = 'utf8')\n",
    "title = open('../Data/16May-title.txt','r', encoding = 'utf8')\n",
    "abstract = open('../Data/16May-abstract.txt','r', encoding = 'utf8')\n",
    "fout = open('../Data/id_title_abstract.txt', 'w',encoding = 'utf8')"
   ]
  },
  {
   "cell_type": "code",
   "execution_count": null,
   "metadata": {},
   "outputs": [],
   "source": [
    "while True:\n",
    "    i = ID.readline().strip()\n",
    "    if len(i) == 0:\n",
    "        break\n",
    "    t = title.readline().strip()\n",
    "    a = abstract.readline().strip()\n",
    "    fout.write(i + '\\t' + t + '\\t' + a + '\\n')\n",
    "fout.close()"
   ]
  }
 ],
 "metadata": {
  "kernelspec": {
   "display_name": "Python 3",
   "language": "python",
   "name": "python3"
  },
  "language_info": {
   "codemirror_mode": {
    "name": "ipython",
    "version": 3
   },
   "file_extension": ".py",
   "mimetype": "text/x-python",
   "name": "python",
   "nbconvert_exporter": "python",
   "pygments_lexer": "ipython3",
   "version": "3.6.3"
  }
 },
 "nbformat": 4,
 "nbformat_minor": 2
}
