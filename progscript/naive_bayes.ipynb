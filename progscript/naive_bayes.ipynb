{
 "cells": [
  {
   "cell_type": "code",
   "execution_count": 3,
   "metadata": {},
   "outputs": [
    {
     "name": "stdout",
     "output_type": "stream",
     "text": [
      "12\n",
      "['27325393', '-1', '5', '8', 'jason d cooper', 'ruland chan stocki grosse rothermundt arolt bahn', 'department chemical engineering biotechnology university cambridge cambridge uk', '5305', '', 'Mass spectrometry$$Serum$$Staging$$Treatment resistant depression', '2016', '10.1073/pnas.1104836108$$10.2307/2346101$$10.1038/nrn2297$$10.1093/nar/gku1179$$10.1016/j.jad.2011.02.020$$10.1016/j.euroneuro.2015.06.007$$10.2307/2066277$$10.1016/j.biopsych.2014.10.019$$10.1038/tp.2015.88$$10.1016/j.jpsychires.2006.05.013$$10.1038/nri.2015.5$$10.1016/s0006-3223(02)01811-5$$10.1016/j.biopsych.2014.10.014$$10.1016/j.pneurobio.2014.08.002$$10.1186/1471-244x-12-125$$10.1186/1471-2105-13-s16-s6$$10.1177/096228029200100208$$10.1017/s0033291703001107$$10.1016/j.bbapap.2014.12.012$$10.1590/s1807-59322011000100020$$10.1093/ijnp/pyu019$$10.4088/jcp.09m05853blu$$10.1016/j.jad.2005.03.012$$10.1038/npp.2012.191$$10.1038/nmeth.2015$$10.1038/msb.2008.61$$10.1001/jama.289.23.3152\\n']\n",
      "2\n",
      "['289/23/3152$$10.1038/mp.2014.180$$10.1016/j.euroneuro.2012.09.009$$10.1111/j.1365-2710.2007.00846.x$$10.1093/bioinformatics/btq054$$10.1016/s0893-133x(99)00134-7$$10.1001/2013.jamapsychiatry.4$$10.1176/appi.ajp.162.6.1171$$10.1038/tp.2015.47$$10.1038/nature06916$$10.1016/j.euroneuro.2007.06.004$$10.1038/75556$$10.1038/sj.npp.1301462$$10.1016/s0006-3223(03)00231-2$$10.1007/978-1-62703-360-2_1$$10.1016/j.jad.2013.10.043$$10.1016/j.euroneuro.2012.02.006$$10.1176/appi.ajp.163.11.1905$$10.6101/azq/000239$$10.4088/jcp.08m04309$$10.1214/aos/1176344136$$10.1017/s1461145714000819$$10.1016/j.bbi.2012.12.008', '36:0.321147089741$$148:0.171360271293$$174:0.213924613605\\n']\n",
      "12\n",
      "['27557887', '-1', '1', '3', 'juliana lott carvalho', 'de oliveira bravo saldanha-araujo', 'genomic sciences biotechnology center catholic university brasilia brasilia brazil', '26495', '', 'Adenosine$$Mesenchymal stem cells$$Regulatory T-cells', '2016', '10.5966/sctm.2011-0036$$10.1084/jem.20062512$$10.1002/eji.200737781$$10.1111/j.1600-6143.2010.03291.x$$10.4049/jimmunol.1500591$$10.1152/ajpheart.00808.2001$$10.1016/j.scr.2011.04.001$$10.1093/ndt/gfm740$$10.1097/aln.0b013e3181fac061$$10.1681/asn.2013050502$$10.1096/fj.99-0508com$$10.1038/nature05563$$10.1038/labinvest.3700300$$10.1016/j.molimm.2007.11.016$$10.1074/jbc.271.51.33116$$10.2337/db10-1070$$10.1634/stemcells.2007-0563$$10.3389/fimmu.2012.00190$$10.1007/s11302-005-0649-1$$10.4049/jimmunol.177.12.8338$$10.3324/haematol.2012.074088$$10.1089/scd.2015.0227$$10.4161/onci.26246$$10.3389/fncel.2015.00211$$10.1161/01.res.0000094744.88220.62$$10.1084/jem.20021139$$10.1161/01.res.0000012203.21416.14$$10.1111/j.1365-2567.2006.02331.x$$10.1002/stem.1432$$10.1038/ncb0901-778$$10.4049/jimmunol.1401875$$10.1084/jem.20020642$$10.1007/s11302-012-9349-9$$10.1056/nejmoa0912613$$10.1084/jem.188.2.287$$10.1016/j.jtcvs.2007.07.071$$10.1172/jci34203$$10.1016/s0140-6736(04)16104-7$$10.1002/eji.201344392$$10.1158/0008-5472.can-06-4249$$10.1155/2014/216806$$10.1371/journal.pone.0058397$$10.1084/jem.193.11.1303$$10.4049/jimmunol.178.4.2018$$10.1124/pr.113.008540$$10.1161/01.cir.96.8.2656$$10.1172/jci9918$$10.1002/jor.1100090504$$10.1007/s10557-013-6500-y$$10.1182/blood-2006-12-064527$$10.1182/blood-2004-04-1559$$10.1016/s0014-2999(98)00302-1$$10.1002/(sici)1096-9861(19981116)401:2<163::aid-cne2>3.3.co;2-4$$10.1146/annurev.immunol.21.120601.141122$$10.4049/jimmunol.1000433$$10.1016/j.drudis.2011.10.007$$10.3727/096368910x546553\\n']\n",
      "2\n",
      "['ct0203sattler$$10.4049/jimmunol.171.2.708$$10.4049/jimmunol.0901065$$10.1038/nbt0712-571b$$10.1182/blood-2004-07-2583$$10.1111/j.1600-065x.1998.tb01574.x$$10.1371/journal.pone.0032416$$10.1016/s0022-3476(75)80463-x$$10.4049/jimmunol.1400336$$10.1016/s0301-472x(01)00769-x$$10.1016/j.it.2003.11.003$$10.1073/pnas.96.11.6377$$10.1016/j.pharmthera.2006.02.002$$10.1007/s12032-010-9515-2$$10.1002/lt.21432$$10.1016/j.jim.2011.04.004$$10.4049/jimmunol.1301828$$10.3389/fimmu.2012.00345$$10.1016/j.trim.2015.01.003$$10.1016/j.immuni.2004.09.002$$10.1182/blood-2005-07-2657$$10.1016/j.it.2008.06.005$$10.1189/jlb.0503228$$10.3389/fimmu.2014.00555$$10.2174/092986711798184334$$10.1038/nature06306$$10.1007/s12015-012-9408-1$$10.4049/jimmunol.1003884$$10.1182/blood-2013-02-482406$$10.1096/fj.01-0169com$$10.1002/stem.1934$$10.1089/scd.2014.0155$$10.1111/j.1365-2249.2007.03422.x$$10.1161/01.cir.98.7.711$$10.1016/j.it.2012.10.001$$10.1161/01.cir.0000163586.62253.a5$$10.1007/s11302-013-9385-0$$10.1016/s0306-3623(01)00107-0$$10.1097/cji.0b013e318217007c$$10.1089/154732804323099190$$10.1016/j.bbmt.2009.12.057$$10.1046/j.1365-3083.2003.01176.x$$10.1186/scrt216$$10.1038/srep14478$$10.1038/icb.2012.62$$10.1038/icb.2012.60$$10.3389/fimmu.2014.00304$$10.3727/096368913x664577$$10.1089/107632701300062859$$10.1016/j.jtcvs.2014.06.029$$10.1111/imr.12160$$10.1089/scd.2015.0008$$10.1634/stemcells.2005-0008$$10.1084/jem.20020590$$10.1007/s11302-006-9050-y$$10.1002/eji.200526106$$10.1038/nrd3955$$10.1634/stemcells.2004-0359$$10.1016/j.bbamcr.2008.01.024$$10.3390/biom5020775$$10.1097/aln.0b013e3181b060f2$$10.4049/jimmunol.1002907$$10.1016/j.febslet.2015.07.027$$10.1182/blood-2009-02-203943$$10.1093/intimm/dxp095$$10.15252/embj.201489589$$10.1073/pnas.0705563105$$10.1634/stemcells.2007-1122$$10.4049/jimmunol.1401434$$10.1038/nrd2638$$10.1016/j.exphem.2007.12.015$$10.1097/01.asn.0000102474.68613.ae$$10.1074/jbc.m109.047423$$10.1681/asn.2012010070$$10.1038/ni760$$10.1097/00007890-197404000-00001$$10.1074/jbc.m110.127100$$10.1084/jem.20130249$$10.1096/fj.12-225201$$10.1100/tsw.2011.22$$10.1097/cji.0b013e3182298c8f$$10.1007/s11373-004-8183-7$$10.1182/blood.v99.10.3838$$10.1002/1529-0131(200108)44:8<1928::aid-art331>3.0.co;2-p$$10.1007/s10545-014-9691-x$$10.1371/journal.pone.0015150$$10.1016/j.jacc.2007.11.040$$10.1016/j.jcyt.2013.07.017$$10.1002/eji.200737529$$10.1634/stemcells.21-1-111$$10.1016/j.jaut.2007.12.012$$10.1111/j.1365-2249.2009.03874.x$$10.1038/nrcardio.2014.9$$10.1089/scd.2013.0089$$10.1186/ar1887$$10.1152/ajpheart.00593.2006$$10.1007/s00109-013-0997-1$$10.1097/shk.0b013e3181cdc3e2$$10.1002/eji.200939314$$10.1111/cea.12521$$10.4049/jimmunol.165.9.5262$$10.1182/blood-2004-02-0586.supported$$10.1016/j.jim.2009.05.004$$10.3324/haematol.12857$$10.1111/jcmm.12036$$10.4049/jimmunol.0902007$$10.1111/j.1582-4934.2011.01391.x$$10.5966/sctm.2011-0017$$10.1634/stemcells.2006-0071$$10.4049/jimmunol.177.10.6780$$10.1155/2012/485156$$10.1002/stem.2280$$10.1016/j.it.2009.04.001$$10.4049/jimmunol.175.3.1483$$10.1186/s13287-015-0021-5$$10.1126/scitranslmed.3005407$$10.1007/s11302-012-9311-x$$10.4049/jimmunol.1402898$$10.1074/jbc.270.5.2387$$10.2337/db13-0614$$10.1097/00024382-200115040-00008$$10.1111/cei.12354$$10.1182/blood-2003-11-3909$$10.1038/srep13110$$10.1084/jem.194.5.629$$10.1182/blood-2010-11-317321$$10.1182/blood-2013-09-524827$$10.1084/jem.20020110', '18:0.0952561204595$$85:0.384236066082$$91:0.0896458345845$$94:0.0847502474787$$191:0.108071291529\\n']\n",
      "Total records: 4163770 records\n"
     ]
    }
   ],
   "source": [
    "# load the paper metadata\n",
    "import sys\n",
    "import io\n",
    "import os\n",
    "\n",
    "PATH = '../Data/'\n",
    "fileDir = \"../Data/canopies/\"\n",
    "listfiles = os.listdir(fileDir)\n",
    "\n",
    "LabeledRecords_original = []\n",
    "\n",
    "for file in listfiles:\n",
    "    if not file.startswith('.'):\n",
    "        with open(fileDir+file, 'r', encoding = 'utf8') as f:\n",
    "            for line in f:\n",
    "                read_data = line.split(\"\\t\")\n",
    "                # get ride of bad formated lines\n",
    "                if(len(read_data)==13):\n",
    "                    paper_detail = {\"paperID\": read_data[0], \"authorID\":read_data[1],\n",
    "                                    \"author_position\":read_data[2], \"total_author\": read_data[3],\n",
    "                                    \"author_name\": read_data[4], \"co_authors\": read_data[5], \n",
    "                                    \"department\": read_data[6], \"vendor\": read_data[7], \n",
    "                                    \"mesh\": read_data[8], \"keywords\": read_data[9], \n",
    "                                    \"publish_year\": read_data[10], \"citation graph\": read_data[11]}\n",
    "                    LabeledRecords_original.append(paper_detail)\n",
    "                else:\n",
    "                    print(len(read_data))\n",
    "                    print(read_data)\n",
    "        f.close()\n",
    "print(\"Total records:\",len(LabeledRecords_original), \"records\")"
   ]
  },
  {
   "cell_type": "code",
   "execution_count": 4,
   "metadata": {},
   "outputs": [
    {
     "name": "stdout",
     "output_type": "stream",
     "text": [
      "Done loading files, total  3149075  papers\n"
     ]
    }
   ],
   "source": [
    "# load the title and abstract of papers\n",
    "def readallfile(filepath):\n",
    "    documents = []\n",
    "    with open(filepath, 'r', encoding = 'utf8') as f:\n",
    "        for line in f:\n",
    "            items = line.split(\"\\t\")\n",
    "            # word[0] is paper ID, word[1] is title content, word[2] is abstract content\n",
    "            paperID = items[0]\n",
    "            title = items[1].lower().strip().split(\" \")\n",
    "            abstract = items[2].lower().strip().split(\" \")\n",
    "            paperContent = {\"paperID\": items[0], \"title\": title, \"abstract\": abstract}\n",
    "            documents.append(paperContent)\n",
    "    f.close()\n",
    "    print(\"Done loading files, total \", len(documents), \" papers\")\n",
    "    return documents\n",
    "\n",
    "paperContents = readallfile(PATH+\"id_title_abstract_processed.txt\")\n"
   ]
  },
  {
   "cell_type": "code",
   "execution_count": 2,
   "metadata": {},
   "outputs": [
    {
     "name": "stdout",
     "output_type": "stream",
     "text": [
      "{'paperID': '27406695', 'authorID': '0000-0002-9697-0962', 'author_position': '4', 'total_author': '10', 'author_name': 'jonathan m read', 'co_authors': 'truelove zhu lessler riley wang kwok guan jiang cummings', 'department': 'department epidemiology public health institute infection global health university liverpool neston uk', 'vendor': '27279', 'mesh': '', 'keywords': 'cross-protection$$hemagglutination inhibition test$$immunity$$influenza$$microneutralization test$$neutralization test', 'publish_year': '2016', 'citation graph': '10.3345/kjp.2012.55.12.474$$10.1016/j.vaccine.2011.11.019$$10.1007/s00430-010-0143-4$$10.1080/15388220801955596$$10.1017/s0022172400022610$$10.1038/ncomms1432$$10.1016/j.vaccine.2007.02.039$$10.1128/cvi.00278-15$$10.3201/eid1508.081754'}\n"
     ]
    }
   ],
   "source": [
    "# convert title and abstract to frquence counter\n",
    "print(LabeledRecords_original[0])\n"
   ]
  },
  {
   "cell_type": "code",
   "execution_count": null,
   "metadata": {
    "collapsed": true
   },
   "outputs": [],
   "source": []
  }
 ],
 "metadata": {
  "kernelspec": {
   "display_name": "Python 3",
   "language": "python",
   "name": "python3"
  },
  "language_info": {
   "codemirror_mode": {
    "name": "ipython",
    "version": 3
   },
   "file_extension": ".py",
   "mimetype": "text/x-python",
   "name": "python",
   "nbconvert_exporter": "python",
   "pygments_lexer": "ipython3",
   "version": "3.6.3"
  }
 },
 "nbformat": 4,
 "nbformat_minor": 2
}
