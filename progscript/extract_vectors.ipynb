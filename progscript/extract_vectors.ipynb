{
 "cells": [
  {
   "cell_type": "code",
   "execution_count": 1,
   "metadata": {},
   "outputs": [
    {
     "name": "stdout",
     "output_type": "stream",
     "text": [
      "Total vector records: 3149758\n",
      "{'paperID': '22516865', 'vectors': ['0.0422827', '-0.0443959', '-0.00631522', '-0.0297457', '-0.203585', '0.0791923', '-0.156993', '0.102914', '-0.112826', '0.0301516', '-0.118142', '-0.0447324', '0.0131143', '0.127706', '0.107417', '-0.0843709', '-0.0808756', '-0.0504176', '0.132817', '0.0157529', '-0.0383218', '0.165365', '-0.0619297', '-0.0345336', '0.110633', '0.0860297', '-0.0835764', '0.193302', '0.015641', '0.0323645', '0.00893256', '0.151895', '0.0534986', '-0.18639', '-0.0558457', '-0.0603591', '-0.00530632', '-0.000749852', '0.0772172', '0.0646557', '-0.106445', '-0.028214', '0.0400324', '0.11686', '-0.153841', '-0.064435', '-0.0270715', '-0.0234374', '0.0588498', '-0.0750828', '-0.107259', '-0.0351021', '-0.0166648', '-0.135551', '0.1277', '-0.118618', '-0.0417162', '0.0543777', '0.129501', '-0.152003', '0.0624739', '0.175164', '0.0680417', '-0.0896099', '0.171857', '-0.0123408', '-0.0424403', '-0.017759', '0.0631562', '-0.0947245', '-0.0297129', '-0.0952609', '0.0229094', '-0.0183544', '-0.0643149', '-0.0840294', '0.00101607', '-0.00613327', '-0.134319', '-0.0389319', '0.0865807', '-0.0275466', '-0.00559333', '0.028664', '-0.108864', '-0.125772', '-0.171528', '-0.0725501', '-0.0918486', '-0.207318', '-0.0379387', '-0.000273051', '0.0290756', '-0.105057', '-0.121686', '0.127923', '-0.128233', '-0.11645', '-0.365793', '0.0843131\\n']}\n"
     ]
    }
   ],
   "source": [
    "# load the vector files\n",
    "import sys\n",
    "import io\n",
    "import os\n",
    "\n",
    "vectorFileDir = \"../vectors/p2v/\"\n",
    "listfiles = os.listdir(vectorFileDir)\n",
    "allPaperVectors = []\n",
    "\n",
    "for file in listfiles:\n",
    "    if not file.startswith('.'):\n",
    "        with open(vectorFileDir+file, 'r', encoding = 'utf8') as f:\n",
    "            for line in f:\n",
    "                read_data = line.split(\" \")\n",
    "                paperID = read_data[0]\n",
    "                read_data.remove(read_data[0])\n",
    "                paper_Vectors = {\"paperID\": paperID, \"vectors\": read_data}\n",
    "                allPaperVectors.append(paper_Vectors)\n",
    "        f.close()\n",
    "        \n",
    "print(\"Total vector records:\",len(allPaperVectors))\n",
    "print(allPaperVectors[0])"
   ]
  },
  {
   "cell_type": "code",
   "execution_count": 15,
   "metadata": {},
   "outputs": [
    {
     "name": "stdout",
     "output_type": "stream",
     "text": [
      "chung-may yang1.txt\n",
      "david g lloyd0.txt\n",
      "david g lloyd1.txt\n",
      "jeong hwan kim1.txt\n",
      "chung-may yang0.txt\n",
      "michael wagner0.txt\n",
      "kevin m. ryan0.txt\n",
      "michael wagner1.txt\n",
      "lei wang0.txt\n",
      "jeong hwan kim0.txt\n",
      "lei wang1.txt\n",
      "kevin m. ryan1.txt\n"
     ]
    }
   ],
   "source": [
    "# load same name authors\n",
    "authorFileDir = \"../Data/filteredSameNameAuthor/\"\n",
    "listAuthorFile = os.listdir(authorFileDir)\n",
    "classificationDir = \"../Data/DataForClassification/\"\n",
    "if not os.path.exists(classificationDir):\n",
    "    os.makedirs(classificationDir)\n",
    "for file in listAuthorFile:\n",
    "    if not file.startswith('.'):\n",
    "        paperIDs = []\n",
    "        # read in paper ID\n",
    "        with open(authorFileDir+file, 'r', encoding = 'utf8') as infile:\n",
    "            for line in infile:\n",
    "                paperIDs.append(line.strip('\\n'))\n",
    "        infile.close()\n",
    "        # extract selected paper vector from all paper vector\n",
    "        with open(classificationDir+file, 'w', encoding = 'utf8') as outfile:\n",
    "            for paper_Vectors in allPaperVectors:\n",
    "                if(paper_Vectors[\"paperID\"] in paperIDs):\n",
    "                    vector=' '.join(paper_Vectors[\"vectors\"])\n",
    "                    outfile.write(paper_Vectors[\"paperID\"]+'\\t'+vector)\n",
    "        outfile.close()\n",
    "        print(file)     "
   ]
  }
 ],
 "metadata": {
  "kernelspec": {
   "display_name": "Python 3",
   "language": "python",
   "name": "python3"
  },
  "language_info": {
   "codemirror_mode": {
    "name": "ipython",
    "version": 3
   },
   "file_extension": ".py",
   "mimetype": "text/x-python",
   "name": "python",
   "nbconvert_exporter": "python",
   "pygments_lexer": "ipython3",
   "version": "3.6.3"
  }
 },
 "nbformat": 4,
 "nbformat_minor": 2
}
